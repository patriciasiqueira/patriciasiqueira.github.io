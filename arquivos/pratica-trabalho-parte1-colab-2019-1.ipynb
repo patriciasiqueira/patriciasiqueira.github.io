{
  "nbformat": 4,
  "nbformat_minor": 0,
  "metadata": {
    "colab": {
      "name": "pratica-trabalho-parte1-colab-2019-1.ipynb",
      "version": "0.3.2",
      "provenance": [],
      "collapsed_sections": []
    },
    "kernelspec": {
      "display_name": "Python 3",
      "language": "python",
      "name": "python3"
    }
  },
  "cells": [
    {
      "cell_type": "markdown",
      "metadata": {
        "id": "bquT6XAkTtXG",
        "colab_type": "text"
      },
      "source": [
        "Este é o notebook para usar de modelo para o trabalho. Cada dupla deverá criar um novo notebook para realizar seu trabalho. Esse procedimento só deverá ser feito uma vez:\n",
        "\n",
        "- Abrir o Colab em outra aba\n",
        "- Criar 'a new python 3 notebook' \n",
        "- Alterar o nome do novo notebook para 'trabalho-programacao-nomes'\n",
        "- Compartilhar comigo (só uma vez!) em Share: digitar meu e-mail (siqueirapaty@gmail.com)\n",
        "- Se desejar copiar células deste notebook basta selecionar com o mouse e usar CTRL+C e CTRL+V"
      ]
    },
    {
      "cell_type": "markdown",
      "metadata": {
        "id": "CQXzWv9qqecJ",
        "colab_type": "text"
      },
      "source": [
        "# Trabalho de Fundamentos da Programação (2019-1)"
      ]
    },
    {
      "cell_type": "markdown",
      "metadata": {
        "id": "JBAJGZd3u8ls",
        "colab_type": "text"
      },
      "source": [
        "**Parte 1**\n",
        "\n",
        "Nome:  "
      ]
    },
    {
      "cell_type": "code",
      "metadata": {
        "id": "6efibV6-qecO",
        "colab_type": "code",
        "colab": {}
      },
      "source": [
        "# importar o pacote pandas - útil para dataframes, séries, dados em painel\n",
        "import pandas as pd\n",
        "# para trabalhar com arquivos excel\n",
        "# !pip install xlrd"
      ],
      "execution_count": 0,
      "outputs": []
    },
    {
      "cell_type": "code",
      "metadata": {
        "id": "KY-T7J9nqeca",
        "colab_type": "code",
        "colab": {}
      },
      "source": [
        "# ler dados\n",
        "dados = pd.read_csv('https://raw.githubusercontent.com/patriciasiqueira/patriciasiqueira.github.io/master/arquivos/imrs-prod-mg.csv', encoding='latin1')"
      ],
      "execution_count": 0,
      "outputs": []
    },
    {
      "cell_type": "code",
      "metadata": {
        "id": "JNVJy2hzqecq",
        "colab_type": "code",
        "outputId": "56a77728-dded-4d73-c205-44efbbd1ea82",
        "colab": {
          "base_uri": "https://localhost:8080/",
          "height": 225
        }
      },
      "source": [
        "# ver as variáveis contidas no dataframe\n",
        "dados.columns"
      ],
      "execution_count": 47,
      "outputs": [
        {
          "output_type": "execute_result",
          "data": {
            "text/plain": [
              "Index(['ibge7', 'mun', 'nome_meso', 'tot_f_meio_sm', 'tot_f_rdpc_154',\n",
              "       'n_f_PBF', 'tot_benf_PBF', 'ex_cinema', 'ex_bib', 'n_bib',\n",
              "       'tx_criancas_EF_adeq', 'tx_adol_EM_adeq', 'tx_EJA_EF_15m',\n",
              "       'tx_EJA_EM_18m', 'tx_esc_0_3', 'tx_esc_15_17', 'n_esp_mun', 'popul',\n",
              "       'percent_5', 'percent_6_17', 'percent_65', 'transf_pc_PBF',\n",
              "       'n_emp_formal', 'rdpc_formal', 'tx_mort', 'tx_mort_homicidio',\n",
              "       'tx_mort_homicidio_15_29', 'prop_priv_saude', 'percent_esgoto',\n",
              "       'percent_lixo', 'area', 'algodao_arb', 'algodao_herb', 'banana',\n",
              "       'batata', 'cafe_arab', 'cana', 'feijao', 'laranja', 'limao', 'manga',\n",
              "       'milho', 'soja', 'sorgo', 'tangerina', 'tomate', 'trigo', 'leite',\n",
              "       'ovos', 'mel'],\n",
              "      dtype='object')"
            ]
          },
          "metadata": {
            "tags": []
          },
          "execution_count": 47
        }
      ]
    },
    {
      "cell_type": "code",
      "metadata": {
        "id": "G8HjB2Luqecz",
        "colab_type": "code",
        "outputId": "a61f55b0-de72-4be9-e8a0-94969dda9a06",
        "colab": {
          "base_uri": "https://localhost:8080/",
          "height": 360
        }
      },
      "source": [
        "# função que mostra as 5 primeiras observações do dataframe\n",
        "dados.head()"
      ],
      "execution_count": 48,
      "outputs": [
        {
          "output_type": "execute_result",
          "data": {
            "text/html": [
              "<div>\n",
              "<style scoped>\n",
              "    .dataframe tbody tr th:only-of-type {\n",
              "        vertical-align: middle;\n",
              "    }\n",
              "\n",
              "    .dataframe tbody tr th {\n",
              "        vertical-align: top;\n",
              "    }\n",
              "\n",
              "    .dataframe thead th {\n",
              "        text-align: right;\n",
              "    }\n",
              "</style>\n",
              "<table border=\"1\" class=\"dataframe\">\n",
              "  <thead>\n",
              "    <tr style=\"text-align: right;\">\n",
              "      <th></th>\n",
              "      <th>ibge7</th>\n",
              "      <th>mun</th>\n",
              "      <th>nome_meso</th>\n",
              "      <th>tot_f_meio_sm</th>\n",
              "      <th>tot_f_rdpc_154</th>\n",
              "      <th>n_f_PBF</th>\n",
              "      <th>tot_benf_PBF</th>\n",
              "      <th>ex_cinema</th>\n",
              "      <th>ex_bib</th>\n",
              "      <th>n_bib</th>\n",
              "      <th>...</th>\n",
              "      <th>manga</th>\n",
              "      <th>milho</th>\n",
              "      <th>soja</th>\n",
              "      <th>sorgo</th>\n",
              "      <th>tangerina</th>\n",
              "      <th>tomate</th>\n",
              "      <th>trigo</th>\n",
              "      <th>leite</th>\n",
              "      <th>ovos</th>\n",
              "      <th>mel</th>\n",
              "    </tr>\n",
              "  </thead>\n",
              "  <tbody>\n",
              "    <tr>\n",
              "      <th>0</th>\n",
              "      <td>3100104</td>\n",
              "      <td>Abadia dos Dourados</td>\n",
              "      <td>Triângulo Mineiro/Alto Paranaíba</td>\n",
              "      <td>685</td>\n",
              "      <td>413</td>\n",
              "      <td>366</td>\n",
              "      <td>22.26</td>\n",
              "      <td>Não</td>\n",
              "      <td>Sim</td>\n",
              "      <td>2</td>\n",
              "      <td>...</td>\n",
              "      <td>0</td>\n",
              "      <td>8028</td>\n",
              "      <td>11685</td>\n",
              "      <td>1212</td>\n",
              "      <td>0</td>\n",
              "      <td>100</td>\n",
              "      <td>0</td>\n",
              "      <td>43745</td>\n",
              "      <td>128</td>\n",
              "      <td>0</td>\n",
              "    </tr>\n",
              "    <tr>\n",
              "      <th>1</th>\n",
              "      <td>3100203</td>\n",
              "      <td>Abaeté</td>\n",
              "      <td>Central Mineira</td>\n",
              "      <td>2259</td>\n",
              "      <td>812</td>\n",
              "      <td>796</td>\n",
              "      <td>42.99</td>\n",
              "      <td>Não</td>\n",
              "      <td>Sim</td>\n",
              "      <td>1</td>\n",
              "      <td>...</td>\n",
              "      <td>15</td>\n",
              "      <td>4680</td>\n",
              "      <td>1404</td>\n",
              "      <td>0</td>\n",
              "      <td>0</td>\n",
              "      <td>0</td>\n",
              "      <td>0</td>\n",
              "      <td>50383</td>\n",
              "      <td>218</td>\n",
              "      <td>1550</td>\n",
              "    </tr>\n",
              "    <tr>\n",
              "      <th>2</th>\n",
              "      <td>3100302</td>\n",
              "      <td>Abre Campo</td>\n",
              "      <td>Zona da Mata</td>\n",
              "      <td>1896</td>\n",
              "      <td>1412</td>\n",
              "      <td>1254</td>\n",
              "      <td>29.26</td>\n",
              "      <td>Não</td>\n",
              "      <td>Sim</td>\n",
              "      <td>1</td>\n",
              "      <td>...</td>\n",
              "      <td>0</td>\n",
              "      <td>780</td>\n",
              "      <td>0</td>\n",
              "      <td>0</td>\n",
              "      <td>0</td>\n",
              "      <td>0</td>\n",
              "      <td>0</td>\n",
              "      <td>7100</td>\n",
              "      <td>103</td>\n",
              "      <td>1074</td>\n",
              "    </tr>\n",
              "    <tr>\n",
              "      <th>3</th>\n",
              "      <td>3100401</td>\n",
              "      <td>Acaiaca</td>\n",
              "      <td>Zona da Mata</td>\n",
              "      <td>796</td>\n",
              "      <td>674</td>\n",
              "      <td>615</td>\n",
              "      <td>11.53</td>\n",
              "      <td>Não</td>\n",
              "      <td>Sim</td>\n",
              "      <td>1</td>\n",
              "      <td>...</td>\n",
              "      <td>0</td>\n",
              "      <td>202</td>\n",
              "      <td>0</td>\n",
              "      <td>0</td>\n",
              "      <td>0</td>\n",
              "      <td>0</td>\n",
              "      <td>0</td>\n",
              "      <td>1385</td>\n",
              "      <td>23</td>\n",
              "      <td>2500</td>\n",
              "    </tr>\n",
              "    <tr>\n",
              "      <th>4</th>\n",
              "      <td>3100500</td>\n",
              "      <td>Açucena</td>\n",
              "      <td>Vale do Rio Doce</td>\n",
              "      <td>1691</td>\n",
              "      <td>1074</td>\n",
              "      <td>952</td>\n",
              "      <td>24.26</td>\n",
              "      <td>Não</td>\n",
              "      <td>Sim</td>\n",
              "      <td>1</td>\n",
              "      <td>...</td>\n",
              "      <td>0</td>\n",
              "      <td>942</td>\n",
              "      <td>0</td>\n",
              "      <td>0</td>\n",
              "      <td>0</td>\n",
              "      <td>0</td>\n",
              "      <td>0</td>\n",
              "      <td>9061</td>\n",
              "      <td>57</td>\n",
              "      <td>266</td>\n",
              "    </tr>\n",
              "  </tbody>\n",
              "</table>\n",
              "<p>5 rows × 50 columns</p>\n",
              "</div>"
            ],
            "text/plain": [
              "     ibge7                  mun                         nome_meso  \\\n",
              "0  3100104  Abadia dos Dourados  Triângulo Mineiro/Alto Paranaíba   \n",
              "1  3100203               Abaeté                   Central Mineira   \n",
              "2  3100302           Abre Campo                      Zona da Mata   \n",
              "3  3100401              Acaiaca                      Zona da Mata   \n",
              "4  3100500              Açucena                  Vale do Rio Doce   \n",
              "\n",
              "   tot_f_meio_sm  tot_f_rdpc_154  n_f_PBF  tot_benf_PBF ex_cinema ex_bib  \\\n",
              "0            685             413      366         22.26       Não    Sim   \n",
              "1           2259             812      796         42.99       Não    Sim   \n",
              "2           1896            1412     1254         29.26       Não    Sim   \n",
              "3            796             674      615         11.53       Não    Sim   \n",
              "4           1691            1074      952         24.26       Não    Sim   \n",
              "\n",
              "   n_bib  ...  manga  milho   soja  sorgo  tangerina  tomate  trigo  leite  \\\n",
              "0      2  ...      0   8028  11685   1212          0     100      0  43745   \n",
              "1      1  ...     15   4680   1404      0          0       0      0  50383   \n",
              "2      1  ...      0    780      0      0          0       0      0   7100   \n",
              "3      1  ...      0    202      0      0          0       0      0   1385   \n",
              "4      1  ...      0    942      0      0          0       0      0   9061   \n",
              "\n",
              "   ovos   mel  \n",
              "0   128     0  \n",
              "1   218  1550  \n",
              "2   103  1074  \n",
              "3    23  2500  \n",
              "4    57   266  \n",
              "\n",
              "[5 rows x 50 columns]"
            ]
          },
          "metadata": {
            "tags": []
          },
          "execution_count": 48
        }
      ]
    },
    {
      "cell_type": "code",
      "metadata": {
        "id": "_j0GxHltqec7",
        "colab_type": "code",
        "outputId": "0c6ab864-c565-4827-8ced-97cd8b1bc825",
        "colab": {
          "base_uri": "https://localhost:8080/",
          "height": 34
        }
      },
      "source": [
        "# retorna a dimensão do dataframe (linhas e colunas)\n",
        "dados.shape"
      ],
      "execution_count": 49,
      "outputs": [
        {
          "output_type": "execute_result",
          "data": {
            "text/plain": [
              "(853, 50)"
            ]
          },
          "metadata": {
            "tags": []
          },
          "execution_count": 49
        }
      ]
    },
    {
      "cell_type": "code",
      "metadata": {
        "id": "7fBM3nBJqedF",
        "colab_type": "code",
        "outputId": "27cbccab-c807-4a37-dcea-c3f6ac640680",
        "colab": {
          "base_uri": "https://localhost:8080/",
          "height": 34
        }
      },
      "source": [
        "# retorna o número de linhas\n",
        "len(dados)"
      ],
      "execution_count": 50,
      "outputs": [
        {
          "output_type": "execute_result",
          "data": {
            "text/plain": [
              "853"
            ]
          },
          "metadata": {
            "tags": []
          },
          "execution_count": 50
        }
      ]
    },
    {
      "cell_type": "markdown",
      "metadata": {
        "id": "OcDn8EhVqedS",
        "colab_type": "text"
      },
      "source": [
        "Para exemplificar o uso de uma estrutura de repetição (*for*) e uma estrutura condicional (*if*) fiz a seguinte pergunta:\n",
        "\n",
        "Quais os municípios de MG produziram mais de 10.000 toneladas de café arábica em 2017?"
      ]
    },
    {
      "cell_type": "markdown",
      "metadata": {
        "id": "D1w_fPkrMMgq",
        "colab_type": "text"
      },
      "source": [
        "**Exemplo de uso de for:**"
      ]
    },
    {
      "cell_type": "code",
      "metadata": {
        "id": "xew_BqE_qedd",
        "colab_type": "code",
        "outputId": "555cc838-4d43-429f-8ec3-b5b3f5403223",
        "colab": {
          "base_uri": "https://localhost:8080/",
          "height": 712
        }
      },
      "source": [
        "# percorrer cada linha do dataframe e verificar se o valor da variável é\n",
        "# maior do que um valor pré-definido\n",
        "for i in range(len(dados)):\n",
        "    if dados['cafe_arab'][i] > 10000:\n",
        "        print(dados['mun'][i], dados['cafe_arab'][i])"
      ],
      "execution_count": 51,
      "outputs": [
        {
          "output_type": "stream",
          "text": [
            "Alfenas 14566\n",
            "Araguari 27550\n",
            "Boa Esperança 26570\n",
            "Botelhos 11850\n",
            "Cabo Verde 14620\n",
            "Campestre 21060\n",
            "Campos Altos 14540\n",
            "Campos Gerais 28085\n",
            "Caratinga 13460\n",
            "Carmo da Cachoeira 17400\n",
            "Carmo do Paranaíba 16470\n",
            "Carmo do Rio Claro 16745\n",
            "Conceição da Aparecida 15930\n",
            "Coromandel 10630\n",
            "Elói Mendes 10980\n",
            "Espera Feliz 11880\n",
            "Guapé 12672\n",
            "Ibiraci 18050\n",
            "Itamogi 11360\n",
            "Machado 27600\n",
            "Manhuaçu 26274\n",
            "Monte Carmelo 22430\n",
            "Monte Santo de Minas 10690\n",
            "Muzambinho 11000\n",
            "Nepomuceno 15690\n",
            "Nova Resende 23550\n",
            "Patos de Minas 10320\n",
            "Patrocínio 56115\n",
            "Perdizes 13000\n",
            "Piumhi 14500\n",
            "Rio Paranaíba 16320\n",
            "Santa Margarida 11760\n",
            "São Sebastião do Paraíso 20320\n",
            "São Tomás de Aquino 10400\n",
            "Serra do Salitre 15040\n",
            "Simonésia 12720\n",
            "Três Corações 14700\n",
            "Três Pontas 26950\n",
            "Unaí 11232\n",
            "Varginha 15740\n"
          ],
          "name": "stdout"
        }
      ]
    },
    {
      "cell_type": "markdown",
      "metadata": {
        "id": "O89Yl7Iiqedo",
        "colab_type": "text"
      },
      "source": [
        "Note que bastaria trocar a variável (escolher outra no lugar de *cafe_arab*) e o valor de referência (10.000) para fazer outra consulta.\n",
        "\n",
        "\n",
        "**Muito importante:** essa modificação **NÃO CONTA** como um uso diferente para o *for* e para o *if*, já que nada de novo está sendo feito no código."
      ]
    },
    {
      "cell_type": "code",
      "metadata": {
        "id": "gUjNM6goqedp",
        "colab_type": "code",
        "outputId": "b1a22245-56f4-4ca0-b4c4-a0c3aaccdb92",
        "colab": {
          "base_uri": "https://localhost:8080/",
          "height": 86
        }
      },
      "source": [
        "# usando a mesma estrutura acima para responder quais os municípios de MG \n",
        "# possuem mais do que três bibliotecas\n",
        "# mostrar o nome do município e o valor de n_bib\n",
        "for i in range(len(dados)):\n",
        "    if dados['n_bib'][i] > 3:\n",
        "        print(dados['mun'][i], dados['n_bib'][i])"
      ],
      "execution_count": 52,
      "outputs": [
        {
          "output_type": "stream",
          "text": [
            "Belo Horizonte 21\n",
            "Betim 4\n",
            "Campo Belo 6\n",
            "Poços de Caldas 4\n"
          ],
          "name": "stdout"
        }
      ]
    },
    {
      "cell_type": "markdown",
      "metadata": {
        "id": "SWiE8_whqedv",
        "colab_type": "text"
      },
      "source": [
        "Se fôssemos usar uma função pronta do pacote *pandas* (o que não é nosso foco na disciplina), bastaria fazer o seguinte (porém ele retornaria um *dataframe* inteiro com as linhas selecionadas (n_bib > 3)): "
      ]
    },
    {
      "cell_type": "code",
      "metadata": {
        "id": "eoTNk-Gpqedx",
        "colab_type": "code",
        "outputId": "6bcdea58-6821-48d9-a200-227e35ce4b98",
        "colab": {
          "base_uri": "https://localhost:8080/",
          "height": 329
        }
      },
      "source": [
        "# função pronta do pandas\n",
        "dados[dados['n_bib'] > 3]"
      ],
      "execution_count": 53,
      "outputs": [
        {
          "output_type": "execute_result",
          "data": {
            "text/html": [
              "<div>\n",
              "<style scoped>\n",
              "    .dataframe tbody tr th:only-of-type {\n",
              "        vertical-align: middle;\n",
              "    }\n",
              "\n",
              "    .dataframe tbody tr th {\n",
              "        vertical-align: top;\n",
              "    }\n",
              "\n",
              "    .dataframe thead th {\n",
              "        text-align: right;\n",
              "    }\n",
              "</style>\n",
              "<table border=\"1\" class=\"dataframe\">\n",
              "  <thead>\n",
              "    <tr style=\"text-align: right;\">\n",
              "      <th></th>\n",
              "      <th>ibge7</th>\n",
              "      <th>mun</th>\n",
              "      <th>nome_meso</th>\n",
              "      <th>tot_f_meio_sm</th>\n",
              "      <th>tot_f_rdpc_154</th>\n",
              "      <th>n_f_PBF</th>\n",
              "      <th>tot_benf_PBF</th>\n",
              "      <th>ex_cinema</th>\n",
              "      <th>ex_bib</th>\n",
              "      <th>n_bib</th>\n",
              "      <th>...</th>\n",
              "      <th>manga</th>\n",
              "      <th>milho</th>\n",
              "      <th>soja</th>\n",
              "      <th>sorgo</th>\n",
              "      <th>tangerina</th>\n",
              "      <th>tomate</th>\n",
              "      <th>trigo</th>\n",
              "      <th>leite</th>\n",
              "      <th>ovos</th>\n",
              "      <th>mel</th>\n",
              "    </tr>\n",
              "  </thead>\n",
              "  <tbody>\n",
              "    <tr>\n",
              "      <th>65</th>\n",
              "      <td>3106200</td>\n",
              "      <td>Belo Horizonte</td>\n",
              "      <td>Metropolitana de Belo Horizonte</td>\n",
              "      <td>119871</td>\n",
              "      <td>71184</td>\n",
              "      <td>60908</td>\n",
              "      <td>16.74</td>\n",
              "      <td>Sim</td>\n",
              "      <td>Sim</td>\n",
              "      <td>21</td>\n",
              "      <td>...</td>\n",
              "      <td>0</td>\n",
              "      <td>0</td>\n",
              "      <td>0</td>\n",
              "      <td>0</td>\n",
              "      <td>0</td>\n",
              "      <td>0</td>\n",
              "      <td>0</td>\n",
              "      <td>735</td>\n",
              "      <td>3</td>\n",
              "      <td>0</td>\n",
              "    </tr>\n",
              "    <tr>\n",
              "      <th>71</th>\n",
              "      <td>3106705</td>\n",
              "      <td>Betim</td>\n",
              "      <td>Metropolitana de Belo Horizonte</td>\n",
              "      <td>35341</td>\n",
              "      <td>21948</td>\n",
              "      <td>18219</td>\n",
              "      <td>14.30</td>\n",
              "      <td>Sim</td>\n",
              "      <td>Sim</td>\n",
              "      <td>4</td>\n",
              "      <td>...</td>\n",
              "      <td>0</td>\n",
              "      <td>115</td>\n",
              "      <td>0</td>\n",
              "      <td>0</td>\n",
              "      <td>0</td>\n",
              "      <td>150</td>\n",
              "      <td>0</td>\n",
              "      <td>1545</td>\n",
              "      <td>34</td>\n",
              "      <td>2490</td>\n",
              "    </tr>\n",
              "    <tr>\n",
              "      <th>121</th>\n",
              "      <td>3111200</td>\n",
              "      <td>Campo Belo</td>\n",
              "      <td>Oeste de Minas</td>\n",
              "      <td>5707</td>\n",
              "      <td>2880</td>\n",
              "      <td>2618</td>\n",
              "      <td>17.08</td>\n",
              "      <td>Não</td>\n",
              "      <td>Sim</td>\n",
              "      <td>6</td>\n",
              "      <td>...</td>\n",
              "      <td>0</td>\n",
              "      <td>15000</td>\n",
              "      <td>0</td>\n",
              "      <td>0</td>\n",
              "      <td>60</td>\n",
              "      <td>1320</td>\n",
              "      <td>0</td>\n",
              "      <td>11837</td>\n",
              "      <td>2000</td>\n",
              "      <td>2440</td>\n",
              "    </tr>\n",
              "    <tr>\n",
              "      <th>604</th>\n",
              "      <td>3151800</td>\n",
              "      <td>Poços de Caldas</td>\n",
              "      <td>Sul/Sudoeste de Minas</td>\n",
              "      <td>8681</td>\n",
              "      <td>3171</td>\n",
              "      <td>3354</td>\n",
              "      <td>19.09</td>\n",
              "      <td>Sim</td>\n",
              "      <td>Sim</td>\n",
              "      <td>4</td>\n",
              "      <td>...</td>\n",
              "      <td>0</td>\n",
              "      <td>6480</td>\n",
              "      <td>260</td>\n",
              "      <td>0</td>\n",
              "      <td>53</td>\n",
              "      <td>189</td>\n",
              "      <td>0</td>\n",
              "      <td>7683</td>\n",
              "      <td>36</td>\n",
              "      <td>2155</td>\n",
              "    </tr>\n",
              "  </tbody>\n",
              "</table>\n",
              "<p>4 rows × 50 columns</p>\n",
              "</div>"
            ],
            "text/plain": [
              "       ibge7              mun                        nome_meso  tot_f_meio_sm  \\\n",
              "65   3106200   Belo Horizonte  Metropolitana de Belo Horizonte         119871   \n",
              "71   3106705            Betim  Metropolitana de Belo Horizonte          35341   \n",
              "121  3111200       Campo Belo                   Oeste de Minas           5707   \n",
              "604  3151800  Poços de Caldas            Sul/Sudoeste de Minas           8681   \n",
              "\n",
              "     tot_f_rdpc_154  n_f_PBF  tot_benf_PBF ex_cinema ex_bib  n_bib  ...  \\\n",
              "65            71184    60908         16.74       Sim    Sim     21  ...   \n",
              "71            21948    18219         14.30       Sim    Sim      4  ...   \n",
              "121            2880     2618         17.08       Não    Sim      6  ...   \n",
              "604            3171     3354         19.09       Sim    Sim      4  ...   \n",
              "\n",
              "     manga  milho  soja  sorgo  tangerina  tomate  trigo  leite  ovos   mel  \n",
              "65       0      0     0      0          0       0      0    735     3     0  \n",
              "71       0    115     0      0          0     150      0   1545    34  2490  \n",
              "121      0  15000     0      0         60    1320      0  11837  2000  2440  \n",
              "604      0   6480   260      0         53     189      0   7683    36  2155  \n",
              "\n",
              "[4 rows x 50 columns]"
            ]
          },
          "metadata": {
            "tags": []
          },
          "execution_count": 53
        }
      ]
    },
    {
      "cell_type": "markdown",
      "metadata": {
        "id": "4NR9syaIOOLM",
        "colab_type": "text"
      },
      "source": [
        "**Exemplo de uso de for com interação com usuário:**"
      ]
    },
    {
      "cell_type": "code",
      "metadata": {
        "id": "TMnIqEDbqed7",
        "colab_type": "code",
        "outputId": "f4bd2ed5-e49d-4dc4-fd1b-baf2637a1c21",
        "colab": {
          "base_uri": "https://localhost:8080/",
          "height": 34
        }
      },
      "source": [
        "# interação com o usuário\n",
        "valor = float(input('Acima de qual valor de produtividade de café você deseja visualizar os municípios de MG? '))\n",
        "for i in range(len(dados)):\n",
        "    if dados['cafe_arab'][i] > valor:\n",
        "        print(dados['mun'][i], dados['cafe_arab'][i])"
      ],
      "execution_count": 54,
      "outputs": [
        {
          "output_type": "stream",
          "text": [
            "Acima de qual valor de produtividade de café você deseja visualizar os municípios de MG? 200000\n"
          ],
          "name": "stdout"
        }
      ]
    },
    {
      "cell_type": "markdown",
      "metadata": {
        "id": "-Yvm-BILqeeD",
        "colab_type": "text"
      },
      "source": [
        "A função *describe* fornece um resumo estatístico da variável, o que pode ajudar em alguns cálculos:"
      ]
    },
    {
      "cell_type": "code",
      "metadata": {
        "id": "EmUMO4pjqeeE",
        "colab_type": "code",
        "outputId": "e7f0d535-0f5c-43da-9da5-0e1034e29af1",
        "colab": {
          "base_uri": "https://localhost:8080/",
          "height": 173
        }
      },
      "source": [
        "# função pronta do pandas\n",
        "# como é a variável rdpc_formal, por exemplo? Seu resumo estatístico é dado por:\n",
        "dados['rdpc_formal'].describe()"
      ],
      "execution_count": 55,
      "outputs": [
        {
          "output_type": "execute_result",
          "data": {
            "text/plain": [
              "count     853.000000\n",
              "mean      224.721923\n",
              "std       229.002939\n",
              "min        21.400000\n",
              "25%       104.560000\n",
              "50%       169.790000\n",
              "75%       262.320000\n",
              "max      3296.670000\n",
              "Name: rdpc_formal, dtype: float64"
            ]
          },
          "metadata": {
            "tags": []
          },
          "execution_count": 55
        }
      ]
    },
    {
      "cell_type": "code",
      "metadata": {
        "id": "Pfpw2OzeqeeO",
        "colab_type": "code",
        "outputId": "8ac60db1-ab79-46ce-baac-23f62e5565ff",
        "colab": {
          "base_uri": "https://localhost:8080/",
          "height": 139
        }
      },
      "source": [
        "# mais interações com o usuário\n",
        "print('Insira a variável e qual o valor a partir do qual deseja ver os municípios que atendem ao critério:')\n",
        "var = input('variável: ')\n",
        "valor = float(input('valor: '))\n",
        "\n",
        "# como seria o código para retornar os municípios que têm valores acima do escolhido?\n",
        "for i in range(len(dados)):\n",
        "    if dados[var][i] > valor:\n",
        "        print(dados['mun'][i], dados[var][i])\n"
      ],
      "execution_count": 56,
      "outputs": [
        {
          "output_type": "stream",
          "text": [
            "Insira a variável e qual o valor a partir do qual deseja ver os municípios que atendem ao critério:\n",
            "variável: popul\n",
            "valor: 500000\n",
            "Belo Horizonte 2513451\n",
            "Contagem 653800\n",
            "Juiz de Fora 559636\n",
            "Uberlândia 669672\n"
          ],
          "name": "stdout"
        }
      ]
    },
    {
      "cell_type": "code",
      "metadata": {
        "id": "ia7riSIsqeeX",
        "colab_type": "code",
        "colab": {}
      },
      "source": [
        "# como seria o código para somar os valores de uma variável?\n"
      ],
      "execution_count": 0,
      "outputs": []
    },
    {
      "cell_type": "code",
      "metadata": {
        "id": "gqF05QfWqeeh",
        "colab_type": "code",
        "colab": {
          "base_uri": "https://localhost:8080/",
          "height": 34
        },
        "outputId": "e239181b-86b1-4331-d7bf-019a7835153c"
      },
      "source": [
        "# conferir com a função pronta do pandas\n",
        "dados[var].sum()"
      ],
      "execution_count": 57,
      "outputs": [
        {
          "output_type": "execute_result",
          "data": {
            "text/plain": [
              "20997560"
            ]
          },
          "metadata": {
            "tags": []
          },
          "execution_count": 57
        }
      ]
    },
    {
      "cell_type": "code",
      "metadata": {
        "id": "K1QrdEttqees",
        "colab_type": "code",
        "colab": {
          "base_uri": "https://localhost:8080/",
          "height": 34
        },
        "outputId": "f934ae7c-56f2-4470-bad7-ac7081ff4cea"
      },
      "source": [
        "# maior valor de uma variável\n",
        "dados['n_bib'].max()"
      ],
      "execution_count": 58,
      "outputs": [
        {
          "output_type": "execute_result",
          "data": {
            "text/plain": [
              "21"
            ]
          },
          "metadata": {
            "tags": []
          },
          "execution_count": 58
        }
      ]
    },
    {
      "cell_type": "code",
      "metadata": {
        "scrolled": false,
        "id": "3NjjCjR5qee0",
        "colab_type": "code",
        "outputId": "e4d7700a-7a3d-448b-c9b5-64141362e73b",
        "colab": {
          "base_uri": "https://localhost:8080/",
          "height": 363
        }
      },
      "source": [
        "# usando função pronta do pandas\n",
        "# que retorna os maiores valores de uma variável\n",
        "# eu escolhi mostrar 10 valores, mas poderiam ser quantos eu quisesse\n",
        "# se eu quisesse os menores valores, trocar ascending=True\n",
        "dados.sort_values(by='n_bib', ascending=False).loc[:,['mun', 'nome_meso', 'n_bib']].head(10)"
      ],
      "execution_count": 60,
      "outputs": [
        {
          "output_type": "execute_result",
          "data": {
            "text/html": [
              "<div>\n",
              "<style scoped>\n",
              "    .dataframe tbody tr th:only-of-type {\n",
              "        vertical-align: middle;\n",
              "    }\n",
              "\n",
              "    .dataframe tbody tr th {\n",
              "        vertical-align: top;\n",
              "    }\n",
              "\n",
              "    .dataframe thead th {\n",
              "        text-align: right;\n",
              "    }\n",
              "</style>\n",
              "<table border=\"1\" class=\"dataframe\">\n",
              "  <thead>\n",
              "    <tr style=\"text-align: right;\">\n",
              "      <th></th>\n",
              "      <th>mun</th>\n",
              "      <th>nome_meso</th>\n",
              "      <th>n_bib</th>\n",
              "    </tr>\n",
              "  </thead>\n",
              "  <tbody>\n",
              "    <tr>\n",
              "      <th>65</th>\n",
              "      <td>Belo Horizonte</td>\n",
              "      <td>Metropolitana de Belo Horizonte</td>\n",
              "      <td>21</td>\n",
              "    </tr>\n",
              "    <tr>\n",
              "      <th>121</th>\n",
              "      <td>Campo Belo</td>\n",
              "      <td>Oeste de Minas</td>\n",
              "      <td>6</td>\n",
              "    </tr>\n",
              "    <tr>\n",
              "      <th>604</th>\n",
              "      <td>Poços de Caldas</td>\n",
              "      <td>Sul/Sudoeste de Minas</td>\n",
              "      <td>4</td>\n",
              "    </tr>\n",
              "    <tr>\n",
              "      <th>71</th>\n",
              "      <td>Betim</td>\n",
              "      <td>Metropolitana de Belo Horizonte</td>\n",
              "      <td>4</td>\n",
              "    </tr>\n",
              "    <tr>\n",
              "      <th>439</th>\n",
              "      <td>Leopoldina</td>\n",
              "      <td>Zona da Mata</td>\n",
              "      <td>3</td>\n",
              "    </tr>\n",
              "    <tr>\n",
              "      <th>636</th>\n",
              "      <td>Ribeirão das Neves</td>\n",
              "      <td>Metropolitana de Belo Horizonte</td>\n",
              "      <td>3</td>\n",
              "    </tr>\n",
              "    <tr>\n",
              "      <th>425</th>\n",
              "      <td>Lagoa da Prata</td>\n",
              "      <td>Central Mineira</td>\n",
              "      <td>3</td>\n",
              "    </tr>\n",
              "    <tr>\n",
              "      <th>290</th>\n",
              "      <td>Formiga</td>\n",
              "      <td>Oeste de Minas</td>\n",
              "      <td>3</td>\n",
              "    </tr>\n",
              "    <tr>\n",
              "      <th>72</th>\n",
              "      <td>Bias Fortes</td>\n",
              "      <td>Zona da Mata</td>\n",
              "      <td>2</td>\n",
              "    </tr>\n",
              "    <tr>\n",
              "      <th>54</th>\n",
              "      <td>Baldim</td>\n",
              "      <td>Metropolitana de Belo Horizonte</td>\n",
              "      <td>2</td>\n",
              "    </tr>\n",
              "  </tbody>\n",
              "</table>\n",
              "</div>"
            ],
            "text/plain": [
              "                    mun                        nome_meso  n_bib\n",
              "65       Belo Horizonte  Metropolitana de Belo Horizonte     21\n",
              "121          Campo Belo                   Oeste de Minas      6\n",
              "604     Poços de Caldas            Sul/Sudoeste de Minas      4\n",
              "71                Betim  Metropolitana de Belo Horizonte      4\n",
              "439          Leopoldina                     Zona da Mata      3\n",
              "636  Ribeirão das Neves  Metropolitana de Belo Horizonte      3\n",
              "425      Lagoa da Prata                  Central Mineira      3\n",
              "290             Formiga                   Oeste de Minas      3\n",
              "72          Bias Fortes                     Zona da Mata      2\n",
              "54               Baldim  Metropolitana de Belo Horizonte      2"
            ]
          },
          "metadata": {
            "tags": []
          },
          "execution_count": 60
        }
      ]
    },
    {
      "cell_type": "markdown",
      "metadata": {
        "id": "BsM3lkRUPZPb",
        "colab_type": "text"
      },
      "source": [
        "**Exemplo de uso de while:**"
      ]
    },
    {
      "cell_type": "code",
      "metadata": {
        "id": "fwhYBuJVqefG",
        "colab_type": "code",
        "outputId": "cf6369b0-c949-4480-e500-3be705ad52c2",
        "colab": {
          "base_uri": "https://localhost:8080/",
          "height": 156
        }
      },
      "source": [
        "# uso de while\n",
        "# ir retornando um resultado enquanto uma condição for verdadeira\n",
        "var = input('Escolha uma variável: ')\n",
        "entrada = input('Tecle \"c\" para continuar e \"p\" para parar: ')\n",
        "i = 0\n",
        "while entrada == 'c':\n",
        "    print(dados['mun'][i], dados[var][i])\n",
        "    i = i + 1\n",
        "    entrada = input('Tecle \"c\" para continuar e \"p\" para parar: ')"
      ],
      "execution_count": 61,
      "outputs": [
        {
          "output_type": "stream",
          "text": [
            "Escolha uma variável: popul\n",
            "Tecle \"c\" para continuar e \"p\" para parar: c\n",
            "Abadia dos Dourados 7037\n",
            "Tecle \"c\" para continuar e \"p\" para parar: c\n",
            "Abaeté 23574\n",
            "Tecle \"c\" para continuar e \"p\" para parar: c\n",
            "Abre Campo 13726\n",
            "Tecle \"c\" para continuar e \"p\" para parar: p\n"
          ],
          "name": "stdout"
        }
      ]
    },
    {
      "cell_type": "markdown",
      "metadata": {
        "id": "DvKg8ACrqefK",
        "colab_type": "text"
      },
      "source": [
        "## Selecionar municípios de MG (por mesorregião ou microrregião)"
      ]
    },
    {
      "cell_type": "code",
      "metadata": {
        "id": "-nDT9Y5qqefL",
        "colab_type": "code",
        "outputId": "1b5b0d5d-6bab-4fbe-ff73-ebc5c27f6bd5",
        "colab": {
          "base_uri": "https://localhost:8080/",
          "height": 121
        }
      },
      "source": [
        "# para saber como estão os nomes das mesorregiões\n",
        "dados['nome_meso'].unique()"
      ],
      "execution_count": 62,
      "outputs": [
        {
          "output_type": "execute_result",
          "data": {
            "text/plain": [
              "array(['Triângulo Mineiro/Alto Paranaíba', 'Central Mineira',\n",
              "       'Zona da Mata', 'Vale do Rio Doce', 'Oeste de Minas',\n",
              "       'Vale do Mucuri', 'Norte de Minas', 'Sul/Sudoeste de Minas',\n",
              "       'Campo das Vertentes', 'Jequitinhonha',\n",
              "       'Metropolitana de Belo Horizonte', 'Noroeste de Minas'],\n",
              "      dtype=object)"
            ]
          },
          "metadata": {
            "tags": []
          },
          "execution_count": 62
        }
      ]
    },
    {
      "cell_type": "code",
      "metadata": {
        "id": "cqbWKCGDqefR",
        "colab_type": "code",
        "colab": {}
      },
      "source": [
        "# criar um objeto sul com os municípios apenas do Sul/Sudoeste de MG\n",
        "meso = dados.query(\"nome_meso == 'Sul/Sudoeste de Minas'\")"
      ],
      "execution_count": 0,
      "outputs": []
    },
    {
      "cell_type": "code",
      "metadata": {
        "id": "3aVDHgetqefc",
        "colab_type": "code",
        "outputId": "770356b8-c3d1-414b-a6f8-c5a6750a732d",
        "colab": {
          "base_uri": "https://localhost:8080/",
          "height": 34
        }
      },
      "source": [
        "# número de linhas e colunas\n",
        "meso.shape"
      ],
      "execution_count": 64,
      "outputs": [
        {
          "output_type": "execute_result",
          "data": {
            "text/plain": [
              "(146, 50)"
            ]
          },
          "metadata": {
            "tags": []
          },
          "execution_count": 64
        }
      ]
    },
    {
      "cell_type": "code",
      "metadata": {
        "id": "EEhKTZT_qefl",
        "colab_type": "code",
        "outputId": "8e4802ad-91a9-40e4-baca-a67d78ca5646",
        "colab": {
          "base_uri": "https://localhost:8080/",
          "height": 343
        }
      },
      "source": [
        "# mostrar 5 primeiras linhas\n",
        "# notar que os índices começam em 11\n",
        "meso.head()"
      ],
      "execution_count": 65,
      "outputs": [
        {
          "output_type": "execute_result",
          "data": {
            "text/html": [
              "<div>\n",
              "<style scoped>\n",
              "    .dataframe tbody tr th:only-of-type {\n",
              "        vertical-align: middle;\n",
              "    }\n",
              "\n",
              "    .dataframe tbody tr th {\n",
              "        vertical-align: top;\n",
              "    }\n",
              "\n",
              "    .dataframe thead th {\n",
              "        text-align: right;\n",
              "    }\n",
              "</style>\n",
              "<table border=\"1\" class=\"dataframe\">\n",
              "  <thead>\n",
              "    <tr style=\"text-align: right;\">\n",
              "      <th></th>\n",
              "      <th>ibge7</th>\n",
              "      <th>mun</th>\n",
              "      <th>nome_meso</th>\n",
              "      <th>tot_f_meio_sm</th>\n",
              "      <th>tot_f_rdpc_154</th>\n",
              "      <th>n_f_PBF</th>\n",
              "      <th>tot_benf_PBF</th>\n",
              "      <th>ex_cinema</th>\n",
              "      <th>ex_bib</th>\n",
              "      <th>n_bib</th>\n",
              "      <th>...</th>\n",
              "      <th>manga</th>\n",
              "      <th>milho</th>\n",
              "      <th>soja</th>\n",
              "      <th>sorgo</th>\n",
              "      <th>tangerina</th>\n",
              "      <th>tomate</th>\n",
              "      <th>trigo</th>\n",
              "      <th>leite</th>\n",
              "      <th>ovos</th>\n",
              "      <th>mel</th>\n",
              "    </tr>\n",
              "  </thead>\n",
              "  <tbody>\n",
              "    <tr>\n",
              "      <th>11</th>\n",
              "      <td>3101201</td>\n",
              "      <td>Aiuruoca</td>\n",
              "      <td>Sul/Sudoeste de Minas</td>\n",
              "      <td>462</td>\n",
              "      <td>293</td>\n",
              "      <td>286</td>\n",
              "      <td>53.80</td>\n",
              "      <td>Não</td>\n",
              "      <td>Sim</td>\n",
              "      <td>1</td>\n",
              "      <td>...</td>\n",
              "      <td>0</td>\n",
              "      <td>5848</td>\n",
              "      <td>416</td>\n",
              "      <td>0</td>\n",
              "      <td>0</td>\n",
              "      <td>0</td>\n",
              "      <td>0</td>\n",
              "      <td>27169</td>\n",
              "      <td>39</td>\n",
              "      <td>6400</td>\n",
              "    </tr>\n",
              "    <tr>\n",
              "      <th>12</th>\n",
              "      <td>3101300</td>\n",
              "      <td>Alagoa</td>\n",
              "      <td>Sul/Sudoeste de Minas</td>\n",
              "      <td>346</td>\n",
              "      <td>258</td>\n",
              "      <td>234</td>\n",
              "      <td>17.81</td>\n",
              "      <td>Não</td>\n",
              "      <td>Sim</td>\n",
              "      <td>1</td>\n",
              "      <td>...</td>\n",
              "      <td>0</td>\n",
              "      <td>20</td>\n",
              "      <td>0</td>\n",
              "      <td>0</td>\n",
              "      <td>0</td>\n",
              "      <td>0</td>\n",
              "      <td>0</td>\n",
              "      <td>10386</td>\n",
              "      <td>14</td>\n",
              "      <td>1940</td>\n",
              "    </tr>\n",
              "    <tr>\n",
              "      <th>13</th>\n",
              "      <td>3101409</td>\n",
              "      <td>Albertina</td>\n",
              "      <td>Sul/Sudoeste de Minas</td>\n",
              "      <td>168</td>\n",
              "      <td>100</td>\n",
              "      <td>74</td>\n",
              "      <td>8.55</td>\n",
              "      <td>Não</td>\n",
              "      <td>Sim</td>\n",
              "      <td>1</td>\n",
              "      <td>...</td>\n",
              "      <td>0</td>\n",
              "      <td>91</td>\n",
              "      <td>0</td>\n",
              "      <td>0</td>\n",
              "      <td>0</td>\n",
              "      <td>0</td>\n",
              "      <td>0</td>\n",
              "      <td>280</td>\n",
              "      <td>4</td>\n",
              "      <td>0</td>\n",
              "    </tr>\n",
              "    <tr>\n",
              "      <th>15</th>\n",
              "      <td>3101607</td>\n",
              "      <td>Alfenas</td>\n",
              "      <td>Sul/Sudoeste de Minas</td>\n",
              "      <td>5043</td>\n",
              "      <td>2241</td>\n",
              "      <td>2441</td>\n",
              "      <td>26.62</td>\n",
              "      <td>Sim</td>\n",
              "      <td>Sim</td>\n",
              "      <td>1</td>\n",
              "      <td>...</td>\n",
              "      <td>0</td>\n",
              "      <td>55800</td>\n",
              "      <td>16854</td>\n",
              "      <td>0</td>\n",
              "      <td>300</td>\n",
              "      <td>1750</td>\n",
              "      <td>0</td>\n",
              "      <td>15010</td>\n",
              "      <td>88</td>\n",
              "      <td>210</td>\n",
              "    </tr>\n",
              "    <tr>\n",
              "      <th>19</th>\n",
              "      <td>3101904</td>\n",
              "      <td>Alpinópolis</td>\n",
              "      <td>Sul/Sudoeste de Minas</td>\n",
              "      <td>2376</td>\n",
              "      <td>1059</td>\n",
              "      <td>921</td>\n",
              "      <td>23.09</td>\n",
              "      <td>Não</td>\n",
              "      <td>Sim</td>\n",
              "      <td>1</td>\n",
              "      <td>...</td>\n",
              "      <td>0</td>\n",
              "      <td>13000</td>\n",
              "      <td>8428</td>\n",
              "      <td>1060</td>\n",
              "      <td>0</td>\n",
              "      <td>60</td>\n",
              "      <td>0</td>\n",
              "      <td>44480</td>\n",
              "      <td>44</td>\n",
              "      <td>12380</td>\n",
              "    </tr>\n",
              "  </tbody>\n",
              "</table>\n",
              "<p>5 rows × 50 columns</p>\n",
              "</div>"
            ],
            "text/plain": [
              "      ibge7          mun              nome_meso  tot_f_meio_sm  \\\n",
              "11  3101201     Aiuruoca  Sul/Sudoeste de Minas            462   \n",
              "12  3101300       Alagoa  Sul/Sudoeste de Minas            346   \n",
              "13  3101409    Albertina  Sul/Sudoeste de Minas            168   \n",
              "15  3101607      Alfenas  Sul/Sudoeste de Minas           5043   \n",
              "19  3101904  Alpinópolis  Sul/Sudoeste de Minas           2376   \n",
              "\n",
              "    tot_f_rdpc_154  n_f_PBF  tot_benf_PBF ex_cinema ex_bib  n_bib  ...  manga  \\\n",
              "11             293      286         53.80       Não    Sim      1  ...      0   \n",
              "12             258      234         17.81       Não    Sim      1  ...      0   \n",
              "13             100       74          8.55       Não    Sim      1  ...      0   \n",
              "15            2241     2441         26.62       Sim    Sim      1  ...      0   \n",
              "19            1059      921         23.09       Não    Sim      1  ...      0   \n",
              "\n",
              "    milho   soja  sorgo  tangerina  tomate  trigo  leite  ovos    mel  \n",
              "11   5848    416      0          0       0      0  27169    39   6400  \n",
              "12     20      0      0          0       0      0  10386    14   1940  \n",
              "13     91      0      0          0       0      0    280     4      0  \n",
              "15  55800  16854      0        300    1750      0  15010    88    210  \n",
              "19  13000   8428   1060          0      60      0  44480    44  12380  \n",
              "\n",
              "[5 rows x 50 columns]"
            ]
          },
          "metadata": {
            "tags": []
          },
          "execution_count": 65
        }
      ]
    },
    {
      "cell_type": "code",
      "metadata": {
        "id": "g3kEl5mpqefu",
        "colab_type": "code",
        "outputId": "343f2219-adeb-4249-9f15-8605b385b44d",
        "colab": {
          "base_uri": "https://localhost:8080/",
          "height": 343
        }
      },
      "source": [
        "# fazer com que os índices comecem em 0\n",
        "meso.index = range(len(meso))\n",
        "meso.head()"
      ],
      "execution_count": 66,
      "outputs": [
        {
          "output_type": "execute_result",
          "data": {
            "text/html": [
              "<div>\n",
              "<style scoped>\n",
              "    .dataframe tbody tr th:only-of-type {\n",
              "        vertical-align: middle;\n",
              "    }\n",
              "\n",
              "    .dataframe tbody tr th {\n",
              "        vertical-align: top;\n",
              "    }\n",
              "\n",
              "    .dataframe thead th {\n",
              "        text-align: right;\n",
              "    }\n",
              "</style>\n",
              "<table border=\"1\" class=\"dataframe\">\n",
              "  <thead>\n",
              "    <tr style=\"text-align: right;\">\n",
              "      <th></th>\n",
              "      <th>ibge7</th>\n",
              "      <th>mun</th>\n",
              "      <th>nome_meso</th>\n",
              "      <th>tot_f_meio_sm</th>\n",
              "      <th>tot_f_rdpc_154</th>\n",
              "      <th>n_f_PBF</th>\n",
              "      <th>tot_benf_PBF</th>\n",
              "      <th>ex_cinema</th>\n",
              "      <th>ex_bib</th>\n",
              "      <th>n_bib</th>\n",
              "      <th>...</th>\n",
              "      <th>manga</th>\n",
              "      <th>milho</th>\n",
              "      <th>soja</th>\n",
              "      <th>sorgo</th>\n",
              "      <th>tangerina</th>\n",
              "      <th>tomate</th>\n",
              "      <th>trigo</th>\n",
              "      <th>leite</th>\n",
              "      <th>ovos</th>\n",
              "      <th>mel</th>\n",
              "    </tr>\n",
              "  </thead>\n",
              "  <tbody>\n",
              "    <tr>\n",
              "      <th>0</th>\n",
              "      <td>3101201</td>\n",
              "      <td>Aiuruoca</td>\n",
              "      <td>Sul/Sudoeste de Minas</td>\n",
              "      <td>462</td>\n",
              "      <td>293</td>\n",
              "      <td>286</td>\n",
              "      <td>53.80</td>\n",
              "      <td>Não</td>\n",
              "      <td>Sim</td>\n",
              "      <td>1</td>\n",
              "      <td>...</td>\n",
              "      <td>0</td>\n",
              "      <td>5848</td>\n",
              "      <td>416</td>\n",
              "      <td>0</td>\n",
              "      <td>0</td>\n",
              "      <td>0</td>\n",
              "      <td>0</td>\n",
              "      <td>27169</td>\n",
              "      <td>39</td>\n",
              "      <td>6400</td>\n",
              "    </tr>\n",
              "    <tr>\n",
              "      <th>1</th>\n",
              "      <td>3101300</td>\n",
              "      <td>Alagoa</td>\n",
              "      <td>Sul/Sudoeste de Minas</td>\n",
              "      <td>346</td>\n",
              "      <td>258</td>\n",
              "      <td>234</td>\n",
              "      <td>17.81</td>\n",
              "      <td>Não</td>\n",
              "      <td>Sim</td>\n",
              "      <td>1</td>\n",
              "      <td>...</td>\n",
              "      <td>0</td>\n",
              "      <td>20</td>\n",
              "      <td>0</td>\n",
              "      <td>0</td>\n",
              "      <td>0</td>\n",
              "      <td>0</td>\n",
              "      <td>0</td>\n",
              "      <td>10386</td>\n",
              "      <td>14</td>\n",
              "      <td>1940</td>\n",
              "    </tr>\n",
              "    <tr>\n",
              "      <th>2</th>\n",
              "      <td>3101409</td>\n",
              "      <td>Albertina</td>\n",
              "      <td>Sul/Sudoeste de Minas</td>\n",
              "      <td>168</td>\n",
              "      <td>100</td>\n",
              "      <td>74</td>\n",
              "      <td>8.55</td>\n",
              "      <td>Não</td>\n",
              "      <td>Sim</td>\n",
              "      <td>1</td>\n",
              "      <td>...</td>\n",
              "      <td>0</td>\n",
              "      <td>91</td>\n",
              "      <td>0</td>\n",
              "      <td>0</td>\n",
              "      <td>0</td>\n",
              "      <td>0</td>\n",
              "      <td>0</td>\n",
              "      <td>280</td>\n",
              "      <td>4</td>\n",
              "      <td>0</td>\n",
              "    </tr>\n",
              "    <tr>\n",
              "      <th>3</th>\n",
              "      <td>3101607</td>\n",
              "      <td>Alfenas</td>\n",
              "      <td>Sul/Sudoeste de Minas</td>\n",
              "      <td>5043</td>\n",
              "      <td>2241</td>\n",
              "      <td>2441</td>\n",
              "      <td>26.62</td>\n",
              "      <td>Sim</td>\n",
              "      <td>Sim</td>\n",
              "      <td>1</td>\n",
              "      <td>...</td>\n",
              "      <td>0</td>\n",
              "      <td>55800</td>\n",
              "      <td>16854</td>\n",
              "      <td>0</td>\n",
              "      <td>300</td>\n",
              "      <td>1750</td>\n",
              "      <td>0</td>\n",
              "      <td>15010</td>\n",
              "      <td>88</td>\n",
              "      <td>210</td>\n",
              "    </tr>\n",
              "    <tr>\n",
              "      <th>4</th>\n",
              "      <td>3101904</td>\n",
              "      <td>Alpinópolis</td>\n",
              "      <td>Sul/Sudoeste de Minas</td>\n",
              "      <td>2376</td>\n",
              "      <td>1059</td>\n",
              "      <td>921</td>\n",
              "      <td>23.09</td>\n",
              "      <td>Não</td>\n",
              "      <td>Sim</td>\n",
              "      <td>1</td>\n",
              "      <td>...</td>\n",
              "      <td>0</td>\n",
              "      <td>13000</td>\n",
              "      <td>8428</td>\n",
              "      <td>1060</td>\n",
              "      <td>0</td>\n",
              "      <td>60</td>\n",
              "      <td>0</td>\n",
              "      <td>44480</td>\n",
              "      <td>44</td>\n",
              "      <td>12380</td>\n",
              "    </tr>\n",
              "  </tbody>\n",
              "</table>\n",
              "<p>5 rows × 50 columns</p>\n",
              "</div>"
            ],
            "text/plain": [
              "     ibge7          mun              nome_meso  tot_f_meio_sm  tot_f_rdpc_154  \\\n",
              "0  3101201     Aiuruoca  Sul/Sudoeste de Minas            462             293   \n",
              "1  3101300       Alagoa  Sul/Sudoeste de Minas            346             258   \n",
              "2  3101409    Albertina  Sul/Sudoeste de Minas            168             100   \n",
              "3  3101607      Alfenas  Sul/Sudoeste de Minas           5043            2241   \n",
              "4  3101904  Alpinópolis  Sul/Sudoeste de Minas           2376            1059   \n",
              "\n",
              "   n_f_PBF  tot_benf_PBF ex_cinema ex_bib  n_bib  ...  manga  milho   soja  \\\n",
              "0      286         53.80       Não    Sim      1  ...      0   5848    416   \n",
              "1      234         17.81       Não    Sim      1  ...      0     20      0   \n",
              "2       74          8.55       Não    Sim      1  ...      0     91      0   \n",
              "3     2441         26.62       Sim    Sim      1  ...      0  55800  16854   \n",
              "4      921         23.09       Não    Sim      1  ...      0  13000   8428   \n",
              "\n",
              "   sorgo  tangerina  tomate  trigo  leite  ovos    mel  \n",
              "0      0          0       0      0  27169    39   6400  \n",
              "1      0          0       0      0  10386    14   1940  \n",
              "2      0          0       0      0    280     4      0  \n",
              "3      0        300    1750      0  15010    88    210  \n",
              "4   1060          0      60      0  44480    44  12380  \n",
              "\n",
              "[5 rows x 50 columns]"
            ]
          },
          "metadata": {
            "tags": []
          },
          "execution_count": 66
        }
      ]
    },
    {
      "cell_type": "markdown",
      "metadata": {
        "id": "oK7YMk2-qefz",
        "colab_type": "text"
      },
      "source": [
        "'meso' é um novo *dataframe* que podemos usar da mesma forma que usamos o 'dados':"
      ]
    },
    {
      "cell_type": "markdown",
      "metadata": {
        "id": "NUbZ6YgwSS9r",
        "colab_type": "text"
      },
      "source": [
        "**Mesmo exemplo do 'for', mas com os municípios de MG:**"
      ]
    },
    {
      "cell_type": "code",
      "metadata": {
        "id": "VzqeqU9Dqef0",
        "colab_type": "code",
        "outputId": "3e010438-ad1d-40c0-bae3-2c8434e732e5",
        "colab": {
          "base_uri": "https://localhost:8080/",
          "height": 399
        }
      },
      "source": [
        "# percorrer cada linha do dataframe e verificar se o valor da variável é\n",
        "# maior do que um valor pré-definido\n",
        "for i in range(len(meso)):\n",
        "    if meso['cafe_arab'][i] > 10000:\n",
        "        print(meso['mun'][i], meso['cafe_arab'][i])"
      ],
      "execution_count": 68,
      "outputs": [
        {
          "output_type": "stream",
          "text": [
            "Alfenas 14566\n",
            "Boa Esperança 26570\n",
            "Botelhos 11850\n",
            "Cabo Verde 14620\n",
            "Campestre 21060\n",
            "Campos Gerais 28085\n",
            "Carmo da Cachoeira 17400\n",
            "Carmo do Rio Claro 16745\n",
            "Conceição da Aparecida 15930\n",
            "Elói Mendes 10980\n",
            "Guapé 12672\n",
            "Ibiraci 18050\n",
            "Itamogi 11360\n",
            "Machado 27600\n",
            "Monte Santo de Minas 10690\n",
            "Muzambinho 11000\n",
            "Nova Resende 23550\n",
            "São Sebastião do Paraíso 20320\n",
            "São Tomás de Aquino 10400\n",
            "Três Corações 14700\n",
            "Três Pontas 26950\n",
            "Varginha 15740\n"
          ],
          "name": "stdout"
        }
      ]
    },
    {
      "cell_type": "markdown",
      "metadata": {
        "id": "p45FhmvOqegC",
        "colab_type": "text"
      },
      "source": [
        "## Usuário escolhe mesorregião"
      ]
    },
    {
      "cell_type": "code",
      "metadata": {
        "id": "H1C7S71cqegD",
        "colab_type": "code",
        "outputId": "9cde7b6b-83b3-49eb-b327-c48ccc0d4317",
        "colab": {
          "base_uri": "https://localhost:8080/",
          "height": 34
        }
      },
      "source": [
        "nome = input('Escolha uma mesorregião: ')\n",
        "m = dados.query(\"nome_meso == @nome\")"
      ],
      "execution_count": 36,
      "outputs": [
        {
          "output_type": "stream",
          "text": [
            "Escolha uma mesorregião: Jequititinhonha\n"
          ],
          "name": "stdout"
        }
      ]
    },
    {
      "cell_type": "code",
      "metadata": {
        "id": "aO_tZPN3qegH",
        "colab_type": "code",
        "colab": {}
      },
      "source": [
        "# fazer com que os índices comecem em 0\n",
        "m.index = range(len(m))"
      ],
      "execution_count": 0,
      "outputs": []
    },
    {
      "cell_type": "code",
      "metadata": {
        "id": "zBsOeqn_qegK",
        "colab_type": "code",
        "colab": {}
      },
      "source": [
        "# municípios com valores maiores do que o valor\n",
        "for i in range(len(m)):\n",
        "    if m['cafe_arab'][i] > 10000:\n",
        "        print(m['mun'][i], m['cafe_arab'][i])"
      ],
      "execution_count": 0,
      "outputs": []
    },
    {
      "cell_type": "markdown",
      "metadata": {
        "id": "V0KLQEHTqegS",
        "colab_type": "text"
      },
      "source": [
        "## Sugestões para o trabalho\n",
        "- não vale usar os códigos que passei como exemplo e simplesmente mudar para outra variável ou município, novos códigos devem ser pensados\n",
        "- escolher mesorregiões de MG\n",
        "- usar mais de uma variável ao mesmo tempo\n",
        "- retornar maior e menor valor de alguma variável\n",
        "- calcular medidas estatísticas (média, desvio padrão, correlação etc.)\n",
        "- calcular porcentagens"
      ]
    },
    {
      "cell_type": "markdown",
      "metadata": {
        "id": "o-WQQWOAqegU",
        "colab_type": "text"
      },
      "source": [
        "### Importante:\n",
        "\n",
        "- não é necessário que o trabalho seja em torno de um tema (demografia, saúde etc.), as funções e códigos podem misturar assuntos sem problema algum (funções que retornam informações de renda, outras funções que retornem informações sobre saúde etc.). Mas quem quiser trabalhar com um tema fique à vontade  \n",
        "- gráficos podem ser utilizados para ilustrar resultados (basta correr atrás da documentação de pacotes do *Python*, como *seaborn*, *matplotlib* etc. ou o site *stackoverflow*)  \n",
        "- o importante é utilizar o que vimos na disciplina, evitando usar funções prontas do *Python* e tentando criar seus próprios códigos"
      ]
    },
    {
      "cell_type": "code",
      "metadata": {
        "id": "hpc6joVeP8Z0",
        "colab_type": "code",
        "colab": {}
      },
      "source": [
        ""
      ],
      "execution_count": 0,
      "outputs": []
    }
  ]
}