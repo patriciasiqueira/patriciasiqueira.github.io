{
  "nbformat": 4,
  "nbformat_minor": 0,
  "metadata": {
    "colab": {
      "name": "p3-roteiro-aede-global.ipynb",
      "version": "0.3.2",
      "provenance": [],
      "collapsed_sections": []
    },
    "kernelspec": {
      "display_name": "Python 3",
      "language": "python",
      "name": "python3"
    }
  },
  "cells": [
    {
      "cell_type": "markdown",
      "metadata": {
        "id": "wud8Jwda1m5z",
        "colab_type": "text"
      },
      "source": [
        "# Roteiro - AEDE (Análise exploratória de dados espaciais) global"
      ]
    },
    {
      "cell_type": "code",
      "metadata": {
        "id": "ub1LAdZM13tQ",
        "colab_type": "code",
        "colab": {}
      },
      "source": [
        "# instalação dos pacotes necessários\n",
        "!sudo apt install python3-rtree   # solução para o problema\n",
        "!pip install geopandas pysal mapclassify"
      ],
      "execution_count": 0,
      "outputs": []
    },
    {
      "cell_type": "code",
      "metadata": {
        "id": "Xze0XLiQDFyd",
        "colab_type": "code",
        "colab": {}
      },
      "source": [
        "import matplotlib.pyplot as plt\n",
        "import pandas as pd\n",
        "import geopandas as gp\n",
        "import pysal as ps\n",
        "import seaborn as sns\n",
        "from pysal.lib.weights.contiguity import Queen\n",
        "from pysal.explore.esda import Moran, Moran_Local\n",
        "from pysal.viz.splot.esda import plot_moran, moran_scatterplot, lisa_cluster, plot_local_autocorrelation\n",
        "from pysal.viz import mapclassify\n",
        "link = 'https://raw.githubusercontent.com/lincolnfrias/dados/master/'\n",
        "link_p = 'https://raw.githubusercontent.com/patriciasiqueira/patriciasiqueira.github.io/master/arquivos/'"
      ],
      "execution_count": 0,
      "outputs": []
    },
    {
      "cell_type": "code",
      "metadata": {
        "id": "yunJ6n6GXAPA",
        "colab_type": "code",
        "colab": {}
      },
      "source": [
        "# ler dados de interesse\n",
        "dados = pd.read_csv(link_p+'qtde-22.csv', encoding='latin1')\n",
        "# quantidade produzida em toneladas em 2017"
      ],
      "execution_count": 0,
      "outputs": []
    },
    {
      "cell_type": "markdown",
      "metadata": {
        "id": "gXdnemQBcUnY",
        "colab_type": "text"
      },
      "source": [
        "1. Complete o que estiver faltando nas células abaixo:"
      ]
    },
    {
      "cell_type": "code",
      "metadata": {
        "id": "O-tTFD_JlcKF",
        "colab_type": "code",
        "colab": {}
      },
      "source": [
        "# nomes das variáveis\n"
      ],
      "execution_count": 0,
      "outputs": []
    },
    {
      "cell_type": "code",
      "metadata": {
        "id": "BBj2V5FVCtwD",
        "colab_type": "code",
        "colab": {}
      },
      "source": [
        "# número de linhas e colunas do dataframe\n"
      ],
      "execution_count": 0,
      "outputs": []
    },
    {
      "cell_type": "code",
      "metadata": {
        "id": "St_FcBN_Cwwm",
        "colab_type": "code",
        "colab": {}
      },
      "source": [
        "# mostrar algumas linhas do dataframe\n"
      ],
      "execution_count": 0,
      "outputs": []
    },
    {
      "cell_type": "code",
      "metadata": {
        "id": "-mLjsLVDlitR",
        "colab_type": "code",
        "colab": {}
      },
      "source": [
        "# renomear colunas\n",
        "# 'ibge7' será 'mun' (código do município)\n",
        "# 'mun' será 'município' (nome do município)\n",
        "dados.rename(columns={'mun': 'municipio'}, inplace=True)  # inplace = True modifica o dataframe\n",
        "dados.rename(columns={'ibge7': 'mun'}, inplace=True)"
      ],
      "execution_count": 0,
      "outputs": []
    },
    {
      "cell_type": "code",
      "metadata": {
        "id": "GqK5XJVCGF1z",
        "colab_type": "code",
        "colab": {}
      },
      "source": [
        "# ler shapefile\n",
        "link = 'https://raw.githubusercontent.com/lincolnfrias/dados/master/mg.json'\n",
        "geodf = gp.read_file(link)"
      ],
      "execution_count": 0,
      "outputs": []
    },
    {
      "cell_type": "code",
      "metadata": {
        "id": "psBC0YnLEwY7",
        "colab_type": "code",
        "colab": {}
      },
      "source": [
        "# visualizar as primeiras linhas do shapefile\n"
      ],
      "execution_count": 0,
      "outputs": []
    },
    {
      "cell_type": "code",
      "metadata": {
        "id": "3n3RWfeyUlI5",
        "colab_type": "code",
        "colab": {}
      },
      "source": [
        "# mesclar shapefile com dataframe\n",
        "# usando a coluna mun\n",
        "geodf.rename(columns={'CD_GEOCMU': 'mun'}, inplace=True)  # mudar nome da coluna com cód. para 'mun'\n",
        "geodf['mun'] = geodf.mun.astype(int)  # transformar códigos em inteiros\n",
        "mg = pd.merge(geodf, dados, on='mun', suffixes=('', '_y'))  # mesclar o dataframe e o shapefile\n",
        "mg.shape"
      ],
      "execution_count": 0,
      "outputs": []
    },
    {
      "cell_type": "code",
      "metadata": {
        "id": "ASNqxKvOHBUR",
        "colab_type": "code",
        "colab": {}
      },
      "source": [
        "# visualizar primeiras linhas objeto resultante (dataframe + shapefile)\n"
      ],
      "execution_count": 0,
      "outputs": []
    },
    {
      "cell_type": "code",
      "metadata": {
        "id": "eFA1k-PhN62P",
        "colab_type": "code",
        "colab": {}
      },
      "source": [
        "# colunas (variáveis) do objeto resultante\n",
        "mg.columns"
      ],
      "execution_count": 0,
      "outputs": []
    },
    {
      "cell_type": "code",
      "metadata": {
        "id": "t4qmlVEIcpEi",
        "colab_type": "code",
        "colab": {}
      },
      "source": [
        "# resumo estátistico de todas as variáveis - apenas considerando as culturas (coluna 5 em diante)\n",
        "mg.iloc[:, 5:].describe()"
      ],
      "execution_count": 0,
      "outputs": []
    },
    {
      "cell_type": "code",
      "metadata": {
        "colab_type": "code",
        "id": "77J4w2qdb6mf",
        "colab": {}
      },
      "source": [
        "# escolher uma variável dos dados\n",
        "\n",
        "# variavel = 'batata-inglesa'"
      ],
      "execution_count": 0,
      "outputs": []
    },
    {
      "cell_type": "code",
      "metadata": {
        "colab_type": "code",
        "id": "wOWLel-Sb6mk",
        "colab": {}
      },
      "source": [
        "# apenas plotar o mapa de Minas Gerais usando o dataframe criado\n",
        "# mapa temático - simples\n"
      ],
      "execution_count": 0,
      "outputs": []
    },
    {
      "cell_type": "markdown",
      "metadata": {
        "id": "jaQD7QXYi-N4",
        "colab_type": "text"
      },
      "source": [
        "**Mapas temáticos**\n",
        "\n",
        "Mapas temáticos possibilitam visualizar a distribuição espacial de alguma variável por categorias.\n",
        "\n",
        "- PuBu\n",
        "\n",
        "- GnBu\n",
        "\n",
        "- Oranges\n",
        "\n",
        "- BuGn\n",
        "\n",
        "- Purples\n",
        "\n",
        "- YlOrBr\n",
        "\n",
        "\n",
        "cores: cmap (https://matplotlib.org/tutorials/colors/colormaps.html)\n"
      ]
    },
    {
      "cell_type": "markdown",
      "metadata": {
        "id": "5I9m4KHtQ_1-",
        "colab_type": "text"
      },
      "source": [
        "2. Fazer a análise de cada mapa temático obtido e chamar a atenção para a diferença entre os diferentes esquemas utilizados:\n",
        "\n",
        "- a) quantis\n",
        "- b) intervalos iguais\n",
        "- c) fisher jenks"
      ]
    },
    {
      "cell_type": "markdown",
      "metadata": {
        "id": "uhFKHPHsj34s",
        "colab_type": "text"
      },
      "source": [
        "Alterar esquemas, cores e tamanhos nos mapas temáticos a seguir:"
      ]
    },
    {
      "cell_type": "code",
      "metadata": {
        "id": "7rG0LV1jESUF",
        "colab_type": "code",
        "colab": {}
      },
      "source": [
        "# mapa temático - com opções\n",
        "# scheme='quantiles'\n",
        "# atribui mesma quantidade de valores para cada categoria. \n",
        "# apesar de esconder valores extremos, pode se tornar mais informativa se a distribuição for assimétrica)\n",
        "mg.plot(column=variavel, figsize=(10, 10), scheme='quantiles', cmap='OrRd', legend=True, k=4);"
      ],
      "execution_count": 0,
      "outputs": []
    },
    {
      "cell_type": "markdown",
      "metadata": {
        "id": "JtgSWX_ZRMZy",
        "colab_type": "text"
      },
      "source": [
        "Interpretação:\n",
        "\n",
        "- \n",
        "- \n",
        "- "
      ]
    },
    {
      "cell_type": "code",
      "metadata": {
        "id": "8jxrX6UXge6-",
        "colab_type": "code",
        "colab": {}
      },
      "source": [
        "# usar scheme='equal_interval'\n",
        "\n"
      ],
      "execution_count": 0,
      "outputs": []
    },
    {
      "cell_type": "markdown",
      "metadata": {
        "id": "vbFkB9AjRP_D",
        "colab_type": "text"
      },
      "source": [
        "Interpretação:\n",
        "\n",
        "- \n",
        "- \n",
        "- "
      ]
    },
    {
      "cell_type": "code",
      "metadata": {
        "id": "DE479H60gjKy",
        "colab_type": "code",
        "colab": {}
      },
      "source": [
        "# usar scheme='fisher_jenks'\n"
      ],
      "execution_count": 0,
      "outputs": []
    },
    {
      "cell_type": "markdown",
      "metadata": {
        "id": "Or0o2qWlRSlg",
        "colab_type": "text"
      },
      "source": [
        "Interpretação:\n",
        "\n",
        "- \n",
        "- \n",
        "- "
      ]
    },
    {
      "cell_type": "code",
      "metadata": {
        "id": "jKz4l1HU1m6J",
        "colab_type": "code",
        "colab": {}
      },
      "source": [
        "# obter matriz de vizinhança no formato queen\n",
        "w = Queen.from_dataframe(mg)\n",
        "w.transform = 'r'"
      ],
      "execution_count": 0,
      "outputs": []
    },
    {
      "cell_type": "markdown",
      "metadata": {
        "colab_type": "text",
        "id": "BdICCK0Ef2J3"
      },
      "source": [
        "### I de Moran\n",
        "\n",
        "Estatística mais utilizada para medir a autocorrelação espacial. Ela mede a relação do desvio padronizado de uma variável numa área com o desvio padronizado das áreas vizinhas para a mesma variável:\n",
        "\n",
        "$$I=\\frac{N}{S_{0}}\\frac{\\displaystyle\\sum_{i=1}^{n}\\sum_{j=1}^{n}w_{ij}z_{i}z_{j}}{\\displaystyle\\sum_{i=1}^{n}z^{2}_{i}},$$\n",
        "em que:\n",
        "\n",
        "- $z_i = y_i - \\bar{y}$ representa o desvio em relação à média da variável.\n",
        "- $y_i$: valor da variável em um determinado local $i$\n",
        "- $N$: número de observações\n",
        "- $S_0 = \\sum\\sum w_{ij}$\n",
        "- $E[I] = -1/(N - 1) \\approx 0$\n",
        "            \n",
        "Se o valor-$p$ referente ao teste do $I$ de Moran for significativo, podemos olhar para o valor da estatística $I$ e concluir:\n",
        "\n",
        "- $I > 0$: autocorrelação espacial positiva (*clusters* espaciais - HH, LL)\n",
        "- $I < 0$: autocorrelação espacial negativa (*outliers* espaciais - HL, LH)"
      ]
    },
    {
      "cell_type": "code",
      "metadata": {
        "id": "7FLAkkZOJxrR",
        "colab_type": "code",
        "colab": {}
      },
      "source": [
        "# calcular I de Moran global para a variável escolhida\n",
        "y = mg[variavel].values\n",
        "moran = Moran(y, w)\n",
        "moran.I"
      ],
      "execution_count": 0,
      "outputs": []
    },
    {
      "cell_type": "markdown",
      "metadata": {
        "id": "Eh9h4jiCknkY",
        "colab_type": "text"
      },
      "source": [
        "Ver opções possíveis para os valores-$p$:\n",
        "\n",
        "digitar moran. e depois TAB"
      ]
    },
    {
      "cell_type": "code",
      "metadata": {
        "id": "7wUBxfA_MdcU",
        "colab_type": "code",
        "colab": {}
      },
      "source": [
        "# valor-p\n",
        "moran.p_sim"
      ],
      "execution_count": 0,
      "outputs": []
    },
    {
      "cell_type": "markdown",
      "metadata": {
        "id": "szDhvDViQx58",
        "colab_type": "text"
      },
      "source": [
        "4 - Qual a interpretação para o $I$ de Moran global?\n",
        "\n",
        "- \n",
        "- \n",
        "- "
      ]
    },
    {
      "cell_type": "code",
      "metadata": {
        "id": "aW06lcGxKBCJ",
        "colab_type": "code",
        "colab": {}
      },
      "source": [
        "# diagrama de dispersão de Moran\n",
        "plot_moran(moran, zstandard=False, figsize=(10,4));"
      ],
      "execution_count": 0,
      "outputs": []
    },
    {
      "cell_type": "code",
      "metadata": {
        "id": "IRiJTRVXQKez",
        "colab_type": "code",
        "colab": {}
      },
      "source": [
        "# só o diagrama de dispersão\n",
        "moran_loc = Moran_Local(y, w)\n",
        "moran_scatterplot(moran_loc, p=0.05);"
      ],
      "execution_count": 0,
      "outputs": []
    }
  ]
}