{
  "nbformat": 4,
  "nbformat_minor": 0,
  "metadata": {
    "colab": {
      "name": "aula-dataframes-2020-1.ipynb",
      "provenance": [],
      "collapsed_sections": [
        "DvKg8ACrqefK",
        "p45FhmvOqegC",
        "V0KLQEHTqegS",
        "o-WQQWOAqegU"
      ]
    },
    "kernelspec": {
      "name": "python3",
      "display_name": "Python 3"
    }
  },
  "cells": [
    {
      "cell_type": "markdown",
      "metadata": {
        "id": "CQXzWv9qqecJ"
      },
      "source": [
        "# *Dataframes* em python\n",
        "\n",
        "- *Dataframes* são estruturas de dados de duas dimensões (linhas e colunas)  \n",
        "- Podem ser pensados como planilhas  \n",
        "- As linhas são as observações (indivíduos, municípios etc.)\n",
        "- As colunas são as variáveis (cada variável pode ser de um tipo: *string*, inteiro, real etc.)\n",
        "- O pacote mais usado para lidar com dataframes no python é o pacote *pandas*"
      ]
    },
    {
      "cell_type": "markdown",
      "metadata": {
        "id": "vIolEDloA989"
      },
      "source": [
        "Documentação do pandas: \n",
        "\n",
        "https://pandas.pydata.org/pandas-docs/version/0.23.4/generated/pandas.DataFrame.html\n",
        "\n",
        "https://pandas.pydata.org/pandas-docs/stable/user_guide/10min.html"
      ]
    },
    {
      "cell_type": "markdown",
      "metadata": {
        "id": "jTLykylyMBeb"
      },
      "source": [
        "## Visão geral sobre *dataframes* no python usando o pacote *pandas*"
      ]
    },
    {
      "cell_type": "markdown",
      "metadata": {
        "id": "5iXTH10a-mua"
      },
      "source": [
        "Como carregar pacotes e arquivos externos:"
      ]
    },
    {
      "cell_type": "code",
      "metadata": {
        "id": "6efibV6-qecO"
      },
      "source": [
        "# importar o pacote pandas - útil para dataframes, séries, dados em painel\n",
        "import pandas as pd"
      ],
      "execution_count": null,
      "outputs": []
    },
    {
      "cell_type": "code",
      "metadata": {
        "id": "tt3wbFxR-uTX"
      },
      "source": [
        "# carregar arquivo csv a partir de um link\n",
        "dados = pd.read_csv('https://raw.githubusercontent.com/patriciasiqueira/patriciasiqueira.github.io/master/arquivos/imrs-pam.csv', encoding='latin1')"
      ],
      "execution_count": null,
      "outputs": []
    },
    {
      "cell_type": "code",
      "metadata": {
        "id": "SZiD0IcgWQah"
      },
      "source": [
        "# ler dados novamente, fazendo com que os dados sejam identificados pelos nomes dos municípios\n",
        "# dados = pd.read_csv('https://raw.githubusercontent.com/patriciasiqueira/patriciasiqueira.github.io/master/arquivos/imrs-pam.csv', encoding='latin1', index_col='nome_mun')"
      ],
      "execution_count": null,
      "outputs": []
    },
    {
      "cell_type": "code",
      "metadata": {
        "id": "-KCS1Uw3fwvo"
      },
      "source": [
        "# carregar um arquivo que esteja salvo no computador\n",
        "# parte esquerda: pastinha e carregar arquivo\n",
        "# dados1 = pd.read_excel('area.xlsx')"
      ],
      "execution_count": null,
      "outputs": []
    },
    {
      "cell_type": "code",
      "metadata": {
        "id": "JNVJy2hzqecq"
      },
      "source": [
        "# ver as variáveis contidas no dataframe\n",
        "dados.columns"
      ],
      "execution_count": null,
      "outputs": []
    },
    {
      "cell_type": "code",
      "metadata": {
        "id": "G8HjB2Luqecz"
      },
      "source": [
        "# função que mostra as primeiras observações do dataframe\n",
        "dados.head()"
      ],
      "execution_count": null,
      "outputs": []
    },
    {
      "cell_type": "code",
      "metadata": {
        "id": "_j0GxHltqec7"
      },
      "source": [
        "# retorna a dimensão do dataframe (linhas e colunas)\n",
        "dados.shape"
      ],
      "execution_count": null,
      "outputs": []
    },
    {
      "cell_type": "code",
      "metadata": {
        "id": "7fBM3nBJqedF"
      },
      "source": [
        "# retorna o número de linhas\n",
        "len(dados)"
      ],
      "execution_count": null,
      "outputs": []
    },
    {
      "cell_type": "code",
      "metadata": {
        "id": "o2gaKEwkUx6R"
      },
      "source": [
        "dados.shape[1]"
      ],
      "execution_count": null,
      "outputs": []
    },
    {
      "cell_type": "markdown",
      "metadata": {
        "id": "0KJ9M_7OPFon"
      },
      "source": [
        "Fatias do *dataframe* usando iloc (índices das linhas e colunas):"
      ]
    },
    {
      "cell_type": "code",
      "metadata": {
        "id": "rzTYIRuIPCmi"
      },
      "source": [
        "dados.iloc[800:820]"
      ],
      "execution_count": null,
      "outputs": []
    },
    {
      "cell_type": "code",
      "metadata": {
        "id": "s5j1DT0FZNXH"
      },
      "source": [
        "dados.iloc[20:27, 0:5]"
      ],
      "execution_count": null,
      "outputs": []
    },
    {
      "cell_type": "code",
      "metadata": {
        "id": "IUWNkGPAa6SK"
      },
      "source": [
        "dados.columns"
      ],
      "execution_count": null,
      "outputs": []
    },
    {
      "cell_type": "code",
      "metadata": {
        "id": "NzJXqIN8PMS9"
      },
      "source": [
        "dados.iloc[[0, 3, 6], [1, 5, 6, 13]]"
      ],
      "execution_count": null,
      "outputs": []
    },
    {
      "cell_type": "markdown",
      "metadata": {
        "id": "IvxZ9FZ_MZM1"
      },
      "source": [
        "# Exemplos de consultas aos dados"
      ]
    },
    {
      "cell_type": "markdown",
      "metadata": {
        "id": "HdnUnX46MjUl"
      },
      "source": [
        "Pergunta: quais os municípios de MG possuem renda (dos formalizados) maior do que R$1000,00?"
      ]
    },
    {
      "cell_type": "code",
      "metadata": {
        "id": "ffhoQtUAMftI"
      },
      "source": [
        "# função pronta do pandas\n",
        "dados[dados['rdpc_formal'] > 1000]"
      ],
      "execution_count": null,
      "outputs": []
    },
    {
      "cell_type": "code",
      "metadata": {
        "id": "GmDlzfpzMyjs"
      },
      "source": [
        "# função query faz o mesmo\n",
        "dados.query('rdpc_formal > 1000')"
      ],
      "execution_count": null,
      "outputs": []
    },
    {
      "cell_type": "code",
      "metadata": {
        "id": "2lP_9JUjNFBA"
      },
      "source": [
        "# poderíamos salvar esse dataframe resultante da pesquisa em outro objeto\n",
        "maiores = dados.query('rdpc_formal > 1000')"
      ],
      "execution_count": null,
      "outputs": []
    },
    {
      "cell_type": "code",
      "metadata": {
        "id": "b9uUoXcsRSN6"
      },
      "source": [
        "maiores.head()"
      ],
      "execution_count": null,
      "outputs": []
    },
    {
      "cell_type": "markdown",
      "metadata": {
        "id": "KvhIA_iLWFeL"
      },
      "source": [
        "# Uso de estruturas de programação"
      ]
    },
    {
      "cell_type": "markdown",
      "metadata": {
        "id": "gHGWdeodqedY"
      },
      "source": [
        "Como responder à mesma pergunta usando as estruturas de programação vistas?\n",
        "\n",
        "Quais os municípios de MG possuem renda (dos formalizados) maior do que R$1000,00?"
      ]
    },
    {
      "cell_type": "code",
      "metadata": {
        "id": "DfS4nAb05SVJ"
      },
      "source": [
        "for i in range(len(dados)):\n",
        "  if dados['rdpc_formal'][i] > 1000:\n",
        "    print(dados['nome_mun'][i], dados['nome_meso'][i], dados['rdpc_formal'][i], dados['popul'][i])"
      ],
      "execution_count": null,
      "outputs": []
    },
    {
      "cell_type": "code",
      "metadata": {
        "id": "xew_BqE_qedd"
      },
      "source": [
        "# outra forma de especificar as variáveis\n",
        "for i in range(len(dados)):\n",
        "  if dados.rdpc_formal[i] > 1000:\n",
        "    print(dados.nome_mun[i], dados.nome_meso[i], dados.rdpc_formal[i], dados.popul[i])"
      ],
      "execution_count": null,
      "outputs": []
    },
    {
      "cell_type": "markdown",
      "metadata": {
        "id": "O89Yl7Iiqedo"
      },
      "source": [
        "Note que bastaria trocar a variável (escolher outra no lugar de *rdpc_formal*) e o valor de referência (1000) para fazer outra consulta."
      ]
    },
    {
      "cell_type": "code",
      "metadata": {
        "id": "gUjNM6goqedp"
      },
      "source": [
        "# usando a mesma estrutura acima para responder quais os municípios de MG \n",
        "# possuem mais do que três bibliotecas\n",
        "# mostrar o nome do município e o valor de n_bib\n",
        "for i in range(len(dados)):\n",
        "  if dados['n_bib'][i] > 3:\n",
        "    print(dados['nome_mun'][i], dados['nome_meso'][i], dados['n_bib'][i])"
      ],
      "execution_count": null,
      "outputs": []
    },
    {
      "cell_type": "markdown",
      "metadata": {
        "id": "SWiE8_whqedv"
      },
      "source": [
        "Se fôssemos usar uma função pronta do pacote *pandas*, bastaria fazer o seguinte (porém ele retornaria um *dataframe* inteiro com as linhas selecionadas (n_bib > 3)): "
      ]
    },
    {
      "cell_type": "code",
      "metadata": {
        "id": "eoTNk-Gpqedx"
      },
      "source": [
        "# função pronta do pandas\n",
        "dados[dados['n_bib'] > 3]"
      ],
      "execution_count": null,
      "outputs": []
    },
    {
      "cell_type": "code",
      "metadata": {
        "id": "TMnIqEDbqed7"
      },
      "source": [
        "# interação com o usuário\n",
        "valor = float(input('Acima de qual valor de renda você deseja visualizar os municípios de MG? '))\n",
        "for i in range(len(dados)):\n",
        "  if dados['rdpc_formal'][i] > valor:\n",
        "    print(dados['nome_mun'][i], dados['nome_meso'][i], dados['rdpc_formal'][i], dados['popul'][i])"
      ],
      "execution_count": null,
      "outputs": []
    },
    {
      "cell_type": "code",
      "metadata": {
        "id": "m0boetvvee0X"
      },
      "source": [
        "# interação com o usuário\n",
        "variavel = input('Qual variável você quer saber valores acima de 1000? ')\n",
        "for i in range(len(dados)):\n",
        "  if dados[variavel][i] > 1000:\n",
        "    print(dados['nome_mun'][i], dados['nome_meso'][i], dados[variavel][i], dados['popul'][i])"
      ],
      "execution_count": null,
      "outputs": []
    },
    {
      "cell_type": "markdown",
      "metadata": {
        "id": "Y5o5zrkGOZ9A"
      },
      "source": [
        "# Medidas resumo"
      ]
    },
    {
      "cell_type": "markdown",
      "metadata": {
        "id": "-Yvm-BILqeeD"
      },
      "source": [
        "A função *describe* fornece um resumo estatístico da variável, o que pode ajudar em alguns cálculos:"
      ]
    },
    {
      "cell_type": "code",
      "metadata": {
        "id": "EmUMO4pjqeeE"
      },
      "source": [
        "# função pronta do pandas\n",
        "# como é a variável tx_mort_homicidio, por exemplo? Seu resumo estatístico é dado por:\n",
        "dados.tx_mort_homicidio.describe()"
      ],
      "execution_count": null,
      "outputs": []
    },
    {
      "cell_type": "code",
      "metadata": {
        "id": "Pfpw2OzeqeeO"
      },
      "source": [
        "# mais interações com o usuário\n",
        "print('Insira a variável e qual o valor a partir do qual deseja ver os municípios que atendem ao critério:')\n",
        "var = input('variável: ')\n",
        "valor = float(input('valor: '))\n",
        "\n",
        "# como seria o código para retornar os municípios que têm valores acima do escolhido?\n",
        "for i in range(len(dados)):\n",
        "    if dados[var][i] > valor:\n",
        "        print(dados.nome_mun[i], dados[var][i])\n"
      ],
      "execution_count": null,
      "outputs": []
    },
    {
      "cell_type": "code",
      "metadata": {
        "id": "ia7riSIsqeeX"
      },
      "source": [
        "# como seria o código para somar os valores de uma variável?\n",
        "soma = 0\n",
        "for j in range(len(dados)):\n",
        "  soma = soma + dados['popul'][j]\n",
        "print('População total de MG:', soma)"
      ],
      "execution_count": null,
      "outputs": []
    },
    {
      "cell_type": "code",
      "metadata": {
        "id": "gqF05QfWqeeh"
      },
      "source": [
        "# função pronta do pandas para somar os valores de uma variável (coluna)\n",
        "dados['popul'].sum()"
      ],
      "execution_count": null,
      "outputs": []
    },
    {
      "cell_type": "code",
      "metadata": {
        "id": "K1QrdEttqees"
      },
      "source": [
        "# maior valor de uma variável\n",
        "# maior valor de popul\n",
        "maior = 0\n",
        "y = 0\n",
        "while y < len(dados):\n",
        "  if dados['popul'][y] > maior:\n",
        "    maior = dados['popul'][y]\n",
        "    pos = y\n",
        "  y = y + 1\n",
        "print(dados.nome_mun[pos], maior)\n"
      ],
      "execution_count": null,
      "outputs": []
    },
    {
      "cell_type": "code",
      "metadata": {
        "scrolled": false,
        "id": "3NjjCjR5qee0"
      },
      "source": [
        "# usando função pronta do pandas\n",
        "# que retorna os maiores valores de uma variável\n",
        "dados.sort_values(by='tx_mort_homicidio', ascending=False).loc[:,['nome_mun', 'nome_meso', 'popul', 'tx_mort_homicidio']]"
      ],
      "execution_count": null,
      "outputs": []
    },
    {
      "cell_type": "code",
      "metadata": {
        "id": "0dl93Af7qefC"
      },
      "source": [
        "# função pronta do pandas\n",
        "# só mostrando os 5 primeiros\n",
        "(dados.sort_values(by='popul', ascending=False)\n",
        "       .loc[:,['nome_mun', 'nome_meso', 'popul']]  # variáveis que quero mostrar\n",
        "       .head(5))"
      ],
      "execution_count": null,
      "outputs": []
    },
    {
      "cell_type": "code",
      "metadata": {
        "id": "fwhYBuJVqefG"
      },
      "source": [
        "# uso de while\n",
        "# ir retornando um resultado enquanto uma condição for verdadeira\n",
        "var = input('Escolha uma variável: ')\n",
        "entrada = input('Tecle \"c\" para continuar e \"p\" para parar: ')\n",
        "i = 0\n",
        "while entrada == 'c':\n",
        "    print(dados.nome_mun[i], dados[var][i])\n",
        "    i = i + 1\n",
        "    entrada = input('Tecle \"c\" para continuar e \"p\" para parar: ')"
      ],
      "execution_count": null,
      "outputs": []
    },
    {
      "cell_type": "markdown",
      "metadata": {
        "id": "DvKg8ACrqefK"
      },
      "source": [
        "## Selecionar municípios de MG (por mesorregião ou microrregião)"
      ]
    },
    {
      "cell_type": "code",
      "metadata": {
        "id": "-nDT9Y5qqefL"
      },
      "source": [
        "# para saber como estão os nomes das mesorregiões\n",
        "dados.nome_meso.unique()"
      ],
      "execution_count": null,
      "outputs": []
    },
    {
      "cell_type": "code",
      "metadata": {
        "id": "cqbWKCGDqefR"
      },
      "source": [
        "# criar um objeto sul com os municípios apenas do Sul/Sudoeste de MG\n",
        "sul = dados.query(\"nome_meso == 'Sul/Sudoeste de Minas'\")"
      ],
      "execution_count": null,
      "outputs": []
    },
    {
      "cell_type": "code",
      "metadata": {
        "id": "3aVDHgetqefc"
      },
      "source": [
        "sul.shape"
      ],
      "execution_count": null,
      "outputs": []
    },
    {
      "cell_type": "code",
      "metadata": {
        "id": "EEhKTZT_qefl"
      },
      "source": [
        "# notar que os índices começam em 11\n",
        "sul.head()"
      ],
      "execution_count": null,
      "outputs": []
    },
    {
      "cell_type": "code",
      "metadata": {
        "id": "g3kEl5mpqefu"
      },
      "source": [
        "# fazer com que os índices comecem em 0\n",
        "sul.index = range(len(sul))\n",
        "sul.head()"
      ],
      "execution_count": null,
      "outputs": []
    },
    {
      "cell_type": "markdown",
      "metadata": {
        "id": "oK7YMk2-qefz"
      },
      "source": [
        "sul é um novo *dataframe* que podemos usar da mesma forma que usamos o dados:"
      ]
    },
    {
      "cell_type": "code",
      "metadata": {
        "id": "VzqeqU9Dqef0"
      },
      "source": [
        "# percorrer cada linha do dataframe e verificar se o valor da variável rdpc_formal\n",
        "# é maior do que 1000. Se for, mostrar o nome do município e o valor de rdpc_formal\n",
        "for i in range(len(sul)):\n",
        "    if sul.rdpc_formal[i] > 1000:\n",
        "        print(sul.nome_mun[i], sul.rdpc_formal[i])"
      ],
      "execution_count": null,
      "outputs": []
    },
    {
      "cell_type": "code",
      "metadata": {
        "id": "yrfgKa0uqef5"
      },
      "source": [
        "# outro jeito para fazer com que os índices comecem em 0\n",
        "# sul1 = dados.query(\"nome_meso == 'Sul/Sudoeste de Minas'\").reset_index().drop('index', axis=1)\n",
        "# sul1.head()"
      ],
      "execution_count": null,
      "outputs": []
    },
    {
      "cell_type": "markdown",
      "metadata": {
        "id": "p45FhmvOqegC"
      },
      "source": [
        "## Usuário escolhe mesorregião"
      ]
    },
    {
      "cell_type": "code",
      "metadata": {
        "id": "H1C7S71cqegD"
      },
      "source": [
        "nome = input('Escolha uma mesorregião: ')\n",
        "m = dados.query(\"nome_meso == @nome\")"
      ],
      "execution_count": null,
      "outputs": []
    },
    {
      "cell_type": "code",
      "metadata": {
        "id": "aO_tZPN3qegH"
      },
      "source": [
        "# fazer com que os índices comecem em 0\n",
        "m.index = range(len(m))"
      ],
      "execution_count": null,
      "outputs": []
    },
    {
      "cell_type": "code",
      "metadata": {
        "id": "Adm1HvEDRkoY"
      },
      "source": [
        "# primeiras linhas do dataframe\n",
        "m.head()"
      ],
      "execution_count": null,
      "outputs": []
    },
    {
      "cell_type": "code",
      "metadata": {
        "id": "zBsOeqn_qegK"
      },
      "source": [
        "# rendas maiores que um valor para a mesorregião\n",
        "for i in range(len(m)):\n",
        "    if m.rdpc_formal[i] > 300:\n",
        "        print(m.nome_mun[i], m.rdpc_formal[i])"
      ],
      "execution_count": null,
      "outputs": []
    },
    {
      "cell_type": "markdown",
      "metadata": {
        "id": "V0KLQEHTqegS"
      },
      "source": [
        "## Possibilidades:\n",
        "- usar menus para interagir com o usuário\n",
        "- calcular medidas estatísticas (média, desvio padrão, correlação etc.)\n",
        "- calcular porcentagens"
      ]
    },
    {
      "cell_type": "markdown",
      "metadata": {
        "id": "WzfdKaTqbh-C"
      },
      "source": [
        "# Parte 2 - inclusão de funções e listas"
      ]
    },
    {
      "cell_type": "markdown",
      "metadata": {
        "id": "sr7RBqPXxvSx"
      },
      "source": [
        "Uso de listas: responder à pergunta 'Quais os municípios de MG produziram mais de 20.000 toneladas de café em 2017?' Incluir numa lista de listas os municípios que atendem ao critério (nome e produção de café)."
      ]
    },
    {
      "cell_type": "code",
      "metadata": {
        "id": "9ywHWoiIbirP"
      },
      "source": [
        "# quais os municípios de MG produziram mais de 20.000 toneladas de café em 2017?\n",
        "# para os que produziram, colocar o nome do município e a produção numa lista\n",
        "# retornar a lista\n",
        "lista_cafe = []     # criar lista vazia\n",
        "for i in range(len(dados)):\n",
        "    if dados['cafe_q'][i] > 20000:\n",
        "        lista_cafe.append([dados['nome_mun'][i], dados['cafe_q'][i]])\n",
        "        \n",
        "# mostrar a lista\n",
        "lista_cafe"
      ],
      "execution_count": null,
      "outputs": []
    },
    {
      "cell_type": "code",
      "metadata": {
        "id": "kqDnvCysbhcm"
      },
      "source": [
        "# elemento da posição 0 da lista\n",
        "lista_cafe[0]"
      ],
      "execution_count": null,
      "outputs": []
    },
    {
      "cell_type": "code",
      "metadata": {
        "id": "XhVoF9DObwZv"
      },
      "source": [
        "# elemento da posição 0 é uma lista, quero a posição 0 dessa sublista,\n",
        "# ou seja, o nome do município\n",
        "lista_cafe[0][0]"
      ],
      "execution_count": null,
      "outputs": []
    },
    {
      "cell_type": "code",
      "metadata": {
        "id": "n_boGhekJ4ej"
      },
      "source": [
        "# se quiser o valor da produção desse município\n",
        "lista_cafe[0][1]"
      ],
      "execution_count": null,
      "outputs": []
    },
    {
      "cell_type": "markdown",
      "metadata": {
        "id": "GdWMmMXzb1j9"
      },
      "source": [
        "Exemplo de uso de funções:"
      ]
    },
    {
      "cell_type": "code",
      "metadata": {
        "id": "7XKRJWYhbwVh"
      },
      "source": [
        "# transformando em função que recebe como parâmetros o dataframe df\n",
        "# (esse dataframe pode ser 'dados' ou os dados de uma mesorregião, por ex.)\n",
        "# e um valor\n",
        "# e retorna na tela o nome do município e a produção de café\n",
        "# dos municípios de MG que têm produção > valor\n",
        "def acima_cafe(df, valor):\n",
        "    for j in range(len(df)):\n",
        "        if df['cafe_q'][j] > valor:\n",
        "            print(df['nome_mun'][j], df['cafe_q'][j])"
      ],
      "execution_count": null,
      "outputs": []
    },
    {
      "cell_type": "code",
      "metadata": {
        "id": "bcpu1A_a5y4Y"
      },
      "source": [
        "# uso da função 'acima_cafe'\n",
        "# no dataframe 'dados' retornar quais municípios têm\n",
        "# produção maior do que o valor especificado\n",
        "acima_cafe(dados, 30000)"
      ],
      "execution_count": null,
      "outputs": []
    },
    {
      "cell_type": "markdown",
      "metadata": {
        "id": "xb5zFqoycB1H"
      },
      "source": [
        "Exemplo de interação com o usuário: ele define o valor da produção de café a partir do qual ele deseja saber os municípios que apresentam esse valor."
      ]
    },
    {
      "cell_type": "code",
      "metadata": {
        "id": "Ys8wlfgjbv64"
      },
      "source": [
        "# interação com o usuário\n",
        "v = float(input('Acima de qual valor de produção de café (em toneladas) você deseja visualizar os municípios de MG? '))\n",
        "\n",
        "# uso da função\n",
        "acima_cafe(dados, v)"
      ],
      "execution_count": null,
      "outputs": []
    },
    {
      "cell_type": "code",
      "metadata": {
        "id": "MWEDQITXbvw0"
      },
      "source": [
        "# outra variação da mesma função: uma lista é criada com as informações\n",
        "def acima_cafe_lista(df, valor):\n",
        "    lista = []\n",
        "    for j in range(len(df)):\n",
        "        if df['cafe_q'][j] > valor:\n",
        "            lista.append([df['nome_mun'][j], df['cafe_q'][j]])\n",
        "    return lista"
      ],
      "execution_count": null,
      "outputs": []
    },
    {
      "cell_type": "code",
      "metadata": {
        "id": "Y_zcpTGL6P7N"
      },
      "source": [
        "# uso da função 'acima_cafe_lista' com 'dados'\n",
        "cafe1 = acima_cafe_lista(dados, 30000)"
      ],
      "execution_count": null,
      "outputs": []
    },
    {
      "cell_type": "code",
      "metadata": {
        "id": "oCJpjJ8cLGic"
      },
      "source": [
        "cafe1"
      ],
      "execution_count": null,
      "outputs": []
    },
    {
      "cell_type": "code",
      "metadata": {
        "id": "rOo1kbOILYBA"
      },
      "source": [
        "dados.nome_meso.unique()"
      ],
      "execution_count": null,
      "outputs": []
    },
    {
      "cell_type": "code",
      "metadata": {
        "id": "7E55WxvV0pST"
      },
      "source": [
        "# mesorregião escolhida pelo usuário\n",
        "print(dados.nome_meso.unique())\n",
        "m = input('Municípios de qual mesorregiao você deseja? ')\n",
        "meso = dados.query('nome_meso == @m')\n",
        "meso = meso.reset_index()\n",
        "# visualizar o dataframe 'meso' criado\n",
        "meso"
      ],
      "execution_count": null,
      "outputs": []
    },
    {
      "cell_type": "code",
      "metadata": {
        "id": "oZBdwid7MRRF"
      },
      "source": [
        "meso.head()"
      ],
      "execution_count": null,
      "outputs": []
    },
    {
      "cell_type": "code",
      "metadata": {
        "id": "v4I5KJ12MUbI"
      },
      "source": [
        "meso.shape"
      ],
      "execution_count": null,
      "outputs": []
    },
    {
      "cell_type": "code",
      "metadata": {
        "id": "GfZFJjOy1XsO"
      },
      "source": [
        "# visualizar os municípios que produzem mais de um valor de \n",
        "# café na mesorregião escolhida\n",
        "acima_cafe_lista(meso, 10000)"
      ],
      "execution_count": null,
      "outputs": []
    },
    {
      "cell_type": "code",
      "metadata": {
        "id": "dj8rpdwPcTt_"
      },
      "source": [
        "# função mais geral - as informações passadas como parâmetros são:\n",
        "# - dataframe\n",
        "# - variável\n",
        "# - valor de referência\n",
        "# a função retorna o nome do município e o valor da variável para\n",
        "# os municípios que têm valores maiores do que o que foi passado\n",
        "# como parâmetro\n",
        "def municipios_acima(df, var, valor):\n",
        "    lista = []\n",
        "    for i in range(len(df)):\n",
        "        if df[var][i] > valor:\n",
        "            lista.append([df.nome_mun[i], df.nome_meso[i], df[var][i]])\n",
        "    return lista"
      ],
      "execution_count": null,
      "outputs": []
    },
    {
      "cell_type": "code",
      "metadata": {
        "id": "vuyWsFkt6cY-"
      },
      "source": [
        "# uso da função 'municipios_acima'\n",
        "# escolhi a variável 'cana'\n",
        "# e valores acima de 2.000.000 de toneladas\n",
        "municipios_acima(meso, 'cana_q', 2000)"
      ],
      "execution_count": null,
      "outputs": []
    },
    {
      "cell_type": "markdown",
      "metadata": {
        "id": "-UO3Z3PDcep0"
      },
      "source": [
        "Interação com o usuário na função *municípios_acima*:"
      ]
    },
    {
      "cell_type": "code",
      "metadata": {
        "id": "is9E1bakN096"
      },
      "source": [
        "dados.columns"
      ],
      "execution_count": null,
      "outputs": []
    },
    {
      "cell_type": "code",
      "metadata": {
        "id": "Z-Tp20MpOKcp"
      },
      "source": [
        "dados.ovos.describe()"
      ],
      "execution_count": null,
      "outputs": []
    },
    {
      "cell_type": "code",
      "metadata": {
        "id": "eS28vE0mcaOa"
      },
      "source": [
        "print('Insira a variável e qual o valor a partir do qual deseja ver os municípios que atendem ao critério:')\n",
        "var = input('variável: ')\n",
        "valor = float(input('valor: '))\n",
        "\n",
        "l_ovos = municipios_acima(dados, var, valor)"
      ],
      "execution_count": null,
      "outputs": []
    },
    {
      "cell_type": "code",
      "metadata": {
        "id": "aaSTMfCsPJ9s"
      },
      "source": [
        "len(l_ovos)"
      ],
      "execution_count": null,
      "outputs": []
    },
    {
      "cell_type": "code",
      "metadata": {
        "id": "b0xyxl4H2XMW"
      },
      "source": [
        "# municipios acima considerando uma mesorregião escolhida\n",
        "municipios_acima(meso, var, valor)"
      ],
      "execution_count": null,
      "outputs": []
    },
    {
      "cell_type": "markdown",
      "metadata": {
        "id": "8RE3ZBE4coiK"
      },
      "source": [
        "Agora uma função mais simples: calcular a soma de valores dos municípios em relação a uma variável:"
      ]
    },
    {
      "cell_type": "code",
      "metadata": {
        "id": "smepLUykcTly"
      },
      "source": [
        "# função para calcular a soma dos valores de uma variável \n",
        "# para o dataframe\n",
        "def soma(df, var):\n",
        "    soma = 0\n",
        "    for i in range(len(df)):\n",
        "        soma = soma + df[var][i]\n",
        "    return soma"
      ],
      "execution_count": null,
      "outputs": []
    },
    {
      "cell_type": "code",
      "metadata": {
        "id": "DpbYjvlE6ohy"
      },
      "source": [
        "# uso da função soma\n",
        "soma(meso, 'popul')"
      ],
      "execution_count": null,
      "outputs": []
    },
    {
      "cell_type": "code",
      "metadata": {
        "id": "9jTk4hOxcTdf"
      },
      "source": [
        "# função pronta do pandas para conferir o resultado acima\n",
        "meso.popul.sum()"
      ],
      "execution_count": null,
      "outputs": []
    },
    {
      "cell_type": "code",
      "metadata": {
        "id": "xUEAg8DucTS6"
      },
      "source": [
        "# função para retornar o município com maior valor de uma variável\n",
        "# para iniciar, o candidato a maior é o primeiro município\n",
        "def maior(df, var):\n",
        "    # a lista 'maior' tem nome na pos. 0 e o valor da variável \n",
        "    # do 1. município na pos. 1\n",
        "    maior = [df.mun[0], df.nome_meso[0], df[var][0]] \n",
        "    for i in range(len(df)):   # percorrer o dataframe em busca do maior valor\n",
        "        if df[var][i] > maior[2]: # comparar o valor da variável na posição i\n",
        "                                  # com o valor da variável na lista 'maior'\n",
        "            maior = [df.nome_mun[i], df.nome_meso[i], df[var][i]] # subtitui pelo novo maior encontrado\n",
        "    return maior"
      ],
      "execution_count": null,
      "outputs": []
    },
    {
      "cell_type": "code",
      "metadata": {
        "id": "xKt9fQch6wzE"
      },
      "source": [
        "# uso da função maior\n",
        "maior(dados, 'tx_mort_homicidio')"
      ],
      "execution_count": null,
      "outputs": []
    },
    {
      "cell_type": "code",
      "metadata": {
        "id": "saPJ2TA8cTFM"
      },
      "source": [
        "# função pronta do pandas\n",
        "# só mostrando os 5 primeiros\n",
        "# ascending = True: ordem crescente\n",
        "# ascending = False: ordem decrescente\n",
        "(dados\n",
        " .sort_values(by='tx_mort_homicidio', ascending=False)\n",
        " .loc[:,['nome_mun', 'nome_meso', 'tx_mort_homicidio']]\n",
        " .iloc[:5,:])"
      ],
      "execution_count": null,
      "outputs": []
    },
    {
      "cell_type": "markdown",
      "metadata": {
        "id": "JAIWVMec34Zm"
      },
      "source": [
        "# Parte gráfica"
      ]
    },
    {
      "cell_type": "markdown",
      "metadata": {
        "id": "LF676A0336P9"
      },
      "source": [
        "Alguns exemplos de gráficos que podem ser gerados se encontram abaixo."
      ]
    },
    {
      "cell_type": "code",
      "metadata": {
        "id": "6Xa-mfo43-os"
      },
      "source": [
        "# pacotes necessários para os gráficos\n",
        "% matplotlib inline\n",
        "import matplotlib.pyplot as plt\n",
        "import seaborn as sns\n",
        "sns.set(style='whitegrid')"
      ],
      "execution_count": null,
      "outputs": []
    },
    {
      "cell_type": "code",
      "metadata": {
        "id": "L1rit9qb3yJp"
      },
      "source": [
        "# histograma\n",
        "dados['cafe_q'].plot.hist();"
      ],
      "execution_count": null,
      "outputs": []
    },
    {
      "cell_type": "code",
      "metadata": {
        "id": "de509PyQSIgP"
      },
      "source": [
        "dados.cafe_q.describe()"
      ],
      "execution_count": null,
      "outputs": []
    },
    {
      "cell_type": "code",
      "metadata": {
        "id": "0Higu6lw3vtj"
      },
      "source": [
        "# boxplot\n",
        "sns.boxplot('popul', data=meso, orient='v')\n",
        "plt.xlabel('população');"
      ],
      "execution_count": null,
      "outputs": []
    },
    {
      "cell_type": "code",
      "metadata": {
        "id": "pVsf0t6ybvRe"
      },
      "source": [
        "# diagrama de dispersão\n",
        "dados.plot.scatter('milho_q', 'banana_q', c='pink')\n",
        "plt.xlabel('milho')\n",
        "plt.ylabel('banana');"
      ],
      "execution_count": null,
      "outputs": []
    },
    {
      "cell_type": "code",
      "metadata": {
        "id": "AC2vvjjHLcqc"
      },
      "source": [
        "# calcular correlação entre duas variáveis\n",
        "dados['milho_q'].corr(dados['soja_q'])"
      ],
      "execution_count": null,
      "outputs": []
    },
    {
      "cell_type": "code",
      "metadata": {
        "id": "hNlPM6wA5MGk"
      },
      "source": [
        "# calcular correlação entre várias variáveis (duas a duas)\n",
        "lista = ['milho_q', 'soja_q', 'banana_q', 'cana_q']\n",
        "dados.loc[:, lista].corr()"
      ],
      "execution_count": null,
      "outputs": []
    }
  ]
}