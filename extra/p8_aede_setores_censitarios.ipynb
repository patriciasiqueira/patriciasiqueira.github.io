{
 "cells": [
  {
   "cell_type": "code",
   "execution_count": null,
   "metadata": {
    "collapsed": true
   },
   "outputs": [],
   "source": [
    "%matplotlib inline\n",
    "import pandas as pd\n",
    "import nupis\n",
    "import numpy as np\n",
    "import seaborn as sns\n",
    "import matplotlib.pyplot as plt\n",
    "import matplotlib as mpl\n",
    "import geopandas as gp\n",
    "import pysal as ps\n",
    "import pysal.contrib.viz.mapping as maps\n",
    "import palettable\n",
    "\n",
    "pd.options.mode.chained_assignment = None\n",
    "\n",
    "sns.set(style='whitegrid', palette='bright', context='notebook')"
   ]
  },
  {
   "cell_type": "markdown",
   "metadata": {},
   "source": [
    "### Setores censitários"
   ]
  },
  {
   "cell_type": "markdown",
   "metadata": {},
   "source": [
    "Para baixar as malhas dos outros estados do Brasil ir em:\n",
    "\n",
    "ftp://geoftp.ibge.gov.br/organizacao_do_territorio/malhas_territoriais/malhas_de_setores_censitarios__divisoes_intramunicipais/censo_2010/setores_censitarios_shp/\n",
    "\n",
    "Para baixar o arquivo com as variáveis por setores censitários em MG:\n",
    "\n",
    "ftp://ftp.ibge.gov.br/Censos/Censo_Demografico_2010/Resultados_do_Universo/Agregados_por_Setores_Censitarios/\n",
    "\n",
    "Dicas em: http://www.analisededadosempython.org/espacial"
   ]
  },
  {
   "cell_type": "code",
   "execution_count": null,
   "metadata": {
    "collapsed": true
   },
   "outputs": [],
   "source": [
    "# estado de Minas Gerais dividido em setores censitários\n",
    "setores = gp.read_file('31SEE250GC_SIR.shp') "
   ]
  },
  {
   "cell_type": "code",
   "execution_count": null,
   "metadata": {},
   "outputs": [],
   "source": [
    "# a partir do shapefile de setores de MG, selecionar o município de Varginha e apenas os setores urbanos\n",
    "vga = setores.query('NM_MUNICIP == \"VARGINHA\"')\n",
    "mapa_vga = vga.query('TIPO == \"URBANO\"')\n",
    "mapa_vga.plot(figsize=(9,9)).set_axis_off();"
   ]
  },
  {
   "cell_type": "markdown",
   "metadata": {},
   "source": [
    "### Agora vamos pegar variáveis sobre os setores censitários de MG e utilizar os de Varginha."
   ]
  },
  {
   "cell_type": "markdown",
   "metadata": {
    "collapsed": true
   },
   "source": [
    "O arquivo que usaremos será o 'basico_MG.csv'\n",
    "\n",
    "Obs.: peguei esse arquivo em: \n",
    "\n",
    "ftp://ftp.ibge.gov.br/Censos/Censo_Demografico_2010/Resultados_do_Universo/Agregados_por_Setores_Censitarios/).\n",
    "\n",
    "As variáveis desse arquivo estão codificadas, para saber o que significam, consultar o arquivo 'base_setores_censitarios_censo_2010.pdf'"
   ]
  },
  {
   "cell_type": "code",
   "execution_count": null,
   "metadata": {
    "collapsed": true
   },
   "outputs": [],
   "source": [
    "# carregar arquivo com dados sobre os setores censitários de MG\n",
    "mg = pd.read_csv('basico_MG.csv', encoding='latin1', sep=';', decimal=',')\n",
    "# salvar as informações de Varginha num dataframe\n",
    "vga_df = mg.query('Nome_do_municipio == \"VARGINHA\"')\n",
    "vga_df = vga_df.query('Situacao_setor == [1, 2, 3]')   # só setores urbanos\n",
    "# o objeto 'mapa_vga' contém as informações geográficas de todos os setores censitários de Varginha\n",
    "# vamos incluir as informações das variáveis presentes em 'vgn_df' neste dataframe\n",
    "# e chamá-lo de geodf \n",
    "# como usaremos a coluna de código do setor censitário como a variável para unir os dois conjuntos de\n",
    "# dados, o nome dessa coluna deve ser o mesmo nos dois (chamarei de 'Cod_setor')\n",
    "df = vga_df\n",
    "geodf = mapa_vga\n",
    "# geodf.geometry = geodf.geometry.simplify(0.001)\n",
    "geodf.rename(columns={'CD_GEOCODI': 'CD_setor'}, inplace=True)\n",
    "# os códigos não estão sendo lidos como inteiros, transformá-los em inteiros\n",
    "geodf.CD_setor = geodf.CD_setor.astype('int64')\n",
    "# para que os dois dataframes tenham a coluna de códigos com o mesmo nome,\n",
    "# alterar para CD_setor\n",
    "df.rename(columns={'Cod_setor': 'CD_setor'}, inplace=True)"
   ]
  },
  {
   "cell_type": "code",
   "execution_count": null,
   "metadata": {},
   "outputs": [],
   "source": [
    "# unir o dataframe de informações geográficas com o outro dataframe com as variáveis\n",
    "# Obs.: 'suffixes' é para o caso de haver variáveis de mesmo nome, incluir alguma coisa no final do nome\n",
    "# em cada dataframe\n",
    "varginha = pd.merge(geodf, df, on='CD_setor')\n",
    "varginha"
   ]
  },
  {
   "cell_type": "code",
   "execution_count": null,
   "metadata": {},
   "outputs": [],
   "source": [
    "varginha.columns"
   ]
  },
  {
   "cell_type": "markdown",
   "metadata": {
    "collapsed": true
   },
   "source": [
    "### Tarefa: escolher uma das variáveis (V001, $\\dots$, V012) e realizar a AEDE (análise exploratória de dados espaciais)"
   ]
  },
  {
   "cell_type": "markdown",
   "metadata": {
    "collapsed": true
   },
   "source": [
    "- plotar mapa temático com intervalos iguais  \n",
    "- plotar mapa temático com intervalos baseados em quantis (melhorar a posição da legenda se necessário)  \n",
    "- obter boxplot da variável  \n",
    "- obter $I$ de Moran para a variável e avaliar significância  \n",
    "- obter diagrama de dispersão de Moran para a variável (com nomes nos eixos)  \n",
    "- obter mapa LISA\n",
    "- plotar os bairros correspondentes a *clusters* ou *outliers*"
   ]
  },
  {
   "cell_type": "markdown",
   "metadata": {},
   "source": [
    "V007: valor do rendimento nominal médio mensal das pessoas responsáveis por domicílios particulares permanentes (com\n",
    "rendimento)"
   ]
  },
  {
   "cell_type": "code",
   "execution_count": null,
   "metadata": {
    "collapsed": true
   },
   "outputs": [],
   "source": [
    "v = 'V007'"
   ]
  },
  {
   "cell_type": "code",
   "execution_count": null,
   "metadata": {},
   "outputs": [],
   "source": [
    "# obter a matriz w de pesos espaciais\n",
    "# lembrar de salvar um shapefile (.shp) apenas com as informações dos setores de Varginha (objeto mapa_vga)\n",
    "# como fizemos na aula p4\n",
    "mapa_vga.to_file('vga_setores.shp')    # salvar o shapefile dos setores\n",
    "w = ps.queen_from_shapefile('vga_setores.shp') # calcular a matriz de vizinhança"
   ]
  },
  {
   "cell_type": "code",
   "execution_count": null,
   "metadata": {
    "collapsed": true
   },
   "outputs": [],
   "source": []
  },
  {
   "cell_type": "code",
   "execution_count": null,
   "metadata": {
    "collapsed": true
   },
   "outputs": [],
   "source": []
  },
  {
   "cell_type": "code",
   "execution_count": null,
   "metadata": {
    "collapsed": true
   },
   "outputs": [],
   "source": []
  },
  {
   "cell_type": "code",
   "execution_count": null,
   "metadata": {
    "collapsed": true
   },
   "outputs": [],
   "source": []
  },
  {
   "cell_type": "code",
   "execution_count": null,
   "metadata": {
    "collapsed": true
   },
   "outputs": [],
   "source": []
  }
 ],
 "metadata": {
  "anaconda-cloud": {},
  "kernelspec": {
   "display_name": "Python 3",
   "language": "python",
   "name": "python3"
  },
  "language_info": {
   "codemirror_mode": {
    "name": "ipython",
    "version": 3
   },
   "file_extension": ".py",
   "mimetype": "text/x-python",
   "name": "python",
   "nbconvert_exporter": "python",
   "pygments_lexer": "ipython3",
   "version": "3.6.2"
  }
 },
 "nbformat": 4,
 "nbformat_minor": 1
}
