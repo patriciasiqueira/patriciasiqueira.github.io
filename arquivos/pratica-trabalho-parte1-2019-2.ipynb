{
  "nbformat": 4,
  "nbformat_minor": 0,
  "metadata": {
    "colab": {
      "name": "pratica-trabalho-parte1-2019-2.ipynb",
      "provenance": [],
      "collapsed_sections": [
        "DvKg8ACrqefK",
        "p45FhmvOqegC",
        "V0KLQEHTqegS",
        "o-WQQWOAqegU"
      ]
    },
    "kernelspec": {
      "name": "python3",
      "display_name": "Python 3"
    }
  },
  "cells": [
    {
      "cell_type": "markdown",
      "metadata": {
        "id": "CQXzWv9qqecJ",
        "colab_type": "text"
      },
      "source": [
        "# Trabalho de Fundamentos da Programação (2019-2)"
      ]
    },
    {
      "cell_type": "markdown",
      "metadata": {
        "id": "JBAJGZd3u8ls",
        "colab_type": "text"
      },
      "source": [
        "Nome:  "
      ]
    },
    {
      "cell_type": "code",
      "metadata": {
        "id": "6efibV6-qecO",
        "colab_type": "code",
        "colab": {
          "base_uri": "https://localhost:8080/",
          "height": 360
        },
        "outputId": "d60c78fc-d590-4c56-d3f9-295b7a95e75c"
      },
      "source": [
        "# sempre executar essa célula\n",
        "# importar o pacote pandas - útil para dataframes, séries, dados em painel\n",
        "import pandas as pd\n",
        "# ler dados\n",
        "dados = pd.read_csv('https://raw.githubusercontent.com/patriciasiqueira/patriciasiqueira.github.io/master/arquivos/imrs-pam.csv', encoding='latin1')"
      ],
      "execution_count": 2,
      "outputs": [
        {
          "output_type": "error",
          "ename": "HTTPError",
          "evalue": "ignored",
          "traceback": [
            "\u001b[0;31m---------------------------------------------------------------------------\u001b[0m",
            "\u001b[0;31mHTTPError\u001b[0m                                 Traceback (most recent call last)",
            "\u001b[0;32m<ipython-input-2-e0fb796ca4bc>\u001b[0m in \u001b[0;36m<module>\u001b[0;34m()\u001b[0m\n\u001b[1;32m      1\u001b[0m \u001b[0;32mimport\u001b[0m \u001b[0mpandas\u001b[0m \u001b[0;32mas\u001b[0m \u001b[0mpd\u001b[0m\u001b[0;34m\u001b[0m\u001b[0;34m\u001b[0m\u001b[0m\n\u001b[1;32m      2\u001b[0m \u001b[0;31m# ler dados\u001b[0m\u001b[0;34m\u001b[0m\u001b[0;34m\u001b[0m\u001b[0;34m\u001b[0m\u001b[0m\n\u001b[0;32m----> 3\u001b[0;31m \u001b[0mdados\u001b[0m \u001b[0;34m=\u001b[0m \u001b[0mpd\u001b[0m\u001b[0;34m.\u001b[0m\u001b[0mread_csv\u001b[0m\u001b[0;34m(\u001b[0m\u001b[0;34m'https://raw.githubusercontent.com/patriciasiqueira/patriciasiqueira.github.io/master/arquivos/dados-pam.csv'\u001b[0m\u001b[0;34m,\u001b[0m \u001b[0mencoding\u001b[0m\u001b[0;34m=\u001b[0m\u001b[0;34m'latin1'\u001b[0m\u001b[0;34m)\u001b[0m\u001b[0;34m\u001b[0m\u001b[0;34m\u001b[0m\u001b[0m\n\u001b[0m",
            "\u001b[0;32m/usr/local/lib/python3.6/dist-packages/pandas/io/parsers.py\u001b[0m in \u001b[0;36mparser_f\u001b[0;34m(filepath_or_buffer, sep, delimiter, header, names, index_col, usecols, squeeze, prefix, mangle_dupe_cols, dtype, engine, converters, true_values, false_values, skipinitialspace, skiprows, skipfooter, nrows, na_values, keep_default_na, na_filter, verbose, skip_blank_lines, parse_dates, infer_datetime_format, keep_date_col, date_parser, dayfirst, iterator, chunksize, compression, thousands, decimal, lineterminator, quotechar, quoting, doublequote, escapechar, comment, encoding, dialect, tupleize_cols, error_bad_lines, warn_bad_lines, delim_whitespace, low_memory, memory_map, float_precision)\u001b[0m\n\u001b[1;32m    700\u001b[0m                     skip_blank_lines=skip_blank_lines)\n\u001b[1;32m    701\u001b[0m \u001b[0;34m\u001b[0m\u001b[0m\n\u001b[0;32m--> 702\u001b[0;31m         \u001b[0;32mreturn\u001b[0m \u001b[0m_read\u001b[0m\u001b[0;34m(\u001b[0m\u001b[0mfilepath_or_buffer\u001b[0m\u001b[0;34m,\u001b[0m \u001b[0mkwds\u001b[0m\u001b[0;34m)\u001b[0m\u001b[0;34m\u001b[0m\u001b[0;34m\u001b[0m\u001b[0m\n\u001b[0m\u001b[1;32m    703\u001b[0m \u001b[0;34m\u001b[0m\u001b[0m\n\u001b[1;32m    704\u001b[0m     \u001b[0mparser_f\u001b[0m\u001b[0;34m.\u001b[0m\u001b[0m__name__\u001b[0m \u001b[0;34m=\u001b[0m \u001b[0mname\u001b[0m\u001b[0;34m\u001b[0m\u001b[0;34m\u001b[0m\u001b[0m\n",
            "\u001b[0;32m/usr/local/lib/python3.6/dist-packages/pandas/io/parsers.py\u001b[0m in \u001b[0;36m_read\u001b[0;34m(filepath_or_buffer, kwds)\u001b[0m\n\u001b[1;32m    411\u001b[0m     \u001b[0mcompression\u001b[0m \u001b[0;34m=\u001b[0m \u001b[0m_infer_compression\u001b[0m\u001b[0;34m(\u001b[0m\u001b[0mfilepath_or_buffer\u001b[0m\u001b[0;34m,\u001b[0m \u001b[0mcompression\u001b[0m\u001b[0;34m)\u001b[0m\u001b[0;34m\u001b[0m\u001b[0;34m\u001b[0m\u001b[0m\n\u001b[1;32m    412\u001b[0m     filepath_or_buffer, _, compression, should_close = get_filepath_or_buffer(\n\u001b[0;32m--> 413\u001b[0;31m         filepath_or_buffer, encoding, compression)\n\u001b[0m\u001b[1;32m    414\u001b[0m     \u001b[0mkwds\u001b[0m\u001b[0;34m[\u001b[0m\u001b[0;34m'compression'\u001b[0m\u001b[0;34m]\u001b[0m \u001b[0;34m=\u001b[0m \u001b[0mcompression\u001b[0m\u001b[0;34m\u001b[0m\u001b[0;34m\u001b[0m\u001b[0m\n\u001b[1;32m    415\u001b[0m \u001b[0;34m\u001b[0m\u001b[0m\n",
            "\u001b[0;32m/usr/local/lib/python3.6/dist-packages/pandas/io/common.py\u001b[0m in \u001b[0;36mget_filepath_or_buffer\u001b[0;34m(filepath_or_buffer, encoding, compression, mode)\u001b[0m\n\u001b[1;32m    200\u001b[0m \u001b[0;34m\u001b[0m\u001b[0m\n\u001b[1;32m    201\u001b[0m     \u001b[0;32mif\u001b[0m \u001b[0m_is_url\u001b[0m\u001b[0;34m(\u001b[0m\u001b[0mfilepath_or_buffer\u001b[0m\u001b[0;34m)\u001b[0m\u001b[0;34m:\u001b[0m\u001b[0;34m\u001b[0m\u001b[0;34m\u001b[0m\u001b[0m\n\u001b[0;32m--> 202\u001b[0;31m         \u001b[0mreq\u001b[0m \u001b[0;34m=\u001b[0m \u001b[0m_urlopen\u001b[0m\u001b[0;34m(\u001b[0m\u001b[0mfilepath_or_buffer\u001b[0m\u001b[0;34m)\u001b[0m\u001b[0;34m\u001b[0m\u001b[0;34m\u001b[0m\u001b[0m\n\u001b[0m\u001b[1;32m    203\u001b[0m         \u001b[0mcontent_encoding\u001b[0m \u001b[0;34m=\u001b[0m \u001b[0mreq\u001b[0m\u001b[0;34m.\u001b[0m\u001b[0mheaders\u001b[0m\u001b[0;34m.\u001b[0m\u001b[0mget\u001b[0m\u001b[0;34m(\u001b[0m\u001b[0;34m'Content-Encoding'\u001b[0m\u001b[0;34m,\u001b[0m \u001b[0;32mNone\u001b[0m\u001b[0;34m)\u001b[0m\u001b[0;34m\u001b[0m\u001b[0;34m\u001b[0m\u001b[0m\n\u001b[1;32m    204\u001b[0m         \u001b[0;32mif\u001b[0m \u001b[0mcontent_encoding\u001b[0m \u001b[0;34m==\u001b[0m \u001b[0;34m'gzip'\u001b[0m\u001b[0;34m:\u001b[0m\u001b[0;34m\u001b[0m\u001b[0;34m\u001b[0m\u001b[0m\n",
            "\u001b[0;32m/usr/lib/python3.6/urllib/request.py\u001b[0m in \u001b[0;36murlopen\u001b[0;34m(url, data, timeout, cafile, capath, cadefault, context)\u001b[0m\n\u001b[1;32m    221\u001b[0m     \u001b[0;32melse\u001b[0m\u001b[0;34m:\u001b[0m\u001b[0;34m\u001b[0m\u001b[0;34m\u001b[0m\u001b[0m\n\u001b[1;32m    222\u001b[0m         \u001b[0mopener\u001b[0m \u001b[0;34m=\u001b[0m \u001b[0m_opener\u001b[0m\u001b[0;34m\u001b[0m\u001b[0;34m\u001b[0m\u001b[0m\n\u001b[0;32m--> 223\u001b[0;31m     \u001b[0;32mreturn\u001b[0m \u001b[0mopener\u001b[0m\u001b[0;34m.\u001b[0m\u001b[0mopen\u001b[0m\u001b[0;34m(\u001b[0m\u001b[0murl\u001b[0m\u001b[0;34m,\u001b[0m \u001b[0mdata\u001b[0m\u001b[0;34m,\u001b[0m \u001b[0mtimeout\u001b[0m\u001b[0;34m)\u001b[0m\u001b[0;34m\u001b[0m\u001b[0;34m\u001b[0m\u001b[0m\n\u001b[0m\u001b[1;32m    224\u001b[0m \u001b[0;34m\u001b[0m\u001b[0m\n\u001b[1;32m    225\u001b[0m \u001b[0;32mdef\u001b[0m \u001b[0minstall_opener\u001b[0m\u001b[0;34m(\u001b[0m\u001b[0mopener\u001b[0m\u001b[0;34m)\u001b[0m\u001b[0;34m:\u001b[0m\u001b[0;34m\u001b[0m\u001b[0;34m\u001b[0m\u001b[0m\n",
            "\u001b[0;32m/usr/lib/python3.6/urllib/request.py\u001b[0m in \u001b[0;36mopen\u001b[0;34m(self, fullurl, data, timeout)\u001b[0m\n\u001b[1;32m    530\u001b[0m         \u001b[0;32mfor\u001b[0m \u001b[0mprocessor\u001b[0m \u001b[0;32min\u001b[0m \u001b[0mself\u001b[0m\u001b[0;34m.\u001b[0m\u001b[0mprocess_response\u001b[0m\u001b[0;34m.\u001b[0m\u001b[0mget\u001b[0m\u001b[0;34m(\u001b[0m\u001b[0mprotocol\u001b[0m\u001b[0;34m,\u001b[0m \u001b[0;34m[\u001b[0m\u001b[0;34m]\u001b[0m\u001b[0;34m)\u001b[0m\u001b[0;34m:\u001b[0m\u001b[0;34m\u001b[0m\u001b[0;34m\u001b[0m\u001b[0m\n\u001b[1;32m    531\u001b[0m             \u001b[0mmeth\u001b[0m \u001b[0;34m=\u001b[0m \u001b[0mgetattr\u001b[0m\u001b[0;34m(\u001b[0m\u001b[0mprocessor\u001b[0m\u001b[0;34m,\u001b[0m \u001b[0mmeth_name\u001b[0m\u001b[0;34m)\u001b[0m\u001b[0;34m\u001b[0m\u001b[0;34m\u001b[0m\u001b[0m\n\u001b[0;32m--> 532\u001b[0;31m             \u001b[0mresponse\u001b[0m \u001b[0;34m=\u001b[0m \u001b[0mmeth\u001b[0m\u001b[0;34m(\u001b[0m\u001b[0mreq\u001b[0m\u001b[0;34m,\u001b[0m \u001b[0mresponse\u001b[0m\u001b[0;34m)\u001b[0m\u001b[0;34m\u001b[0m\u001b[0;34m\u001b[0m\u001b[0m\n\u001b[0m\u001b[1;32m    533\u001b[0m \u001b[0;34m\u001b[0m\u001b[0m\n\u001b[1;32m    534\u001b[0m         \u001b[0;32mreturn\u001b[0m \u001b[0mresponse\u001b[0m\u001b[0;34m\u001b[0m\u001b[0;34m\u001b[0m\u001b[0m\n",
            "\u001b[0;32m/usr/lib/python3.6/urllib/request.py\u001b[0m in \u001b[0;36mhttp_response\u001b[0;34m(self, request, response)\u001b[0m\n\u001b[1;32m    640\u001b[0m         \u001b[0;32mif\u001b[0m \u001b[0;32mnot\u001b[0m \u001b[0;34m(\u001b[0m\u001b[0;36m200\u001b[0m \u001b[0;34m<=\u001b[0m \u001b[0mcode\u001b[0m \u001b[0;34m<\u001b[0m \u001b[0;36m300\u001b[0m\u001b[0;34m)\u001b[0m\u001b[0;34m:\u001b[0m\u001b[0;34m\u001b[0m\u001b[0;34m\u001b[0m\u001b[0m\n\u001b[1;32m    641\u001b[0m             response = self.parent.error(\n\u001b[0;32m--> 642\u001b[0;31m                 'http', request, response, code, msg, hdrs)\n\u001b[0m\u001b[1;32m    643\u001b[0m \u001b[0;34m\u001b[0m\u001b[0m\n\u001b[1;32m    644\u001b[0m         \u001b[0;32mreturn\u001b[0m \u001b[0mresponse\u001b[0m\u001b[0;34m\u001b[0m\u001b[0;34m\u001b[0m\u001b[0m\n",
            "\u001b[0;32m/usr/lib/python3.6/urllib/request.py\u001b[0m in \u001b[0;36merror\u001b[0;34m(self, proto, *args)\u001b[0m\n\u001b[1;32m    568\u001b[0m         \u001b[0;32mif\u001b[0m \u001b[0mhttp_err\u001b[0m\u001b[0;34m:\u001b[0m\u001b[0;34m\u001b[0m\u001b[0;34m\u001b[0m\u001b[0m\n\u001b[1;32m    569\u001b[0m             \u001b[0margs\u001b[0m \u001b[0;34m=\u001b[0m \u001b[0;34m(\u001b[0m\u001b[0mdict\u001b[0m\u001b[0;34m,\u001b[0m \u001b[0;34m'default'\u001b[0m\u001b[0;34m,\u001b[0m \u001b[0;34m'http_error_default'\u001b[0m\u001b[0;34m)\u001b[0m \u001b[0;34m+\u001b[0m \u001b[0morig_args\u001b[0m\u001b[0;34m\u001b[0m\u001b[0;34m\u001b[0m\u001b[0m\n\u001b[0;32m--> 570\u001b[0;31m             \u001b[0;32mreturn\u001b[0m \u001b[0mself\u001b[0m\u001b[0;34m.\u001b[0m\u001b[0m_call_chain\u001b[0m\u001b[0;34m(\u001b[0m\u001b[0;34m*\u001b[0m\u001b[0margs\u001b[0m\u001b[0;34m)\u001b[0m\u001b[0;34m\u001b[0m\u001b[0;34m\u001b[0m\u001b[0m\n\u001b[0m\u001b[1;32m    571\u001b[0m \u001b[0;34m\u001b[0m\u001b[0m\n\u001b[1;32m    572\u001b[0m \u001b[0;31m# XXX probably also want an abstract factory that knows when it makes\u001b[0m\u001b[0;34m\u001b[0m\u001b[0;34m\u001b[0m\u001b[0;34m\u001b[0m\u001b[0m\n",
            "\u001b[0;32m/usr/lib/python3.6/urllib/request.py\u001b[0m in \u001b[0;36m_call_chain\u001b[0;34m(self, chain, kind, meth_name, *args)\u001b[0m\n\u001b[1;32m    502\u001b[0m         \u001b[0;32mfor\u001b[0m \u001b[0mhandler\u001b[0m \u001b[0;32min\u001b[0m \u001b[0mhandlers\u001b[0m\u001b[0;34m:\u001b[0m\u001b[0;34m\u001b[0m\u001b[0;34m\u001b[0m\u001b[0m\n\u001b[1;32m    503\u001b[0m             \u001b[0mfunc\u001b[0m \u001b[0;34m=\u001b[0m \u001b[0mgetattr\u001b[0m\u001b[0;34m(\u001b[0m\u001b[0mhandler\u001b[0m\u001b[0;34m,\u001b[0m \u001b[0mmeth_name\u001b[0m\u001b[0;34m)\u001b[0m\u001b[0;34m\u001b[0m\u001b[0;34m\u001b[0m\u001b[0m\n\u001b[0;32m--> 504\u001b[0;31m             \u001b[0mresult\u001b[0m \u001b[0;34m=\u001b[0m \u001b[0mfunc\u001b[0m\u001b[0;34m(\u001b[0m\u001b[0;34m*\u001b[0m\u001b[0margs\u001b[0m\u001b[0;34m)\u001b[0m\u001b[0;34m\u001b[0m\u001b[0;34m\u001b[0m\u001b[0m\n\u001b[0m\u001b[1;32m    505\u001b[0m             \u001b[0;32mif\u001b[0m \u001b[0mresult\u001b[0m \u001b[0;32mis\u001b[0m \u001b[0;32mnot\u001b[0m \u001b[0;32mNone\u001b[0m\u001b[0;34m:\u001b[0m\u001b[0;34m\u001b[0m\u001b[0;34m\u001b[0m\u001b[0m\n\u001b[1;32m    506\u001b[0m                 \u001b[0;32mreturn\u001b[0m \u001b[0mresult\u001b[0m\u001b[0;34m\u001b[0m\u001b[0;34m\u001b[0m\u001b[0m\n",
            "\u001b[0;32m/usr/lib/python3.6/urllib/request.py\u001b[0m in \u001b[0;36mhttp_error_default\u001b[0;34m(self, req, fp, code, msg, hdrs)\u001b[0m\n\u001b[1;32m    648\u001b[0m \u001b[0;32mclass\u001b[0m \u001b[0mHTTPDefaultErrorHandler\u001b[0m\u001b[0;34m(\u001b[0m\u001b[0mBaseHandler\u001b[0m\u001b[0;34m)\u001b[0m\u001b[0;34m:\u001b[0m\u001b[0;34m\u001b[0m\u001b[0;34m\u001b[0m\u001b[0m\n\u001b[1;32m    649\u001b[0m     \u001b[0;32mdef\u001b[0m \u001b[0mhttp_error_default\u001b[0m\u001b[0;34m(\u001b[0m\u001b[0mself\u001b[0m\u001b[0;34m,\u001b[0m \u001b[0mreq\u001b[0m\u001b[0;34m,\u001b[0m \u001b[0mfp\u001b[0m\u001b[0;34m,\u001b[0m \u001b[0mcode\u001b[0m\u001b[0;34m,\u001b[0m \u001b[0mmsg\u001b[0m\u001b[0;34m,\u001b[0m \u001b[0mhdrs\u001b[0m\u001b[0;34m)\u001b[0m\u001b[0;34m:\u001b[0m\u001b[0;34m\u001b[0m\u001b[0;34m\u001b[0m\u001b[0m\n\u001b[0;32m--> 650\u001b[0;31m         \u001b[0;32mraise\u001b[0m \u001b[0mHTTPError\u001b[0m\u001b[0;34m(\u001b[0m\u001b[0mreq\u001b[0m\u001b[0;34m.\u001b[0m\u001b[0mfull_url\u001b[0m\u001b[0;34m,\u001b[0m \u001b[0mcode\u001b[0m\u001b[0;34m,\u001b[0m \u001b[0mmsg\u001b[0m\u001b[0;34m,\u001b[0m \u001b[0mhdrs\u001b[0m\u001b[0;34m,\u001b[0m \u001b[0mfp\u001b[0m\u001b[0;34m)\u001b[0m\u001b[0;34m\u001b[0m\u001b[0;34m\u001b[0m\u001b[0m\n\u001b[0m\u001b[1;32m    651\u001b[0m \u001b[0;34m\u001b[0m\u001b[0m\n\u001b[1;32m    652\u001b[0m \u001b[0;32mclass\u001b[0m \u001b[0mHTTPRedirectHandler\u001b[0m\u001b[0;34m(\u001b[0m\u001b[0mBaseHandler\u001b[0m\u001b[0;34m)\u001b[0m\u001b[0;34m:\u001b[0m\u001b[0;34m\u001b[0m\u001b[0;34m\u001b[0m\u001b[0m\n",
            "\u001b[0;31mHTTPError\u001b[0m: HTTP Error 404: Not Found"
          ]
        }
      ]
    },
    {
      "cell_type": "code",
      "metadata": {
        "id": "-KCS1Uw3fwvo",
        "colab_type": "code",
        "colab": {}
      },
      "source": [
        "# se for usar a planilha sobre demonstrações contábeis tirar o comentário abaixo\n",
        "# para usá-la basta trocar 'dados' por 'dados1' nos códigos de exemplo\n",
        "\n",
        "# dados1 = pd.read_csv('https://raw.githubusercontent.com/patriciasiqueira/patriciasiqueira.github.io/master/arquivos/operadoras2018.csv', encoding='utf8')"
      ],
      "execution_count": 0,
      "outputs": []
    },
    {
      "cell_type": "code",
      "metadata": {
        "id": "JNVJy2hzqecq",
        "colab_type": "code",
        "colab": {}
      },
      "source": [
        "# ver as variáveis contidas no dataframe\n",
        "dados.columns"
      ],
      "execution_count": 0,
      "outputs": []
    },
    {
      "cell_type": "code",
      "metadata": {
        "id": "G8HjB2Luqecz",
        "colab_type": "code",
        "colab": {}
      },
      "source": [
        "# função que mostra as 5 primeiras observações do dataframe\n",
        "dados.head()"
      ],
      "execution_count": 0,
      "outputs": []
    },
    {
      "cell_type": "code",
      "metadata": {
        "id": "_j0GxHltqec7",
        "colab_type": "code",
        "colab": {}
      },
      "source": [
        "# retorna a dimensão do dataframe (linhas e colunas)\n",
        "dados.shape"
      ],
      "execution_count": 0,
      "outputs": []
    },
    {
      "cell_type": "code",
      "metadata": {
        "id": "7fBM3nBJqedF",
        "colab_type": "code",
        "colab": {}
      },
      "source": [
        "# retorna o número de linhas\n",
        "len(dados)"
      ],
      "execution_count": 0,
      "outputs": []
    },
    {
      "cell_type": "markdown",
      "metadata": {
        "id": "OcDn8EhVqedS",
        "colab_type": "text"
      },
      "source": [
        "Para exemplificar o uso de uma estrutura de repetição (*for*) e uma estrutura condicional (*if*) fiz a seguinte pergunta:"
      ]
    },
    {
      "cell_type": "markdown",
      "metadata": {
        "id": "gHGWdeodqedY",
        "colab_type": "text"
      },
      "source": [
        "Quais os municípios de MG possuem renda (dos formalizados) maior do que R$1000,00?"
      ]
    },
    {
      "cell_type": "code",
      "metadata": {
        "id": "xew_BqE_qedd",
        "colab_type": "code",
        "colab": {}
      },
      "source": [
        "# percorrer cada linha do dataframe e verificar se o valor da variável rdpc_formal\n",
        "# é maior do que 1000. Se for, mostrar o nome do município e o valor de rdpc_formal\n",
        "for i in range(len(dados)):\n",
        "    if dados.rdpc_formal[i] > 3000:\n",
        "        print(dados.nome_mun[i], dados.nome_meso[i], dados.rdpc_formal[i])"
      ],
      "execution_count": 0,
      "outputs": []
    },
    {
      "cell_type": "markdown",
      "metadata": {
        "id": "O89Yl7Iiqedo",
        "colab_type": "text"
      },
      "source": [
        "Note que bastaria trocar a variável (escolher outra no lugar de *rdpc_formal*) e o valor de referência (1000) para fazer outra consulta. **Muito importante:** essa modificação **NÃO CONTA** como um uso diferente para o *for* e para o *if*, já que nada de novo está sendo feito no código:"
      ]
    },
    {
      "cell_type": "code",
      "metadata": {
        "id": "gUjNM6goqedp",
        "colab_type": "code",
        "colab": {}
      },
      "source": [
        "# usando a mesma estrutura acima para responder quais os municípios de MG \n",
        "# possuem mais do que três bibliotecas\n",
        "# mostrar o nome do município e o valor de n_bib\n",
        "for i in range(len(dados)):\n",
        "    if dados.n_bib[i] > 3:\n",
        "        print(dados.nome_mun[i], dados.n_bib[i])"
      ],
      "execution_count": 0,
      "outputs": []
    },
    {
      "cell_type": "markdown",
      "metadata": {
        "id": "SWiE8_whqedv",
        "colab_type": "text"
      },
      "source": [
        "Se fôssemos usar uma função pronta do pacote *pandas* (o que não é nosso foco na disciplina), bastaria fazer o seguinte (porém ele retornaria um *dataframe* inteiro com as linhas selecionadas (n_bib > 3)): "
      ]
    },
    {
      "cell_type": "code",
      "metadata": {
        "id": "eoTNk-Gpqedx",
        "colab_type": "code",
        "colab": {}
      },
      "source": [
        "# função pronta do pandas\n",
        "dados[dados.n_bib > 3]"
      ],
      "execution_count": 0,
      "outputs": []
    },
    {
      "cell_type": "code",
      "metadata": {
        "id": "TMnIqEDbqed7",
        "colab_type": "code",
        "colab": {}
      },
      "source": [
        "# interação com o usuário\n",
        "valor = float(input('Acima de qual valor de renda você deseja visualizar os municípios de MG? '))\n",
        "for i in range(len(dados)):\n",
        "    if dados.rdpc_formal[i] > valor:\n",
        "        print(dados.nome_mun[i], dados.rdpc_formal[i])"
      ],
      "execution_count": 0,
      "outputs": []
    },
    {
      "cell_type": "markdown",
      "metadata": {
        "id": "-Yvm-BILqeeD",
        "colab_type": "text"
      },
      "source": [
        "A função *describe* fornece um resumo estatístico da variável, o que pode ajudar em alguns cálculos:"
      ]
    },
    {
      "cell_type": "code",
      "metadata": {
        "id": "EmUMO4pjqeeE",
        "colab_type": "code",
        "colab": {}
      },
      "source": [
        "# função pronta do pandas\n",
        "# como é a variável tx_mort_homicidio, por exemplo? Seu resumo estatístico é dado por:\n",
        "dados.tx_mort_homicidio.describe()"
      ],
      "execution_count": 0,
      "outputs": []
    },
    {
      "cell_type": "code",
      "metadata": {
        "id": "Pfpw2OzeqeeO",
        "colab_type": "code",
        "colab": {}
      },
      "source": [
        "# mais interações com o usuário\n",
        "print('Insira a variável e qual o valor a partir do qual deseja ver os municípios que atendem ao critério:')\n",
        "var = input('variável: ')\n",
        "valor = float(input('valor: '))\n",
        "\n",
        "# como seria o código para retornar os municípios que têm valores acima do escolhido?\n",
        "for i in range(len(dados)):\n",
        "    if dados[var][i] > valor:\n",
        "        print(dados.nome_mun[i], dados[var][i])\n"
      ],
      "execution_count": 0,
      "outputs": []
    },
    {
      "cell_type": "code",
      "metadata": {
        "id": "ia7riSIsqeeX",
        "colab_type": "code",
        "colab": {}
      },
      "source": [
        "# como seria o código para somar os valores de uma variável?\n",
        "soma = 0\n",
        "for j in range(len(dados)):\n",
        "  soma = soma + dados.popul[j]\n",
        "print('População de MG:', soma)"
      ],
      "execution_count": 0,
      "outputs": []
    },
    {
      "cell_type": "code",
      "metadata": {
        "id": "gqF05QfWqeeh",
        "colab_type": "code",
        "colab": {}
      },
      "source": [
        "# apenas conferir com a função pronta do pandas\n",
        "dados.popul.sum()"
      ],
      "execution_count": 0,
      "outputs": []
    },
    {
      "cell_type": "code",
      "metadata": {
        "id": "K1QrdEttqees",
        "colab_type": "code",
        "colab": {}
      },
      "source": [
        "# maior valor de uma variável\n",
        "# maior valor de popul\n",
        "maior = 0\n",
        "y = 0\n",
        "while y < len(dados):\n",
        "  if dados.popul[y] > maior:\n",
        "    maior = dados.popul[y]\n",
        "    pos = y\n",
        "  y = y + 1\n",
        "print(dados.nome_mun[pos], maior)\n"
      ],
      "execution_count": 0,
      "outputs": []
    },
    {
      "cell_type": "code",
      "metadata": {
        "scrolled": false,
        "id": "3NjjCjR5qee0",
        "colab_type": "code",
        "colab": {}
      },
      "source": [
        "# usando função pronta do pandas\n",
        "# que retorna os maiores valores de uma variável\n",
        "dados.sort_values(by='popul', ascending=False).loc[:,['nome_mun', 'nome_meso', 'popul']]"
      ],
      "execution_count": 0,
      "outputs": []
    },
    {
      "cell_type": "code",
      "metadata": {
        "id": "0dl93Af7qefC",
        "colab_type": "code",
        "colab": {}
      },
      "source": [
        "# função pronta do pandas\n",
        "# só mostrando os 5 primeiros\n",
        "(dados.sort_values(by='popul', ascending=False)\n",
        "       .loc[:,['nome_mun', 'nome_meso', 'popul']]\n",
        "       .head(5))"
      ],
      "execution_count": 0,
      "outputs": []
    },
    {
      "cell_type": "code",
      "metadata": {
        "id": "fwhYBuJVqefG",
        "colab_type": "code",
        "colab": {}
      },
      "source": [
        "# uso de while\n",
        "# ir retornando um resultado enquanto uma condição for verdadeira\n",
        "var = input('Escolha uma variável: ')\n",
        "entrada = input('Tecle \"c\" para continuar e \"p\" para parar: ')\n",
        "i = 0\n",
        "while entrada == 'c':\n",
        "    print(dados.nome_mun[i], dados[var][i])\n",
        "    i = i + 1\n",
        "    entrada = input('Tecle \"c\" para continuar e \"p\" para parar: ')"
      ],
      "execution_count": 0,
      "outputs": []
    },
    {
      "cell_type": "markdown",
      "metadata": {
        "id": "DvKg8ACrqefK",
        "colab_type": "text"
      },
      "source": [
        "## Selecionar municípios de MG (por mesorregião ou microrregião)"
      ]
    },
    {
      "cell_type": "code",
      "metadata": {
        "id": "-nDT9Y5qqefL",
        "colab_type": "code",
        "colab": {}
      },
      "source": [
        "# para saber como estão os nomes das mesorregiões\n",
        "dados.nome_meso.unique()"
      ],
      "execution_count": 0,
      "outputs": []
    },
    {
      "cell_type": "code",
      "metadata": {
        "id": "cqbWKCGDqefR",
        "colab_type": "code",
        "colab": {}
      },
      "source": [
        "# criar um objeto sul com os municípios apenas do Sul/Sudoeste de MG\n",
        "sul = dados.query(\"nome_meso == 'Sul/Sudoeste de Minas'\")"
      ],
      "execution_count": 0,
      "outputs": []
    },
    {
      "cell_type": "code",
      "metadata": {
        "id": "3aVDHgetqefc",
        "colab_type": "code",
        "colab": {}
      },
      "source": [
        "sul.shape"
      ],
      "execution_count": 0,
      "outputs": []
    },
    {
      "cell_type": "code",
      "metadata": {
        "id": "EEhKTZT_qefl",
        "colab_type": "code",
        "colab": {}
      },
      "source": [
        "# notar que os índices começam em 11\n",
        "sul.head()"
      ],
      "execution_count": 0,
      "outputs": []
    },
    {
      "cell_type": "code",
      "metadata": {
        "id": "g3kEl5mpqefu",
        "colab_type": "code",
        "colab": {}
      },
      "source": [
        "# fazer com que os índices comecem em 0\n",
        "sul.index = range(len(sul))\n",
        "sul.head()"
      ],
      "execution_count": 0,
      "outputs": []
    },
    {
      "cell_type": "markdown",
      "metadata": {
        "id": "oK7YMk2-qefz",
        "colab_type": "text"
      },
      "source": [
        "sul é um novo *dataframe* que podemos usar da mesma forma que usamos o dados:"
      ]
    },
    {
      "cell_type": "code",
      "metadata": {
        "id": "VzqeqU9Dqef0",
        "colab_type": "code",
        "colab": {}
      },
      "source": [
        "# percorrer cada linha do dataframe e verificar se o valor da variável rdpc_formal\n",
        "# é maior do que 1000. Se for, mostrar o nome do município e o valor de rdpc_formal\n",
        "for i in range(len(sul)):\n",
        "    if sul.rdpc_formal[i] > 1000:\n",
        "        print(sul.nome_mun[i], sul.rdpc_formal[i])"
      ],
      "execution_count": 0,
      "outputs": []
    },
    {
      "cell_type": "code",
      "metadata": {
        "id": "yrfgKa0uqef5",
        "colab_type": "code",
        "colab": {}
      },
      "source": [
        "# outro jeito para fazer com que os índices comecem em 0\n",
        "# sul1 = dados.query(\"nome_meso == 'Sul/Sudoeste de Minas'\").reset_index().drop('index', axis=1)\n",
        "# sul1.head()"
      ],
      "execution_count": 0,
      "outputs": []
    },
    {
      "cell_type": "markdown",
      "metadata": {
        "id": "p45FhmvOqegC",
        "colab_type": "text"
      },
      "source": [
        "## Usuário escolhe mesorregião"
      ]
    },
    {
      "cell_type": "code",
      "metadata": {
        "id": "H1C7S71cqegD",
        "colab_type": "code",
        "colab": {}
      },
      "source": [
        "nome = input('Escolha uma mesorregião: ')\n",
        "m = dados.query(\"nome_meso == @nome\")"
      ],
      "execution_count": 0,
      "outputs": []
    },
    {
      "cell_type": "code",
      "metadata": {
        "id": "aO_tZPN3qegH",
        "colab_type": "code",
        "colab": {}
      },
      "source": [
        "# fazer com que os índices comecem em 0\n",
        "m.index = range(len(m))"
      ],
      "execution_count": 0,
      "outputs": []
    },
    {
      "cell_type": "code",
      "metadata": {
        "id": "Adm1HvEDRkoY",
        "colab_type": "code",
        "colab": {}
      },
      "source": [
        "# primeiras linhas do dataframe\n",
        "m.head()"
      ],
      "execution_count": 0,
      "outputs": []
    },
    {
      "cell_type": "code",
      "metadata": {
        "id": "zBsOeqn_qegK",
        "colab_type": "code",
        "colab": {}
      },
      "source": [
        "# rendas maiores que um valor para a mesorregião\n",
        "for i in range(len(m)):\n",
        "    if m.rdpc_formal[i] > 300:\n",
        "        print(m.nome_mun[i], m.rdpc_formal[i])"
      ],
      "execution_count": 0,
      "outputs": []
    },
    {
      "cell_type": "markdown",
      "metadata": {
        "id": "V0KLQEHTqegS",
        "colab_type": "text"
      },
      "source": [
        "## Sugestões para o trabalho\n",
        "- usar menus para interagir com o usuário\n",
        "- não vale usar os códigos que passei como exemplo e simplesmente mudar para outra variável ou município, novos códigos devem ser pensados\n",
        "- escolher mesorregiões de MG\n",
        "- usar mais de uma variável ao mesmo tempo\n",
        "- retornar maior e menor valor de alguma variável\n",
        "- calcular medidas estatísticas (média, desvio padrão, correlação etc.)\n",
        "- calcular porcentagens\n",
        "- elaborar algum quiz para interagir com o usuário"
      ]
    },
    {
      "cell_type": "markdown",
      "metadata": {
        "id": "o-WQQWOAqegU",
        "colab_type": "text"
      },
      "source": [
        "### Importante:\n",
        "\n",
        "- não é necessário que o trabalho seja em torno de um tema (demografia, saúde etc.), as funções e códigos podem misturar assuntos sem problema algum (funções que retornam informações de renda, outras funções que retornem informações sobre saúde etc.). Mas quem quiser trabalhar com um tema fique à vontade  \n",
        "- gráficos podem ser utilizados para ilustrar resultados (basta correr atrás da documentação de pacotes do *Python*, como *seaborn*, *matplotlib* etc. ou o site *stackoverflow*)  \n",
        "- o importante é utilizar o que vimos na disciplina, evitando usar funções prontas do *Python* e tentando criar seus próprios códigos"
      ]
    },
    {
      "cell_type": "markdown",
      "metadata": {
        "id": "NRZ01k0siu_U",
        "colab_type": "text"
      },
      "source": [
        "## A partir daqui começar o trabalho"
      ]
    },
    {
      "cell_type": "code",
      "metadata": {
        "id": "Xl1KEWUWiuid",
        "colab_type": "code",
        "colab": {}
      },
      "source": [
        ""
      ],
      "execution_count": 0,
      "outputs": []
    }
  ]
}