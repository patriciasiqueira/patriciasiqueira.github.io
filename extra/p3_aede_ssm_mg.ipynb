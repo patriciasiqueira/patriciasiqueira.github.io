{
 "cells": [
  {
   "cell_type": "markdown",
   "metadata": {},
   "source": [
    "# Análise exploratória de dados espaciais (AEDE)"
   ]
  },
  {
   "cell_type": "markdown",
   "metadata": {},
   "source": [
    "Nesse notebook:\n",
    "\n",
    "- para a mesorregião Sul/Sudoeste de MG:  \n",
    "-- plotar mapas temáticos  \n",
    "-- obter valores e significância do $I$ de Moran  \n",
    "-- plotar mapas LISA\n",
    "-  para o estado de MG:\n",
    "-- plotar mapas temáticos  \n",
    "-- obter valores e significância do $I$ de Moran  \n",
    "-- plotar mapas LISA  \n",
    "- plotar o estado de MG com diferentes divisões (mesorregiões, microrregiões)"
   ]
  },
  {
   "cell_type": "code",
   "execution_count": null,
   "metadata": {
    "collapsed": true,
    "scrolled": true
   },
   "outputs": [],
   "source": [
    "%matplotlib inline \n",
    "                    # para os gráficos aparecerem\n",
    "import pandas as pd\n",
    "import matplotlib.pyplot as plt\n",
    "import geopandas as gp\n",
    "import pysal as ps\n",
    "import palettable\n",
    "import nupis\n",
    "import seaborn as sns\n",
    "sns.set(style='whitegrid', palette='pastel') "
   ]
  },
  {
   "cell_type": "code",
   "execution_count": null,
   "metadata": {
    "collapsed": true
   },
   "outputs": [],
   "source": [
    "# objeto ssm:  unir shapefile do Sul/Sudoeste de MG com dataframe atlas\n",
    "# resultado: apenas informações (geográficas e do atlas) do Sul/Sudoeste de MG\n",
    "ssm = nupis.mesclar_shp_df(shp='ssm.shp', df='atlas.csv') \n",
    "w = ps.queen_from_shapefile('ssm.shp')   # cria a matriz de vizinhaça no formato queen"
   ]
  },
  {
   "cell_type": "code",
   "execution_count": null,
   "metadata": {},
   "outputs": [],
   "source": [
    "ssm.head()"
   ]
  },
  {
   "cell_type": "code",
   "execution_count": null,
   "metadata": {},
   "outputs": [],
   "source": [
    "ssm.columns"
   ]
  },
  {
   "cell_type": "code",
   "execution_count": null,
   "metadata": {},
   "outputs": [],
   "source": [
    "ssm.shape"
   ]
  },
  {
   "cell_type": "code",
   "execution_count": null,
   "metadata": {},
   "outputs": [],
   "source": [
    "# plotar apenas o mapa com os limites territoriais\n",
    "ssm.plot();"
   ]
  },
  {
   "cell_type": "code",
   "execution_count": null,
   "metadata": {},
   "outputs": [],
   "source": [
    "# plotar o mapa sem grades e eixos\n",
    "mp = ssm.plot()\n",
    "mp.set_axis_off();"
   ]
  },
  {
   "cell_type": "markdown",
   "metadata": {},
   "source": [
    "Mapa temático (escolher uma variável para representar no mapa):\n",
    "- scheme - equal_interval ou quantiles\n",
    "- número de categorias k\n",
    "- cmap - cor do mapa (abaixo)"
   ]
  },
  {
   "cell_type": "code",
   "execution_count": null,
   "metadata": {},
   "outputs": [],
   "source": [
    "# mapa temático - t_flsuper no ssm com 4 intervalos iguais\n",
    "ax = ssm.plot(column='t_flsuper', scheme='equal_interval', k=4,\n",
    "             linewidth=0, figsize=(7,7), legend=True, cmap='Set1')\n",
    "ax.set_axis_off();"
   ]
  },
  {
   "cell_type": "code",
   "execution_count": null,
   "metadata": {},
   "outputs": [],
   "source": [
    "# fazer mapa temático da mesma variável com intervalos iguais, mas com diferentes k\n"
   ]
  },
  {
   "cell_type": "code",
   "execution_count": null,
   "metadata": {},
   "outputs": [],
   "source": [
    "# mapa temático - t_flsuper no ssm com 4 intervalos baseados em quantis\n"
   ]
  },
  {
   "cell_type": "code",
   "execution_count": null,
   "metadata": {},
   "outputs": [],
   "source": [
    "# fazer mapa temático da mesma variável com intervalos baseados em quantis, mas com diferentes k\n",
    "# o que significam os diferentes intervalos (se k = 2, se k = 5)?\n"
   ]
  },
  {
   "cell_type": "code",
   "execution_count": null,
   "metadata": {},
   "outputs": [],
   "source": [
    "# usar algum gráfico descritivo que represente os mesmos valores e dê ideia da dispersão\n"
   ]
  },
  {
   "cell_type": "code",
   "execution_count": null,
   "metadata": {
    "collapsed": true
   },
   "outputs": [],
   "source": [
    "nupis.mapa??"
   ]
  },
  {
   "cell_type": "code",
   "execution_count": null,
   "metadata": {},
   "outputs": [],
   "source": [
    "# opção do pacote nupis - já define alguns valores como padrão\n",
    "nupis.mapa(ssm, 't_flsuper')  # mapa com os valores da variável, mapa temático"
   ]
  },
  {
   "cell_type": "code",
   "execution_count": null,
   "metadata": {},
   "outputs": [],
   "source": [
    "# usando a função do mapa do nupis, escolher outra variável\n"
   ]
  },
  {
   "cell_type": "code",
   "execution_count": null,
   "metadata": {},
   "outputs": [],
   "source": [
    "# escolher outra paleta de cor para o choropleth\n",
    "x = palettable.wesanderson.Cavalcanti_5_r.mpl_colormap\n",
    "nupis.mapa(ssm, 't_flsuper', cmap=x)"
   ]
  },
  {
   "cell_type": "markdown",
   "metadata": {},
   "source": [
    "as paletas disponíveis estão [aqui](https://jiffyclub.github.io/palettable/#finding-palettes). "
   ]
  },
  {
   "cell_type": "code",
   "execution_count": null,
   "metadata": {},
   "outputs": [],
   "source": [
    "IM = ps.Moran(ssm.t_flsuper, w)  # variável no dataframe e matriz de vizinhança \n",
    "nupis.moran_resumo(IM)           # função do nupis que retorna uma saída organizada do I de Moran"
   ]
  },
  {
   "cell_type": "code",
   "execution_count": null,
   "metadata": {},
   "outputs": [],
   "source": [
    "nupis.moran_dispersao(IM)   # diagrama de dispersão de Moran que recebe o objeto criado antes"
   ]
  },
  {
   "cell_type": "markdown",
   "metadata": {},
   "source": [
    "Modificar os títulos dos eixos no diagrama de dispersão de Moran."
   ]
  },
  {
   "cell_type": "code",
   "execution_count": null,
   "metadata": {},
   "outputs": [],
   "source": [
    "nupis.moran_dispersao(IM, xlabel='taxa de frequência ao ensino superior', ylabel='taxa de frequência ao ensino superior nos vizinhos')"
   ]
  },
  {
   "cell_type": "code",
   "execution_count": null,
   "metadata": {},
   "outputs": [],
   "source": [
    "# obter I de Moran e diagrama de dispersão de Moran para outra variável\n",
    "\n"
   ]
  },
  {
   "cell_type": "code",
   "execution_count": null,
   "metadata": {},
   "outputs": [],
   "source": [
    "# incluir nomes dos eixos do diagrama\n",
    "\n"
   ]
  },
  {
   "cell_type": "markdown",
   "metadata": {
    "collapsed": true
   },
   "source": [
    "### Mapas LISA"
   ]
  },
  {
   "cell_type": "code",
   "execution_count": null,
   "metadata": {},
   "outputs": [],
   "source": [
    "nupis.lisa_mapa(ssm.t_flsuper, 'ssm.shp', p_thres=0.05)   # função do nupis para obter o mapa LISA"
   ]
  },
  {
   "cell_type": "code",
   "execution_count": null,
   "metadata": {},
   "outputs": [],
   "source": [
    "# obter mapa LISA para outra variável\n",
    "\n"
   ]
  },
  {
   "cell_type": "markdown",
   "metadata": {},
   "source": [
    "<br>\n",
    "<br>\n",
    "Calcular o I de Moran para mais de uma variável."
   ]
  },
  {
   "cell_type": "code",
   "execution_count": null,
   "metadata": {},
   "outputs": [],
   "source": [
    "# I de Moran para mais variáveis - escolher 5 variáveis\n",
    "nupis.moran_df(ssm[['t_analf25m', 't_flbas']], w)"
   ]
  },
  {
   "cell_type": "markdown",
   "metadata": {},
   "source": [
    "## O estado de MG "
   ]
  },
  {
   "cell_type": "code",
   "execution_count": null,
   "metadata": {
    "collapsed": true
   },
   "outputs": [],
   "source": [
    "mg = nupis.mesclar_shp_df(shp='31MUE250GC_SIR.shp', df='atlas.csv')  # juntar shapefile com dataframe\n",
    "w = ps.queen_from_shapefile('31MUE250GC_SIR.shp')   # cria a matriz de vizinhaça no formato queen"
   ]
  },
  {
   "cell_type": "code",
   "execution_count": null,
   "metadata": {},
   "outputs": [],
   "source": [
    "# plotar o mapa\n"
   ]
  },
  {
   "cell_type": "code",
   "execution_count": null,
   "metadata": {},
   "outputs": [],
   "source": [
    "# plotar o mapa sem grades\n"
   ]
  },
  {
   "cell_type": "code",
   "execution_count": null,
   "metadata": {},
   "outputs": [],
   "source": [
    "# obter mapa temático de t_flsuper com intervalos iguais\n"
   ]
  },
  {
   "cell_type": "code",
   "execution_count": null,
   "metadata": {},
   "outputs": [],
   "source": [
    "# obter mapa temático de t_flsuper com intervalos baseados em quantis\n"
   ]
  },
  {
   "cell_type": "code",
   "execution_count": null,
   "metadata": {},
   "outputs": [],
   "source": [
    "# melhorar a posição da legenda\n"
   ]
  },
  {
   "cell_type": "code",
   "execution_count": null,
   "metadata": {},
   "outputs": [],
   "source": [
    "# obter boxplot da variável t_flsuper para MG\n"
   ]
  },
  {
   "cell_type": "code",
   "execution_count": null,
   "metadata": {},
   "outputs": [],
   "source": [
    "# obter I de Moran para t_flsuper para MG e avaliar significância\n"
   ]
  },
  {
   "cell_type": "code",
   "execution_count": null,
   "metadata": {},
   "outputs": [],
   "source": [
    "# obter diagrama de dispersão de Moran para a mesma variável\n",
    "# com nomes nos eixos\n"
   ]
  },
  {
   "cell_type": "code",
   "execution_count": null,
   "metadata": {},
   "outputs": [],
   "source": [
    "# obter mapa LISA para t_flsuper em MG\n"
   ]
  },
  {
   "cell_type": "markdown",
   "metadata": {},
   "source": [
    "### Plotar mesorregiões de MG"
   ]
  },
  {
   "cell_type": "code",
   "execution_count": null,
   "metadata": {},
   "outputs": [],
   "source": [
    "mg.nome_meso.unique()"
   ]
  },
  {
   "cell_type": "code",
   "execution_count": null,
   "metadata": {},
   "outputs": [],
   "source": [
    "len(mg.nome_meso.unique())"
   ]
  },
  {
   "cell_type": "code",
   "execution_count": null,
   "metadata": {},
   "outputs": [],
   "source": [
    "# mapa de MG dividido por mesorregiões\n",
    "ax = mg.plot(column='nome_meso',\n",
    "             linewidth=0, figsize=(7,7), legend=True, cmap='Set1')\n",
    "ax.set_axis_off()"
   ]
  },
  {
   "cell_type": "code",
   "execution_count": null,
   "metadata": {},
   "outputs": [],
   "source": [
    "# alterando opções da legenda\n",
    "ax = mg.plot(column='nome_meso',\n",
    "             linewidth=0, figsize=(7,7), legend=True, cmap='Set1')\n",
    "ax.set_axis_off()\n",
    "\n",
    "leg = ax.get_legend()\n",
    "leg.set_bbox_to_anchor((1.5, 0.7));  # 0 a 1: (esquerda-direita, baixo-cima)"
   ]
  },
  {
   "cell_type": "markdown",
   "metadata": {},
   "source": [
    "### Plotar microrregiões de MG"
   ]
  },
  {
   "cell_type": "code",
   "execution_count": null,
   "metadata": {},
   "outputs": [],
   "source": []
  },
  {
   "cell_type": "markdown",
   "metadata": {},
   "source": [
    "### Plotar microrregiões do Sul/Sudoeste de MG"
   ]
  },
  {
   "cell_type": "code",
   "execution_count": null,
   "metadata": {},
   "outputs": [],
   "source": []
  }
 ],
 "metadata": {
  "kernelspec": {
   "display_name": "Python 3",
   "language": "python",
   "name": "python3"
  },
  "language_info": {
   "codemirror_mode": {
    "name": "ipython",
    "version": 3
   },
   "file_extension": ".py",
   "mimetype": "text/x-python",
   "name": "python",
   "nbconvert_exporter": "python",
   "pygments_lexer": "ipython3",
   "version": "3.6.2"
  }
 },
 "nbformat": 4,
 "nbformat_minor": 2
}
