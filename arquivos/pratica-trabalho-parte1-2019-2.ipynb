{
  "nbformat": 4,
  "nbformat_minor": 0,
  "metadata": {
    "colab": {
      "name": "pratica-trabalho-parte1-2019-2 (2).ipynb",
      "provenance": [],
      "collapsed_sections": [
        "DvKg8ACrqefK",
        "p45FhmvOqegC",
        "V0KLQEHTqegS",
        "o-WQQWOAqegU"
      ]
    },
    "kernelspec": {
      "name": "python3",
      "display_name": "Python 3"
    }
  },
  "cells": [
    {
      "cell_type": "markdown",
      "metadata": {
        "id": "CQXzWv9qqecJ",
        "colab_type": "text"
      },
      "source": [
        "# Trabalho de Fundamentos da Programação (2019-2)"
      ]
    },
    {
      "cell_type": "markdown",
      "metadata": {
        "id": "JBAJGZd3u8ls",
        "colab_type": "text"
      },
      "source": [
        "Nome:  "
      ]
    },
    {
      "cell_type": "code",
      "metadata": {
        "id": "6efibV6-qecO",
        "colab_type": "code",
        "colab": {}
      },
      "source": [
        "# sempre executar essa célula\n",
        "# importar o pacote pandas - útil para dataframes, séries, dados em painel\n",
        "import pandas as pd\n",
        "# ler dados\n",
        "dados = pd.read_csv('https://raw.githubusercontent.com/patriciasiqueira/patriciasiqueira.github.io/master/arquivos/imrs-pam.csv', encoding='latin1')"
      ],
      "execution_count": 0,
      "outputs": []
    },
    {
      "cell_type": "code",
      "metadata": {
        "id": "-KCS1Uw3fwvo",
        "colab_type": "code",
        "colab": {}
      },
      "source": [
        "# se for usar a planilha sobre demonstrações contábeis tirar o comentário abaixo\n",
        "# para usá-la basta trocar 'dados' por 'dados1' nos códigos de exemplo\n",
        "\n",
        "# dados1 = pd.read_csv('https://raw.githubusercontent.com/patriciasiqueira/patriciasiqueira.github.io/master/arquivos/operadoras2018.csv', encoding='utf8')"
      ],
      "execution_count": 0,
      "outputs": []
    },
    {
      "cell_type": "code",
      "metadata": {
        "id": "JNVJy2hzqecq",
        "colab_type": "code",
        "colab": {}
      },
      "source": [
        "# ver as variáveis contidas no dataframe\n",
        "dados.columns"
      ],
      "execution_count": 0,
      "outputs": []
    },
    {
      "cell_type": "code",
      "metadata": {
        "id": "G8HjB2Luqecz",
        "colab_type": "code",
        "colab": {}
      },
      "source": [
        "# função que mostra as 5 primeiras observações do dataframe\n",
        "dados.head()"
      ],
      "execution_count": 0,
      "outputs": []
    },
    {
      "cell_type": "code",
      "metadata": {
        "id": "_j0GxHltqec7",
        "colab_type": "code",
        "colab": {}
      },
      "source": [
        "# retorna a dimensão do dataframe (linhas e colunas)\n",
        "dados.shape"
      ],
      "execution_count": 0,
      "outputs": []
    },
    {
      "cell_type": "code",
      "metadata": {
        "id": "7fBM3nBJqedF",
        "colab_type": "code",
        "colab": {}
      },
      "source": [
        "# retorna o número de linhas\n",
        "len(dados)"
      ],
      "execution_count": 0,
      "outputs": []
    },
    {
      "cell_type": "markdown",
      "metadata": {
        "id": "OcDn8EhVqedS",
        "colab_type": "text"
      },
      "source": [
        "Para exemplificar o uso de uma estrutura de repetição (*for*) e uma estrutura condicional (*if*) fiz a seguinte pergunta:"
      ]
    },
    {
      "cell_type": "markdown",
      "metadata": {
        "id": "gHGWdeodqedY",
        "colab_type": "text"
      },
      "source": [
        "Quais os municípios de MG possuem renda (dos formalizados) maior do que R$1000,00?"
      ]
    },
    {
      "cell_type": "code",
      "metadata": {
        "id": "xew_BqE_qedd",
        "colab_type": "code",
        "colab": {}
      },
      "source": [
        "# percorrer cada linha do dataframe e verificar se o valor da variável rdpc_formal\n",
        "# é maior do que 1000. Se for, mostrar o nome do município e o valor de rdpc_formal\n",
        "for i in range(len(dados)):\n",
        "    if dados.rdpc_formal[i] > 3000:\n",
        "        print(dados.nome_mun[i], dados.nome_meso[i], dados.rdpc_formal[i])"
      ],
      "execution_count": 0,
      "outputs": []
    },
    {
      "cell_type": "markdown",
      "metadata": {
        "id": "O89Yl7Iiqedo",
        "colab_type": "text"
      },
      "source": [
        "Note que bastaria trocar a variável (escolher outra no lugar de *rdpc_formal*) e o valor de referência (1000) para fazer outra consulta. **Muito importante:** essa modificação **NÃO CONTA** como um uso diferente para o *for* e para o *if*, já que nada de novo está sendo feito no código:"
      ]
    },
    {
      "cell_type": "code",
      "metadata": {
        "id": "gUjNM6goqedp",
        "colab_type": "code",
        "colab": {}
      },
      "source": [
        "# usando a mesma estrutura acima para responder quais os municípios de MG \n",
        "# possuem mais do que três bibliotecas\n",
        "# mostrar o nome do município e o valor de n_bib\n",
        "for i in range(len(dados)):\n",
        "    if dados.n_bib[i] > 3:\n",
        "        print(dados.nome_mun[i], dados.n_bib[i])"
      ],
      "execution_count": 0,
      "outputs": []
    },
    {
      "cell_type": "markdown",
      "metadata": {
        "id": "SWiE8_whqedv",
        "colab_type": "text"
      },
      "source": [
        "Se fôssemos usar uma função pronta do pacote *pandas* (o que não é nosso foco na disciplina), bastaria fazer o seguinte (porém ele retornaria um *dataframe* inteiro com as linhas selecionadas (n_bib > 3)): "
      ]
    },
    {
      "cell_type": "code",
      "metadata": {
        "id": "eoTNk-Gpqedx",
        "colab_type": "code",
        "colab": {}
      },
      "source": [
        "# função pronta do pandas\n",
        "dados[dados.n_bib > 3]"
      ],
      "execution_count": 0,
      "outputs": []
    },
    {
      "cell_type": "code",
      "metadata": {
        "id": "TMnIqEDbqed7",
        "colab_type": "code",
        "colab": {}
      },
      "source": [
        "# interação com o usuário\n",
        "valor = float(input('Acima de qual valor de renda você deseja visualizar os municípios de MG? '))\n",
        "for i in range(len(dados)):\n",
        "    if dados.rdpc_formal[i] > valor:\n",
        "        print(dados.nome_mun[i], dados.rdpc_formal[i])"
      ],
      "execution_count": 0,
      "outputs": []
    },
    {
      "cell_type": "markdown",
      "metadata": {
        "id": "-Yvm-BILqeeD",
        "colab_type": "text"
      },
      "source": [
        "A função *describe* fornece um resumo estatístico da variável, o que pode ajudar em alguns cálculos:"
      ]
    },
    {
      "cell_type": "code",
      "metadata": {
        "id": "EmUMO4pjqeeE",
        "colab_type": "code",
        "colab": {}
      },
      "source": [
        "# função pronta do pandas\n",
        "# como é a variável tx_mort_homicidio, por exemplo? Seu resumo estatístico é dado por:\n",
        "dados.tx_mort_homicidio.describe()"
      ],
      "execution_count": 0,
      "outputs": []
    },
    {
      "cell_type": "code",
      "metadata": {
        "id": "Pfpw2OzeqeeO",
        "colab_type": "code",
        "colab": {}
      },
      "source": [
        "# mais interações com o usuário\n",
        "print('Insira a variável e qual o valor a partir do qual deseja ver os municípios que atendem ao critério:')\n",
        "var = input('variável: ')\n",
        "valor = float(input('valor: '))\n",
        "\n",
        "# como seria o código para retornar os municípios que têm valores acima do escolhido?\n",
        "for i in range(len(dados)):\n",
        "    if dados[var][i] > valor:\n",
        "        print(dados.nome_mun[i], dados[var][i])\n"
      ],
      "execution_count": 0,
      "outputs": []
    },
    {
      "cell_type": "code",
      "metadata": {
        "id": "ia7riSIsqeeX",
        "colab_type": "code",
        "colab": {}
      },
      "source": [
        "# como seria o código para somar os valores de uma variável?\n",
        "soma = 0\n",
        "for j in range(len(dados)):\n",
        "  soma = soma + dados.popul[j]\n",
        "print('População de MG:', soma)"
      ],
      "execution_count": 0,
      "outputs": []
    },
    {
      "cell_type": "code",
      "metadata": {
        "id": "gqF05QfWqeeh",
        "colab_type": "code",
        "colab": {}
      },
      "source": [
        "# apenas conferir com a função pronta do pandas\n",
        "dados.popul.sum()"
      ],
      "execution_count": 0,
      "outputs": []
    },
    {
      "cell_type": "code",
      "metadata": {
        "id": "K1QrdEttqees",
        "colab_type": "code",
        "colab": {}
      },
      "source": [
        "# maior valor de uma variável\n",
        "# maior valor de popul\n",
        "maior = 0\n",
        "y = 0\n",
        "while y < len(dados):\n",
        "  if dados.popul[y] > maior:\n",
        "    maior = dados.popul[y]\n",
        "    pos = y\n",
        "  y = y + 1\n",
        "print(dados.nome_mun[pos], maior)\n"
      ],
      "execution_count": 0,
      "outputs": []
    },
    {
      "cell_type": "code",
      "metadata": {
        "scrolled": false,
        "id": "3NjjCjR5qee0",
        "colab_type": "code",
        "colab": {}
      },
      "source": [
        "# usando função pronta do pandas\n",
        "# que retorna os maiores valores de uma variável\n",
        "dados.sort_values(by='popul', ascending=False).loc[:,['nome_mun', 'nome_meso', 'popul']]"
      ],
      "execution_count": 0,
      "outputs": []
    },
    {
      "cell_type": "code",
      "metadata": {
        "id": "0dl93Af7qefC",
        "colab_type": "code",
        "colab": {}
      },
      "source": [
        "# função pronta do pandas\n",
        "# só mostrando os 5 primeiros\n",
        "(dados.sort_values(by='popul', ascending=False)\n",
        "       .loc[:,['nome_mun', 'nome_meso', 'popul']]\n",
        "       .head(5))"
      ],
      "execution_count": 0,
      "outputs": []
    },
    {
      "cell_type": "code",
      "metadata": {
        "id": "fwhYBuJVqefG",
        "colab_type": "code",
        "colab": {}
      },
      "source": [
        "# uso de while\n",
        "# ir retornando um resultado enquanto uma condição for verdadeira\n",
        "var = input('Escolha uma variável: ')\n",
        "entrada = input('Tecle \"c\" para continuar e \"p\" para parar: ')\n",
        "i = 0\n",
        "while entrada == 'c':\n",
        "    print(dados.nome_mun[i], dados[var][i])\n",
        "    i = i + 1\n",
        "    entrada = input('Tecle \"c\" para continuar e \"p\" para parar: ')"
      ],
      "execution_count": 0,
      "outputs": []
    },
    {
      "cell_type": "markdown",
      "metadata": {
        "id": "DvKg8ACrqefK",
        "colab_type": "text"
      },
      "source": [
        "## Selecionar municípios de MG (por mesorregião ou microrregião)"
      ]
    },
    {
      "cell_type": "code",
      "metadata": {
        "id": "-nDT9Y5qqefL",
        "colab_type": "code",
        "colab": {}
      },
      "source": [
        "# para saber como estão os nomes das mesorregiões\n",
        "dados.nome_meso.unique()"
      ],
      "execution_count": 0,
      "outputs": []
    },
    {
      "cell_type": "code",
      "metadata": {
        "id": "cqbWKCGDqefR",
        "colab_type": "code",
        "colab": {}
      },
      "source": [
        "# criar um objeto sul com os municípios apenas do Sul/Sudoeste de MG\n",
        "sul = dados.query(\"nome_meso == 'Sul/Sudoeste de Minas'\")"
      ],
      "execution_count": 0,
      "outputs": []
    },
    {
      "cell_type": "code",
      "metadata": {
        "id": "3aVDHgetqefc",
        "colab_type": "code",
        "colab": {}
      },
      "source": [
        "sul.shape"
      ],
      "execution_count": 0,
      "outputs": []
    },
    {
      "cell_type": "code",
      "metadata": {
        "id": "EEhKTZT_qefl",
        "colab_type": "code",
        "colab": {}
      },
      "source": [
        "# notar que os índices começam em 11\n",
        "sul.head()"
      ],
      "execution_count": 0,
      "outputs": []
    },
    {
      "cell_type": "code",
      "metadata": {
        "id": "g3kEl5mpqefu",
        "colab_type": "code",
        "colab": {}
      },
      "source": [
        "# fazer com que os índices comecem em 0\n",
        "sul.index = range(len(sul))\n",
        "sul.head()"
      ],
      "execution_count": 0,
      "outputs": []
    },
    {
      "cell_type": "markdown",
      "metadata": {
        "id": "oK7YMk2-qefz",
        "colab_type": "text"
      },
      "source": [
        "sul é um novo *dataframe* que podemos usar da mesma forma que usamos o dados:"
      ]
    },
    {
      "cell_type": "code",
      "metadata": {
        "id": "VzqeqU9Dqef0",
        "colab_type": "code",
        "colab": {}
      },
      "source": [
        "# percorrer cada linha do dataframe e verificar se o valor da variável rdpc_formal\n",
        "# é maior do que 1000. Se for, mostrar o nome do município e o valor de rdpc_formal\n",
        "for i in range(len(sul)):\n",
        "    if sul.rdpc_formal[i] > 1000:\n",
        "        print(sul.nome_mun[i], sul.rdpc_formal[i])"
      ],
      "execution_count": 0,
      "outputs": []
    },
    {
      "cell_type": "code",
      "metadata": {
        "id": "yrfgKa0uqef5",
        "colab_type": "code",
        "colab": {}
      },
      "source": [
        "# outro jeito para fazer com que os índices comecem em 0\n",
        "# sul1 = dados.query(\"nome_meso == 'Sul/Sudoeste de Minas'\").reset_index().drop('index', axis=1)\n",
        "# sul1.head()"
      ],
      "execution_count": 0,
      "outputs": []
    },
    {
      "cell_type": "markdown",
      "metadata": {
        "id": "p45FhmvOqegC",
        "colab_type": "text"
      },
      "source": [
        "## Usuário escolhe mesorregião"
      ]
    },
    {
      "cell_type": "code",
      "metadata": {
        "id": "H1C7S71cqegD",
        "colab_type": "code",
        "colab": {}
      },
      "source": [
        "nome = input('Escolha uma mesorregião: ')\n",
        "m = dados.query(\"nome_meso == @nome\")"
      ],
      "execution_count": 0,
      "outputs": []
    },
    {
      "cell_type": "code",
      "metadata": {
        "id": "aO_tZPN3qegH",
        "colab_type": "code",
        "colab": {}
      },
      "source": [
        "# fazer com que os índices comecem em 0\n",
        "m.index = range(len(m))"
      ],
      "execution_count": 0,
      "outputs": []
    },
    {
      "cell_type": "code",
      "metadata": {
        "id": "Adm1HvEDRkoY",
        "colab_type": "code",
        "colab": {}
      },
      "source": [
        "# primeiras linhas do dataframe\n",
        "m.head()"
      ],
      "execution_count": 0,
      "outputs": []
    },
    {
      "cell_type": "code",
      "metadata": {
        "id": "zBsOeqn_qegK",
        "colab_type": "code",
        "colab": {}
      },
      "source": [
        "# rendas maiores que um valor para a mesorregião\n",
        "for i in range(len(m)):\n",
        "    if m.rdpc_formal[i] > 300:\n",
        "        print(m.nome_mun[i], m.rdpc_formal[i])"
      ],
      "execution_count": 0,
      "outputs": []
    },
    {
      "cell_type": "markdown",
      "metadata": {
        "id": "V0KLQEHTqegS",
        "colab_type": "text"
      },
      "source": [
        "## Sugestões para o trabalho\n",
        "- usar menus para interagir com o usuário\n",
        "- não vale usar os códigos que passei como exemplo e simplesmente mudar para outra variável ou município, novos códigos devem ser pensados\n",
        "- escolher mesorregiões de MG\n",
        "- usar mais de uma variável ao mesmo tempo\n",
        "- retornar maior e menor valor de alguma variável\n",
        "- calcular medidas estatísticas (média, desvio padrão, correlação etc.)\n",
        "- calcular porcentagens\n",
        "- elaborar algum quiz para interagir com o usuário"
      ]
    },
    {
      "cell_type": "markdown",
      "metadata": {
        "id": "o-WQQWOAqegU",
        "colab_type": "text"
      },
      "source": [
        "### Importante:\n",
        "\n",
        "- não é necessário que o trabalho seja em torno de um tema (demografia, saúde etc.), as funções e códigos podem misturar assuntos sem problema algum (funções que retornam informações de renda, outras funções que retornem informações sobre saúde etc.). Mas quem quiser trabalhar com um tema fique à vontade  \n",
        "- gráficos podem ser utilizados para ilustrar resultados (basta correr atrás da documentação de pacotes do *Python*, como *seaborn*, *matplotlib* etc. ou o site *stackoverflow*)  \n",
        "- o importante é utilizar o que vimos na disciplina, evitando usar funções prontas do *Python* e tentando criar seus próprios códigos"
      ]
    },
    {
      "cell_type": "markdown",
      "metadata": {
        "id": "NRZ01k0siu_U",
        "colab_type": "text"
      },
      "source": [
        "## A partir daqui começar o trabalho"
      ]
    },
    {
      "cell_type": "code",
      "metadata": {
        "id": "Xl1KEWUWiuid",
        "colab_type": "code",
        "colab": {}
      },
      "source": [
        ""
      ],
      "execution_count": 0,
      "outputs": []
    }
  ]
}