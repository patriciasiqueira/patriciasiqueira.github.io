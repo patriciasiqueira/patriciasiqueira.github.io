{
 "cells": [
  {
   "cell_type": "code",
   "execution_count": 1,
   "metadata": {
    "collapsed": true
   },
   "outputs": [],
   "source": [
    "%matplotlib inline\n",
    "import pandas as pd\n",
    "import numpy as np\n",
    "import scipy.stats as stats\n",
    "import matplotlib.pyplot as plt\n",
    "import seaborn as sns\n",
    "sns.set(style='whitegrid')\n",
    "pd.set_option('mode.chained_assignment', None)\n",
    "\n",
    "from sklearn.decomposition import PCA\n",
    "from sklearn.preprocessing import scale"
   ]
  },
  {
   "cell_type": "markdown",
   "metadata": {},
   "source": [
    "## Análise de Componentes Principais (ACP)"
   ]
  },
  {
   "cell_type": "markdown",
   "metadata": {},
   "source": [
    "### 1 Usando a matriz de covariâncias $\\boldsymbol{S}$ (não é a melhor opção)"
   ]
  },
  {
   "cell_type": "markdown",
   "metadata": {},
   "source": [
    "Dados de doze empresas e 3 variáveis - exemplo de MINGOTI (2005). Vamos criar o *dataframe* usando a função *DataFrame* do *pandas*. Poderíamos também ter os dados salvos em uma planilha e usar a função *read_csv* para lê-la."
   ]
  },
  {
   "cell_type": "code",
   "execution_count": 2,
   "metadata": {},
   "outputs": [
    {
     "data": {
      "text/html": [
       "<div>\n",
       "<style scoped>\n",
       "    .dataframe tbody tr th:only-of-type {\n",
       "        vertical-align: middle;\n",
       "    }\n",
       "\n",
       "    .dataframe tbody tr th {\n",
       "        vertical-align: top;\n",
       "    }\n",
       "\n",
       "    .dataframe thead th {\n",
       "        text-align: right;\n",
       "    }\n",
       "</style>\n",
       "<table border=\"1\" class=\"dataframe\">\n",
       "  <thead>\n",
       "    <tr style=\"text-align: right;\">\n",
       "      <th></th>\n",
       "      <th>B</th>\n",
       "      <th>L</th>\n",
       "      <th>P</th>\n",
       "    </tr>\n",
       "  </thead>\n",
       "  <tbody>\n",
       "    <tr>\n",
       "      <th>0</th>\n",
       "      <td>9893</td>\n",
       "      <td>564</td>\n",
       "      <td>17689</td>\n",
       "    </tr>\n",
       "    <tr>\n",
       "      <th>1</th>\n",
       "      <td>8776</td>\n",
       "      <td>389</td>\n",
       "      <td>17359</td>\n",
       "    </tr>\n",
       "    <tr>\n",
       "      <th>2</th>\n",
       "      <td>13572</td>\n",
       "      <td>1103</td>\n",
       "      <td>18597</td>\n",
       "    </tr>\n",
       "    <tr>\n",
       "      <th>3</th>\n",
       "      <td>6455</td>\n",
       "      <td>743</td>\n",
       "      <td>8745</td>\n",
       "    </tr>\n",
       "    <tr>\n",
       "      <th>4</th>\n",
       "      <td>5129</td>\n",
       "      <td>203</td>\n",
       "      <td>14397</td>\n",
       "    </tr>\n",
       "    <tr>\n",
       "      <th>5</th>\n",
       "      <td>5432</td>\n",
       "      <td>215</td>\n",
       "      <td>3467</td>\n",
       "    </tr>\n",
       "    <tr>\n",
       "      <th>6</th>\n",
       "      <td>3807</td>\n",
       "      <td>385</td>\n",
       "      <td>4679</td>\n",
       "    </tr>\n",
       "    <tr>\n",
       "      <th>7</th>\n",
       "      <td>3423</td>\n",
       "      <td>187</td>\n",
       "      <td>6754</td>\n",
       "    </tr>\n",
       "    <tr>\n",
       "      <th>8</th>\n",
       "      <td>3708</td>\n",
       "      <td>127</td>\n",
       "      <td>2275</td>\n",
       "    </tr>\n",
       "    <tr>\n",
       "      <th>9</th>\n",
       "      <td>3294</td>\n",
       "      <td>297</td>\n",
       "      <td>6754</td>\n",
       "    </tr>\n",
       "    <tr>\n",
       "      <th>10</th>\n",
       "      <td>5433</td>\n",
       "      <td>432</td>\n",
       "      <td>5589</td>\n",
       "    </tr>\n",
       "    <tr>\n",
       "      <th>11</th>\n",
       "      <td>6287</td>\n",
       "      <td>451</td>\n",
       "      <td>8972</td>\n",
       "    </tr>\n",
       "  </tbody>\n",
       "</table>\n",
       "</div>"
      ],
      "text/plain": [
       "        B     L      P\n",
       "0    9893   564  17689\n",
       "1    8776   389  17359\n",
       "2   13572  1103  18597\n",
       "3    6455   743   8745\n",
       "4    5129   203  14397\n",
       "5    5432   215   3467\n",
       "6    3807   385   4679\n",
       "7    3423   187   6754\n",
       "8    3708   127   2275\n",
       "9    3294   297   6754\n",
       "10   5433   432   5589\n",
       "11   6287   451   8972"
      ]
     },
     "execution_count": 2,
     "metadata": {},
     "output_type": "execute_result"
    }
   ],
   "source": [
    "# ganho bruto - B (X1)\n",
    "# ganho líquido - L (X2)\n",
    "# patrimônio acumulado - P (X3)\n",
    "emp = pd.DataFrame({'B': [9893,8776,13572,6455,5129,5432,3807,3423,3708,3294,5433,6287],\n",
    "                  'L': [564,389,1103,743,203,215,385,187,127,297,432,451],\n",
    "                  'P': [17689,17359,18597,8745,14397,3467,4679,6754,2275,6754,5589,8972]})\n",
    "emp"
   ]
  },
  {
   "cell_type": "code",
   "execution_count": 3,
   "metadata": {},
   "outputs": [
    {
     "data": {
      "text/html": [
       "<div>\n",
       "<style scoped>\n",
       "    .dataframe tbody tr th:only-of-type {\n",
       "        vertical-align: middle;\n",
       "    }\n",
       "\n",
       "    .dataframe tbody tr th {\n",
       "        vertical-align: top;\n",
       "    }\n",
       "\n",
       "    .dataframe thead th {\n",
       "        text-align: right;\n",
       "    }\n",
       "</style>\n",
       "<table border=\"1\" class=\"dataframe\">\n",
       "  <thead>\n",
       "    <tr style=\"text-align: right;\">\n",
       "      <th></th>\n",
       "      <th>B</th>\n",
       "      <th>L</th>\n",
       "      <th>P</th>\n",
       "    </tr>\n",
       "  </thead>\n",
       "  <tbody>\n",
       "    <tr>\n",
       "      <th>count</th>\n",
       "      <td>12.000000</td>\n",
       "      <td>12.000000</td>\n",
       "      <td>12.000000</td>\n",
       "    </tr>\n",
       "    <tr>\n",
       "      <th>mean</th>\n",
       "      <td>6267.416667</td>\n",
       "      <td>424.666667</td>\n",
       "      <td>9606.416667</td>\n",
       "    </tr>\n",
       "    <tr>\n",
       "      <th>std</th>\n",
       "      <td>3090.405900</td>\n",
       "      <td>276.169360</td>\n",
       "      <td>5865.842906</td>\n",
       "    </tr>\n",
       "    <tr>\n",
       "      <th>min</th>\n",
       "      <td>3294.000000</td>\n",
       "      <td>127.000000</td>\n",
       "      <td>2275.000000</td>\n",
       "    </tr>\n",
       "    <tr>\n",
       "      <th>25%</th>\n",
       "      <td>3782.250000</td>\n",
       "      <td>212.000000</td>\n",
       "      <td>5361.500000</td>\n",
       "    </tr>\n",
       "    <tr>\n",
       "      <th>50%</th>\n",
       "      <td>5432.500000</td>\n",
       "      <td>387.000000</td>\n",
       "      <td>7749.500000</td>\n",
       "    </tr>\n",
       "    <tr>\n",
       "      <th>75%</th>\n",
       "      <td>7035.250000</td>\n",
       "      <td>479.250000</td>\n",
       "      <td>15137.500000</td>\n",
       "    </tr>\n",
       "    <tr>\n",
       "      <th>max</th>\n",
       "      <td>13572.000000</td>\n",
       "      <td>1103.000000</td>\n",
       "      <td>18597.000000</td>\n",
       "    </tr>\n",
       "  </tbody>\n",
       "</table>\n",
       "</div>"
      ],
      "text/plain": [
       "                  B            L             P\n",
       "count     12.000000    12.000000     12.000000\n",
       "mean    6267.416667   424.666667   9606.416667\n",
       "std     3090.405900   276.169360   5865.842906\n",
       "min     3294.000000   127.000000   2275.000000\n",
       "25%     3782.250000   212.000000   5361.500000\n",
       "50%     5432.500000   387.000000   7749.500000\n",
       "75%     7035.250000   479.250000  15137.500000\n",
       "max    13572.000000  1103.000000  18597.000000"
      ]
     },
     "execution_count": 3,
     "metadata": {},
     "output_type": "execute_result"
    }
   ],
   "source": [
    "# resumo do conjunto de dados\n",
    "emp.describe()"
   ]
  },
  {
   "cell_type": "code",
   "execution_count": 4,
   "metadata": {},
   "outputs": [
    {
     "data": {
      "text/plain": [
       "12"
      ]
     },
     "execution_count": 4,
     "metadata": {},
     "output_type": "execute_result"
    }
   ],
   "source": [
    "# obter n\n",
    "n = emp.shape[0]\n",
    "n"
   ]
  },
  {
   "cell_type": "code",
   "execution_count": 5,
   "metadata": {},
   "outputs": [
    {
     "data": {
      "text/plain": [
       "3"
      ]
     },
     "execution_count": 5,
     "metadata": {},
     "output_type": "execute_result"
    }
   ],
   "source": [
    "# obter p\n",
    "p = emp.shape[1]\n",
    "p"
   ]
  },
  {
   "cell_type": "code",
   "execution_count": 6,
   "metadata": {},
   "outputs": [
    {
     "data": {
      "text/plain": [
       "B    6267.416667\n",
       "L     424.666667\n",
       "P    9606.416667\n",
       "dtype: float64"
      ]
     },
     "execution_count": 6,
     "metadata": {},
     "output_type": "execute_result"
    }
   ],
   "source": [
    "# vetor de médias\n",
    "emp.mean()"
   ]
  },
  {
   "cell_type": "code",
   "execution_count": 7,
   "metadata": {},
   "outputs": [
    {
     "data": {
      "text/html": [
       "<div>\n",
       "<style scoped>\n",
       "    .dataframe tbody tr th:only-of-type {\n",
       "        vertical-align: middle;\n",
       "    }\n",
       "\n",
       "    .dataframe tbody tr th {\n",
       "        vertical-align: top;\n",
       "    }\n",
       "\n",
       "    .dataframe thead th {\n",
       "        text-align: right;\n",
       "    }\n",
       "</style>\n",
       "<table border=\"1\" class=\"dataframe\">\n",
       "  <thead>\n",
       "    <tr style=\"text-align: right;\">\n",
       "      <th></th>\n",
       "      <th>B</th>\n",
       "      <th>L</th>\n",
       "      <th>P</th>\n",
       "    </tr>\n",
       "  </thead>\n",
       "  <tbody>\n",
       "    <tr>\n",
       "      <th>B</th>\n",
       "      <td>9.550609e+06</td>\n",
       "      <td>706121.060606</td>\n",
       "      <td>1.497823e+07</td>\n",
       "    </tr>\n",
       "    <tr>\n",
       "      <th>L</th>\n",
       "      <td>7.061211e+05</td>\n",
       "      <td>76269.515152</td>\n",
       "      <td>9.339151e+05</td>\n",
       "    </tr>\n",
       "    <tr>\n",
       "      <th>P</th>\n",
       "      <td>1.497823e+07</td>\n",
       "      <td>933915.060606</td>\n",
       "      <td>3.440811e+07</td>\n",
       "    </tr>\n",
       "  </tbody>\n",
       "</table>\n",
       "</div>"
      ],
      "text/plain": [
       "              B              L             P\n",
       "B  9.550609e+06  706121.060606  1.497823e+07\n",
       "L  7.061211e+05   76269.515152  9.339151e+05\n",
       "P  1.497823e+07  933915.060606  3.440811e+07"
      ]
     },
     "execution_count": 7,
     "metadata": {},
     "output_type": "execute_result"
    }
   ],
   "source": [
    "# matriz de covariâncias\n",
    "S = emp.cov()\n",
    "S"
   ]
  },
  {
   "cell_type": "code",
   "execution_count": 8,
   "metadata": {},
   "outputs": [
    {
     "data": {
      "text/html": [
       "<div>\n",
       "<style scoped>\n",
       "    .dataframe tbody tr th:only-of-type {\n",
       "        vertical-align: middle;\n",
       "    }\n",
       "\n",
       "    .dataframe tbody tr th {\n",
       "        vertical-align: top;\n",
       "    }\n",
       "\n",
       "    .dataframe thead th {\n",
       "        text-align: right;\n",
       "    }\n",
       "</style>\n",
       "<table border=\"1\" class=\"dataframe\">\n",
       "  <thead>\n",
       "    <tr style=\"text-align: right;\">\n",
       "      <th></th>\n",
       "      <th>B</th>\n",
       "      <th>L</th>\n",
       "      <th>P</th>\n",
       "    </tr>\n",
       "  </thead>\n",
       "  <tbody>\n",
       "    <tr>\n",
       "      <th>B</th>\n",
       "      <td>1.000000</td>\n",
       "      <td>0.827348</td>\n",
       "      <td>0.826256</td>\n",
       "    </tr>\n",
       "    <tr>\n",
       "      <th>L</th>\n",
       "      <td>0.827348</td>\n",
       "      <td>1.000000</td>\n",
       "      <td>0.576503</td>\n",
       "    </tr>\n",
       "    <tr>\n",
       "      <th>P</th>\n",
       "      <td>0.826256</td>\n",
       "      <td>0.576503</td>\n",
       "      <td>1.000000</td>\n",
       "    </tr>\n",
       "  </tbody>\n",
       "</table>\n",
       "</div>"
      ],
      "text/plain": [
       "          B         L         P\n",
       "B  1.000000  0.827348  0.826256\n",
       "L  0.827348  1.000000  0.576503\n",
       "P  0.826256  0.576503  1.000000"
      ]
     },
     "execution_count": 8,
     "metadata": {},
     "output_type": "execute_result"
    }
   ],
   "source": [
    "# matriz de correlações\n",
    "R = emp.corr()\n",
    "R"
   ]
  },
  {
   "cell_type": "code",
   "execution_count": 9,
   "metadata": {},
   "outputs": [
    {
     "data": {
      "image/png": "[encoded data removed]",
      "text/plain": [
       "<Figure size 540x540 with 12 Axes>"
      ]
     },
     "metadata": {},
     "output_type": "display_data"
    }
   ],
   "source": [
    "sns.set(style='ticks')\n",
    "sns.pairplot(emp);"
   ]
  },
  {
   "cell_type": "markdown",
   "metadata": {},
   "source": [
    "### Decomposição espectral: autovalores e autovetores"
   ]
  },
  {
   "cell_type": "code",
   "execution_count": 10,
   "metadata": {},
   "outputs": [
    {
     "name": "stdout",
     "output_type": "stream",
     "text": [
      "[  4.14743915e+07   2.53950713e+06   2.10925256e+04]\n",
      "[[ 0.42509725  0.8997068   0.09909593]\n",
      " [ 0.02766083  0.09651661 -0.99494694]\n",
      " [ 0.90472493 -0.42569029 -0.01614231]]\n"
     ]
    }
   ],
   "source": [
    "# autovalores e autovetores de S\n",
    "l, e = np.linalg.eig(S)\n",
    "print(l)\n",
    "print(e)"
   ]
  },
  {
   "cell_type": "markdown",
   "metadata": {},
   "source": [
    "#### Garantir que autovalores ordenados em ordem descrescente"
   ]
  },
  {
   "cell_type": "code",
   "execution_count": 11,
   "metadata": {},
   "outputs": [
    {
     "name": "stdout",
     "output_type": "stream",
     "text": [
      "[  4.14743915e+07   2.53950713e+06   2.10925256e+04]\n",
      "[[ 0.42509725  0.8997068   0.09909593]\n",
      " [ 0.02766083  0.09651661 -0.99494694]\n",
      " [ 0.90472493 -0.42569029 -0.01614231]]\n"
     ]
    }
   ],
   "source": [
    "l, e = np.linalg.eig(S)\n",
    "idx = np.argsort(l)[::-1]\n",
    "l = l[idx]\n",
    "e = e[:,idx]\n",
    "print(l)\n",
    "print(e)"
   ]
  },
  {
   "cell_type": "markdown",
   "metadata": {},
   "source": [
    "Verificar que a soma das variâncias de $\\boldsymbol(Y)$ é igual à soma das variâncias de $\\boldsymbol(X)$, ou seja, $\\sum \\lambda_i$ = $\\sum \\sigma_{ii}$."
   ]
  },
  {
   "cell_type": "code",
   "execution_count": 12,
   "metadata": {},
   "outputs": [
    {
     "data": {
      "text/plain": [
       "44034991.13636364"
      ]
     },
     "execution_count": 12,
     "metadata": {},
     "output_type": "execute_result"
    }
   ],
   "source": [
    "# soma das variâncias de X é o traço da matriz S\n",
    "np.trace(S)"
   ]
  },
  {
   "cell_type": "code",
   "execution_count": 13,
   "metadata": {},
   "outputs": [
    {
     "data": {
      "text/plain": [
       "44034991.13636364"
      ]
     },
     "execution_count": 13,
     "metadata": {},
     "output_type": "execute_result"
    }
   ],
   "source": [
    "# soma das variâncias de Y é a soma dos autovalores\n",
    "np.sum(l)"
   ]
  },
  {
   "cell_type": "code",
   "execution_count": 14,
   "metadata": {},
   "outputs": [
    {
     "name": "stdout",
     "output_type": "stream",
     "text": [
      "[[  4.14743915e+07   0.00000000e+00   0.00000000e+00]\n",
      " [  0.00000000e+00   2.53950713e+06   0.00000000e+00]\n",
      " [  0.00000000e+00   0.00000000e+00   2.10925256e+04]]\n"
     ]
    },
    {
     "data": {
      "text/plain": [
       "44034991.13636364"
      ]
     },
     "execution_count": 14,
     "metadata": {},
     "output_type": "execute_result"
    }
   ],
   "source": [
    "# mas a soma das variâncias de Y também é o traço da matriz Lambda\n",
    "L = np.diag(l)\n",
    "print(L)\n",
    "np.trace(L)"
   ]
  },
  {
   "cell_type": "code",
   "execution_count": 15,
   "metadata": {},
   "outputs": [
    {
     "name": "stdout",
     "output_type": "stream",
     "text": [
      "[ 2.49253211  0.42349813  0.08396976]\n",
      "[[ 0.61670267 -0.00126721  0.78719515]\n",
      " [ 0.55679445 -0.70619694 -0.43733949]\n",
      " [ 0.556469    0.70801432 -0.43480796]]\n"
     ]
    }
   ],
   "source": [
    "# autovalores e autovetores de R\n",
    "l, e = np.linalg.eig(R)\n",
    "idx = np.argsort(l)[::-1]\n",
    "l = l[idx]\n",
    "e = e[:,idx]\n",
    "print(l)\n",
    "print(e)"
   ]
  },
  {
   "cell_type": "markdown",
   "metadata": {
    "collapsed": true
   },
   "source": [
    "### Análise de Componentes Principais"
   ]
  },
  {
   "cell_type": "markdown",
   "metadata": {},
   "source": [
    "Usando scikit-learn"
   ]
  },
  {
   "cell_type": "markdown",
   "metadata": {},
   "source": [
    "**Atenção:** primeiro faremos a análise de componentes principais usando a matriz de covariâncias, mas essa não é a melhor opção na maior parte das situações. Isso ocorre porque algumas variáveis tendem a ter variâncias muito maiores do que outras e acabam dominando a análise."
   ]
  },
  {
   "cell_type": "code",
   "execution_count": 16,
   "metadata": {
    "collapsed": true
   },
   "outputs": [],
   "source": [
    "X = emp"
   ]
  },
  {
   "cell_type": "code",
   "execution_count": 17,
   "metadata": {
    "collapsed": true
   },
   "outputs": [],
   "source": [
    "pca = PCA() \n",
    "resultado_pca = pca.fit_transform(X)  # se a matriz de correlações R for usada, colocar scale(X) em vez de X\n",
    "resultado = pd.DataFrame({'cp1': resultado_pca[:, 0], 'cp2': resultado_pca[:, 1]})"
   ]
  },
  {
   "cell_type": "code",
   "execution_count": 18,
   "metadata": {},
   "outputs": [
    {
     "data": {
      "text/plain": [
       "array([[ 0.42509725,  0.02766083,  0.90472493],\n",
       "       [-0.8997068 , -0.09651661,  0.42569029],\n",
       "       [-0.09909593,  0.99494694,  0.01614231]])"
      ]
     },
     "execution_count": 18,
     "metadata": {},
     "output_type": "execute_result"
    }
   ],
   "source": [
    "# coeficientes dos CPs (autovetores)\n",
    "# cada linha é um CP\n",
    "pca.components_"
   ]
  },
  {
   "cell_type": "code",
   "execution_count": 19,
   "metadata": {},
   "outputs": [
    {
     "data": {
      "text/plain": [
       "array([  4.14743915e+07,   2.53950713e+06,   2.10925256e+04])"
      ]
     },
     "execution_count": 19,
     "metadata": {},
     "output_type": "execute_result"
    }
   ],
   "source": [
    "# variâncias dos CPs (autovalores)\n",
    "pca.explained_variance_"
   ]
  },
  {
   "cell_type": "code",
   "execution_count": 20,
   "metadata": {},
   "outputs": [
    {
     "data": {
      "text/plain": [
       "array([  94.19,   99.96,  100.01])"
      ]
     },
     "execution_count": 20,
     "metadata": {},
     "output_type": "execute_result"
    }
   ],
   "source": [
    "# variância explicada acumulada\n",
    "np.cumsum(np.round(pca.explained_variance_ratio_, decimals=4)*100)"
   ]
  },
  {
   "cell_type": "code",
   "execution_count": 21,
   "metadata": {},
   "outputs": [
    {
     "data": {
      "text/html": [
       "<div>\n",
       "<style scoped>\n",
       "    .dataframe tbody tr th:only-of-type {\n",
       "        vertical-align: middle;\n",
       "    }\n",
       "\n",
       "    .dataframe tbody tr th {\n",
       "        vertical-align: top;\n",
       "    }\n",
       "\n",
       "    .dataframe thead th {\n",
       "        text-align: right;\n",
       "    }\n",
       "</style>\n",
       "<table border=\"1\" class=\"dataframe\">\n",
       "  <thead>\n",
       "    <tr style=\"text-align: right;\">\n",
       "      <th></th>\n",
       "      <th>cp1</th>\n",
       "      <th>cp2</th>\n",
       "    </tr>\n",
       "  </thead>\n",
       "  <tbody>\n",
       "    <tr>\n",
       "      <th>0</th>\n",
       "      <td>8857.594255</td>\n",
       "      <td>165.267260</td>\n",
       "    </tr>\n",
       "    <tr>\n",
       "      <th>1</th>\n",
       "      <td>8079.360752</td>\n",
       "      <td>1046.652367</td>\n",
       "    </tr>\n",
       "    <tr>\n",
       "      <th>2</th>\n",
       "      <td>11257.926468</td>\n",
       "      <td>-2810.249726</td>\n",
       "    </tr>\n",
       "    <tr>\n",
       "      <th>3</th>\n",
       "      <td>-690.798614</td>\n",
       "      <td>-566.191163</td>\n",
       "    </tr>\n",
       "    <tr>\n",
       "      <th>4</th>\n",
       "      <td>3844.090910</td>\n",
       "      <td>3084.940522</td>\n",
       "    </tr>\n",
       "    <tr>\n",
       "      <th>5</th>\n",
       "      <td>-5915.416219</td>\n",
       "      <td>-1841.623669</td>\n",
       "    </tr>\n",
       "    <tr>\n",
       "      <th>6</th>\n",
       "      <td>-5504.970291</td>\n",
       "      <td>119.928682</td>\n",
       "    </tr>\n",
       "    <tr>\n",
       "      <th>7</th>\n",
       "      <td>-3796.380242</td>\n",
       "      <td>1367.833726</td>\n",
       "    </tr>\n",
       "    <tr>\n",
       "      <th>8</th>\n",
       "      <td>-7729.150154</td>\n",
       "      <td>-789.458508</td>\n",
       "    </tr>\n",
       "    <tr>\n",
       "      <th>9</th>\n",
       "      <td>-3848.175097</td>\n",
       "      <td>1473.279076</td>\n",
       "    </tr>\n",
       "    <tr>\n",
       "      <th>10</th>\n",
       "      <td>-3989.162413</td>\n",
       "      <td>-960.152693</td>\n",
       "    </tr>\n",
       "    <tr>\n",
       "      <th>11</th>\n",
       "      <td>-564.919354</td>\n",
       "      <td>-290.225875</td>\n",
       "    </tr>\n",
       "  </tbody>\n",
       "</table>\n",
       "</div>"
      ],
      "text/plain": [
       "             cp1          cp2\n",
       "0    8857.594255   165.267260\n",
       "1    8079.360752  1046.652367\n",
       "2   11257.926468 -2810.249726\n",
       "3    -690.798614  -566.191163\n",
       "4    3844.090910  3084.940522\n",
       "5   -5915.416219 -1841.623669\n",
       "6   -5504.970291   119.928682\n",
       "7   -3796.380242  1367.833726\n",
       "8   -7729.150154  -789.458508\n",
       "9   -3848.175097  1473.279076\n",
       "10  -3989.162413  -960.152693\n",
       "11   -564.919354  -290.225875"
      ]
     },
     "execution_count": 21,
     "metadata": {},
     "output_type": "execute_result"
    }
   ],
   "source": [
    "# escores dos dois primeiros CPs\n",
    "resultado"
   ]
  },
  {
   "cell_type": "code",
   "execution_count": 22,
   "metadata": {},
   "outputs": [
    {
     "data": {
      "image/png": "[encoded data removed]",
      "text/plain": [
       "<Figure size 432x288 with 1 Axes>"
      ]
     },
     "metadata": {},
     "output_type": "display_data"
    }
   ],
   "source": [
    "plt.scatter(resultado_pca[:, 0], resultado_pca[:, 1]);"
   ]
  },
  {
   "cell_type": "code",
   "execution_count": 23,
   "metadata": {
    "collapsed": true
   },
   "outputs": [],
   "source": [
    "# mostrar escores do CP1 \n",
    "escores_pc1 = pd.DataFrame(data=resultado_pca[:, 0], columns=['CP1'])"
   ]
  },
  {
   "cell_type": "code",
   "execution_count": 24,
   "metadata": {},
   "outputs": [
    {
     "data": {
      "text/html": [
       "<div>\n",
       "<style scoped>\n",
       "    .dataframe tbody tr th:only-of-type {\n",
       "        vertical-align: middle;\n",
       "    }\n",
       "\n",
       "    .dataframe tbody tr th {\n",
       "        vertical-align: top;\n",
       "    }\n",
       "\n",
       "    .dataframe thead th {\n",
       "        text-align: right;\n",
       "    }\n",
       "</style>\n",
       "<table border=\"1\" class=\"dataframe\">\n",
       "  <thead>\n",
       "    <tr style=\"text-align: right;\">\n",
       "      <th></th>\n",
       "      <th>CP1</th>\n",
       "    </tr>\n",
       "  </thead>\n",
       "  <tbody>\n",
       "    <tr>\n",
       "      <th>0</th>\n",
       "      <td>8857.594255</td>\n",
       "    </tr>\n",
       "    <tr>\n",
       "      <th>1</th>\n",
       "      <td>8079.360752</td>\n",
       "    </tr>\n",
       "    <tr>\n",
       "      <th>2</th>\n",
       "      <td>11257.926468</td>\n",
       "    </tr>\n",
       "    <tr>\n",
       "      <th>3</th>\n",
       "      <td>-690.798614</td>\n",
       "    </tr>\n",
       "    <tr>\n",
       "      <th>4</th>\n",
       "      <td>3844.090910</td>\n",
       "    </tr>\n",
       "    <tr>\n",
       "      <th>5</th>\n",
       "      <td>-5915.416219</td>\n",
       "    </tr>\n",
       "    <tr>\n",
       "      <th>6</th>\n",
       "      <td>-5504.970291</td>\n",
       "    </tr>\n",
       "    <tr>\n",
       "      <th>7</th>\n",
       "      <td>-3796.380242</td>\n",
       "    </tr>\n",
       "    <tr>\n",
       "      <th>8</th>\n",
       "      <td>-7729.150154</td>\n",
       "    </tr>\n",
       "    <tr>\n",
       "      <th>9</th>\n",
       "      <td>-3848.175097</td>\n",
       "    </tr>\n",
       "    <tr>\n",
       "      <th>10</th>\n",
       "      <td>-3989.162413</td>\n",
       "    </tr>\n",
       "    <tr>\n",
       "      <th>11</th>\n",
       "      <td>-564.919354</td>\n",
       "    </tr>\n",
       "  </tbody>\n",
       "</table>\n",
       "</div>"
      ],
      "text/plain": [
       "             CP1\n",
       "0    8857.594255\n",
       "1    8079.360752\n",
       "2   11257.926468\n",
       "3    -690.798614\n",
       "4    3844.090910\n",
       "5   -5915.416219\n",
       "6   -5504.970291\n",
       "7   -3796.380242\n",
       "8   -7729.150154\n",
       "9   -3848.175097\n",
       "10  -3989.162413\n",
       "11   -564.919354"
      ]
     },
     "execution_count": 24,
     "metadata": {},
     "output_type": "execute_result"
    }
   ],
   "source": [
    "escores_pc1"
   ]
  },
  {
   "cell_type": "code",
   "execution_count": 25,
   "metadata": {},
   "outputs": [
    {
     "data": {
      "text/html": [
       "<div>\n",
       "<style scoped>\n",
       "    .dataframe tbody tr th:only-of-type {\n",
       "        vertical-align: middle;\n",
       "    }\n",
       "\n",
       "    .dataframe tbody tr th {\n",
       "        vertical-align: top;\n",
       "    }\n",
       "\n",
       "    .dataframe thead th {\n",
       "        text-align: right;\n",
       "    }\n",
       "</style>\n",
       "<table border=\"1\" class=\"dataframe\">\n",
       "  <thead>\n",
       "    <tr style=\"text-align: right;\">\n",
       "      <th></th>\n",
       "      <th>CP1</th>\n",
       "    </tr>\n",
       "  </thead>\n",
       "  <tbody>\n",
       "    <tr>\n",
       "      <th>8</th>\n",
       "      <td>-7729.150154</td>\n",
       "    </tr>\n",
       "    <tr>\n",
       "      <th>5</th>\n",
       "      <td>-5915.416219</td>\n",
       "    </tr>\n",
       "    <tr>\n",
       "      <th>6</th>\n",
       "      <td>-5504.970291</td>\n",
       "    </tr>\n",
       "    <tr>\n",
       "      <th>10</th>\n",
       "      <td>-3989.162413</td>\n",
       "    </tr>\n",
       "    <tr>\n",
       "      <th>9</th>\n",
       "      <td>-3848.175097</td>\n",
       "    </tr>\n",
       "    <tr>\n",
       "      <th>7</th>\n",
       "      <td>-3796.380242</td>\n",
       "    </tr>\n",
       "    <tr>\n",
       "      <th>3</th>\n",
       "      <td>-690.798614</td>\n",
       "    </tr>\n",
       "    <tr>\n",
       "      <th>11</th>\n",
       "      <td>-564.919354</td>\n",
       "    </tr>\n",
       "    <tr>\n",
       "      <th>4</th>\n",
       "      <td>3844.090910</td>\n",
       "    </tr>\n",
       "    <tr>\n",
       "      <th>1</th>\n",
       "      <td>8079.360752</td>\n",
       "    </tr>\n",
       "    <tr>\n",
       "      <th>0</th>\n",
       "      <td>8857.594255</td>\n",
       "    </tr>\n",
       "    <tr>\n",
       "      <th>2</th>\n",
       "      <td>11257.926468</td>\n",
       "    </tr>\n",
       "  </tbody>\n",
       "</table>\n",
       "</div>"
      ],
      "text/plain": [
       "             CP1\n",
       "8   -7729.150154\n",
       "5   -5915.416219\n",
       "6   -5504.970291\n",
       "10  -3989.162413\n",
       "9   -3848.175097\n",
       "7   -3796.380242\n",
       "3    -690.798614\n",
       "11   -564.919354\n",
       "4    3844.090910\n",
       "1    8079.360752\n",
       "0    8857.594255\n",
       "2   11257.926468"
      ]
     },
     "execution_count": 25,
     "metadata": {},
     "output_type": "execute_result"
    }
   ],
   "source": [
    "# só mostrando os menores ou maiores escores do CP1 (ascending=True é para ordem crescente)\n",
    "(escores_pc1\n",
    " .sort_values(by='CP1', ascending=True)\n",
    " .loc[:,['CP1']]\n",
    " .iloc[:20,:])"
   ]
  },
  {
   "cell_type": "code",
   "execution_count": 26,
   "metadata": {},
   "outputs": [
    {
     "data": {
      "image/png": "[encoded data removed]",
      "text/plain": [
       "<Figure size 720x360 with 1 Axes>"
      ]
     },
     "metadata": {},
     "output_type": "display_data"
    }
   ],
   "source": [
    "# diagrama de dispersão dos 2 primeiros CPs usando seaborn\n",
    "sns.lmplot('cp1', 'cp2', fit_reg=False, data=resultado, aspect=2)\n",
    "plt.hlines(0, -4, 4, color='gray')\n",
    "plt.vlines(0, -4, 4, color='gray');"
   ]
  },
  {
   "cell_type": "code",
   "execution_count": 27,
   "metadata": {
    "collapsed": true
   },
   "outputs": [],
   "source": [
    "# para tirar as linhas em volta do gráfico\n",
    "plt.rc('axes.spines', top=False, right=False, left=False, bottom=False)\n",
    "# para que as linhas em volta do gráfico voltem a aparecer\n",
    "# plt.rc('axes.spines', top=True, right=True, left=True, bottom=True)"
   ]
  },
  {
   "cell_type": "code",
   "execution_count": 28,
   "metadata": {},
   "outputs": [
    {
     "data": {
      "image/png": "[encoded data removed]",
      "text/plain": [
       "<Figure size 1080x720 with 1 Axes>"
      ]
     },
     "metadata": {},
     "output_type": "display_data"
    }
   ],
   "source": [
    "# diagrama de dispersão identificando os índices\n",
    "fig, ax = plt.subplots()\n",
    "fig.set_size_inches(15, 10)\n",
    "ax.scatter(resultado.cp1, resultado.cp2)\n",
    "for i, txt in enumerate(resultado.index):\n",
    "    ax.annotate(txt, (resultado.cp1[i], resultado.cp2[i]))\n",
    "plt.hlines(0, -7500, 12000, color='gray')\n",
    "plt.vlines(0, -3000, 3500, color='gray');"
   ]
  },
  {
   "cell_type": "markdown",
   "metadata": {
    "collapsed": true
   },
   "source": [
    "## 2 ACP usando a matriz de correlações (melhor opção)"
   ]
  },
  {
   "cell_type": "code",
   "execution_count": 29,
   "metadata": {
    "collapsed": true
   },
   "outputs": [],
   "source": [
    "pca = PCA() \n",
    "resultado_pca = pca.fit_transform(scale(X))   # scale(X) padroniza os dados, como se usássemos a matriz R"
   ]
  },
  {
   "cell_type": "code",
   "execution_count": 30,
   "metadata": {
    "collapsed": true
   },
   "outputs": [],
   "source": [
    "resultado = pd.DataFrame({'cp1': resultado_pca[:, 0], 'cp2': resultado_pca[:, 1]})"
   ]
  },
  {
   "cell_type": "code",
   "execution_count": 31,
   "metadata": {},
   "outputs": [
    {
     "data": {
      "text/plain": [
       "array([[ 0.61670267,  0.55679445,  0.556469  ],\n",
       "       [-0.00126721, -0.70619694,  0.70801432],\n",
       "       [ 0.78719515, -0.43733949, -0.43480796]])"
      ]
     },
     "execution_count": 31,
     "metadata": {},
     "output_type": "execute_result"
    }
   ],
   "source": [
    "# coeficientes dos CPs (autovetores)\n",
    "# cada linha é um CP\n",
    "pca.components_"
   ]
  },
  {
   "cell_type": "markdown",
   "metadata": {},
   "source": [
    "Interpretação:\n",
    "\n",
    "- Y1: índice de desempenho global da empresa (valores altos positivos indicam empresas que tiveram ganhos B, L e P maiores do que a média)\n",
    "- Y2: comparação entre L e P (valores ~ 0 indicam empresas em que L está em equilíbrio com P)\n",
    "- Y3: comparação de B com o índice composto por por L e P (representa pouco da variação total, mas pode ser de interesse para o pesquisador)"
   ]
  },
  {
   "cell_type": "code",
   "execution_count": 32,
   "metadata": {},
   "outputs": [
    {
     "data": {
      "text/plain": [
       "array([ 2.71912594,  0.46199796,  0.09160337])"
      ]
     },
     "execution_count": 32,
     "metadata": {},
     "output_type": "execute_result"
    }
   ],
   "source": [
    "# variâncias dos CPs (autovalores)\n",
    "pca.explained_variance_"
   ]
  },
  {
   "cell_type": "code",
   "execution_count": 33,
   "metadata": {},
   "outputs": [
    {
     "data": {
      "text/plain": [
       "array([  83.08,   97.2 ,  100.  ])"
      ]
     },
     "execution_count": 33,
     "metadata": {},
     "output_type": "execute_result"
    }
   ],
   "source": [
    "# variância explicada acumulada\n",
    "np.cumsum(np.round(pca.explained_variance_ratio_, decimals=4)*100)"
   ]
  },
  {
   "cell_type": "code",
   "execution_count": 34,
   "metadata": {},
   "outputs": [
    {
     "data": {
      "text/html": [
       "<div>\n",
       "<style scoped>\n",
       "    .dataframe tbody tr th:only-of-type {\n",
       "        vertical-align: middle;\n",
       "    }\n",
       "\n",
       "    .dataframe tbody tr th {\n",
       "        vertical-align: top;\n",
       "    }\n",
       "\n",
       "    .dataframe thead th {\n",
       "        text-align: right;\n",
       "    }\n",
       "</style>\n",
       "<table border=\"1\" class=\"dataframe\">\n",
       "  <thead>\n",
       "    <tr style=\"text-align: right;\">\n",
       "      <th></th>\n",
       "      <th>cp1</th>\n",
       "      <th>cp2</th>\n",
       "    </tr>\n",
       "  </thead>\n",
       "  <tbody>\n",
       "    <tr>\n",
       "      <th>0</th>\n",
       "      <td>1.849933</td>\n",
       "      <td>0.645271</td>\n",
       "    </tr>\n",
       "    <tr>\n",
       "      <th>1</th>\n",
       "      <td>1.215910</td>\n",
       "      <td>1.071540</td>\n",
       "    </tr>\n",
       "    <tr>\n",
       "      <th>2</th>\n",
       "      <td>3.841723</td>\n",
       "      <td>-0.681407</td>\n",
       "    </tr>\n",
       "    <tr>\n",
       "      <th>3</th>\n",
       "      <td>0.624086</td>\n",
       "      <td>-0.958889</td>\n",
       "    </tr>\n",
       "    <tr>\n",
       "      <th>4</th>\n",
       "      <td>-0.229387</td>\n",
       "      <td>1.196460</td>\n",
       "    </tr>\n",
       "    <tr>\n",
       "      <th>5</th>\n",
       "      <td>-1.223956</td>\n",
       "      <td>-0.213646</td>\n",
       "    </tr>\n",
       "    <tr>\n",
       "      <th>6</th>\n",
       "      <td>-1.084577</td>\n",
       "      <td>-0.514195</td>\n",
       "    </tr>\n",
       "    <tr>\n",
       "      <th>7</th>\n",
       "      <td>-1.375958</td>\n",
       "      <td>0.276384</td>\n",
       "    </tr>\n",
       "    <tr>\n",
       "      <th>8</th>\n",
       "      <td>-1.886702</td>\n",
       "      <td>-0.128149</td>\n",
       "    </tr>\n",
       "    <tr>\n",
       "      <th>9</th>\n",
       "      <td>-1.171209</td>\n",
       "      <td>-0.017351</td>\n",
       "    </tr>\n",
       "    <tr>\n",
       "      <th>10</th>\n",
       "      <td>-0.556536</td>\n",
       "      <td>-0.525698</td>\n",
       "    </tr>\n",
       "    <tr>\n",
       "      <th>11</th>\n",
       "      <td>-0.003327</td>\n",
       "      <td>-0.150320</td>\n",
       "    </tr>\n",
       "  </tbody>\n",
       "</table>\n",
       "</div>"
      ],
      "text/plain": [
       "         cp1       cp2\n",
       "0   1.849933  0.645271\n",
       "1   1.215910  1.071540\n",
       "2   3.841723 -0.681407\n",
       "3   0.624086 -0.958889\n",
       "4  -0.229387  1.196460\n",
       "5  -1.223956 -0.213646\n",
       "6  -1.084577 -0.514195\n",
       "7  -1.375958  0.276384\n",
       "8  -1.886702 -0.128149\n",
       "9  -1.171209 -0.017351\n",
       "10 -0.556536 -0.525698\n",
       "11 -0.003327 -0.150320"
      ]
     },
     "execution_count": 34,
     "metadata": {},
     "output_type": "execute_result"
    }
   ],
   "source": [
    "# escores dos dois primeiros CPs\n",
    "resultado"
   ]
  },
  {
   "cell_type": "code",
   "execution_count": 35,
   "metadata": {},
   "outputs": [
    {
     "data": {
      "text/plain": [
       "array([  83.08,   97.2 ,  100.  ])"
      ]
     },
     "execution_count": 35,
     "metadata": {},
     "output_type": "execute_result"
    }
   ],
   "source": [
    "# variância explicada acumulada\n",
    "np.cumsum(np.round(pca.explained_variance_ratio_, decimals=4)*100)"
   ]
  },
  {
   "cell_type": "code",
   "execution_count": 36,
   "metadata": {},
   "outputs": [
    {
     "data": {
      "image/png": "[encoded data removed]",
      "text/plain": [
       "<Figure size 432x288 with 1 Axes>"
      ]
     },
     "metadata": {},
     "output_type": "display_data"
    }
   ],
   "source": [
    "plt.scatter(resultado_pca[:, 0], resultado_pca[:, 1])\n",
    "plt.hlines(0, -2, 4, color='gray')\n",
    "plt.vlines(0, -1, 2, color='gray');"
   ]
  },
  {
   "cell_type": "code",
   "execution_count": 37,
   "metadata": {},
   "outputs": [
    {
     "data": {
      "text/html": [
       "<div>\n",
       "<style scoped>\n",
       "    .dataframe tbody tr th:only-of-type {\n",
       "        vertical-align: middle;\n",
       "    }\n",
       "\n",
       "    .dataframe tbody tr th {\n",
       "        vertical-align: top;\n",
       "    }\n",
       "\n",
       "    .dataframe thead th {\n",
       "        text-align: right;\n",
       "    }\n",
       "</style>\n",
       "<table border=\"1\" class=\"dataframe\">\n",
       "  <thead>\n",
       "    <tr style=\"text-align: right;\">\n",
       "      <th></th>\n",
       "      <th>cp1</th>\n",
       "      <th>cp2</th>\n",
       "    </tr>\n",
       "  </thead>\n",
       "  <tbody>\n",
       "    <tr>\n",
       "      <th>0</th>\n",
       "      <td>1.849933</td>\n",
       "      <td>0.645271</td>\n",
       "    </tr>\n",
       "    <tr>\n",
       "      <th>1</th>\n",
       "      <td>1.215910</td>\n",
       "      <td>1.071540</td>\n",
       "    </tr>\n",
       "    <tr>\n",
       "      <th>2</th>\n",
       "      <td>3.841723</td>\n",
       "      <td>-0.681407</td>\n",
       "    </tr>\n",
       "    <tr>\n",
       "      <th>3</th>\n",
       "      <td>0.624086</td>\n",
       "      <td>-0.958889</td>\n",
       "    </tr>\n",
       "    <tr>\n",
       "      <th>4</th>\n",
       "      <td>-0.229387</td>\n",
       "      <td>1.196460</td>\n",
       "    </tr>\n",
       "    <tr>\n",
       "      <th>5</th>\n",
       "      <td>-1.223956</td>\n",
       "      <td>-0.213646</td>\n",
       "    </tr>\n",
       "    <tr>\n",
       "      <th>6</th>\n",
       "      <td>-1.084577</td>\n",
       "      <td>-0.514195</td>\n",
       "    </tr>\n",
       "    <tr>\n",
       "      <th>7</th>\n",
       "      <td>-1.375958</td>\n",
       "      <td>0.276384</td>\n",
       "    </tr>\n",
       "    <tr>\n",
       "      <th>8</th>\n",
       "      <td>-1.886702</td>\n",
       "      <td>-0.128149</td>\n",
       "    </tr>\n",
       "    <tr>\n",
       "      <th>9</th>\n",
       "      <td>-1.171209</td>\n",
       "      <td>-0.017351</td>\n",
       "    </tr>\n",
       "    <tr>\n",
       "      <th>10</th>\n",
       "      <td>-0.556536</td>\n",
       "      <td>-0.525698</td>\n",
       "    </tr>\n",
       "    <tr>\n",
       "      <th>11</th>\n",
       "      <td>-0.003327</td>\n",
       "      <td>-0.150320</td>\n",
       "    </tr>\n",
       "  </tbody>\n",
       "</table>\n",
       "</div>"
      ],
      "text/plain": [
       "         cp1       cp2\n",
       "0   1.849933  0.645271\n",
       "1   1.215910  1.071540\n",
       "2   3.841723 -0.681407\n",
       "3   0.624086 -0.958889\n",
       "4  -0.229387  1.196460\n",
       "5  -1.223956 -0.213646\n",
       "6  -1.084577 -0.514195\n",
       "7  -1.375958  0.276384\n",
       "8  -1.886702 -0.128149\n",
       "9  -1.171209 -0.017351\n",
       "10 -0.556536 -0.525698\n",
       "11 -0.003327 -0.150320"
      ]
     },
     "execution_count": 37,
     "metadata": {},
     "output_type": "execute_result"
    }
   ],
   "source": [
    "resultado"
   ]
  },
  {
   "cell_type": "code",
   "execution_count": 38,
   "metadata": {
    "collapsed": true
   },
   "outputs": [],
   "source": [
    "# mostrar escores do primeiro CP \n",
    "escores_pc1 = pd.DataFrame(data=resultado_pca[:, 0], columns=['CP1'])"
   ]
  },
  {
   "cell_type": "code",
   "execution_count": 39,
   "metadata": {},
   "outputs": [
    {
     "data": {
      "text/html": [
       "<div>\n",
       "<style scoped>\n",
       "    .dataframe tbody tr th:only-of-type {\n",
       "        vertical-align: middle;\n",
       "    }\n",
       "\n",
       "    .dataframe tbody tr th {\n",
       "        vertical-align: top;\n",
       "    }\n",
       "\n",
       "    .dataframe thead th {\n",
       "        text-align: right;\n",
       "    }\n",
       "</style>\n",
       "<table border=\"1\" class=\"dataframe\">\n",
       "  <thead>\n",
       "    <tr style=\"text-align: right;\">\n",
       "      <th></th>\n",
       "      <th>CP1</th>\n",
       "    </tr>\n",
       "  </thead>\n",
       "  <tbody>\n",
       "    <tr>\n",
       "      <th>0</th>\n",
       "      <td>1.849933</td>\n",
       "    </tr>\n",
       "    <tr>\n",
       "      <th>1</th>\n",
       "      <td>1.215910</td>\n",
       "    </tr>\n",
       "    <tr>\n",
       "      <th>2</th>\n",
       "      <td>3.841723</td>\n",
       "    </tr>\n",
       "    <tr>\n",
       "      <th>3</th>\n",
       "      <td>0.624086</td>\n",
       "    </tr>\n",
       "    <tr>\n",
       "      <th>4</th>\n",
       "      <td>-0.229387</td>\n",
       "    </tr>\n",
       "    <tr>\n",
       "      <th>5</th>\n",
       "      <td>-1.223956</td>\n",
       "    </tr>\n",
       "    <tr>\n",
       "      <th>6</th>\n",
       "      <td>-1.084577</td>\n",
       "    </tr>\n",
       "    <tr>\n",
       "      <th>7</th>\n",
       "      <td>-1.375958</td>\n",
       "    </tr>\n",
       "    <tr>\n",
       "      <th>8</th>\n",
       "      <td>-1.886702</td>\n",
       "    </tr>\n",
       "    <tr>\n",
       "      <th>9</th>\n",
       "      <td>-1.171209</td>\n",
       "    </tr>\n",
       "    <tr>\n",
       "      <th>10</th>\n",
       "      <td>-0.556536</td>\n",
       "    </tr>\n",
       "    <tr>\n",
       "      <th>11</th>\n",
       "      <td>-0.003327</td>\n",
       "    </tr>\n",
       "  </tbody>\n",
       "</table>\n",
       "</div>"
      ],
      "text/plain": [
       "         CP1\n",
       "0   1.849933\n",
       "1   1.215910\n",
       "2   3.841723\n",
       "3   0.624086\n",
       "4  -0.229387\n",
       "5  -1.223956\n",
       "6  -1.084577\n",
       "7  -1.375958\n",
       "8  -1.886702\n",
       "9  -1.171209\n",
       "10 -0.556536\n",
       "11 -0.003327"
      ]
     },
     "execution_count": 39,
     "metadata": {},
     "output_type": "execute_result"
    }
   ],
   "source": [
    "escores_pc1"
   ]
  },
  {
   "cell_type": "code",
   "execution_count": 40,
   "metadata": {},
   "outputs": [
    {
     "data": {
      "text/html": [
       "<div>\n",
       "<style scoped>\n",
       "    .dataframe tbody tr th:only-of-type {\n",
       "        vertical-align: middle;\n",
       "    }\n",
       "\n",
       "    .dataframe tbody tr th {\n",
       "        vertical-align: top;\n",
       "    }\n",
       "\n",
       "    .dataframe thead th {\n",
       "        text-align: right;\n",
       "    }\n",
       "</style>\n",
       "<table border=\"1\" class=\"dataframe\">\n",
       "  <thead>\n",
       "    <tr style=\"text-align: right;\">\n",
       "      <th></th>\n",
       "      <th>CP1</th>\n",
       "    </tr>\n",
       "  </thead>\n",
       "  <tbody>\n",
       "    <tr>\n",
       "      <th>8</th>\n",
       "      <td>-1.886702</td>\n",
       "    </tr>\n",
       "    <tr>\n",
       "      <th>7</th>\n",
       "      <td>-1.375958</td>\n",
       "    </tr>\n",
       "    <tr>\n",
       "      <th>5</th>\n",
       "      <td>-1.223956</td>\n",
       "    </tr>\n",
       "    <tr>\n",
       "      <th>9</th>\n",
       "      <td>-1.171209</td>\n",
       "    </tr>\n",
       "    <tr>\n",
       "      <th>6</th>\n",
       "      <td>-1.084577</td>\n",
       "    </tr>\n",
       "    <tr>\n",
       "      <th>10</th>\n",
       "      <td>-0.556536</td>\n",
       "    </tr>\n",
       "    <tr>\n",
       "      <th>4</th>\n",
       "      <td>-0.229387</td>\n",
       "    </tr>\n",
       "    <tr>\n",
       "      <th>11</th>\n",
       "      <td>-0.003327</td>\n",
       "    </tr>\n",
       "    <tr>\n",
       "      <th>3</th>\n",
       "      <td>0.624086</td>\n",
       "    </tr>\n",
       "    <tr>\n",
       "      <th>1</th>\n",
       "      <td>1.215910</td>\n",
       "    </tr>\n",
       "    <tr>\n",
       "      <th>0</th>\n",
       "      <td>1.849933</td>\n",
       "    </tr>\n",
       "    <tr>\n",
       "      <th>2</th>\n",
       "      <td>3.841723</td>\n",
       "    </tr>\n",
       "  </tbody>\n",
       "</table>\n",
       "</div>"
      ],
      "text/plain": [
       "         CP1\n",
       "8  -1.886702\n",
       "7  -1.375958\n",
       "5  -1.223956\n",
       "9  -1.171209\n",
       "6  -1.084577\n",
       "10 -0.556536\n",
       "4  -0.229387\n",
       "11 -0.003327\n",
       "3   0.624086\n",
       "1   1.215910\n",
       "0   1.849933\n",
       "2   3.841723"
      ]
     },
     "execution_count": 40,
     "metadata": {},
     "output_type": "execute_result"
    }
   ],
   "source": [
    "# só mostrando os menores ou maiores escores do CP1 (ascending=True é para ordem crescente)\n",
    "(escores_pc1\n",
    " .sort_values(by='CP1', ascending=True)\n",
    " .loc[:,['CP1']]\n",
    " .iloc[:20,:])"
   ]
  },
  {
   "cell_type": "code",
   "execution_count": 41,
   "metadata": {},
   "outputs": [
    {
     "data": {
      "image/png": "[encoded data removed]",
      "text/plain": [
       "<Figure size 720x360 with 1 Axes>"
      ]
     },
     "metadata": {},
     "output_type": "display_data"
    }
   ],
   "source": [
    "sns.lmplot('cp1', 'cp2', fit_reg=False, data=resultado, aspect=2)\n",
    "plt.hlines(0, -2, 4, color='gray')\n",
    "plt.vlines(0, -1, 2, color='gray');"
   ]
  },
  {
   "cell_type": "code",
   "execution_count": 42,
   "metadata": {},
   "outputs": [
    {
     "data": {
      "image/png": "[encoded data removed]",
      "text/plain": [
       "<Figure size 720x432 with 1 Axes>"
      ]
     },
     "metadata": {},
     "output_type": "display_data"
    }
   ],
   "source": [
    "fig, ax = plt.subplots()\n",
    "fig.set_size_inches(10, 6)\n",
    "ax.scatter(resultado.cp1, resultado.cp2, s=0)\n",
    "for i, txt in enumerate(resultado.index):\n",
    "    ax.annotate(txt, (resultado.cp1[i], resultado.cp2[i]))\n",
    "plt.hlines(0, -2, 4, color='gray')\n",
    "plt.vlines(0, -1, 2, color='gray');"
   ]
  },
  {
   "cell_type": "markdown",
   "metadata": {},
   "source": [
    "### Dados de poluição do ar"
   ]
  },
  {
   "cell_type": "markdown",
   "metadata": {},
   "source": [
    "- $SO2$: SO2 content of air in micrograms per cubic metre;\n",
    "- $temp$: average annual temperature in degrees Fahrenheit;\n",
    "- $manu$: number of manufacturing enterprises employing 20 or more workers;\n",
    "- $popul$: population size (1970 census) in thousands;\n",
    "- $wind$: average annual wind speed in miles per hour;\n",
    "- $precip$: average annual precipitation in inches;\n",
    "- $predays$: average number of days with precipitation per year."
   ]
  },
  {
   "cell_type": "code",
   "execution_count": 43,
   "metadata": {
    "collapsed": true
   },
   "outputs": [],
   "source": [
    "air = pd.read_csv('air.csv', index_col='city')"
   ]
  },
  {
   "cell_type": "code",
   "execution_count": 44,
   "metadata": {},
   "outputs": [
    {
     "data": {
      "text/html": [
       "<div>\n",
       "<style scoped>\n",
       "    .dataframe tbody tr th:only-of-type {\n",
       "        vertical-align: middle;\n",
       "    }\n",
       "\n",
       "    .dataframe tbody tr th {\n",
       "        vertical-align: top;\n",
       "    }\n",
       "\n",
       "    .dataframe thead th {\n",
       "        text-align: right;\n",
       "    }\n",
       "</style>\n",
       "<table border=\"1\" class=\"dataframe\">\n",
       "  <thead>\n",
       "    <tr style=\"text-align: right;\">\n",
       "      <th></th>\n",
       "      <th>SO2</th>\n",
       "      <th>temp</th>\n",
       "      <th>manu</th>\n",
       "      <th>popul</th>\n",
       "      <th>wind</th>\n",
       "      <th>precip</th>\n",
       "      <th>predays</th>\n",
       "    </tr>\n",
       "    <tr>\n",
       "      <th>city</th>\n",
       "      <th></th>\n",
       "      <th></th>\n",
       "      <th></th>\n",
       "      <th></th>\n",
       "      <th></th>\n",
       "      <th></th>\n",
       "      <th></th>\n",
       "    </tr>\n",
       "  </thead>\n",
       "  <tbody>\n",
       "    <tr>\n",
       "      <th>Albany</th>\n",
       "      <td>46</td>\n",
       "      <td>47.6</td>\n",
       "      <td>44</td>\n",
       "      <td>116</td>\n",
       "      <td>8.8</td>\n",
       "      <td>33.36</td>\n",
       "      <td>135</td>\n",
       "    </tr>\n",
       "    <tr>\n",
       "      <th>Albuquerque</th>\n",
       "      <td>11</td>\n",
       "      <td>56.8</td>\n",
       "      <td>46</td>\n",
       "      <td>244</td>\n",
       "      <td>8.9</td>\n",
       "      <td>7.77</td>\n",
       "      <td>58</td>\n",
       "    </tr>\n",
       "    <tr>\n",
       "      <th>Atlanta</th>\n",
       "      <td>24</td>\n",
       "      <td>61.5</td>\n",
       "      <td>368</td>\n",
       "      <td>497</td>\n",
       "      <td>9.1</td>\n",
       "      <td>48.34</td>\n",
       "      <td>115</td>\n",
       "    </tr>\n",
       "    <tr>\n",
       "      <th>Baltimore</th>\n",
       "      <td>47</td>\n",
       "      <td>55.0</td>\n",
       "      <td>625</td>\n",
       "      <td>905</td>\n",
       "      <td>9.6</td>\n",
       "      <td>41.31</td>\n",
       "      <td>111</td>\n",
       "    </tr>\n",
       "    <tr>\n",
       "      <th>Buffalo</th>\n",
       "      <td>11</td>\n",
       "      <td>47.1</td>\n",
       "      <td>391</td>\n",
       "      <td>463</td>\n",
       "      <td>12.4</td>\n",
       "      <td>36.11</td>\n",
       "      <td>166</td>\n",
       "    </tr>\n",
       "    <tr>\n",
       "      <th>Charleston</th>\n",
       "      <td>31</td>\n",
       "      <td>55.2</td>\n",
       "      <td>35</td>\n",
       "      <td>71</td>\n",
       "      <td>6.5</td>\n",
       "      <td>40.75</td>\n",
       "      <td>148</td>\n",
       "    </tr>\n",
       "    <tr>\n",
       "      <th>Chicago</th>\n",
       "      <td>110</td>\n",
       "      <td>50.6</td>\n",
       "      <td>3344</td>\n",
       "      <td>3369</td>\n",
       "      <td>10.4</td>\n",
       "      <td>34.44</td>\n",
       "      <td>122</td>\n",
       "    </tr>\n",
       "    <tr>\n",
       "      <th>Cincinnati</th>\n",
       "      <td>23</td>\n",
       "      <td>54.0</td>\n",
       "      <td>462</td>\n",
       "      <td>453</td>\n",
       "      <td>7.1</td>\n",
       "      <td>39.04</td>\n",
       "      <td>132</td>\n",
       "    </tr>\n",
       "    <tr>\n",
       "      <th>Cleveland</th>\n",
       "      <td>65</td>\n",
       "      <td>49.7</td>\n",
       "      <td>1007</td>\n",
       "      <td>751</td>\n",
       "      <td>10.9</td>\n",
       "      <td>34.99</td>\n",
       "      <td>155</td>\n",
       "    </tr>\n",
       "    <tr>\n",
       "      <th>Columbus</th>\n",
       "      <td>26</td>\n",
       "      <td>51.5</td>\n",
       "      <td>266</td>\n",
       "      <td>540</td>\n",
       "      <td>8.6</td>\n",
       "      <td>37.01</td>\n",
       "      <td>134</td>\n",
       "    </tr>\n",
       "  </tbody>\n",
       "</table>\n",
       "</div>"
      ],
      "text/plain": [
       "             SO2  temp  manu  popul  wind  precip  predays\n",
       "city                                                      \n",
       "Albany        46  47.6    44    116   8.8   33.36      135\n",
       "Albuquerque   11  56.8    46    244   8.9    7.77       58\n",
       "Atlanta       24  61.5   368    497   9.1   48.34      115\n",
       "Baltimore     47  55.0   625    905   9.6   41.31      111\n",
       "Buffalo       11  47.1   391    463  12.4   36.11      166\n",
       "Charleston    31  55.2    35     71   6.5   40.75      148\n",
       "Chicago      110  50.6  3344   3369  10.4   34.44      122\n",
       "Cincinnati    23  54.0   462    453   7.1   39.04      132\n",
       "Cleveland     65  49.7  1007    751  10.9   34.99      155\n",
       "Columbus      26  51.5   266    540   8.6   37.01      134"
      ]
     },
     "execution_count": 44,
     "metadata": {},
     "output_type": "execute_result"
    }
   ],
   "source": [
    "air.head(10)"
   ]
  },
  {
   "cell_type": "code",
   "execution_count": 45,
   "metadata": {
    "collapsed": true
   },
   "outputs": [],
   "source": [
    "X = air.iloc[:,1:7]"
   ]
  },
  {
   "cell_type": "code",
   "execution_count": 46,
   "metadata": {},
   "outputs": [
    {
     "data": {
      "text/html": [
       "<div>\n",
       "<style scoped>\n",
       "    .dataframe tbody tr th:only-of-type {\n",
       "        vertical-align: middle;\n",
       "    }\n",
       "\n",
       "    .dataframe tbody tr th {\n",
       "        vertical-align: top;\n",
       "    }\n",
       "\n",
       "    .dataframe thead th {\n",
       "        text-align: right;\n",
       "    }\n",
       "</style>\n",
       "<table border=\"1\" class=\"dataframe\">\n",
       "  <thead>\n",
       "    <tr style=\"text-align: right;\">\n",
       "      <th></th>\n",
       "      <th>temp</th>\n",
       "      <th>manu</th>\n",
       "      <th>popul</th>\n",
       "      <th>wind</th>\n",
       "      <th>precip</th>\n",
       "      <th>predays</th>\n",
       "    </tr>\n",
       "    <tr>\n",
       "      <th>city</th>\n",
       "      <th></th>\n",
       "      <th></th>\n",
       "      <th></th>\n",
       "      <th></th>\n",
       "      <th></th>\n",
       "      <th></th>\n",
       "    </tr>\n",
       "  </thead>\n",
       "  <tbody>\n",
       "    <tr>\n",
       "      <th>Albany</th>\n",
       "      <td>47.6</td>\n",
       "      <td>44</td>\n",
       "      <td>116</td>\n",
       "      <td>8.8</td>\n",
       "      <td>33.36</td>\n",
       "      <td>135</td>\n",
       "    </tr>\n",
       "    <tr>\n",
       "      <th>Albuquerque</th>\n",
       "      <td>56.8</td>\n",
       "      <td>46</td>\n",
       "      <td>244</td>\n",
       "      <td>8.9</td>\n",
       "      <td>7.77</td>\n",
       "      <td>58</td>\n",
       "    </tr>\n",
       "    <tr>\n",
       "      <th>Atlanta</th>\n",
       "      <td>61.5</td>\n",
       "      <td>368</td>\n",
       "      <td>497</td>\n",
       "      <td>9.1</td>\n",
       "      <td>48.34</td>\n",
       "      <td>115</td>\n",
       "    </tr>\n",
       "    <tr>\n",
       "      <th>Baltimore</th>\n",
       "      <td>55.0</td>\n",
       "      <td>625</td>\n",
       "      <td>905</td>\n",
       "      <td>9.6</td>\n",
       "      <td>41.31</td>\n",
       "      <td>111</td>\n",
       "    </tr>\n",
       "    <tr>\n",
       "      <th>Buffalo</th>\n",
       "      <td>47.1</td>\n",
       "      <td>391</td>\n",
       "      <td>463</td>\n",
       "      <td>12.4</td>\n",
       "      <td>36.11</td>\n",
       "      <td>166</td>\n",
       "    </tr>\n",
       "  </tbody>\n",
       "</table>\n",
       "</div>"
      ],
      "text/plain": [
       "             temp  manu  popul  wind  precip  predays\n",
       "city                                                 \n",
       "Albany       47.6    44    116   8.8   33.36      135\n",
       "Albuquerque  56.8    46    244   8.9    7.77       58\n",
       "Atlanta      61.5   368    497   9.1   48.34      115\n",
       "Baltimore    55.0   625    905   9.6   41.31      111\n",
       "Buffalo      47.1   391    463  12.4   36.11      166"
      ]
     },
     "execution_count": 46,
     "metadata": {},
     "output_type": "execute_result"
    }
   ],
   "source": [
    "X.head()"
   ]
  },
  {
   "cell_type": "code",
   "execution_count": 47,
   "metadata": {
    "collapsed": true
   },
   "outputs": [],
   "source": [
    "pca = PCA() \n",
    "resultado_pca = pca.fit_transform(scale(X))   # scale(X) padroniza os dados, como se usássemos a matriz R"
   ]
  },
  {
   "cell_type": "code",
   "execution_count": 84,
   "metadata": {},
   "outputs": [],
   "source": [
    "resultado = pd.DataFrame({'cp1':resultado_pca[:, 0], 'cp2':resultado_pca[:, 1]}, index=X.index)"
   ]
  },
  {
   "cell_type": "code",
   "execution_count": 86,
   "metadata": {},
   "outputs": [
    {
     "data": {
      "text/plain": [
       "array([[-0.32964613,  0.61154243,  0.57782195,  0.35383877, -0.04080701,\n",
       "         0.23791593],\n",
       "       [ 0.1275974 ,  0.16805772,  0.22245325, -0.13079154, -0.62285781,\n",
       "        -0.70776534],\n",
       "       [ 0.67168611,  0.27288633,  0.35037413, -0.29725334,  0.50456294,\n",
       "        -0.09308852],\n",
       "       [ 0.30645728, -0.13684076, -0.07248126,  0.86942583,  0.17114826,\n",
       "        -0.31130693],\n",
       "       [ 0.55805638, -0.10204211,  0.07806551,  0.11326688, -0.56818342,\n",
       "         0.58000387],\n",
       "       [ 0.1361878 ,  0.70297051, -0.69464131,  0.02452501, -0.06062222,\n",
       "         0.02196062]])"
      ]
     },
     "execution_count": 86,
     "metadata": {},
     "output_type": "execute_result"
    }
   ],
   "source": [
    "# coeficientes dos CPs (autovetores)\n",
    "# cada linha é um CP\n",
    "pca.components_"
   ]
  },
  {
   "cell_type": "code",
   "execution_count": 87,
   "metadata": {},
   "outputs": [
    {
     "data": {
      "text/plain": [
       "array([ 2.25106671,  1.53744202,  1.42951535,  0.77923256,  0.11743492,\n",
       "        0.03530845])"
      ]
     },
     "execution_count": 87,
     "metadata": {},
     "output_type": "execute_result"
    }
   ],
   "source": [
    "# variâncias dos CPs (autovalores)\n",
    "pca.explained_variance_"
   ]
  },
  {
   "cell_type": "code",
   "execution_count": 88,
   "metadata": {},
   "outputs": [
    {
     "data": {
      "text/plain": [
       "array([ 36.6 ,  61.6 ,  84.84,  97.51,  99.42,  99.99])"
      ]
     },
     "execution_count": 88,
     "metadata": {},
     "output_type": "execute_result"
    }
   ],
   "source": [
    "# variância explicada acumulada\n",
    "np.cumsum(np.round(pca.explained_variance_ratio_, decimals=4)*100)"
   ]
  },
  {
   "cell_type": "code",
   "execution_count": 89,
   "metadata": {},
   "outputs": [
    {
     "name": "stdout",
     "output_type": "stream",
     "text": [
      "[[-0.32964613  0.61154243  0.57782195  0.35383877 -0.04080701  0.23791593]\n",
      " [ 0.1275974   0.16805772  0.22245325 -0.13079154 -0.62285781 -0.70776534]\n",
      " [ 0.67168611  0.27288633  0.35037413 -0.29725334  0.50456294 -0.09308852]]\n"
     ]
    }
   ],
   "source": [
    "# os três primeiros CPs\n",
    "print(pca.components_[0:3, :])"
   ]
  },
  {
   "cell_type": "code",
   "execution_count": 90,
   "metadata": {},
   "outputs": [
    {
     "data": {
      "text/plain": [
       "Index(['temp', 'manu', 'popul', 'wind', 'precip', 'predays'], dtype='object')"
      ]
     },
     "execution_count": 90,
     "metadata": {},
     "output_type": "execute_result"
    }
   ],
   "source": [
    "X.columns"
   ]
  },
  {
   "cell_type": "markdown",
   "metadata": {},
   "source": [
    "Interpretação:\n",
    "\n",
    "- Y1: índice global de qualidade de vida - escores altos indicam cidades maiores, com mais fábricas, mais gente, mais vento, mais dias chuvosos, temp. baixas\n",
    "- Y2: índice de chuvas - escores altos negativos indicam cidades chuvosas\n",
    "- Y3: leva em conta chuvas e temperatura - altos valores para cidades quentes e úmidas e baixos para frias e secas"
   ]
  },
  {
   "cell_type": "code",
   "execution_count": 91,
   "metadata": {},
   "outputs": [
    {
     "data": {
      "text/html": [
       "<div>\n",
       "<style scoped>\n",
       "    .dataframe tbody tr th:only-of-type {\n",
       "        vertical-align: middle;\n",
       "    }\n",
       "\n",
       "    .dataframe tbody tr th {\n",
       "        vertical-align: top;\n",
       "    }\n",
       "\n",
       "    .dataframe thead th {\n",
       "        text-align: right;\n",
       "    }\n",
       "</style>\n",
       "<table border=\"1\" class=\"dataframe\">\n",
       "  <thead>\n",
       "    <tr style=\"text-align: right;\">\n",
       "      <th></th>\n",
       "      <th>cp1</th>\n",
       "      <th>cp2</th>\n",
       "    </tr>\n",
       "    <tr>\n",
       "      <th>city</th>\n",
       "      <th></th>\n",
       "      <th></th>\n",
       "    </tr>\n",
       "  </thead>\n",
       "  <tbody>\n",
       "    <tr>\n",
       "      <th>Albany</th>\n",
       "      <td>-0.538946</td>\n",
       "      <td>-0.792069</td>\n",
       "    </tr>\n",
       "    <tr>\n",
       "      <th>Albuquerque</th>\n",
       "      <td>-1.417093</td>\n",
       "      <td>2.865890</td>\n",
       "    </tr>\n",
       "    <tr>\n",
       "      <th>Atlanta</th>\n",
       "      <td>-0.598995</td>\n",
       "      <td>-0.587236</td>\n",
       "    </tr>\n",
       "    <tr>\n",
       "      <th>Baltimore</th>\n",
       "      <td>0.509380</td>\n",
       "      <td>-0.028754</td>\n",
       "    </tr>\n",
       "    <tr>\n",
       "      <th>Buffalo</th>\n",
       "      <td>1.390709</td>\n",
       "      <td>-1.880301</td>\n",
       "    </tr>\n",
       "    <tr>\n",
       "      <th>Charleston</th>\n",
       "      <td>-1.429753</td>\n",
       "      <td>-1.210584</td>\n",
       "    </tr>\n",
       "    <tr>\n",
       "      <th>Chicago</th>\n",
       "      <td>6.513882</td>\n",
       "      <td>1.668382</td>\n",
       "    </tr>\n",
       "    <tr>\n",
       "      <th>Cincinnati</th>\n",
       "      <td>-0.508221</td>\n",
       "      <td>-0.486010</td>\n",
       "    </tr>\n",
       "    <tr>\n",
       "      <th>Cleveland</th>\n",
       "      <td>1.766279</td>\n",
       "      <td>-1.039427</td>\n",
       "    </tr>\n",
       "    <tr>\n",
       "      <th>Columbus</th>\n",
       "      <td>-0.118835</td>\n",
       "      <td>-0.640394</td>\n",
       "    </tr>\n",
       "    <tr>\n",
       "      <th>Dallas</th>\n",
       "      <td>-0.006879</td>\n",
       "      <td>1.211811</td>\n",
       "    </tr>\n",
       "    <tr>\n",
       "      <th>Denver</th>\n",
       "      <td>-0.207434</td>\n",
       "      <td>1.963209</td>\n",
       "    </tr>\n",
       "    <tr>\n",
       "      <th>Des Moines</th>\n",
       "      <td>-0.131980</td>\n",
       "      <td>0.061206</td>\n",
       "    </tr>\n",
       "    <tr>\n",
       "      <th>Detroit</th>\n",
       "      <td>2.166695</td>\n",
       "      <td>0.270603</td>\n",
       "    </tr>\n",
       "    <tr>\n",
       "      <th>Hartford</th>\n",
       "      <td>-0.219106</td>\n",
       "      <td>-0.976306</td>\n",
       "    </tr>\n",
       "    <tr>\n",
       "      <th>Houston</th>\n",
       "      <td>0.508420</td>\n",
       "      <td>0.112716</td>\n",
       "    </tr>\n",
       "    <tr>\n",
       "      <th>Indianapolis</th>\n",
       "      <td>0.308324</td>\n",
       "      <td>-0.360492</td>\n",
       "    </tr>\n",
       "    <tr>\n",
       "      <th>Jacksonville</th>\n",
       "      <td>-1.227850</td>\n",
       "      <td>-0.849128</td>\n",
       "    </tr>\n",
       "    <tr>\n",
       "      <th>Kansas City</th>\n",
       "      <td>-0.131303</td>\n",
       "      <td>0.252060</td>\n",
       "    </tr>\n",
       "    <tr>\n",
       "      <th>Little Rock</th>\n",
       "      <td>-1.611600</td>\n",
       "      <td>-0.342487</td>\n",
       "    </tr>\n",
       "    <tr>\n",
       "      <th>Louisville</th>\n",
       "      <td>-0.423739</td>\n",
       "      <td>-0.540553</td>\n",
       "    </tr>\n",
       "    <tr>\n",
       "      <th>Memphis</th>\n",
       "      <td>-0.577849</td>\n",
       "      <td>-0.325067</td>\n",
       "    </tr>\n",
       "    <tr>\n",
       "      <th>Miami</th>\n",
       "      <td>-1.533161</td>\n",
       "      <td>-1.404699</td>\n",
       "    </tr>\n",
       "    <tr>\n",
       "      <th>Milwaukee</th>\n",
       "      <td>1.391025</td>\n",
       "      <td>-0.157619</td>\n",
       "    </tr>\n",
       "    <tr>\n",
       "      <th>Minneapolis</th>\n",
       "      <td>1.500033</td>\n",
       "      <td>-0.246756</td>\n",
       "    </tr>\n",
       "    <tr>\n",
       "      <th>Nashville</th>\n",
       "      <td>-0.910052</td>\n",
       "      <td>-0.543464</td>\n",
       "    </tr>\n",
       "    <tr>\n",
       "      <th>New Orleans</th>\n",
       "      <td>-1.453857</td>\n",
       "      <td>-0.900752</td>\n",
       "    </tr>\n",
       "    <tr>\n",
       "      <th>Norfolk</th>\n",
       "      <td>-0.589142</td>\n",
       "      <td>-0.752191</td>\n",
       "    </tr>\n",
       "    <tr>\n",
       "      <th>Omaha</th>\n",
       "      <td>-0.133638</td>\n",
       "      <td>0.384784</td>\n",
       "    </tr>\n",
       "    <tr>\n",
       "      <th>Philadelphia</th>\n",
       "      <td>2.797075</td>\n",
       "      <td>0.658478</td>\n",
       "    </tr>\n",
       "    <tr>\n",
       "      <th>Phoenix</th>\n",
       "      <td>-2.440097</td>\n",
       "      <td>4.191149</td>\n",
       "    </tr>\n",
       "    <tr>\n",
       "      <th>Pittsburgh</th>\n",
       "      <td>0.322265</td>\n",
       "      <td>-1.026637</td>\n",
       "    </tr>\n",
       "    <tr>\n",
       "      <th>Providence</th>\n",
       "      <td>0.069936</td>\n",
       "      <td>-1.033907</td>\n",
       "    </tr>\n",
       "    <tr>\n",
       "      <th>Richmond</th>\n",
       "      <td>-1.171999</td>\n",
       "      <td>-0.334949</td>\n",
       "    </tr>\n",
       "    <tr>\n",
       "      <th>Salt Lake City</th>\n",
       "      <td>-0.912394</td>\n",
       "      <td>1.547348</td>\n",
       "    </tr>\n",
       "    <tr>\n",
       "      <th>San Francisco</th>\n",
       "      <td>-0.502074</td>\n",
       "      <td>2.255287</td>\n",
       "    </tr>\n",
       "    <tr>\n",
       "      <th>Seattle</th>\n",
       "      <td>0.481679</td>\n",
       "      <td>-1.597426</td>\n",
       "    </tr>\n",
       "    <tr>\n",
       "      <th>St. Louis</th>\n",
       "      <td>0.286187</td>\n",
       "      <td>0.384382</td>\n",
       "    </tr>\n",
       "    <tr>\n",
       "      <th>Washington</th>\n",
       "      <td>-0.022928</td>\n",
       "      <td>0.054567</td>\n",
       "    </tr>\n",
       "    <tr>\n",
       "      <th>Wichita</th>\n",
       "      <td>-0.196823</td>\n",
       "      <td>0.676074</td>\n",
       "    </tr>\n",
       "    <tr>\n",
       "      <th>Wilmington</th>\n",
       "      <td>-0.996141</td>\n",
       "      <td>-0.500741</td>\n",
       "    </tr>\n",
       "  </tbody>\n",
       "</table>\n",
       "</div>"
      ],
      "text/plain": [
       "                     cp1       cp2\n",
       "city                              \n",
       "Albany         -0.538946 -0.792069\n",
       "Albuquerque    -1.417093  2.865890\n",
       "Atlanta        -0.598995 -0.587236\n",
       "Baltimore       0.509380 -0.028754\n",
       "Buffalo         1.390709 -1.880301\n",
       "Charleston     -1.429753 -1.210584\n",
       "Chicago         6.513882  1.668382\n",
       "Cincinnati     -0.508221 -0.486010\n",
       "Cleveland       1.766279 -1.039427\n",
       "Columbus       -0.118835 -0.640394\n",
       "Dallas         -0.006879  1.211811\n",
       "Denver         -0.207434  1.963209\n",
       "Des Moines     -0.131980  0.061206\n",
       "Detroit         2.166695  0.270603\n",
       "Hartford       -0.219106 -0.976306\n",
       "Houston         0.508420  0.112716\n",
       "Indianapolis    0.308324 -0.360492\n",
       "Jacksonville   -1.227850 -0.849128\n",
       "Kansas City    -0.131303  0.252060\n",
       "Little Rock    -1.611600 -0.342487\n",
       "Louisville     -0.423739 -0.540553\n",
       "Memphis        -0.577849 -0.325067\n",
       "Miami          -1.533161 -1.404699\n",
       "Milwaukee       1.391025 -0.157619\n",
       "Minneapolis     1.500033 -0.246756\n",
       "Nashville      -0.910052 -0.543464\n",
       "New Orleans    -1.453857 -0.900752\n",
       "Norfolk        -0.589142 -0.752191\n",
       "Omaha          -0.133638  0.384784\n",
       "Philadelphia    2.797075  0.658478\n",
       "Phoenix        -2.440097  4.191149\n",
       "Pittsburgh      0.322265 -1.026637\n",
       "Providence      0.069936 -1.033907\n",
       "Richmond       -1.171999 -0.334949\n",
       "Salt Lake City -0.912394  1.547348\n",
       "San Francisco  -0.502074  2.255287\n",
       "Seattle         0.481679 -1.597426\n",
       "St. Louis       0.286187  0.384382\n",
       "Washington     -0.022928  0.054567\n",
       "Wichita        -0.196823  0.676074\n",
       "Wilmington     -0.996141 -0.500741"
      ]
     },
     "execution_count": 91,
     "metadata": {},
     "output_type": "execute_result"
    }
   ],
   "source": [
    "# escores dos dois primeiros CPs\n",
    "resultado"
   ]
  },
  {
   "cell_type": "code",
   "execution_count": 92,
   "metadata": {},
   "outputs": [
    {
     "data": {
      "text/plain": [
       "array([ 36.6 ,  61.6 ,  84.84,  97.51,  99.42,  99.99])"
      ]
     },
     "execution_count": 92,
     "metadata": {},
     "output_type": "execute_result"
    }
   ],
   "source": [
    "# variância explicada acumulada\n",
    "np.cumsum(np.round(pca.explained_variance_ratio_, decimals=4)*100)"
   ]
  },
  {
   "cell_type": "code",
   "execution_count": 101,
   "metadata": {},
   "outputs": [
    {
     "data": {
      "image/png": "[encoded data removed]",
      "text/plain": [
       "<Figure size 1080x720 with 1 Axes>"
      ]
     },
     "metadata": {},
     "output_type": "display_data"
    }
   ],
   "source": [
    "fig, ax = plt.subplots()\n",
    "fig.set_size_inches(15, 10)\n",
    "ax.scatter(resultado.cp1, resultado.cp2, s=0)\n",
    "for i, txt in enumerate(resultado.index):\n",
    "    ax.annotate(txt, (resultado.cp1[i], resultado.cp2[i]))\n",
    "plt.hlines(0, -3, 6, color='gray')\n",
    "plt.vlines(0, -2, 4, color='gray');"
   ]
  },
  {
   "cell_type": "markdown",
   "metadata": {},
   "source": [
    "Interpretação:\n",
    "\n",
    "- Y1: índice global de qualidade de vida - escores altos indicam cidades maiores, com mais fábricas, mais gente, mais vento, mais dias chuvosos, temp. baixas\n",
    "- Y2: índice de chuvas - escores altos negativos indicam cidades chuvosas\n",
    "- Y3: leva em conta chuvas e temperatura - altos valores para cidades quentes e úmidas e baixos para frias e secas"
   ]
  }
 ],
 "metadata": {
  "kernelspec": {
   "display_name": "Python 3",
   "language": "python",
   "name": "python3"
  },
  "language_info": {
   "codemirror_mode": {
    "name": "ipython",
    "version": 3
   },
   "file_extension": ".py",
   "mimetype": "text/x-python",
   "name": "python",
   "nbconvert_exporter": "python",
   "pygments_lexer": "ipython3",
   "version": "3.6.5"
  }
 },
 "nbformat": 4,
 "nbformat_minor": 2
}
