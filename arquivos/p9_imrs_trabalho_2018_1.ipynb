{
 "cells": [
  {
   "cell_type": "markdown",
   "metadata": {},
   "source": [
    "### *Notebook* de exemplo para o trabalho final de Fundamentos da Programação (2018-1)"
   ]
  },
  {
   "cell_type": "code",
   "execution_count": null,
   "metadata": {
    "collapsed": true
   },
   "outputs": [],
   "source": [
    "# importar o pacote pandas - útil para dataframes, séries, dados em painel\n",
    "import pandas as pd"
   ]
  },
  {
   "cell_type": "markdown",
   "metadata": {},
   "source": [
    "Dentre os conjuntos de dados disponíveis para o trabalho:\n",
    "\n",
    "- imrs-2016\n",
    "- censo-2015-EUA\n",
    "- países\n",
    "\n",
    "escolhi os dados do IMRS para este notebook. Mas no trabalho podem ser escolhidos mais conjuntos de dados."
   ]
  },
  {
   "cell_type": "code",
   "execution_count": null,
   "metadata": {
    "collapsed": true
   },
   "outputs": [],
   "source": [
    "# ler a planilha 'imrs-2016'\n",
    "imrs = pd.read_excel('dados/imrs-2016.xlsx', encoding='latin1', decimal=',')\n",
    "# outra opção é ler os dados em csv\n",
    "# imrs = pd.read_csv('dados/imrs-2016.csv', encoding='latin1', decimal=',')"
   ]
  },
  {
   "cell_type": "markdown",
   "metadata": {},
   "source": [
    "Para ler os outros conjuntos de dados:"
   ]
  },
  {
   "cell_type": "code",
   "execution_count": null,
   "metadata": {},
   "outputs": [],
   "source": [
    "# censo-EUA\n",
    "# eua = pd.read_excel('dados/censo-2015-EUA.xlsx', encoding='latin1')\n",
    "\n",
    "# paises\n",
    "# paises = pd.read_excel('dados/paises.xlsx', encoding='latin1')"
   ]
  },
  {
   "cell_type": "code",
   "execution_count": null,
   "metadata": {},
   "outputs": [],
   "source": [
    "# ver as variáveis contidas no dataframe\n",
    "imrs.columns"
   ]
  },
  {
   "cell_type": "code",
   "execution_count": null,
   "metadata": {},
   "outputs": [],
   "source": [
    "# número de linhas e colunas\n",
    "imrs.shape"
   ]
  },
  {
   "cell_type": "code",
   "execution_count": null,
   "metadata": {},
   "outputs": [],
   "source": [
    "# função que mostra as 5 primeiras observações do dataframe\n",
    "imrs.head()"
   ]
  },
  {
   "cell_type": "code",
   "execution_count": null,
   "metadata": {},
   "outputs": [],
   "source": [
    "# retorna a dimensão do dataframe (linhas e colunas)\n",
    "imrs.shape"
   ]
  },
  {
   "cell_type": "code",
   "execution_count": null,
   "metadata": {},
   "outputs": [],
   "source": [
    "# retorna o número de linhas\n",
    "len(imrs)"
   ]
  },
  {
   "cell_type": "markdown",
   "metadata": {},
   "source": [
    "Para exemplificar o uso de uma estrutura de repetição (*for*) e uma estrutura condicional (*if*) fiz a seguinte pergunta:"
   ]
  },
  {
   "cell_type": "markdown",
   "metadata": {},
   "source": [
    "Quais os municípios de MG possuem rendimento per capita no setor formal maior do que R$1000,00?"
   ]
  },
  {
   "cell_type": "code",
   "execution_count": null,
   "metadata": {},
   "outputs": [],
   "source": [
    "# municípios de MG possuem rendimento per capita no setor formal maior do que R$1000,00?\n",
    "# percorrer cada linha do dataframe e verificar se o valor da variável rdpc_formal\n",
    "# é maior do que 1000. Se for, mostrar o nome do município e o valor de rdpc_formal\n",
    "for i in range(len(imrs)):\n",
    "    if imrs.rdpc_formal[i] > 1000:\n",
    "        print(imrs.mun[i], imrs.rdpc_formal[i])"
   ]
  },
  {
   "cell_type": "markdown",
   "metadata": {},
   "source": [
    "Note que bastaria trocar a variável (escolher outra no lugar de *rdpc_formal*) e o valor de referência (1000) para fazer outra consulta. **Muito importante:** essa modificação **NÃO CONTA** como um uso diferente para o *for* e para o *if*, já que nada de novo está sendo feito no código."
   ]
  },
  {
   "cell_type": "code",
   "execution_count": null,
   "metadata": {},
   "outputs": [],
   "source": [
    "# usando a mesma estrutura acima para responder quais os municípios de MG \n",
    "# possuem mais do que duas bibliotecas\n",
    "# mostrar o nome do município e o valor de n_bib\n",
    "for i in range(len(imrs)):\n",
    "    if imrs.n_bib[i] > 2:\n",
    "        print(imrs.mun[i], imrs.n_bib[i])"
   ]
  },
  {
   "cell_type": "markdown",
   "metadata": {},
   "source": [
    "Se fôssemos usar uma função pronta do pacote *pandas* (o que não é nosso foco na disciplina), bastaria fazer o seguinte (porém ele retornaria um *dataframe* inteiro com as linhas selecionadas (n_bib > 2)): "
   ]
  },
  {
   "cell_type": "code",
   "execution_count": null,
   "metadata": {},
   "outputs": [],
   "source": [
    "imrs[imrs.n_bib > 2]"
   ]
  },
  {
   "cell_type": "markdown",
   "metadata": {},
   "source": [
    "Agora um exemplo de uso de listas. Eu quero responder a mesma pergunta sobre renda, mas o resultado será apresentado em uma lista."
   ]
  },
  {
   "cell_type": "code",
   "execution_count": null,
   "metadata": {},
   "outputs": [],
   "source": [
    "# lista de listas: \n",
    "# quais os municípios de MG possuem rendimento per capita no setor formal maior do que R$1000,00?\n",
    "# percorrer cada linha do dataframe e verificar se o valor da variável rdpc_formal\n",
    "# é maior do que 1000. Se for, colocar o nome do município e a renda numa lista\n",
    "lista_rdpc = []\n",
    "for i in range(len(imrs)):\n",
    "    if imrs.rdpc_formal[i] > 1000:\n",
    "        lista_rdpc.append([imrs.mun[i], imrs.rdpc_formal[i]])\n",
    "\n",
    "# visualizar a lista criada\n",
    "lista_rdpc"
   ]
  },
  {
   "cell_type": "markdown",
   "metadata": {},
   "source": [
    "Como é uma lista, posso acessar seus elementos:"
   ]
  },
  {
   "cell_type": "code",
   "execution_count": null,
   "metadata": {},
   "outputs": [],
   "source": [
    "# elemento da posição 4 da lista\n",
    "lista_rdpc[4]"
   ]
  },
  {
   "cell_type": "code",
   "execution_count": null,
   "metadata": {},
   "outputs": [],
   "source": [
    "# elemento da posição 4 é uma lista, quero a posição 1 dessa sublista\n",
    "lista_rdpc[4][1]"
   ]
  },
  {
   "cell_type": "markdown",
   "metadata": {},
   "source": [
    "Exemplo do uso de funções:"
   ]
  },
  {
   "cell_type": "code",
   "execution_count": null,
   "metadata": {},
   "outputs": [],
   "source": [
    "# transformando em função que recebe o dataframe como parâmetro\n",
    "# e retorna na tela o nome do município e a rdpc_formal \n",
    "# dos municípios de MG que têm rdpc_formal > 1000\n",
    "def acima_rdpc(df):\n",
    "    for i in range(len(df)):\n",
    "        if df.rdpc_formal[i] > 1000:\n",
    "            print(df.mun[i], df.rdpc_formal[i])\n",
    "\n",
    "# uso da função\n",
    "acima_rdpc(imrs)"
   ]
  },
  {
   "cell_type": "markdown",
   "metadata": {},
   "source": [
    "Essa função é sem graça porque é meio \"travada\". Os parâmetros são interessantes para podermos retornar vários resultados interessantes com flexibilidade."
   ]
  },
  {
   "cell_type": "code",
   "execution_count": null,
   "metadata": {},
   "outputs": [],
   "source": [
    "# melhorando a função acima: outro parâmetro que indica qual o \n",
    "# valor de referência\n",
    "def acima_rdpc_valor(df, valor):\n",
    "    for i in range(len(df)):\n",
    "        if df.rdpc_formal[i] > valor:\n",
    "            print(df.mun[i], df.rdpc_formal[i])\n",
    "\n",
    "# uso da função\n",
    "acima_rdpc_valor(imrs, 900)"
   ]
  },
  {
   "cell_type": "markdown",
   "metadata": {},
   "source": [
    "Exemplo de interação com o usuário: ele define o valor do rendimento no setor formal a partir do qual ele deseja saber os municípios que apresentam esse valor."
   ]
  },
  {
   "cell_type": "code",
   "execution_count": null,
   "metadata": {},
   "outputs": [],
   "source": [
    "# interação com o usuário\n",
    "valor = float(input('Acima de qual valor de renda no setor formal você deseja visualizar os municípios de MG? '))\n",
    "\n",
    "# uso da função\n",
    "acima_rdpc_valor(imrs, valor)"
   ]
  },
  {
   "cell_type": "code",
   "execution_count": null,
   "metadata": {},
   "outputs": [],
   "source": [
    "# outra variação da mesma função: uma lista é criada com as informações\n",
    "def acima_rdpc_valor(df, valor):\n",
    "    lista = []\n",
    "    for i in range(len(df)):\n",
    "        if df.rdpc_formal[i] > valor:\n",
    "            lista.append([df.mun[i], df.rdpc_formal[i]])\n",
    "    return lista\n",
    "\n",
    "# uso da função\n",
    "acima_rdpc_valor(imrs, 1100)"
   ]
  },
  {
   "cell_type": "markdown",
   "metadata": {},
   "source": [
    "A função *describe* fornece um resumo estatístico da variável, o que pode ajudar em alguns cálculos:"
   ]
  },
  {
   "cell_type": "code",
   "execution_count": null,
   "metadata": {},
   "outputs": [],
   "source": [
    "# como é a variável tx_esc_0_3 (taxa de atendimento escolar às crianças de 0 a 3 anos de idade),\n",
    "# por exemplo? Seu resumo estatístico é dado por:\n",
    "imrs.tx_esc_0_3.describe()"
   ]
  },
  {
   "cell_type": "code",
   "execution_count": null,
   "metadata": {},
   "outputs": [],
   "source": [
    "# apenas a média\n",
    "imrs.tx_esc_0_3.mean()"
   ]
  },
  {
   "cell_type": "code",
   "execution_count": null,
   "metadata": {},
   "outputs": [],
   "source": [
    "# função mais geral - as informações passadas como parâmetros são:\n",
    "# - dataframe\n",
    "# - variável\n",
    "# - valor de referência\n",
    "# a função retorna o nome do município e o valor da variável para\n",
    "# os municípios que têm valores maiores do que o que foi passado\n",
    "# como parâmetro\n",
    "def municipios_acima(df, var, valor):\n",
    "    lista = []\n",
    "    for i in range(len(df)):\n",
    "        if df[var][i] > valor:\n",
    "            lista.append([df.mun[i], df.nome_meso[i], df[var][i]])\n",
    "    return lista\n",
    "\n",
    "# uso da função\n",
    "# escolhi a variável 'tx_adol_EM_adeq'\n",
    "municipios_acima(imrs, 'tx_adol_EM_adeq', 90)"
   ]
  },
  {
   "cell_type": "markdown",
   "metadata": {},
   "source": [
    "Interação com o usuário na função *municípios_acima*:"
   ]
  },
  {
   "cell_type": "code",
   "execution_count": null,
   "metadata": {},
   "outputs": [],
   "source": [
    "print('Insira a variável e qual o valor a partir do qual deseja ver os municípios que atendem ao critério:')\n",
    "var = input('variável: ')\n",
    "valor = float(input('valor: '))\n",
    "\n",
    "municipios_acima(imrs, var, valor)"
   ]
  },
  {
   "cell_type": "markdown",
   "metadata": {},
   "source": [
    "Agora uma função mais simples: calcular a soma de valores dos municípios em relação a uma variável:"
   ]
  },
  {
   "cell_type": "code",
   "execution_count": null,
   "metadata": {},
   "outputs": [],
   "source": [
    "# função para calcular a soma dos valores de uma variável \n",
    "# para o dataframe\n",
    "def soma(df, var):\n",
    "    soma = 0\n",
    "    for i in range(len(df)):\n",
    "        soma = soma + df[var][i]\n",
    "    return soma\n",
    "\n",
    "# uso da função\n",
    "soma(imrs, 'popul')"
   ]
  },
  {
   "cell_type": "code",
   "execution_count": null,
   "metadata": {},
   "outputs": [],
   "source": [
    "# conferir com a função pronta do pandas\n",
    "imrs.popul.sum()"
   ]
  },
  {
   "cell_type": "code",
   "execution_count": null,
   "metadata": {},
   "outputs": [],
   "source": [
    "# função para retornar o município com maior valor de uma variável\n",
    "# para iniciar, o candidato a maior é o primeiro município\n",
    "def maior(df, var):\n",
    "    # a lista 'maior' tem nome na pos. 0 e o valor da variável \n",
    "    # do 1. município na pos. 1\n",
    "    maior = [df.mun[0], df.nome_meso[0], df[var][0]] \n",
    "    for i in range(len(df)):   # percorrer o dataframe em busca do maior valor\n",
    "        if df[var][i] > maior[2]: # comparar o valor da variável na posição i\n",
    "                                  # com o valor da variável na lista 'maior'\n",
    "            maior = [df.mun[i], df.nome_meso[i], df[var][i]] # subtitui pelo novo maior encontrado\n",
    "    return maior\n",
    "\n",
    "# uso da função\n",
    "maior(imrs, 'tx_mort_homicidio')"
   ]
  },
  {
   "cell_type": "code",
   "execution_count": null,
   "metadata": {
    "scrolled": false
   },
   "outputs": [],
   "source": [
    "# usando função pronta do pandas\n",
    "# que retorna os maiores valores de uma variável\n",
    "imrs.sort_values(by='tx_mort_homicidio', ascending=False).loc[:,['mun', 'nome_meso', 'tx_mort_homicidio']]"
   ]
  },
  {
   "cell_type": "code",
   "execution_count": null,
   "metadata": {},
   "outputs": [],
   "source": [
    "# só mostrando os 5 primeiros\n",
    "# ascending = True: ordem crescente\n",
    "# ascending = False: ordem decrescente\n",
    "(imrs\n",
    " .sort_values(by='tx_mort_homicidio', ascending=False)\n",
    " .loc[:,['mun', 'nome_meso', 'tx_mort_homicidio']]\n",
    " .iloc[:5,:])"
   ]
  },
  {
   "cell_type": "markdown",
   "metadata": {},
   "source": [
    "## Selecionar municípios de MG (por mesorregião ou microrregião)"
   ]
  },
  {
   "cell_type": "code",
   "execution_count": null,
   "metadata": {},
   "outputs": [],
   "source": [
    "# para saber como estão os nomes das mesorregiões\n",
    "imrs.nome_meso.unique()"
   ]
  },
  {
   "cell_type": "code",
   "execution_count": null,
   "metadata": {
    "collapsed": true
   },
   "outputs": [],
   "source": [
    "# criar um objeto sul com os municípios apenas do Sul/Sudoeste de MG\n",
    "sul = imrs.query(\"nome_meso == 'Sul/Sudoeste de Minas'\")"
   ]
  },
  {
   "cell_type": "code",
   "execution_count": null,
   "metadata": {},
   "outputs": [],
   "source": [
    "sul.shape"
   ]
  },
  {
   "cell_type": "code",
   "execution_count": null,
   "metadata": {},
   "outputs": [],
   "source": [
    "# notar que os índices começam em 11\n",
    "sul.head()"
   ]
  },
  {
   "cell_type": "code",
   "execution_count": null,
   "metadata": {},
   "outputs": [],
   "source": [
    "# fazer com que os índices comecem em 0\n",
    "sul.index = range(len(sul))\n",
    "sul.head()"
   ]
  },
  {
   "cell_type": "code",
   "execution_count": null,
   "metadata": {},
   "outputs": [],
   "source": [
    "# outro jeito para fazer com que os índices comecem em 0\n",
    "sul1 = imrs.query(\"nome_meso == 'Sul/Sudoeste de Minas'\").reset_index().drop('index', axis=1)\n",
    "sul1.head()"
   ]
  },
  {
   "cell_type": "code",
   "execution_count": null,
   "metadata": {},
   "outputs": [],
   "source": [
    "# usar a função municipios_acima\n",
    "# quais municípios do sul de MG possuem rendimento no setor formal maior do que 1000?\n",
    "municipios_acima(sul, 'rdpc_formal', 1000)"
   ]
  },
  {
   "cell_type": "code",
   "execution_count": null,
   "metadata": {},
   "outputs": [],
   "source": [
    "# usando a função soma\n",
    "soma(sul, 'popul')"
   ]
  },
  {
   "cell_type": "code",
   "execution_count": null,
   "metadata": {},
   "outputs": [],
   "source": [
    "# conferindo com a função pronta do pandas\n",
    "sul.popul.sum()"
   ]
  },
  {
   "cell_type": "code",
   "execution_count": null,
   "metadata": {},
   "outputs": [],
   "source": [
    "# uso da função maior (criada antes) para o conjunto de dados sul\n",
    "maior(sul, 'rdpc_formal')"
   ]
  },
  {
   "cell_type": "code",
   "execution_count": null,
   "metadata": {},
   "outputs": [],
   "source": [
    "maior(sul, 'tx_mort_homicidio')"
   ]
  },
  {
   "cell_type": "markdown",
   "metadata": {},
   "source": [
    "O próximo exemplo é de uma função que não faz quase nada, mas é para exemplificar o caso em que o usuário inserir uma *string* como parâmetro e for necessário fazer uma consulta ao *dataframe* usando o *query* para selecionar linhas do *dataframe*. Para isso é necessário o uso de @, observe:"
   ]
  },
  {
   "cell_type": "code",
   "execution_count": null,
   "metadata": {
    "collapsed": true
   },
   "outputs": [],
   "source": [
    "# função em que o usuário escolhe uma mesorregião e ela retorna o dataframe só com essa mesorregião\n",
    "# note que essa função apenas usa o query do pandas, mas é para exemplificar o uso de parâmetros\n",
    "# perceba o uso do @ dentro do query, pois o parâmetro 'meso' é uma string\n",
    "def mostra(meso):\n",
    "    meso_escolhida = imrs.query('nome_meso == @meso').reset_index().drop('index', axis=1)\n",
    "    return meso_escolhida"
   ]
  },
  {
   "cell_type": "code",
   "execution_count": null,
   "metadata": {},
   "outputs": [],
   "source": [
    "# uso da função 'mostra'\n",
    "mostra('Sul/Sudoeste de Minas')"
   ]
  },
  {
   "cell_type": "markdown",
   "metadata": {},
   "source": [
    "## Sugestões para o trabalho\n",
    "- não vale usar os códigos e funções que passei como exemplo e simplesmente mudar para outra variável ou município, tenham novas ideias\n",
    "- escolher mesorregiões de MG\n",
    "- usar mais de uma variável na mesma função\n",
    "- retornar maior e menor valor de alguma variável\n",
    "- retornar outras medidas estatísticas em funções\n",
    "- calcular porcentagens\n",
    "- função que recebe uma variável e uma cidade e retorna seu valor  \n",
    "- função que recebe uma cidade e retorna todos os indicadores\n",
    "- função que recebe uma mesorregião e uma variável e retorna a média dessa variável para a mesorregião"
   ]
  },
  {
   "cell_type": "markdown",
   "metadata": {
    "collapsed": true
   },
   "source": [
    "### Importante:\n",
    "\n",
    "- não é necessário que o trabalho seja em torno de um tema (demografia, saúde etc.), as funções e códigos podem misturar assuntos sem problema algum (funções que retornam informações de renda, outras funções que retornem informações sobre saúde etc.). Mas quem quiser trabalhar com um tema fique à vontade  \n",
    "- gráficos podem ser utilizados para ilustrar resultados (basta correr atrás da documentação de pacotes do *Python*, como *seaborn*, *matplotlib* etc. ou o site *stackoverflow*)  \n",
    "- o importante é utilizar o que vimos na disciplina, evitando usar funções prontas do *Python* e tentando criar seus próprios códigos"
   ]
  },
  {
   "cell_type": "markdown",
   "metadata": {
    "collapsed": true
   },
   "source": [
    "## Exemplo de gráfico"
   ]
  },
  {
   "cell_type": "code",
   "execution_count": null,
   "metadata": {
    "collapsed": true
   },
   "outputs": [],
   "source": [
    "%matplotlib inline\n",
    "import matplotlib.pyplot as plt\n",
    "import seaborn as sns\n",
    "sns.set(style='whitegrid', palette='Set2')"
   ]
  },
  {
   "cell_type": "code",
   "execution_count": null,
   "metadata": {},
   "outputs": [],
   "source": [
    "imrs.columns"
   ]
  },
  {
   "cell_type": "code",
   "execution_count": null,
   "metadata": {},
   "outputs": [],
   "source": [
    "# gráfico de dispersão: proporção de pessoas com plano privado de saúde X rendimento no setor formal\n",
    "plt.scatter(imrs.prop_priv_saude, imrs.rdpc_formal);"
   ]
  },
  {
   "cell_type": "code",
   "execution_count": null,
   "metadata": {},
   "outputs": [],
   "source": [
    "# correlação entre proporção de pessoas com plano privado de saúde X rendimento no setor formal\n",
    "imrs[['prop_priv_saude', 'rdpc_formal']].corr().iloc[0,1]"
   ]
  },
  {
   "cell_type": "code",
   "execution_count": null,
   "metadata": {
    "collapsed": true
   },
   "outputs": [],
   "source": []
  }
 ],
 "metadata": {
  "kernelspec": {
   "display_name": "Python 3",
   "language": "python",
   "name": "python3"
  },
  "language_info": {
   "codemirror_mode": {
    "name": "ipython",
    "version": 3
   },
   "file_extension": ".py",
   "mimetype": "text/x-python",
   "name": "python",
   "nbconvert_exporter": "python",
   "pygments_lexer": "ipython3",
   "version": "3.6.5"
  }
 },
 "nbformat": 4,
 "nbformat_minor": 2
}
