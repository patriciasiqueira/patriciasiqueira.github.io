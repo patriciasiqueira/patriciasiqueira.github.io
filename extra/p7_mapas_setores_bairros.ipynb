{
 "cells": [
  {
   "cell_type": "code",
   "execution_count": null,
   "metadata": {
    "collapsed": true
   },
   "outputs": [],
   "source": [
    "%matplotlib inline\n",
    "import pandas as pd\n",
    "import nupis\n",
    "import numpy as np\n",
    "import seaborn as sns\n",
    "import matplotlib.pyplot as plt\n",
    "import matplotlib as mpl\n",
    "import geopandas as gp\n",
    "import pysal as ps\n",
    "import pysal.contrib.viz.mapping as maps\n",
    "import palettable\n",
    "\n",
    "pd.options.mode.chained_assignment = None\n",
    "\n",
    "sns.set(style='whitegrid', palette='bright', context='notebook')"
   ]
  },
  {
   "cell_type": "markdown",
   "metadata": {},
   "source": [
    "### Setores censitários"
   ]
  },
  {
   "cell_type": "markdown",
   "metadata": {},
   "source": [
    "Para baixar as malhas dos outros estados do Brasil ir em:\n",
    "\n",
    "ftp://geoftp.ibge.gov.br/organizacao_do_territorio/malhas_territoriais/malhas_de_setores_censitarios__divisoes_intramunicipais/censo_2010/setores_censitarios_shp/\n",
    "\n",
    "Para baixar o arquivo com as variáveis por setores censitários em MG:\n",
    "\n",
    "ftp://ftp.ibge.gov.br/Censos/Censo_Demografico_2010/Resultados_do_Universo/Agregados_por_Setores_Censitarios/\n",
    "\n",
    "Dicas em: http://www.analisededadosempython.org/espacial"
   ]
  },
  {
   "cell_type": "code",
   "execution_count": null,
   "metadata": {},
   "outputs": [],
   "source": [
    "# estado de Minas Gerais dividido em setores censitários\n",
    "setores = gp.read_file('31SEE250GC_SIR.shp') \n",
    "setores.head(3)"
   ]
  },
  {
   "cell_type": "code",
   "execution_count": null,
   "metadata": {},
   "outputs": [],
   "source": [
    "setores.shape"
   ]
  },
  {
   "cell_type": "code",
   "execution_count": null,
   "metadata": {},
   "outputs": [],
   "source": [
    "# a partir do shapefile de setores de MG, selecionar o município de Varginha e apenas os setores urbanos\n",
    "vga = setores.query('NM_MUNICIP == \"VARGINHA\"')\n",
    "mapa_vga = vga.query('TIPO == \"URBANO\"')\n",
    "mapa_vga.shape"
   ]
  },
  {
   "cell_type": "code",
   "execution_count": null,
   "metadata": {},
   "outputs": [],
   "source": [
    "mapa_vga.columns"
   ]
  },
  {
   "cell_type": "code",
   "execution_count": null,
   "metadata": {},
   "outputs": [],
   "source": [
    "# plotar os bairros, porém, a divisão está em setores censitários - as 161 linhas\n",
    "# (há bairros repetidos)\n",
    "mapa = mapa_vga\n",
    "ax = mapa.plot(figsize=(15,15))\n",
    "\n",
    "for i in mapa.index:\n",
    "    plt.text(mapa.geometry.centroid[i].coords[0][0], mapa.geometry.centroid[i].coords[0][1], mapa.NM_BAIRRO[i],\n",
    "             fontsize=10, horizontalalignment='center', verticalalignment='center')\n",
    "\n",
    "ax.set_axis_off();"
   ]
  },
  {
   "cell_type": "code",
   "execution_count": null,
   "metadata": {},
   "outputs": [],
   "source": [
    "# tentar agrupar em bairros\n",
    "# mapa contém as informações divididas em 161 setores censitários e queremos unir os setores em 38 bairros\n",
    "# uso da função dissolve \n",
    "# http://geopandas.org/aggregation_with_dissolve.html\n",
    "bairros = mapa_vga.dissolve(by='NM_BAIRRO')\n",
    "bairros.head()"
   ]
  },
  {
   "cell_type": "code",
   "execution_count": null,
   "metadata": {},
   "outputs": [],
   "source": [
    "# plotar os bairros usando o novo dataframe bairros\n",
    "# Obs.: os índices ficaram como os nomes dos bairros, por isso, criei uma nova coluna NM_BAIRRO para\n",
    "# colocar os nomes dos bairros e a nova coluna index irá de 0 a 37 (número de bairros)\n",
    "bairros['NM_BAIRRO'] = bairros.index\n",
    "bairros.index = range(len(bairros))\n",
    "bairros.head()"
   ]
  },
  {
   "cell_type": "code",
   "execution_count": null,
   "metadata": {},
   "outputs": [],
   "source": [
    "# plotar os bairros\n",
    "ax = bairros.plot(figsize=(15,15), cmap='Accent')\n",
    "\n",
    "for i in bairros.index:\n",
    "    plt.text(bairros.geometry.centroid[i].coords[0][0], bairros.geometry.centroid[i].coords[0][1], bairros.NM_BAIRRO[i],\n",
    "             fontsize=10, horizontalalignment='center', verticalalignment='center')\n",
    "\n",
    "ax.set_axis_off();"
   ]
  },
  {
   "cell_type": "markdown",
   "metadata": {},
   "source": [
    "## Plotar os nomes dos bairros de outro município de MG:"
   ]
  },
  {
   "cell_type": "code",
   "execution_count": null,
   "metadata": {
    "collapsed": true
   },
   "outputs": [],
   "source": [
    "# para saber quais municípios possuem os nomes dos bairros disponíveis\n",
    "setores.NM_BAIRRO.fillna('nnnn', inplace=True)  # preencher os que não têm nomes dos bairros com a string 'nnnn'\n",
    "setores = setores.query('NM_BAIRRO != \"nnnn\"')"
   ]
  },
  {
   "cell_type": "code",
   "execution_count": null,
   "metadata": {},
   "outputs": [],
   "source": [
    "# retornar esses municípios\n",
    "setores.query('NM_BAIRRO != \"nada\"')['NM_MUNICIP'].unique()"
   ]
  },
  {
   "cell_type": "markdown",
   "metadata": {},
   "source": [
    "## Plotar os nomes dos bairros de outro município de MG:"
   ]
  },
  {
   "cell_type": "code",
   "execution_count": null,
   "metadata": {
    "collapsed": true
   },
   "outputs": [],
   "source": [
    "# plotar o mapa sem os nomes\n",
    "\n"
   ]
  },
  {
   "cell_type": "code",
   "execution_count": null,
   "metadata": {
    "collapsed": true
   },
   "outputs": [],
   "source": [
    "# plotar o mapa com os nomes\n"
   ]
  },
  {
   "cell_type": "code",
   "execution_count": null,
   "metadata": {
    "collapsed": true
   },
   "outputs": [],
   "source": []
  },
  {
   "cell_type": "code",
   "execution_count": null,
   "metadata": {
    "collapsed": true
   },
   "outputs": [],
   "source": []
  },
  {
   "cell_type": "code",
   "execution_count": null,
   "metadata": {
    "collapsed": true
   },
   "outputs": [],
   "source": []
  },
  {
   "cell_type": "markdown",
   "metadata": {},
   "source": [
    "### Agora vamos pegar variáveis sobre os setores censitários de MG e utilizar os de Varginha."
   ]
  },
  {
   "cell_type": "markdown",
   "metadata": {
    "collapsed": true
   },
   "source": [
    "O arquivo que usaremos será o 'basico_MG.csv'\n",
    "\n",
    "Obs.: peguei esse arquivo em: \n",
    "\n",
    "ftp://ftp.ibge.gov.br/Censos/Censo_Demografico_2010/Resultados_do_Universo/Agregados_por_Setores_Censitarios/).\n",
    "\n",
    "As variáveis desse arquivo estão codificadas, para saber o que significam, consultar o arquivo 'base_setores_censitarios_censo_2010.pdf'"
   ]
  },
  {
   "cell_type": "code",
   "execution_count": null,
   "metadata": {},
   "outputs": [],
   "source": [
    "# carregar arquivo com dados sobre os setores censitários de MG\n",
    "mg = pd.read_csv('basico_MG.csv', encoding='latin1', sep=';', decimal=',')\n",
    "mg.head()"
   ]
  },
  {
   "cell_type": "code",
   "execution_count": null,
   "metadata": {},
   "outputs": [],
   "source": [
    "mg.columns"
   ]
  },
  {
   "cell_type": "code",
   "execution_count": null,
   "metadata": {},
   "outputs": [],
   "source": [
    "mg.Nome_do_municipio.unique()"
   ]
  },
  {
   "cell_type": "code",
   "execution_count": null,
   "metadata": {},
   "outputs": [],
   "source": [
    "# informações dos setores censitários de Varginha\n",
    "mg.query('Nome_do_municipio == \"VARGINHA\"')"
   ]
  },
  {
   "cell_type": "code",
   "execution_count": null,
   "metadata": {},
   "outputs": [],
   "source": [
    "# salvar as informações de Varginha num dataframe\n",
    "vga_df = mg.query('Nome_do_municipio == \"VARGINHA\"')\n",
    "vga_df = vga_df.query('Situacao_setor == [1, 2, 3]')   # só setores urbanos\n",
    "vga_df.head()"
   ]
  },
  {
   "cell_type": "code",
   "execution_count": null,
   "metadata": {},
   "outputs": [],
   "source": [
    "vga_df.shape    # 161 setores censitários"
   ]
  },
  {
   "cell_type": "code",
   "execution_count": null,
   "metadata": {},
   "outputs": [],
   "source": [
    "vga_df.columns   # variáveis: 12"
   ]
  },
  {
   "cell_type": "code",
   "execution_count": null,
   "metadata": {},
   "outputs": [],
   "source": [
    "# o objeto 'mapa_vga' contém as informações geográficas de todos os setores censitários de Varginha\n",
    "# vamos incluir as informações das variáveis presentes em 'vgn_df' neste dataframe\n",
    "# e chamá-lo de geodf \n",
    "# como usaremos a coluna de código do setor censitário como a variável para unir os dois conjuntos de\n",
    "# dados, o nome dessa coluna deve ser o mesmo nos dois (chamarei de 'Cod_setor')\n",
    "df = vga_df\n",
    "geodf = mapa_vga\n",
    "geodf.geometry = geodf.geometry.simplify(0.001)\n",
    "geodf.rename(columns={'CD_GEOCODI': 'CD_setor'}, inplace=True)\n",
    "geodf.head()"
   ]
  },
  {
   "cell_type": "code",
   "execution_count": null,
   "metadata": {},
   "outputs": [],
   "source": [
    "geodf.shape"
   ]
  },
  {
   "cell_type": "code",
   "execution_count": null,
   "metadata": {
    "collapsed": true
   },
   "outputs": [],
   "source": [
    "# os códigos não estão sendo lidos como inteiros, transformá-los em inteiros\n",
    "geodf.CD_setor = geodf.CD_setor.astype('int64')"
   ]
  },
  {
   "cell_type": "code",
   "execution_count": null,
   "metadata": {
    "collapsed": true
   },
   "outputs": [],
   "source": [
    "# para que os dois dataframes tenham a coluna de códigos com o mesmo nome,\n",
    "# alterar para CD_setor\n",
    "df.rename(columns={'Cod_setor': 'CD_setor'}, inplace=True)"
   ]
  },
  {
   "cell_type": "code",
   "execution_count": null,
   "metadata": {},
   "outputs": [],
   "source": [
    "# unir o dataframe de informações geográficas com o outro dataframe com as variáveis\n",
    "# Obs.: 'suffixes' é para o caso de haver variáveis de mesmo nome, incluir alguma coisa no final do nome\n",
    "# em cada dataframe\n",
    "varginha = pd.merge(geodf, df, on='CD_setor')\n",
    "varginha"
   ]
  },
  {
   "cell_type": "code",
   "execution_count": null,
   "metadata": {},
   "outputs": [],
   "source": [
    "varginha.columns"
   ]
  }
 ],
 "metadata": {
  "anaconda-cloud": {},
  "kernelspec": {
   "display_name": "Python 3",
   "language": "python",
   "name": "python3"
  },
  "language_info": {
   "codemirror_mode": {
    "name": "ipython",
    "version": 3
   },
   "file_extension": ".py",
   "mimetype": "text/x-python",
   "name": "python",
   "nbconvert_exporter": "python",
   "pygments_lexer": "ipython3",
   "version": "3.6.2"
  }
 },
 "nbformat": 4,
 "nbformat_minor": 1
}
