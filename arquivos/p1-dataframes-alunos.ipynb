{
  "nbformat": 4,
  "nbformat_minor": 0,
  "metadata": {
    "colab": {
      "name": "p1-dataframes-alunos.ipynb",
      "version": "0.3.2",
      "provenance": []
    },
    "kernelspec": {
      "name": "python3",
      "display_name": "Python 3"
    }
  },
  "cells": [
    {
      "cell_type": "markdown",
      "metadata": {
        "id": "fZiScdkph9u3",
        "colab_type": "text"
      },
      "source": [
        "# Aula prática 1 - Análise espacial\n",
        "\n",
        "## *Dataframes* no Python"
      ]
    },
    {
      "cell_type": "markdown",
      "metadata": {
        "id": "kyGB1vTPh9u9",
        "colab_type": "text"
      },
      "source": [
        "Itens a serem vistos:\n",
        "\n",
        "- leitura de \\textit{dataframes} com o pandas  \n",
        "- manipulação de \\textit{dataframes}  \n",
        "- medidas resumo\n",
        "- gráficos e diagramas de dispersão"
      ]
    },
    {
      "cell_type": "markdown",
      "metadata": {
        "id": "bwOKVBHEh9vB",
        "colab_type": "text"
      },
      "source": [
        "*Dataframes*:\n",
        "\n",
        "- expressam o conteúdo de planilhas\n",
        "- uma das principais estruturas de dados (usamos o pacote *pandas*)\n",
        "- bidimensionais e heteogêneos\n",
        "- linhas representam as observações (começando na posição 0)\n",
        "- colunas representam as variáveis\n",
        "- podem ser importados (.csv, .xls etc.) ou podem ser criados"
      ]
    },
    {
      "cell_type": "code",
      "metadata": {
        "id": "iPTv8mJih9vG",
        "colab_type": "code",
        "colab": {}
      },
      "source": [
        "# pacotes a serem usados\n",
        "%matplotlib inline\n",
        "import pandas as pd\n",
        "import matplotlib.pyplot as plt\n",
        "import seaborn as sns\n",
        "sns.set(style='whitegrid', palette='pastel') "
      ],
      "execution_count": 0,
      "outputs": []
    },
    {
      "cell_type": "markdown",
      "metadata": {
        "id": "YLWkASC4h9vP",
        "colab_type": "text"
      },
      "source": [
        "**Usando pandas (dataframes)**"
      ]
    },
    {
      "cell_type": "code",
      "metadata": {
        "id": "Y5944zu7jT7H",
        "colab_type": "code",
        "colab": {}
      },
      "source": [
        "# ler uma planilha csv\n",
        "dados = pd.read_csv('https://raw.githubusercontent.com/patriciasiqueira/patriciasiqueira.github.io/master/arquivos/qtde-14.csv', encoding='latin1')"
      ],
      "execution_count": 0,
      "outputs": []
    },
    {
      "cell_type": "code",
      "metadata": {
        "id": "_5BE_V3_0UCT",
        "colab_type": "code",
        "colab": {}
      },
      "source": [
        "# se for necessário carregar uma planilha salva no próprio computador\n",
        "# seta à esquerda: files\n",
        "# dados = pd.read_csv('qtde-14.csv', encoding='latin1')"
      ],
      "execution_count": 0,
      "outputs": []
    },
    {
      "cell_type": "code",
      "metadata": {
        "id": "vE7rVzeq0Tj3",
        "colab_type": "code",
        "colab": {}
      },
      "source": [
        ""
      ],
      "execution_count": 0,
      "outputs": []
    },
    {
      "cell_type": "code",
      "metadata": {
        "id": "GD78bLz2h9xL",
        "colab_type": "code",
        "colab": {}
      },
      "source": [
        "# renomear colunas\n",
        "# 'ibge7' será 'mun' (código do município)\n",
        "# 'mun' será 'município' (nome do município)\n",
        "dados.rename(columns={'mun': 'municipio'}, inplace=True)  # inplace = True modifica o dataframe\n",
        "dados.rename(columns={'ibge7': 'mun'}, inplace=True)"
      ],
      "execution_count": 0,
      "outputs": []
    },
    {
      "cell_type": "code",
      "metadata": {
        "id": "7ZSeRiu-0YRa",
        "colab_type": "code",
        "colab": {}
      },
      "source": [
        ""
      ],
      "execution_count": 0,
      "outputs": []
    },
    {
      "cell_type": "code",
      "metadata": {
        "id": "_ZOaCB6u0YIk",
        "colab_type": "code",
        "colab": {}
      },
      "source": [
        ""
      ],
      "execution_count": 0,
      "outputs": []
    },
    {
      "cell_type": "markdown",
      "metadata": {
        "collapsed": true,
        "id": "GebEwpGDh9yz",
        "colab_type": "text"
      },
      "source": [
        "**Medidas resumo (estatísticas)**"
      ]
    },
    {
      "cell_type": "code",
      "metadata": {
        "id": "Xg0JJtJc0eUA",
        "colab_type": "code",
        "colab": {}
      },
      "source": [
        ""
      ],
      "execution_count": 0,
      "outputs": []
    },
    {
      "cell_type": "code",
      "metadata": {
        "id": "Rv59Srpl0eHM",
        "colab_type": "code",
        "colab": {}
      },
      "source": [
        ""
      ],
      "execution_count": 0,
      "outputs": []
    },
    {
      "cell_type": "code",
      "metadata": {
        "id": "c3eKVM54h90L",
        "colab_type": "code",
        "colab": {}
      },
      "source": [
        "# mostrar os 5 municípios com maiores produções de café\n",
        "dados.sort_values('cafe_arab', ascending=False).round(0).head(5)"
      ],
      "execution_count": 0,
      "outputs": []
    },
    {
      "cell_type": "code",
      "metadata": {
        "id": "lo0RBz7U0ohZ",
        "colab_type": "code",
        "colab": {}
      },
      "source": [
        ""
      ],
      "execution_count": 0,
      "outputs": []
    },
    {
      "cell_type": "code",
      "metadata": {
        "id": "48LNTjdOh90U",
        "colab_type": "code",
        "colab": {}
      },
      "source": [
        "# ordenar por média e mesorregião\n",
        "dados.groupby('nome_meso').cafe_arab.mean().sort_values(ascending=False).round(2)"
      ],
      "execution_count": 0,
      "outputs": []
    },
    {
      "cell_type": "markdown",
      "metadata": {
        "id": "dqOseE86h90g",
        "colab_type": "text"
      },
      "source": [
        "**Mostrar valores que atendam a alguma condição específica:**"
      ]
    },
    {
      "cell_type": "code",
      "metadata": {
        "id": "GgR7dweBQQpO",
        "colab_type": "code",
        "colab": {}
      },
      "source": [
        ""
      ],
      "execution_count": 0,
      "outputs": []
    }
  ]
}