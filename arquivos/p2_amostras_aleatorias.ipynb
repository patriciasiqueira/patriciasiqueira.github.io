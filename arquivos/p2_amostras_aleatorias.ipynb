{
 "cells": [
  {
   "cell_type": "code",
   "execution_count": 1,
   "metadata": {
    "collapsed": true
   },
   "outputs": [],
   "source": [
    "import pandas as pd\n",
    "import numpy as np\n",
    "import scipy.stats as stats\n",
    "\n",
    "%matplotlib inline\n",
    "import matplotlib.pyplot as plt\n",
    "import seaborn as sns\n",
    "sns.set(style='whitegrid', palette='pastel') "
   ]
  },
  {
   "cell_type": "markdown",
   "metadata": {},
   "source": [
    "## Amostras aleatórias"
   ]
  },
  {
   "cell_type": "code",
   "execution_count": 2,
   "metadata": {},
   "outputs": [
    {
     "data": {
      "text/plain": [
       "array([[ 0,  1,  2,  3,  4],\n",
       "       [ 5,  6,  7,  8,  9],\n",
       "       [10, 11, 12, 13, 14]])"
      ]
     },
     "execution_count": 2,
     "metadata": {},
     "output_type": "execute_result"
    }
   ],
   "source": [
    "# matriz a partir de uma sequência\n",
    "A = np.arange(15).reshape(3, 5)\n",
    "A"
   ]
  },
  {
   "cell_type": "code",
   "execution_count": 3,
   "metadata": {},
   "outputs": [
    {
     "data": {
      "text/plain": [
       "(3, 5)"
      ]
     },
     "execution_count": 3,
     "metadata": {},
     "output_type": "execute_result"
    }
   ],
   "source": [
    "# dimensão\n",
    "A.shape  "
   ]
  },
  {
   "cell_type": "code",
   "execution_count": 4,
   "metadata": {},
   "outputs": [
    {
     "data": {
      "text/plain": [
       "3"
      ]
     },
     "execution_count": 4,
     "metadata": {},
     "output_type": "execute_result"
    }
   ],
   "source": [
    "# número de linhas \n",
    "A.shape[0]"
   ]
  },
  {
   "cell_type": "code",
   "execution_count": 5,
   "metadata": {},
   "outputs": [
    {
     "data": {
      "text/plain": [
       "5"
      ]
     },
     "execution_count": 5,
     "metadata": {},
     "output_type": "execute_result"
    }
   ],
   "source": [
    "# número de colunas\n",
    "A.shape[1]"
   ]
  },
  {
   "cell_type": "code",
   "execution_count": 6,
   "metadata": {},
   "outputs": [
    {
     "data": {
      "text/plain": [
       "15"
      ]
     },
     "execution_count": 6,
     "metadata": {},
     "output_type": "execute_result"
    }
   ],
   "source": [
    "# número de elementos\n",
    "A.size"
   ]
  },
  {
   "cell_type": "markdown",
   "metadata": {},
   "source": [
    "### Matriz de dados $\\boldsymbol{X}_{n \\times p}$"
   ]
  },
  {
   "cell_type": "markdown",
   "metadata": {},
   "source": [
    "Seja $\\boldsymbol{X}_{4 \\times 3} =\n",
    "        \\left[\n",
    "        \\begin{array}{rrr}\n",
    "        7 & 3 & 9\\\\\n",
    "        4 & 6 & 11 \\\\\n",
    "        4 & 2 & 5 \\\\\n",
    "        5 & 5 & 7\\\\\n",
    "        \\end{array}\n",
    "        \\right].$"
   ]
  },
  {
   "cell_type": "code",
   "execution_count": 7,
   "metadata": {},
   "outputs": [
    {
     "name": "stdout",
     "output_type": "stream",
     "text": [
      "[[ 7  3  9]\n",
      " [ 4  6 11]\n",
      " [ 4  2  5]\n",
      " [ 5  5  7]]\n"
     ]
    }
   ],
   "source": [
    "# montar a matriz\n",
    "X = np.array([[7, 3, 9], [4, 6, 11], [4, 2, 5], [5, 5, 7]])\n",
    "print(X)"
   ]
  },
  {
   "cell_type": "code",
   "execution_count": 8,
   "metadata": {},
   "outputs": [
    {
     "data": {
      "text/plain": [
       "4"
      ]
     },
     "execution_count": 8,
     "metadata": {},
     "output_type": "execute_result"
    }
   ],
   "source": [
    "# obter n\n",
    "n = X.shape[0]\n",
    "n"
   ]
  },
  {
   "cell_type": "code",
   "execution_count": 9,
   "metadata": {},
   "outputs": [
    {
     "data": {
      "text/plain": [
       "3"
      ]
     },
     "execution_count": 9,
     "metadata": {},
     "output_type": "execute_result"
    }
   ],
   "source": [
    "# obter p\n",
    "p = X.shape[1]\n",
    "p"
   ]
  },
  {
   "cell_type": "markdown",
   "metadata": {},
   "source": [
    "Obter os vetores $\\boldsymbol{X}_{1\\cdot}$ $\\boldsymbol{X}_{2\\cdot}$, $\\cdots$"
   ]
  },
  {
   "cell_type": "code",
   "execution_count": 10,
   "metadata": {
    "collapsed": true
   },
   "outputs": [],
   "source": [
    "X1p = X[0,:].reshape(3, 1)\n",
    "X2p = X[1,:].reshape(3, 1)\n",
    "X3p = X[2,:].reshape(3, 1)\n",
    "X4p = X[3,:].reshape(3, 1)"
   ]
  },
  {
   "cell_type": "markdown",
   "metadata": {},
   "source": [
    "Obter o vetor de médias: $\\boldsymbol{\\bar{X}}_{p \\times 1}$"
   ]
  },
  {
   "cell_type": "code",
   "execution_count": 11,
   "metadata": {},
   "outputs": [
    {
     "name": "stdout",
     "output_type": "stream",
     "text": [
      "[[ 5.]\n",
      " [ 4.]\n",
      " [ 8.]]\n"
     ]
    }
   ],
   "source": [
    "Xb = np.mean(X, axis=0).reshape(3, 1)\n",
    "print(Xb)"
   ]
  },
  {
   "cell_type": "markdown",
   "metadata": {},
   "source": [
    "Matricialmente, o vetor de médias amostrais é otido por:\n",
    "\n",
    "$\\boldsymbol{\\bar{X}}$ = $\\dfrac{1}{n} (\\boldsymbol{X}_{1\\cdot} + \\boldsymbol{X}_{2\\cdot} + \\dots + \\boldsymbol{X}_{n\\cdot})$"
   ]
  },
  {
   "cell_type": "code",
   "execution_count": 12,
   "metadata": {},
   "outputs": [
    {
     "data": {
      "text/plain": [
       "array([[ 5.],\n",
       "       [ 4.],\n",
       "       [ 8.]])"
      ]
     },
     "execution_count": 12,
     "metadata": {},
     "output_type": "execute_result"
    }
   ],
   "source": [
    "# matricialmente\n",
    "(1 / n * (X1p + X2p + X3p + X4p)).reshape(3, 1)"
   ]
  },
  {
   "cell_type": "markdown",
   "metadata": {},
   "source": [
    "Matriz de covariâncias amostrais: $\\boldsymbol{S}_{p \\times p}$"
   ]
  },
  {
   "cell_type": "code",
   "execution_count": 13,
   "metadata": {},
   "outputs": [
    {
     "name": "stdout",
     "output_type": "stream",
     "text": [
      "[[ 2.         -0.66666667  0.66666667]\n",
      " [-0.66666667  3.33333333  3.33333333]\n",
      " [ 0.66666667  3.33333333  6.66666667]]\n"
     ]
    }
   ],
   "source": [
    "S = np.cov(X.T)\n",
    "print(S)"
   ]
  },
  {
   "cell_type": "markdown",
   "metadata": {},
   "source": [
    "Matricialmente, a matriz de covariâncias é otida por:\n",
    "\n",
    "$\\boldsymbol{S} = \\dfrac{1}{n-1} \\displaystyle \\sum_{i=1}^{n}(\\boldsymbol{X}_{i\\cdot} - \\boldsymbol{\\bar{X}})(\\boldsymbol{X}_{i\\cdot} - \\boldsymbol{\\bar{X}})^T$"
   ]
  },
  {
   "cell_type": "code",
   "execution_count": 14,
   "metadata": {},
   "outputs": [
    {
     "data": {
      "text/plain": [
       "array([[ 2.        , -0.66666667,  0.66666667],\n",
       "       [-0.66666667,  3.33333333,  3.33333333],\n",
       "       [ 0.66666667,  3.33333333,  6.66666667]])"
      ]
     },
     "execution_count": 14,
     "metadata": {},
     "output_type": "execute_result"
    }
   ],
   "source": [
    "# matricialmente\n",
    "(1 / (n - 1)) * (((X1p - Xb) @ (X1p - Xb).T) + \n",
    "                 ((X2p - Xb) @ (X2p - Xb).T) + \n",
    "                 ((X3p - Xb) @ (X3p - Xb).T) + \n",
    "                 ((X4p - Xb) @ (X4p - Xb).T)) "
   ]
  },
  {
   "cell_type": "markdown",
   "metadata": {},
   "source": [
    "Matriz de somas de quadrados e produtos: $\\boldsymbol{W}_{p \\times p}$"
   ]
  },
  {
   "cell_type": "code",
   "execution_count": 15,
   "metadata": {},
   "outputs": [
    {
     "name": "stdout",
     "output_type": "stream",
     "text": [
      "[[  6.  -2.   2.]\n",
      " [ -2.  10.  10.]\n",
      " [  2.  10.  20.]]\n"
     ]
    }
   ],
   "source": [
    "W = (n - 1) * S\n",
    "print(W)"
   ]
  },
  {
   "cell_type": "markdown",
   "metadata": {},
   "source": [
    "Matriz de correlações amostrais:  $\\boldsymbol{R}_{p \\times p}$"
   ]
  },
  {
   "cell_type": "code",
   "execution_count": 16,
   "metadata": {},
   "outputs": [
    {
     "data": {
      "text/plain": [
       "array([[ 1.        , -0.25819889,  0.18257419],\n",
       "       [-0.25819889,  1.        ,  0.70710678],\n",
       "       [ 0.18257419,  0.70710678,  1.        ]])"
      ]
     },
     "execution_count": 16,
     "metadata": {},
     "output_type": "execute_result"
    }
   ],
   "source": [
    "R = np.corrcoef(X.T)\n",
    "R"
   ]
  },
  {
   "cell_type": "markdown",
   "metadata": {},
   "source": [
    "Matricialmente, definindo $\\boldsymbol{D}$ = $diag(\\boldsymbol{S})$ = $diag(S_{ii})$ e $\\boldsymbol{D}^{-1/2} = diag(1/\\sqrt{S_{ii}})$,\n",
    "\n",
    "$\\boldsymbol{R} = \\boldsymbol{D}^{-1/2}\\boldsymbol{S}\\boldsymbol{D}^{-1/2}$"
   ]
  },
  {
   "cell_type": "code",
   "execution_count": 17,
   "metadata": {},
   "outputs": [
    {
     "name": "stdout",
     "output_type": "stream",
     "text": [
      "[[ 0.70710678  0.          0.        ]\n",
      " [ 0.          0.54772256  0.        ]\n",
      " [ 0.          0.          0.38729833]]\n"
     ]
    }
   ],
   "source": [
    "# D**{-1/2}\n",
    "D12 = np.diag(1 / np.sqrt(np.diag(S)))\n",
    "print(D12)"
   ]
  },
  {
   "cell_type": "code",
   "execution_count": 18,
   "metadata": {},
   "outputs": [
    {
     "name": "stdout",
     "output_type": "stream",
     "text": [
      "[[ 1.         -0.25819889  0.18257419]\n",
      " [-0.25819889  1.          0.70710678]\n",
      " [ 0.18257419  0.70710678  1.        ]]\n"
     ]
    }
   ],
   "source": [
    "R = D12 @ S @ D12\n",
    "print(R)"
   ]
  },
  {
   "cell_type": "markdown",
   "metadata": {},
   "source": [
    "#### Diagramas de dispersão"
   ]
  },
  {
   "cell_type": "code",
   "execution_count": 19,
   "metadata": {},
   "outputs": [
    {
     "data": {
      "text/plain": [
       "array([7, 4, 4, 5])"
      ]
     },
     "execution_count": 19,
     "metadata": {},
     "output_type": "execute_result"
    }
   ],
   "source": [
    "X[:,0]"
   ]
  },
  {
   "cell_type": "code",
   "execution_count": 20,
   "metadata": {},
   "outputs": [
    {
     "data": {
      "image/png": "[encoded data removed]",
      "text/plain": [
       "<matplotlib.figure.Figure at 0x7facf5939ac8>"
      ]
     },
     "metadata": {},
     "output_type": "display_data"
    }
   ],
   "source": [
    "%matplotlib inline\n",
    "import matplotlib.pyplot as plt\n",
    "import seaborn as sns\n",
    "sns.set(style='whitegrid', palette='pastel') \n",
    "\n",
    "plt.scatter(X[:,0],X[:,1]);"
   ]
  },
  {
   "cell_type": "markdown",
   "metadata": {
    "collapsed": true
   },
   "source": [
    "### Ler um csv (dataframe)"
   ]
  },
  {
   "cell_type": "code",
   "execution_count": 21,
   "metadata": {
    "collapsed": true
   },
   "outputs": [],
   "source": [
    "import pandas as pd"
   ]
  },
  {
   "cell_type": "code",
   "execution_count": 22,
   "metadata": {
    "collapsed": true
   },
   "outputs": [],
   "source": [
    "# o arquivo '.csv' deve estar na mesma pasta em que este notebook esteja salvo\n",
    "# se não estiver, o caminho deve ser colocado\n",
    "medidas = pd.read_csv('medidas.csv')"
   ]
  },
  {
   "cell_type": "code",
   "execution_count": 23,
   "metadata": {},
   "outputs": [
    {
     "data": {
      "text/html": [
       "<div>\n",
       "<style scoped>\n",
       "    .dataframe tbody tr th:only-of-type {\n",
       "        vertical-align: middle;\n",
       "    }\n",
       "\n",
       "    .dataframe tbody tr th {\n",
       "        vertical-align: top;\n",
       "    }\n",
       "\n",
       "    .dataframe thead th {\n",
       "        text-align: right;\n",
       "    }\n",
       "</style>\n",
       "<table border=\"1\" class=\"dataframe\">\n",
       "  <thead>\n",
       "    <tr style=\"text-align: right;\">\n",
       "      <th></th>\n",
       "      <th>torax</th>\n",
       "      <th>cintura</th>\n",
       "      <th>quadril</th>\n",
       "      <th>sexo</th>\n",
       "    </tr>\n",
       "  </thead>\n",
       "  <tbody>\n",
       "    <tr>\n",
       "      <th>0</th>\n",
       "      <td>34</td>\n",
       "      <td>30</td>\n",
       "      <td>32</td>\n",
       "      <td>M</td>\n",
       "    </tr>\n",
       "    <tr>\n",
       "      <th>1</th>\n",
       "      <td>37</td>\n",
       "      <td>32</td>\n",
       "      <td>37</td>\n",
       "      <td>M</td>\n",
       "    </tr>\n",
       "    <tr>\n",
       "      <th>2</th>\n",
       "      <td>38</td>\n",
       "      <td>30</td>\n",
       "      <td>36</td>\n",
       "      <td>M</td>\n",
       "    </tr>\n",
       "    <tr>\n",
       "      <th>3</th>\n",
       "      <td>36</td>\n",
       "      <td>33</td>\n",
       "      <td>39</td>\n",
       "      <td>M</td>\n",
       "    </tr>\n",
       "    <tr>\n",
       "      <th>4</th>\n",
       "      <td>38</td>\n",
       "      <td>29</td>\n",
       "      <td>33</td>\n",
       "      <td>M</td>\n",
       "    </tr>\n",
       "  </tbody>\n",
       "</table>\n",
       "</div>"
      ],
      "text/plain": [
       "   torax  cintura  quadril sexo\n",
       "0     34       30       32    M\n",
       "1     37       32       37    M\n",
       "2     38       30       36    M\n",
       "3     36       33       39    M\n",
       "4     38       29       33    M"
      ]
     },
     "execution_count": 23,
     "metadata": {},
     "output_type": "execute_result"
    }
   ],
   "source": [
    "medidas.head()"
   ]
  },
  {
   "cell_type": "code",
   "execution_count": 24,
   "metadata": {},
   "outputs": [
    {
     "data": {
      "text/plain": [
       "torax      37.00\n",
       "cintura    28.00\n",
       "quadril    37.05\n",
       "dtype: float64"
      ]
     },
     "execution_count": 24,
     "metadata": {},
     "output_type": "execute_result"
    }
   ],
   "source": [
    "medidas.mean()"
   ]
  },
  {
   "cell_type": "code",
   "execution_count": 25,
   "metadata": {},
   "outputs": [
    {
     "data": {
      "text/html": [
       "<div>\n",
       "<style scoped>\n",
       "    .dataframe tbody tr th:only-of-type {\n",
       "        vertical-align: middle;\n",
       "    }\n",
       "\n",
       "    .dataframe tbody tr th {\n",
       "        vertical-align: top;\n",
       "    }\n",
       "\n",
       "    .dataframe thead th {\n",
       "        text-align: right;\n",
       "    }\n",
       "</style>\n",
       "<table border=\"1\" class=\"dataframe\">\n",
       "  <thead>\n",
       "    <tr style=\"text-align: right;\">\n",
       "      <th></th>\n",
       "      <th>torax</th>\n",
       "      <th>cintura</th>\n",
       "      <th>quadril</th>\n",
       "    </tr>\n",
       "  </thead>\n",
       "  <tbody>\n",
       "    <tr>\n",
       "      <th>torax</th>\n",
       "      <td>6.631579</td>\n",
       "      <td>6.368421</td>\n",
       "      <td>3.000000</td>\n",
       "    </tr>\n",
       "    <tr>\n",
       "      <th>cintura</th>\n",
       "      <td>6.368421</td>\n",
       "      <td>12.526316</td>\n",
       "      <td>3.578947</td>\n",
       "    </tr>\n",
       "    <tr>\n",
       "      <th>quadril</th>\n",
       "      <td>3.000000</td>\n",
       "      <td>3.578947</td>\n",
       "      <td>5.944737</td>\n",
       "    </tr>\n",
       "  </tbody>\n",
       "</table>\n",
       "</div>"
      ],
      "text/plain": [
       "            torax    cintura   quadril\n",
       "torax    6.631579   6.368421  3.000000\n",
       "cintura  6.368421  12.526316  3.578947\n",
       "quadril  3.000000   3.578947  5.944737"
      ]
     },
     "execution_count": 25,
     "metadata": {},
     "output_type": "execute_result"
    }
   ],
   "source": [
    "medidas.cov()"
   ]
  },
  {
   "cell_type": "code",
   "execution_count": 26,
   "metadata": {},
   "outputs": [
    {
     "data": {
      "text/html": [
       "<div>\n",
       "<style scoped>\n",
       "    .dataframe tbody tr th:only-of-type {\n",
       "        vertical-align: middle;\n",
       "    }\n",
       "\n",
       "    .dataframe tbody tr th {\n",
       "        vertical-align: top;\n",
       "    }\n",
       "\n",
       "    .dataframe thead th {\n",
       "        text-align: right;\n",
       "    }\n",
       "</style>\n",
       "<table border=\"1\" class=\"dataframe\">\n",
       "  <thead>\n",
       "    <tr style=\"text-align: right;\">\n",
       "      <th></th>\n",
       "      <th>torax</th>\n",
       "      <th>cintura</th>\n",
       "      <th>quadril</th>\n",
       "    </tr>\n",
       "  </thead>\n",
       "  <tbody>\n",
       "    <tr>\n",
       "      <th>torax</th>\n",
       "      <td>1.000000</td>\n",
       "      <td>0.698734</td>\n",
       "      <td>0.477800</td>\n",
       "    </tr>\n",
       "    <tr>\n",
       "      <th>cintura</th>\n",
       "      <td>0.698734</td>\n",
       "      <td>1.000000</td>\n",
       "      <td>0.414741</td>\n",
       "    </tr>\n",
       "    <tr>\n",
       "      <th>quadril</th>\n",
       "      <td>0.477800</td>\n",
       "      <td>0.414741</td>\n",
       "      <td>1.000000</td>\n",
       "    </tr>\n",
       "  </tbody>\n",
       "</table>\n",
       "</div>"
      ],
      "text/plain": [
       "            torax   cintura   quadril\n",
       "torax    1.000000  0.698734  0.477800\n",
       "cintura  0.698734  1.000000  0.414741\n",
       "quadril  0.477800  0.414741  1.000000"
      ]
     },
     "execution_count": 26,
     "metadata": {},
     "output_type": "execute_result"
    }
   ],
   "source": [
    "medidas.corr()"
   ]
  },
  {
   "cell_type": "code",
   "execution_count": 27,
   "metadata": {},
   "outputs": [
    {
     "data": {
      "image/png": "[encoded data removed]",
      "text/plain": [
       "<matplotlib.figure.Figure at 0x7facec7553c8>"
      ]
     },
     "metadata": {},
     "output_type": "display_data"
    }
   ],
   "source": [
    "sns.set(style='ticks')\n",
    "sns.pairplot(medidas);"
   ]
  },
  {
   "cell_type": "markdown",
   "metadata": {},
   "source": [
    "### Transformando em matriz"
   ]
  },
  {
   "cell_type": "code",
   "execution_count": 28,
   "metadata": {
    "collapsed": true
   },
   "outputs": [],
   "source": [
    "# subselecionar variáveis e transformar em matriz\n",
    "X = medidas.values[:, 0:3]\n",
    "# mudar o tipo dos dados\n",
    "X = np.asarray(X, dtype=float)"
   ]
  },
  {
   "cell_type": "code",
   "execution_count": 29,
   "metadata": {
    "collapsed": true
   },
   "outputs": [],
   "source": [
    "n = X.shape[0]"
   ]
  },
  {
   "cell_type": "code",
   "execution_count": 30,
   "metadata": {
    "collapsed": true
   },
   "outputs": [],
   "source": [
    "p = X.shape[1]"
   ]
  },
  {
   "cell_type": "code",
   "execution_count": 31,
   "metadata": {},
   "outputs": [
    {
     "name": "stdout",
     "output_type": "stream",
     "text": [
      "[ 37.    28.    37.05]\n"
     ]
    }
   ],
   "source": [
    "# vetor de médias\n",
    "Xb = np.mean(X, axis=0)\n",
    "print(Xb)"
   ]
  },
  {
   "cell_type": "code",
   "execution_count": 32,
   "metadata": {},
   "outputs": [
    {
     "name": "stdout",
     "output_type": "stream",
     "text": [
      "[[  6.63157895   6.36842105   3.        ]\n",
      " [  6.36842105  12.52631579   3.57894737]\n",
      " [  3.           3.57894737   5.94473684]]\n"
     ]
    }
   ],
   "source": [
    "# matriz de covariâncias\n",
    "S = np.cov(X.T)\n",
    "print(S)"
   ]
  },
  {
   "cell_type": "code",
   "execution_count": 33,
   "metadata": {},
   "outputs": [
    {
     "name": "stdout",
     "output_type": "stream",
     "text": [
      "[[ 126.    121.     57.  ]\n",
      " [ 121.    238.     68.  ]\n",
      " [  57.     68.    112.95]]\n"
     ]
    }
   ],
   "source": [
    "# matriz de somas de quadrados e produtos\n",
    "W = (n - 1) * S\n",
    "print(W)"
   ]
  },
  {
   "cell_type": "code",
   "execution_count": 34,
   "metadata": {},
   "outputs": [
    {
     "data": {
      "text/plain": [
       "array([[ 1.        ,  0.69873359,  0.47780035],\n",
       "       [ 0.69873359,  1.        ,  0.41474133],\n",
       "       [ 0.47780035,  0.41474133,  1.        ]])"
      ]
     },
     "execution_count": 34,
     "metadata": {},
     "output_type": "execute_result"
    }
   ],
   "source": [
    "# matriz de correlações\n",
    "R = np.corrcoef(X.T)\n",
    "R"
   ]
  },
  {
   "cell_type": "code",
   "execution_count": 35,
   "metadata": {},
   "outputs": [
    {
     "data": {
      "text/plain": [
       "25.102631578947367"
      ]
     },
     "execution_count": 35,
     "metadata": {},
     "output_type": "execute_result"
    }
   ],
   "source": [
    "# variância total: tr(S)\n",
    "np.trace(S)"
   ]
  },
  {
   "cell_type": "code",
   "execution_count": 36,
   "metadata": {},
   "outputs": [
    {
     "data": {
      "text/plain": [
       "25.102631578947367"
      ]
     },
     "execution_count": 36,
     "metadata": {},
     "output_type": "execute_result"
    }
   ],
   "source": [
    "# ou\n",
    "np.diag(S).sum()"
   ]
  },
  {
   "cell_type": "code",
   "execution_count": 37,
   "metadata": {},
   "outputs": [
    {
     "data": {
      "text/plain": [
       "191.79904505029873"
      ]
     },
     "execution_count": 37,
     "metadata": {},
     "output_type": "execute_result"
    }
   ],
   "source": [
    "# variância generalizada: |S|\n",
    "np.linalg.det(S)"
   ]
  },
  {
   "cell_type": "code",
   "execution_count": null,
   "metadata": {
    "collapsed": true
   },
   "outputs": [],
   "source": []
  },
  {
   "cell_type": "markdown",
   "metadata": {},
   "source": [
    "### Outro dataframe"
   ]
  },
  {
   "cell_type": "code",
   "execution_count": 38,
   "metadata": {
    "collapsed": true
   },
   "outputs": [],
   "source": [
    "mg = pd.read_csv('imrs.csv')\n",
    "# selecionar microrregião de Varginha\n",
    "vgn = mg.query('nome_micro == \"Varginha\"')"
   ]
  },
  {
   "cell_type": "code",
   "execution_count": 39,
   "metadata": {},
   "outputs": [
    {
     "data": {
      "text/plain": [
       "(16, 42)"
      ]
     },
     "execution_count": 39,
     "metadata": {},
     "output_type": "execute_result"
    }
   ],
   "source": [
    "vgn.shape"
   ]
  },
  {
   "cell_type": "code",
   "execution_count": 40,
   "metadata": {
    "collapsed": true
   },
   "outputs": [],
   "source": [
    "# zerar os índices\n",
    "vgn = vgn.reset_index().drop('index', axis=1)"
   ]
  },
  {
   "cell_type": "code",
   "execution_count": 41,
   "metadata": {},
   "outputs": [
    {
     "data": {
      "text/plain": [
       "Index(['ibge7', 'meso', 'nome_meso', 'micro', 'nome_micro', 'mun',\n",
       "       'tx_mort_acid_15_29', 'tx_mort_hom_15_29', 'tx_mort_mama',\n",
       "       'tx_mort_inf', 'existe_conselho_saude', 'tx_analf_25m', 'prop_fund_25m',\n",
       "       'perc_med_25m', 'tx_med_adeq', 'tx_med_lab', 'existe_conselho_educ',\n",
       "       'tx_crimes_pat', 'tx_crimes_pes', 'tx_hom', 'existe_uni_infra',\n",
       "       'perc_energia', 'perc_banagua', 'perc_esgoto', 'perc_lixo', 'pop_total',\n",
       "       'pop_masc', 'pop_fem', 'raz_dep', 'tx_urb', 'tx_fec', 'esp_vida',\n",
       "       'rdpc', 'renocup', 'perc_rdpc_140', 'fam_pbf', 'tx_emp_form',\n",
       "       'rend_pc_form', 'pib_pc', 'perc_agro', 'perc_serv', 'tx_ativ_18m'],\n",
       "      dtype='object')"
      ]
     },
     "execution_count": 41,
     "metadata": {},
     "output_type": "execute_result"
    }
   ],
   "source": [
    "vgn.columns"
   ]
  },
  {
   "cell_type": "code",
   "execution_count": 42,
   "metadata": {},
   "outputs": [
    {
     "data": {
      "text/html": [
       "<div>\n",
       "<style scoped>\n",
       "    .dataframe tbody tr th:only-of-type {\n",
       "        vertical-align: middle;\n",
       "    }\n",
       "\n",
       "    .dataframe tbody tr th {\n",
       "        vertical-align: top;\n",
       "    }\n",
       "\n",
       "    .dataframe thead th {\n",
       "        text-align: right;\n",
       "    }\n",
       "</style>\n",
       "<table border=\"1\" class=\"dataframe\">\n",
       "  <thead>\n",
       "    <tr style=\"text-align: right;\">\n",
       "      <th></th>\n",
       "      <th>tx_mort_acid_15_29</th>\n",
       "      <th>tx_mort_hom_15_29</th>\n",
       "      <th>tx_mort_mama</th>\n",
       "      <th>tx_mort_inf</th>\n",
       "      <th>tx_analf_25m</th>\n",
       "      <th>prop_fund_25m</th>\n",
       "      <th>perc_med_25m</th>\n",
       "      <th>tx_med_adeq</th>\n",
       "      <th>tx_med_lab</th>\n",
       "      <th>tx_crimes_pat</th>\n",
       "      <th>...</th>\n",
       "      <th>esp_vida</th>\n",
       "      <th>rdpc</th>\n",
       "      <th>renocup</th>\n",
       "      <th>perc_rdpc_140</th>\n",
       "      <th>tx_emp_form</th>\n",
       "      <th>rend_pc_form</th>\n",
       "      <th>pib_pc</th>\n",
       "      <th>perc_agro</th>\n",
       "      <th>perc_serv</th>\n",
       "      <th>tx_ativ_18m</th>\n",
       "    </tr>\n",
       "  </thead>\n",
       "  <tbody>\n",
       "    <tr>\n",
       "      <th>0</th>\n",
       "      <td>60.75</td>\n",
       "      <td>19.07</td>\n",
       "      <td>25.98</td>\n",
       "      <td>14.93</td>\n",
       "      <td>9.6</td>\n",
       "      <td>36.9</td>\n",
       "      <td>23.56</td>\n",
       "      <td>56.4</td>\n",
       "      <td>100.0</td>\n",
       "      <td>25.9</td>\n",
       "      <td>...</td>\n",
       "      <td>76.0</td>\n",
       "      <td>599.17</td>\n",
       "      <td>903.37</td>\n",
       "      <td>8.43</td>\n",
       "      <td>24.8</td>\n",
       "      <td>140.03</td>\n",
       "      <td>13127.48</td>\n",
       "      <td>28.65</td>\n",
       "      <td>39.28</td>\n",
       "      <td>64.92</td>\n",
       "    </tr>\n",
       "    <tr>\n",
       "      <th>1</th>\n",
       "      <td>25.91</td>\n",
       "      <td>0.00</td>\n",
       "      <td>13.03</td>\n",
       "      <td>6.21</td>\n",
       "      <td>9.8</td>\n",
       "      <td>39.3</td>\n",
       "      <td>27.33</td>\n",
       "      <td>39.9</td>\n",
       "      <td>79.6</td>\n",
       "      <td>19.4</td>\n",
       "      <td>...</td>\n",
       "      <td>76.0</td>\n",
       "      <td>686.16</td>\n",
       "      <td>1021.62</td>\n",
       "      <td>6.55</td>\n",
       "      <td>27.3</td>\n",
       "      <td>149.06</td>\n",
       "      <td>10611.67</td>\n",
       "      <td>33.56</td>\n",
       "      <td>29.17</td>\n",
       "      <td>70.14</td>\n",
       "    </tr>\n",
       "    <tr>\n",
       "      <th>2</th>\n",
       "      <td>0.00</td>\n",
       "      <td>32.32</td>\n",
       "      <td>17.71</td>\n",
       "      <td>26.09</td>\n",
       "      <td>12.5</td>\n",
       "      <td>34.7</td>\n",
       "      <td>23.05</td>\n",
       "      <td>53.5</td>\n",
       "      <td>100.0</td>\n",
       "      <td>61.0</td>\n",
       "      <td>...</td>\n",
       "      <td>75.0</td>\n",
       "      <td>472.71</td>\n",
       "      <td>709.35</td>\n",
       "      <td>8.82</td>\n",
       "      <td>18.5</td>\n",
       "      <td>105.89</td>\n",
       "      <td>7836.89</td>\n",
       "      <td>48.22</td>\n",
       "      <td>28.09</td>\n",
       "      <td>67.53</td>\n",
       "    </tr>\n",
       "    <tr>\n",
       "      <th>3</th>\n",
       "      <td>29.90</td>\n",
       "      <td>26.98</td>\n",
       "      <td>22.16</td>\n",
       "      <td>3.04</td>\n",
       "      <td>14.1</td>\n",
       "      <td>32.0</td>\n",
       "      <td>20.41</td>\n",
       "      <td>52.5</td>\n",
       "      <td>100.0</td>\n",
       "      <td>94.2</td>\n",
       "      <td>...</td>\n",
       "      <td>74.0</td>\n",
       "      <td>503.91</td>\n",
       "      <td>744.47</td>\n",
       "      <td>9.73</td>\n",
       "      <td>18.3</td>\n",
       "      <td>93.65</td>\n",
       "      <td>11985.82</td>\n",
       "      <td>57.93</td>\n",
       "      <td>25.34</td>\n",
       "      <td>70.96</td>\n",
       "    </tr>\n",
       "    <tr>\n",
       "      <th>4</th>\n",
       "      <td>32.41</td>\n",
       "      <td>0.00</td>\n",
       "      <td>0.00</td>\n",
       "      <td>33.11</td>\n",
       "      <td>12.4</td>\n",
       "      <td>33.4</td>\n",
       "      <td>22.15</td>\n",
       "      <td>34.9</td>\n",
       "      <td>100.0</td>\n",
       "      <td>8.4</td>\n",
       "      <td>...</td>\n",
       "      <td>73.0</td>\n",
       "      <td>525.35</td>\n",
       "      <td>822.31</td>\n",
       "      <td>9.56</td>\n",
       "      <td>27.7</td>\n",
       "      <td>133.98</td>\n",
       "      <td>11871.57</td>\n",
       "      <td>47.49</td>\n",
       "      <td>26.25</td>\n",
       "      <td>71.98</td>\n",
       "    </tr>\n",
       "    <tr>\n",
       "      <th>5</th>\n",
       "      <td>0.00</td>\n",
       "      <td>0.00</td>\n",
       "      <td>21.47</td>\n",
       "      <td>32.97</td>\n",
       "      <td>10.4</td>\n",
       "      <td>31.5</td>\n",
       "      <td>21.05</td>\n",
       "      <td>42.8</td>\n",
       "      <td>100.0</td>\n",
       "      <td>32.3</td>\n",
       "      <td>...</td>\n",
       "      <td>75.0</td>\n",
       "      <td>495.77</td>\n",
       "      <td>714.57</td>\n",
       "      <td>13.64</td>\n",
       "      <td>15.1</td>\n",
       "      <td>71.00</td>\n",
       "      <td>11402.89</td>\n",
       "      <td>53.59</td>\n",
       "      <td>24.72</td>\n",
       "      <td>66.81</td>\n",
       "    </tr>\n",
       "    <tr>\n",
       "      <th>6</th>\n",
       "      <td>31.99</td>\n",
       "      <td>15.38</td>\n",
       "      <td>7.85</td>\n",
       "      <td>16.08</td>\n",
       "      <td>14.0</td>\n",
       "      <td>36.9</td>\n",
       "      <td>21.83</td>\n",
       "      <td>43.0</td>\n",
       "      <td>100.0</td>\n",
       "      <td>31.7</td>\n",
       "      <td>...</td>\n",
       "      <td>75.0</td>\n",
       "      <td>577.50</td>\n",
       "      <td>921.97</td>\n",
       "      <td>10.46</td>\n",
       "      <td>25.0</td>\n",
       "      <td>155.01</td>\n",
       "      <td>13057.12</td>\n",
       "      <td>31.12</td>\n",
       "      <td>34.04</td>\n",
       "      <td>66.07</td>\n",
       "    </tr>\n",
       "    <tr>\n",
       "      <th>7</th>\n",
       "      <td>59.26</td>\n",
       "      <td>0.00</td>\n",
       "      <td>15.17</td>\n",
       "      <td>7.94</td>\n",
       "      <td>10.5</td>\n",
       "      <td>30.0</td>\n",
       "      <td>19.39</td>\n",
       "      <td>53.9</td>\n",
       "      <td>100.0</td>\n",
       "      <td>0.0</td>\n",
       "      <td>...</td>\n",
       "      <td>75.0</td>\n",
       "      <td>487.68</td>\n",
       "      <td>742.73</td>\n",
       "      <td>7.41</td>\n",
       "      <td>18.4</td>\n",
       "      <td>102.09</td>\n",
       "      <td>8945.31</td>\n",
       "      <td>43.65</td>\n",
       "      <td>27.00</td>\n",
       "      <td>66.59</td>\n",
       "    </tr>\n",
       "    <tr>\n",
       "      <th>8</th>\n",
       "      <td>0.00</td>\n",
       "      <td>65.00</td>\n",
       "      <td>17.77</td>\n",
       "      <td>7.14</td>\n",
       "      <td>11.8</td>\n",
       "      <td>31.0</td>\n",
       "      <td>17.42</td>\n",
       "      <td>49.0</td>\n",
       "      <td>100.0</td>\n",
       "      <td>26.1</td>\n",
       "      <td>...</td>\n",
       "      <td>75.0</td>\n",
       "      <td>500.79</td>\n",
       "      <td>784.59</td>\n",
       "      <td>6.93</td>\n",
       "      <td>28.5</td>\n",
       "      <td>156.11</td>\n",
       "      <td>9364.19</td>\n",
       "      <td>45.01</td>\n",
       "      <td>22.27</td>\n",
       "      <td>68.14</td>\n",
       "    </tr>\n",
       "    <tr>\n",
       "      <th>9</th>\n",
       "      <td>0.00</td>\n",
       "      <td>0.00</td>\n",
       "      <td>0.00</td>\n",
       "      <td>18.52</td>\n",
       "      <td>13.8</td>\n",
       "      <td>38.1</td>\n",
       "      <td>25.87</td>\n",
       "      <td>58.6</td>\n",
       "      <td>100.0</td>\n",
       "      <td>24.5</td>\n",
       "      <td>...</td>\n",
       "      <td>75.0</td>\n",
       "      <td>555.78</td>\n",
       "      <td>854.92</td>\n",
       "      <td>5.17</td>\n",
       "      <td>32.8</td>\n",
       "      <td>194.62</td>\n",
       "      <td>14457.20</td>\n",
       "      <td>40.17</td>\n",
       "      <td>22.52</td>\n",
       "      <td>71.95</td>\n",
       "    </tr>\n",
       "    <tr>\n",
       "      <th>10</th>\n",
       "      <td>0.00</td>\n",
       "      <td>0.00</td>\n",
       "      <td>0.00</td>\n",
       "      <td>26.32</td>\n",
       "      <td>11.0</td>\n",
       "      <td>36.1</td>\n",
       "      <td>24.31</td>\n",
       "      <td>44.8</td>\n",
       "      <td>100.0</td>\n",
       "      <td>27.6</td>\n",
       "      <td>...</td>\n",
       "      <td>76.0</td>\n",
       "      <td>553.70</td>\n",
       "      <td>813.53</td>\n",
       "      <td>6.47</td>\n",
       "      <td>28.1</td>\n",
       "      <td>142.50</td>\n",
       "      <td>15154.94</td>\n",
       "      <td>49.45</td>\n",
       "      <td>27.35</td>\n",
       "      <td>74.17</td>\n",
       "    </tr>\n",
       "    <tr>\n",
       "      <th>11</th>\n",
       "      <td>81.90</td>\n",
       "      <td>0.00</td>\n",
       "      <td>0.00</td>\n",
       "      <td>0.00</td>\n",
       "      <td>16.8</td>\n",
       "      <td>29.7</td>\n",
       "      <td>14.68</td>\n",
       "      <td>50.9</td>\n",
       "      <td>100.0</td>\n",
       "      <td>21.8</td>\n",
       "      <td>...</td>\n",
       "      <td>73.0</td>\n",
       "      <td>458.65</td>\n",
       "      <td>760.59</td>\n",
       "      <td>9.59</td>\n",
       "      <td>12.4</td>\n",
       "      <td>81.72</td>\n",
       "      <td>9054.98</td>\n",
       "      <td>57.44</td>\n",
       "      <td>18.19</td>\n",
       "      <td>77.10</td>\n",
       "    </tr>\n",
       "    <tr>\n",
       "      <th>12</th>\n",
       "      <td>0.00</td>\n",
       "      <td>0.00</td>\n",
       "      <td>0.00</td>\n",
       "      <td>37.74</td>\n",
       "      <td>16.1</td>\n",
       "      <td>34.4</td>\n",
       "      <td>20.74</td>\n",
       "      <td>39.2</td>\n",
       "      <td>100.0</td>\n",
       "      <td>45.0</td>\n",
       "      <td>...</td>\n",
       "      <td>73.0</td>\n",
       "      <td>428.33</td>\n",
       "      <td>648.83</td>\n",
       "      <td>13.48</td>\n",
       "      <td>44.0</td>\n",
       "      <td>239.46</td>\n",
       "      <td>8559.06</td>\n",
       "      <td>23.58</td>\n",
       "      <td>25.52</td>\n",
       "      <td>77.57</td>\n",
       "    </tr>\n",
       "    <tr>\n",
       "      <th>13</th>\n",
       "      <td>41.71</td>\n",
       "      <td>19.83</td>\n",
       "      <td>16.37</td>\n",
       "      <td>14.40</td>\n",
       "      <td>8.6</td>\n",
       "      <td>50.4</td>\n",
       "      <td>36.34</td>\n",
       "      <td>58.3</td>\n",
       "      <td>98.6</td>\n",
       "      <td>107.1</td>\n",
       "      <td>...</td>\n",
       "      <td>76.0</td>\n",
       "      <td>749.86</td>\n",
       "      <td>1245.57</td>\n",
       "      <td>8.84</td>\n",
       "      <td>33.8</td>\n",
       "      <td>257.27</td>\n",
       "      <td>24161.24</td>\n",
       "      <td>12.02</td>\n",
       "      <td>42.41</td>\n",
       "      <td>69.23</td>\n",
       "    </tr>\n",
       "    <tr>\n",
       "      <th>14</th>\n",
       "      <td>29.26</td>\n",
       "      <td>7.03</td>\n",
       "      <td>14.73</td>\n",
       "      <td>9.60</td>\n",
       "      <td>10.9</td>\n",
       "      <td>42.3</td>\n",
       "      <td>28.21</td>\n",
       "      <td>52.5</td>\n",
       "      <td>100.0</td>\n",
       "      <td>48.2</td>\n",
       "      <td>...</td>\n",
       "      <td>76.0</td>\n",
       "      <td>682.15</td>\n",
       "      <td>1055.69</td>\n",
       "      <td>6.90</td>\n",
       "      <td>30.0</td>\n",
       "      <td>180.56</td>\n",
       "      <td>13712.40</td>\n",
       "      <td>31.21</td>\n",
       "      <td>34.37</td>\n",
       "      <td>71.75</td>\n",
       "    </tr>\n",
       "    <tr>\n",
       "      <th>15</th>\n",
       "      <td>43.40</td>\n",
       "      <td>6.10</td>\n",
       "      <td>6.30</td>\n",
       "      <td>5.44</td>\n",
       "      <td>5.7</td>\n",
       "      <td>58.7</td>\n",
       "      <td>42.08</td>\n",
       "      <td>60.6</td>\n",
       "      <td>97.8</td>\n",
       "      <td>56.8</td>\n",
       "      <td>...</td>\n",
       "      <td>77.0</td>\n",
       "      <td>904.57</td>\n",
       "      <td>1382.27</td>\n",
       "      <td>3.83</td>\n",
       "      <td>42.8</td>\n",
       "      <td>344.56</td>\n",
       "      <td>32144.45</td>\n",
       "      <td>5.94</td>\n",
       "      <td>46.41</td>\n",
       "      <td>70.37</td>\n",
       "    </tr>\n",
       "  </tbody>\n",
       "</table>\n",
       "<p>16 rows × 29 columns</p>\n",
       "</div>"
      ],
      "text/plain": [
       "    tx_mort_acid_15_29  tx_mort_hom_15_29  tx_mort_mama  tx_mort_inf  \\\n",
       "0                60.75              19.07         25.98        14.93   \n",
       "1                25.91               0.00         13.03         6.21   \n",
       "2                 0.00              32.32         17.71        26.09   \n",
       "3                29.90              26.98         22.16         3.04   \n",
       "4                32.41               0.00          0.00        33.11   \n",
       "5                 0.00               0.00         21.47        32.97   \n",
       "6                31.99              15.38          7.85        16.08   \n",
       "7                59.26               0.00         15.17         7.94   \n",
       "8                 0.00              65.00         17.77         7.14   \n",
       "9                 0.00               0.00          0.00        18.52   \n",
       "10                0.00               0.00          0.00        26.32   \n",
       "11               81.90               0.00          0.00         0.00   \n",
       "12                0.00               0.00          0.00        37.74   \n",
       "13               41.71              19.83         16.37        14.40   \n",
       "14               29.26               7.03         14.73         9.60   \n",
       "15               43.40               6.10          6.30         5.44   \n",
       "\n",
       "    tx_analf_25m  prop_fund_25m  perc_med_25m  tx_med_adeq  tx_med_lab  \\\n",
       "0            9.6           36.9         23.56         56.4       100.0   \n",
       "1            9.8           39.3         27.33         39.9        79.6   \n",
       "2           12.5           34.7         23.05         53.5       100.0   \n",
       "3           14.1           32.0         20.41         52.5       100.0   \n",
       "4           12.4           33.4         22.15         34.9       100.0   \n",
       "5           10.4           31.5         21.05         42.8       100.0   \n",
       "6           14.0           36.9         21.83         43.0       100.0   \n",
       "7           10.5           30.0         19.39         53.9       100.0   \n",
       "8           11.8           31.0         17.42         49.0       100.0   \n",
       "9           13.8           38.1         25.87         58.6       100.0   \n",
       "10          11.0           36.1         24.31         44.8       100.0   \n",
       "11          16.8           29.7         14.68         50.9       100.0   \n",
       "12          16.1           34.4         20.74         39.2       100.0   \n",
       "13           8.6           50.4         36.34         58.3        98.6   \n",
       "14          10.9           42.3         28.21         52.5       100.0   \n",
       "15           5.7           58.7         42.08         60.6        97.8   \n",
       "\n",
       "    tx_crimes_pat     ...       esp_vida    rdpc  renocup  perc_rdpc_140  \\\n",
       "0            25.9     ...           76.0  599.17   903.37           8.43   \n",
       "1            19.4     ...           76.0  686.16  1021.62           6.55   \n",
       "2            61.0     ...           75.0  472.71   709.35           8.82   \n",
       "3            94.2     ...           74.0  503.91   744.47           9.73   \n",
       "4             8.4     ...           73.0  525.35   822.31           9.56   \n",
       "5            32.3     ...           75.0  495.77   714.57          13.64   \n",
       "6            31.7     ...           75.0  577.50   921.97          10.46   \n",
       "7             0.0     ...           75.0  487.68   742.73           7.41   \n",
       "8            26.1     ...           75.0  500.79   784.59           6.93   \n",
       "9            24.5     ...           75.0  555.78   854.92           5.17   \n",
       "10           27.6     ...           76.0  553.70   813.53           6.47   \n",
       "11           21.8     ...           73.0  458.65   760.59           9.59   \n",
       "12           45.0     ...           73.0  428.33   648.83          13.48   \n",
       "13          107.1     ...           76.0  749.86  1245.57           8.84   \n",
       "14           48.2     ...           76.0  682.15  1055.69           6.90   \n",
       "15           56.8     ...           77.0  904.57  1382.27           3.83   \n",
       "\n",
       "    tx_emp_form  rend_pc_form    pib_pc  perc_agro  perc_serv  tx_ativ_18m  \n",
       "0          24.8        140.03  13127.48      28.65      39.28        64.92  \n",
       "1          27.3        149.06  10611.67      33.56      29.17        70.14  \n",
       "2          18.5        105.89   7836.89      48.22      28.09        67.53  \n",
       "3          18.3         93.65  11985.82      57.93      25.34        70.96  \n",
       "4          27.7        133.98  11871.57      47.49      26.25        71.98  \n",
       "5          15.1         71.00  11402.89      53.59      24.72        66.81  \n",
       "6          25.0        155.01  13057.12      31.12      34.04        66.07  \n",
       "7          18.4        102.09   8945.31      43.65      27.00        66.59  \n",
       "8          28.5        156.11   9364.19      45.01      22.27        68.14  \n",
       "9          32.8        194.62  14457.20      40.17      22.52        71.95  \n",
       "10         28.1        142.50  15154.94      49.45      27.35        74.17  \n",
       "11         12.4         81.72   9054.98      57.44      18.19        77.10  \n",
       "12         44.0        239.46   8559.06      23.58      25.52        77.57  \n",
       "13         33.8        257.27  24161.24      12.02      42.41        69.23  \n",
       "14         30.0        180.56  13712.40      31.21      34.37        71.75  \n",
       "15         42.8        344.56  32144.45       5.94      46.41        70.37  \n",
       "\n",
       "[16 rows x 29 columns]"
      ]
     },
     "execution_count": 42,
     "metadata": {},
     "output_type": "execute_result"
    }
   ],
   "source": [
    "# pandas.pydata.org/pandas-docs/stable/generated/pandas.DataFrame.select_dtypes.html\n",
    "# selecionar apenas as variáveis do tipo float\n",
    "vgn.select_dtypes(include=['float64'])"
   ]
  },
  {
   "cell_type": "code",
   "execution_count": 43,
   "metadata": {
    "collapsed": true
   },
   "outputs": [],
   "source": [
    "# mudando o dataframe para ter só as variáveis float\n",
    "vgn_num = vgn.select_dtypes(include=['float64'])"
   ]
  },
  {
   "cell_type": "code",
   "execution_count": 44,
   "metadata": {},
   "outputs": [
    {
     "data": {
      "text/plain": [
       "(16, 29)"
      ]
     },
     "execution_count": 44,
     "metadata": {},
     "output_type": "execute_result"
    }
   ],
   "source": [
    "vgn_num.shape"
   ]
  },
  {
   "cell_type": "code",
   "execution_count": 45,
   "metadata": {},
   "outputs": [
    {
     "data": {
      "text/plain": [
       "Index(['tx_mort_acid_15_29', 'tx_mort_hom_15_29', 'tx_mort_mama',\n",
       "       'tx_mort_inf', 'tx_analf_25m', 'prop_fund_25m', 'perc_med_25m',\n",
       "       'tx_med_adeq', 'tx_med_lab', 'tx_crimes_pat', 'tx_crimes_pes', 'tx_hom',\n",
       "       'perc_energia', 'perc_banagua', 'perc_esgoto', 'perc_lixo', 'raz_dep',\n",
       "       'tx_urb', 'tx_fec', 'esp_vida', 'rdpc', 'renocup', 'perc_rdpc_140',\n",
       "       'tx_emp_form', 'rend_pc_form', 'pib_pc', 'perc_agro', 'perc_serv',\n",
       "       'tx_ativ_18m'],\n",
       "      dtype='object')"
      ]
     },
     "execution_count": 45,
     "metadata": {},
     "output_type": "execute_result"
    }
   ],
   "source": [
    "vgn_num.columns"
   ]
  },
  {
   "cell_type": "code",
   "execution_count": 48,
   "metadata": {},
   "outputs": [
    {
     "data": {
      "text/html": [
       "<div>\n",
       "<style scoped>\n",
       "    .dataframe tbody tr th:only-of-type {\n",
       "        vertical-align: middle;\n",
       "    }\n",
       "\n",
       "    .dataframe tbody tr th {\n",
       "        vertical-align: top;\n",
       "    }\n",
       "\n",
       "    .dataframe thead th {\n",
       "        text-align: right;\n",
       "    }\n",
       "</style>\n",
       "<table border=\"1\" class=\"dataframe\">\n",
       "  <thead>\n",
       "    <tr style=\"text-align: right;\">\n",
       "      <th></th>\n",
       "      <th>tx_mort_acid_15_29</th>\n",
       "      <th>tx_mort_hom_15_29</th>\n",
       "      <th>tx_mort_mama</th>\n",
       "      <th>tx_mort_inf</th>\n",
       "      <th>tx_analf_25m</th>\n",
       "      <th>prop_fund_25m</th>\n",
       "      <th>perc_med_25m</th>\n",
       "      <th>tx_med_adeq</th>\n",
       "      <th>tx_med_lab</th>\n",
       "      <th>tx_crimes_pat</th>\n",
       "      <th>...</th>\n",
       "      <th>esp_vida</th>\n",
       "      <th>rdpc</th>\n",
       "      <th>renocup</th>\n",
       "      <th>perc_rdpc_140</th>\n",
       "      <th>tx_emp_form</th>\n",
       "      <th>rend_pc_form</th>\n",
       "      <th>pib_pc</th>\n",
       "      <th>perc_agro</th>\n",
       "      <th>perc_serv</th>\n",
       "      <th>tx_ativ_18m</th>\n",
       "    </tr>\n",
       "  </thead>\n",
       "  <tbody>\n",
       "    <tr>\n",
       "      <th>count</th>\n",
       "      <td>16.000000</td>\n",
       "      <td>16.000000</td>\n",
       "      <td>16.000000</td>\n",
       "      <td>16.000000</td>\n",
       "      <td>16.000000</td>\n",
       "      <td>16.000000</td>\n",
       "      <td>16.000000</td>\n",
       "      <td>16.000000</td>\n",
       "      <td>16.000000</td>\n",
       "      <td>16.000000</td>\n",
       "      <td>...</td>\n",
       "      <td>16.00000</td>\n",
       "      <td>16.000000</td>\n",
       "      <td>16.000000</td>\n",
       "      <td>16.000000</td>\n",
       "      <td>16.000000</td>\n",
       "      <td>16.000000</td>\n",
       "      <td>16.000000</td>\n",
       "      <td>16.000000</td>\n",
       "      <td>16.000000</td>\n",
       "      <td>16.000000</td>\n",
       "    </tr>\n",
       "    <tr>\n",
       "      <th>mean</th>\n",
       "      <td>27.280625</td>\n",
       "      <td>11.981875</td>\n",
       "      <td>11.158750</td>\n",
       "      <td>16.220625</td>\n",
       "      <td>11.750000</td>\n",
       "      <td>37.212500</td>\n",
       "      <td>24.276250</td>\n",
       "      <td>49.425000</td>\n",
       "      <td>98.500000</td>\n",
       "      <td>39.375000</td>\n",
       "      <td>...</td>\n",
       "      <td>75.00000</td>\n",
       "      <td>573.880000</td>\n",
       "      <td>882.898750</td>\n",
       "      <td>8.488125</td>\n",
       "      <td>26.718750</td>\n",
       "      <td>159.219375</td>\n",
       "      <td>13465.450625</td>\n",
       "      <td>38.064375</td>\n",
       "      <td>29.558125</td>\n",
       "      <td>70.330000</td>\n",
       "    </tr>\n",
       "    <tr>\n",
       "      <th>std</th>\n",
       "      <td>25.975294</td>\n",
       "      <td>17.852220</td>\n",
       "      <td>9.129778</td>\n",
       "      <td>11.794622</td>\n",
       "      <td>2.826305</td>\n",
       "      <td>7.761862</td>\n",
       "      <td>6.846915</td>\n",
       "      <td>7.776846</td>\n",
       "      <td>5.079108</td>\n",
       "      <td>28.887887</td>\n",
       "      <td>...</td>\n",
       "      <td>1.21106</td>\n",
       "      <td>125.662088</td>\n",
       "      <td>202.959717</td>\n",
       "      <td>2.660088</td>\n",
       "      <td>9.002979</td>\n",
       "      <td>71.983144</td>\n",
       "      <td>6309.096176</td>\n",
       "      <td>15.364022</td>\n",
       "      <td>7.750161</td>\n",
       "      <td>3.727678</td>\n",
       "    </tr>\n",
       "    <tr>\n",
       "      <th>min</th>\n",
       "      <td>0.000000</td>\n",
       "      <td>0.000000</td>\n",
       "      <td>0.000000</td>\n",
       "      <td>0.000000</td>\n",
       "      <td>5.700000</td>\n",
       "      <td>29.700000</td>\n",
       "      <td>14.680000</td>\n",
       "      <td>34.900000</td>\n",
       "      <td>79.600000</td>\n",
       "      <td>0.000000</td>\n",
       "      <td>...</td>\n",
       "      <td>73.00000</td>\n",
       "      <td>428.330000</td>\n",
       "      <td>648.830000</td>\n",
       "      <td>3.830000</td>\n",
       "      <td>12.400000</td>\n",
       "      <td>71.000000</td>\n",
       "      <td>7836.890000</td>\n",
       "      <td>5.940000</td>\n",
       "      <td>18.190000</td>\n",
       "      <td>64.920000</td>\n",
       "    </tr>\n",
       "    <tr>\n",
       "      <th>25%</th>\n",
       "      <td>0.000000</td>\n",
       "      <td>0.000000</td>\n",
       "      <td>0.000000</td>\n",
       "      <td>6.907500</td>\n",
       "      <td>10.250000</td>\n",
       "      <td>31.875000</td>\n",
       "      <td>20.657500</td>\n",
       "      <td>42.950000</td>\n",
       "      <td>100.000000</td>\n",
       "      <td>23.825000</td>\n",
       "      <td>...</td>\n",
       "      <td>74.75000</td>\n",
       "      <td>493.747500</td>\n",
       "      <td>744.035000</td>\n",
       "      <td>6.812500</td>\n",
       "      <td>18.475000</td>\n",
       "      <td>104.940000</td>\n",
       "      <td>9286.887500</td>\n",
       "      <td>30.502500</td>\n",
       "      <td>25.185000</td>\n",
       "      <td>67.350000</td>\n",
       "    </tr>\n",
       "    <tr>\n",
       "      <th>50%</th>\n",
       "      <td>29.580000</td>\n",
       "      <td>3.050000</td>\n",
       "      <td>13.880000</td>\n",
       "      <td>14.665000</td>\n",
       "      <td>11.400000</td>\n",
       "      <td>35.400000</td>\n",
       "      <td>22.600000</td>\n",
       "      <td>51.700000</td>\n",
       "      <td>100.000000</td>\n",
       "      <td>29.650000</td>\n",
       "      <td>...</td>\n",
       "      <td>75.00000</td>\n",
       "      <td>539.525000</td>\n",
       "      <td>817.920000</td>\n",
       "      <td>8.625000</td>\n",
       "      <td>27.500000</td>\n",
       "      <td>145.780000</td>\n",
       "      <td>11928.695000</td>\n",
       "      <td>41.910000</td>\n",
       "      <td>27.175000</td>\n",
       "      <td>70.255000</td>\n",
       "    </tr>\n",
       "    <tr>\n",
       "      <th>75%</th>\n",
       "      <td>42.132500</td>\n",
       "      <td>19.260000</td>\n",
       "      <td>17.725000</td>\n",
       "      <td>26.147500</td>\n",
       "      <td>13.850000</td>\n",
       "      <td>38.400000</td>\n",
       "      <td>26.235000</td>\n",
       "      <td>54.525000</td>\n",
       "      <td>100.000000</td>\n",
       "      <td>50.350000</td>\n",
       "      <td>...</td>\n",
       "      <td>76.00000</td>\n",
       "      <td>619.915000</td>\n",
       "      <td>946.882500</td>\n",
       "      <td>9.625000</td>\n",
       "      <td>30.700000</td>\n",
       "      <td>184.075000</td>\n",
       "      <td>13898.600000</td>\n",
       "      <td>48.527500</td>\n",
       "      <td>34.122500</td>\n",
       "      <td>71.957500</td>\n",
       "    </tr>\n",
       "    <tr>\n",
       "      <th>max</th>\n",
       "      <td>81.900000</td>\n",
       "      <td>65.000000</td>\n",
       "      <td>25.980000</td>\n",
       "      <td>37.740000</td>\n",
       "      <td>16.800000</td>\n",
       "      <td>58.700000</td>\n",
       "      <td>42.080000</td>\n",
       "      <td>60.600000</td>\n",
       "      <td>100.000000</td>\n",
       "      <td>107.100000</td>\n",
       "      <td>...</td>\n",
       "      <td>77.00000</td>\n",
       "      <td>904.570000</td>\n",
       "      <td>1382.270000</td>\n",
       "      <td>13.640000</td>\n",
       "      <td>44.000000</td>\n",
       "      <td>344.560000</td>\n",
       "      <td>32144.450000</td>\n",
       "      <td>57.930000</td>\n",
       "      <td>46.410000</td>\n",
       "      <td>77.570000</td>\n",
       "    </tr>\n",
       "  </tbody>\n",
       "</table>\n",
       "<p>8 rows × 29 columns</p>\n",
       "</div>"
      ],
      "text/plain": [
       "       tx_mort_acid_15_29  tx_mort_hom_15_29  tx_mort_mama  tx_mort_inf  \\\n",
       "count           16.000000          16.000000     16.000000    16.000000   \n",
       "mean            27.280625          11.981875     11.158750    16.220625   \n",
       "std             25.975294          17.852220      9.129778    11.794622   \n",
       "min              0.000000           0.000000      0.000000     0.000000   \n",
       "25%              0.000000           0.000000      0.000000     6.907500   \n",
       "50%             29.580000           3.050000     13.880000    14.665000   \n",
       "75%             42.132500          19.260000     17.725000    26.147500   \n",
       "max             81.900000          65.000000     25.980000    37.740000   \n",
       "\n",
       "       tx_analf_25m  prop_fund_25m  perc_med_25m  tx_med_adeq  tx_med_lab  \\\n",
       "count     16.000000      16.000000     16.000000    16.000000   16.000000   \n",
       "mean      11.750000      37.212500     24.276250    49.425000   98.500000   \n",
       "std        2.826305       7.761862      6.846915     7.776846    5.079108   \n",
       "min        5.700000      29.700000     14.680000    34.900000   79.600000   \n",
       "25%       10.250000      31.875000     20.657500    42.950000  100.000000   \n",
       "50%       11.400000      35.400000     22.600000    51.700000  100.000000   \n",
       "75%       13.850000      38.400000     26.235000    54.525000  100.000000   \n",
       "max       16.800000      58.700000     42.080000    60.600000  100.000000   \n",
       "\n",
       "       tx_crimes_pat     ...       esp_vida        rdpc      renocup  \\\n",
       "count      16.000000     ...       16.00000   16.000000    16.000000   \n",
       "mean       39.375000     ...       75.00000  573.880000   882.898750   \n",
       "std        28.887887     ...        1.21106  125.662088   202.959717   \n",
       "min         0.000000     ...       73.00000  428.330000   648.830000   \n",
       "25%        23.825000     ...       74.75000  493.747500   744.035000   \n",
       "50%        29.650000     ...       75.00000  539.525000   817.920000   \n",
       "75%        50.350000     ...       76.00000  619.915000   946.882500   \n",
       "max       107.100000     ...       77.00000  904.570000  1382.270000   \n",
       "\n",
       "       perc_rdpc_140  tx_emp_form  rend_pc_form        pib_pc  perc_agro  \\\n",
       "count      16.000000    16.000000     16.000000     16.000000  16.000000   \n",
       "mean        8.488125    26.718750    159.219375  13465.450625  38.064375   \n",
       "std         2.660088     9.002979     71.983144   6309.096176  15.364022   \n",
       "min         3.830000    12.400000     71.000000   7836.890000   5.940000   \n",
       "25%         6.812500    18.475000    104.940000   9286.887500  30.502500   \n",
       "50%         8.625000    27.500000    145.780000  11928.695000  41.910000   \n",
       "75%         9.625000    30.700000    184.075000  13898.600000  48.527500   \n",
       "max        13.640000    44.000000    344.560000  32144.450000  57.930000   \n",
       "\n",
       "       perc_serv  tx_ativ_18m  \n",
       "count  16.000000    16.000000  \n",
       "mean   29.558125    70.330000  \n",
       "std     7.750161     3.727678  \n",
       "min    18.190000    64.920000  \n",
       "25%    25.185000    67.350000  \n",
       "50%    27.175000    70.255000  \n",
       "75%    34.122500    71.957500  \n",
       "max    46.410000    77.570000  \n",
       "\n",
       "[8 rows x 29 columns]"
      ]
     },
     "execution_count": 48,
     "metadata": {},
     "output_type": "execute_result"
    }
   ],
   "source": [
    "# resumo estatístico das variáveis\n",
    "vgn_num.describe()"
   ]
  },
  {
   "cell_type": "code",
   "execution_count": 46,
   "metadata": {
    "collapsed": true
   },
   "outputs": [],
   "source": [
    "# transformar em matriz pegando apenas algumas variáveis\n",
    "variaveis = vgn_num.loc[:, ['esp_vida', 'rdpc', 'pib_pc']]\n",
    "X = variaveis.values"
   ]
  },
  {
   "cell_type": "code",
   "execution_count": 47,
   "metadata": {},
   "outputs": [
    {
     "data": {
      "image/png": "[encoded data removed]",
      "text/plain": [
       "<matplotlib.figure.Figure at 0x7face7c8fc50>"
      ]
     },
     "metadata": {},
     "output_type": "display_data"
    }
   ],
   "source": [
    "sns.set(style='ticks')\n",
    "sns.pairplot(variaveis);"
   ]
  },
  {
   "cell_type": "code",
   "execution_count": null,
   "metadata": {
    "collapsed": true
   },
   "outputs": [],
   "source": []
  }
 ],
 "metadata": {
  "kernelspec": {
   "display_name": "Python 3",
   "language": "python",
   "name": "python3"
  },
  "language_info": {
   "codemirror_mode": {
    "name": "ipython",
    "version": 3
   },
   "file_extension": ".py",
   "mimetype": "text/x-python",
   "name": "python",
   "nbconvert_exporter": "python",
   "pygments_lexer": "ipython3",
   "version": "3.6.2"
  }
 },
 "nbformat": 4,
 "nbformat_minor": 2
}
