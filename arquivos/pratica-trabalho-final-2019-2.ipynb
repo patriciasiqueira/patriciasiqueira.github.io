{
  "nbformat": 4,
  "nbformat_minor": 0,
  "metadata": {
    "colab": {
      "name": "pratica-trabalho-final-2019-2.ipynb",
      "provenance": [],
      "collapsed_sections": [
        "o-WQQWOAqegU"
      ]
    },
    "kernelspec": {
      "name": "python3",
      "display_name": "Python 3"
    }
  },
  "cells": [
    {
      "cell_type": "markdown",
      "metadata": {
        "id": "CQXzWv9qqecJ",
        "colab_type": "text"
      },
      "source": [
        "# Trabalho de Fundamentos da Programação (2019-2)"
      ]
    },
    {
      "cell_type": "markdown",
      "metadata": {
        "id": "JBAJGZd3u8ls",
        "colab_type": "text"
      },
      "source": [
        "Nome:  "
      ]
    },
    {
      "cell_type": "code",
      "metadata": {
        "id": "6efibV6-qecO",
        "colab_type": "code",
        "colab": {}
      },
      "source": [
        "# sempre executar essa célula\n",
        "# importar o pacote pandas - útil para dataframes, séries, dados em painel\n",
        "import pandas as pd\n",
        "# ler dados\n",
        "dados = pd.read_csv('https://raw.githubusercontent.com/patriciasiqueira/patriciasiqueira.github.io/master/arquivos/imrs-pam.csv', encoding='latin1')"
      ],
      "execution_count": 0,
      "outputs": []
    },
    {
      "cell_type": "markdown",
      "metadata": {
        "id": "WzfdKaTqbh-C",
        "colab_type": "text"
      },
      "source": [
        "# Parte 2 - inclusão de funções e listas"
      ]
    },
    {
      "cell_type": "markdown",
      "metadata": {
        "id": "Gep8IF2P5QJe",
        "colab_type": "text"
      },
      "source": [
        "- Na segunda parte do trabalho serão usadas funções e a estrutura de dados 'listas'  \n",
        "- Tudo o que foi feito na primeira parte do trabalho pode ser modificado para se tornar função ou utilizar listas  \n",
        "- Fica a critério de cada um se novas funções serão criadas ou se os códigos já elaborados serão transformados em funções.\n",
        "\n",
        "Lembrar que a criatividade é muito importante!"
      ]
    },
    {
      "cell_type": "markdown",
      "metadata": {
        "id": "sr7RBqPXxvSx",
        "colab_type": "text"
      },
      "source": [
        "Uso de listas: responder à pergunta 'Quais os municípios de MG produziram mais de 20.000 toneladas de café em 2017?' Incluir numa lista de listas os municípios que atendem ao critério (nome e produção de café)."
      ]
    },
    {
      "cell_type": "code",
      "metadata": {
        "id": "9ywHWoiIbirP",
        "colab_type": "code",
        "colab": {}
      },
      "source": [
        "# quais os municípios de MG produziram mais de 20.000 toneladas de café em 2017?\n",
        "# para os que produziram, colocar o nome do município e a produção numa lista\n",
        "# retornar a lista\n",
        "lista_cafe = []     # criar lista vazia\n",
        "for i in range(len(dados)):\n",
        "    if dados['cafe_q'][i] > 20000:\n",
        "        lista_cafe.append([dados['nome_mun'][i], dados['cafe_q'][i]])\n",
        "        \n",
        "# mostrar a lista\n",
        "lista_cafe"
      ],
      "execution_count": 0,
      "outputs": []
    },
    {
      "cell_type": "code",
      "metadata": {
        "id": "kqDnvCysbhcm",
        "colab_type": "code",
        "colab": {}
      },
      "source": [
        "# elemento da posição 0 da lista\n",
        "lista_cafe[0]"
      ],
      "execution_count": 0,
      "outputs": []
    },
    {
      "cell_type": "code",
      "metadata": {
        "id": "XhVoF9DObwZv",
        "colab_type": "code",
        "colab": {}
      },
      "source": [
        "# elemento da posição 0 é uma lista, quero a posição 0 dessa sublista,\n",
        "# ou seja, o nome do município\n",
        "lista_cafe[0][0]"
      ],
      "execution_count": 0,
      "outputs": []
    },
    {
      "cell_type": "code",
      "metadata": {
        "id": "n_boGhekJ4ej",
        "colab_type": "code",
        "colab": {}
      },
      "source": [
        "# se quiser o valor da produção desse município\n",
        "lista_cafe[0][1]"
      ],
      "execution_count": 0,
      "outputs": []
    },
    {
      "cell_type": "markdown",
      "metadata": {
        "id": "GdWMmMXzb1j9",
        "colab_type": "text"
      },
      "source": [
        "Exemplo de uso de funções:"
      ]
    },
    {
      "cell_type": "code",
      "metadata": {
        "id": "7XKRJWYhbwVh",
        "colab_type": "code",
        "colab": {}
      },
      "source": [
        "# transformando em função que recebe como parâmetros o dataframe df\n",
        "# (esse dataframe pode ser 'dados' ou os dados de uma mesorregião, por ex.)\n",
        "# e um valor\n",
        "# e retorna na tela o nome do município e a produção de café\n",
        "# dos municípios de MG que têm produção > valor\n",
        "def acima_cafe(df, valor):\n",
        "    for j in range(len(df)):\n",
        "        if df['cafe_q'][j] > valor:\n",
        "            print(df['nome_mun'][j], df['cafe_q'][j])"
      ],
      "execution_count": 0,
      "outputs": []
    },
    {
      "cell_type": "code",
      "metadata": {
        "id": "bcpu1A_a5y4Y",
        "colab_type": "code",
        "colab": {}
      },
      "source": [
        "# uso da função 'acima_cafe'\n",
        "# no dataframe 'dados' retornar quais municípios têm\n",
        "# produção maior do que o valor especificado\n"
      ],
      "execution_count": 0,
      "outputs": []
    },
    {
      "cell_type": "markdown",
      "metadata": {
        "id": "xb5zFqoycB1H",
        "colab_type": "text"
      },
      "source": [
        "Exemplo de interação com o usuário: ele define o valor da produção de café a partir do qual ele deseja saber os municípios que apresentam esse valor."
      ]
    },
    {
      "cell_type": "code",
      "metadata": {
        "id": "Ys8wlfgjbv64",
        "colab_type": "code",
        "colab": {}
      },
      "source": [
        "# interação com o usuário\n",
        "v = float(input('Acima de qual valor de produção de café (em toneladas) você deseja visualizar os municípios de MG? '))\n",
        "\n",
        "# uso da função\n"
      ],
      "execution_count": 0,
      "outputs": []
    },
    {
      "cell_type": "code",
      "metadata": {
        "id": "MWEDQITXbvw0",
        "colab_type": "code",
        "colab": {}
      },
      "source": [
        "# outra variação da mesma função: uma lista é criada com as informações\n",
        "def acima_cafe_lista(df, valor):\n",
        "    lista = []\n",
        "    for j in range(len(df)):\n",
        "        if df['cafe_q'][j] > valor:\n",
        "            lista.append([df['nome_mun'][j], df['cafe_q'][j]])\n",
        "    return lista"
      ],
      "execution_count": 0,
      "outputs": []
    },
    {
      "cell_type": "code",
      "metadata": {
        "id": "Y_zcpTGL6P7N",
        "colab_type": "code",
        "colab": {}
      },
      "source": [
        "# uso da função 'acima_cafe_lista' com 'dados'\n"
      ],
      "execution_count": 0,
      "outputs": []
    },
    {
      "cell_type": "code",
      "metadata": {
        "id": "7E55WxvV0pST",
        "colab_type": "code",
        "colab": {}
      },
      "source": [
        "# mesorregião escolhida pelo usuário\n",
        "m = input('Municípios de qual mesorregiao você deseja? ')\n",
        "meso = dados.query('nome_meso == @m')\n",
        "meso = meso.reset_index()\n",
        "# visualizar o dataframe 'meso' criado\n",
        "meso"
      ],
      "execution_count": 0,
      "outputs": []
    },
    {
      "cell_type": "code",
      "metadata": {
        "id": "GfZFJjOy1XsO",
        "colab_type": "code",
        "colab": {}
      },
      "source": [
        "# visualizar os municípios que produzem mais de um valor de \n",
        "# café na mesorregião escolhida\n",
        "acima_cafe_lista(meso, 1000)"
      ],
      "execution_count": 0,
      "outputs": []
    },
    {
      "cell_type": "code",
      "metadata": {
        "id": "dj8rpdwPcTt_",
        "colab_type": "code",
        "colab": {}
      },
      "source": [
        "# função mais geral - as informações passadas como parâmetros são:\n",
        "# - dataframe\n",
        "# - variável\n",
        "# - valor de referência\n",
        "# a função retorna o nome do município e o valor da variável para\n",
        "# os municípios que têm valores maiores do que o que foi passado\n",
        "# como parâmetro\n",
        "def municipios_acima(df, var, valor):\n",
        "    lista = []\n",
        "    for i in range(len(df)):\n",
        "        if df[var][i] > valor:\n",
        "            lista.append([df.nome_mun[i], df.nome_meso[i], df[var][i]])\n",
        "    return lista"
      ],
      "execution_count": 0,
      "outputs": []
    },
    {
      "cell_type": "code",
      "metadata": {
        "id": "vuyWsFkt6cY-",
        "colab_type": "code",
        "colab": {}
      },
      "source": [
        "# uso da função 'municipios_acima'\n",
        "# escolhi a variável 'cana'\n",
        "# e valores acima de 2.000.000 de toneladas\n",
        "municipios_acima(dados, 'cana_q', 2000000)"
      ],
      "execution_count": 0,
      "outputs": []
    },
    {
      "cell_type": "markdown",
      "metadata": {
        "id": "-UO3Z3PDcep0",
        "colab_type": "text"
      },
      "source": [
        "Interação com o usuário na função *municípios_acima*:"
      ]
    },
    {
      "cell_type": "code",
      "metadata": {
        "id": "eS28vE0mcaOa",
        "colab_type": "code",
        "colab": {}
      },
      "source": [
        "print('Insira a variável e qual o valor a partir do qual deseja ver os municípios que atendem ao critério:')\n",
        "var = input('variável: ')\n",
        "valor = float(input('valor: '))\n",
        "\n",
        "municipios_acima(dados, var, valor)"
      ],
      "execution_count": 0,
      "outputs": []
    },
    {
      "cell_type": "code",
      "metadata": {
        "id": "b0xyxl4H2XMW",
        "colab_type": "code",
        "colab": {}
      },
      "source": [
        "# municipios acima considerando uma mesorregião escolhida\n",
        "municipios_acima(meso, var, valor)"
      ],
      "execution_count": 0,
      "outputs": []
    },
    {
      "cell_type": "markdown",
      "metadata": {
        "id": "8RE3ZBE4coiK",
        "colab_type": "text"
      },
      "source": [
        "Agora uma função mais simples: calcular a soma de valores dos municípios em relação a uma variável:"
      ]
    },
    {
      "cell_type": "code",
      "metadata": {
        "id": "smepLUykcTly",
        "colab_type": "code",
        "colab": {}
      },
      "source": [
        "# função para calcular a soma dos valores de uma variável \n",
        "# para o dataframe\n",
        "def soma(df, var):\n",
        "    soma = 0\n",
        "    for i in range(len(df)):\n",
        "        soma = soma + df[var][i]\n",
        "    return soma"
      ],
      "execution_count": 0,
      "outputs": []
    },
    {
      "cell_type": "code",
      "metadata": {
        "id": "DpbYjvlE6ohy",
        "colab_type": "code",
        "colab": {}
      },
      "source": [
        "# uso da função soma\n",
        "soma(dados, 'popul')"
      ],
      "execution_count": 0,
      "outputs": []
    },
    {
      "cell_type": "code",
      "metadata": {
        "id": "9jTk4hOxcTdf",
        "colab_type": "code",
        "colab": {}
      },
      "source": [
        "# função pronta do pandas para conferir o resultado acima\n",
        "dados.popul.sum()"
      ],
      "execution_count": 0,
      "outputs": []
    },
    {
      "cell_type": "code",
      "metadata": {
        "id": "xUEAg8DucTS6",
        "colab_type": "code",
        "colab": {}
      },
      "source": [
        "# função para retornar o município com maior valor de uma variável\n",
        "# para iniciar, o candidato a maior é o primeiro município\n",
        "def maior(df, var):\n",
        "    # a lista 'maior' tem nome na pos. 0 e o valor da variável \n",
        "    # do 1. município na pos. 1\n",
        "    maior = [df.mun[0], df.nome_meso[0], df[var][0]] \n",
        "    for i in range(len(df)):   # percorrer o dataframe em busca do maior valor\n",
        "        if df[var][i] > maior[2]: # comparar o valor da variável na posição i\n",
        "                                  # com o valor da variável na lista 'maior'\n",
        "            maior = [df.nome_mun[i], df.nome_meso[i], df[var][i]] # subtitui pelo novo maior encontrado\n",
        "    return maior"
      ],
      "execution_count": 0,
      "outputs": []
    },
    {
      "cell_type": "code",
      "metadata": {
        "id": "xKt9fQch6wzE",
        "colab_type": "code",
        "colab": {}
      },
      "source": [
        "# uso da função maior\n",
        "maior(dados, 'tx_mort_homicidio')"
      ],
      "execution_count": 0,
      "outputs": []
    },
    {
      "cell_type": "code",
      "metadata": {
        "id": "saPJ2TA8cTFM",
        "colab_type": "code",
        "colab": {}
      },
      "source": [
        "# função pronta do pandas\n",
        "# só mostrando os 5 primeiros\n",
        "# ascending = True: ordem crescente\n",
        "# ascending = False: ordem decrescente\n",
        "(dados\n",
        " .sort_values(by='tx_mort_homicidio', ascending=False)\n",
        " .loc[:,['nome_mun', 'nome_meso', 'tx_mort_homicidio']]\n",
        " .iloc[:5,:])"
      ],
      "execution_count": 0,
      "outputs": []
    },
    {
      "cell_type": "markdown",
      "metadata": {
        "id": "JAIWVMec34Zm",
        "colab_type": "text"
      },
      "source": [
        "# Parte gráfica"
      ]
    },
    {
      "cell_type": "markdown",
      "metadata": {
        "id": "LF676A0336P9",
        "colab_type": "text"
      },
      "source": [
        "Alguns exemplos de gráficos que podem ser gerados se encontram abaixo."
      ]
    },
    {
      "cell_type": "code",
      "metadata": {
        "id": "6Xa-mfo43-os",
        "colab_type": "code",
        "colab": {}
      },
      "source": [
        "# pacotes necessários para os gráficos\n",
        "% matplotlib inline\n",
        "import matplotlib.pyplot as plt\n",
        "import seaborn as sns\n",
        "sns.set(style='whitegrid')"
      ],
      "execution_count": 0,
      "outputs": []
    },
    {
      "cell_type": "code",
      "metadata": {
        "id": "L1rit9qb3yJp",
        "colab_type": "code",
        "colab": {}
      },
      "source": [
        "# histograma\n",
        "dados['cafe_q'].plot.hist();"
      ],
      "execution_count": 0,
      "outputs": []
    },
    {
      "cell_type": "code",
      "metadata": {
        "id": "0Higu6lw3vtj",
        "colab_type": "code",
        "colab": {}
      },
      "source": [
        "# boxplot\n",
        "sns.boxplot('tx_mort_homicidio', data=dados, orient='v')\n",
        "plt.xlabel('taxa de mortalidade por homicídio');"
      ],
      "execution_count": 0,
      "outputs": []
    },
    {
      "cell_type": "code",
      "metadata": {
        "id": "pVsf0t6ybvRe",
        "colab_type": "code",
        "colab": {}
      },
      "source": [
        "# diagrama de dispersão\n",
        "dados.plot.scatter('milho_q', 'soja_q', c='pink')\n",
        "plt.xlabel('milho')\n",
        "plt.ylabel('soja');"
      ],
      "execution_count": 0,
      "outputs": []
    },
    {
      "cell_type": "code",
      "metadata": {
        "id": "AC2vvjjHLcqc",
        "colab_type": "code",
        "colab": {}
      },
      "source": [
        "# calcular correlação entre duas variáveis\n",
        "dados['milho_q'].corr(dados['soja_q'])"
      ],
      "execution_count": 0,
      "outputs": []
    },
    {
      "cell_type": "code",
      "metadata": {
        "id": "hNlPM6wA5MGk",
        "colab_type": "code",
        "colab": {}
      },
      "source": [
        "# calcular correlação entre várias variáveis (duas a duas)\n",
        "lista = ['milho_q', 'soja_q', 'banana_q', 'cana_q']\n",
        "dados.loc[:, lista].corr()"
      ],
      "execution_count": 0,
      "outputs": []
    },
    {
      "cell_type": "markdown",
      "metadata": {
        "id": "V0KLQEHTqegS",
        "colab_type": "text"
      },
      "source": [
        "## Sugestões para o trabalho\n",
        "- não vale usar os códigos que passei como exemplo e simplesmente mudar para outra variável ou município, novos códigos devem ser pensados\n",
        "- escolher mesorregiões de MG\n",
        "- usar mais de uma variável ao mesmo tempo\n",
        "- retornar maior e menor valor de alguma variável\n",
        "- calcular medidas estatísticas (média, desvio padrão, correlação etc.)\n",
        "- calcular porcentagens"
      ]
    },
    {
      "cell_type": "markdown",
      "metadata": {
        "id": "o-WQQWOAqegU",
        "colab_type": "text"
      },
      "source": [
        "### Importante:\n",
        "\n",
        "- não é necessário que o trabalho seja em torno de um tema (demografia, saúde etc.), as funções e códigos podem misturar assuntos sem problema algum (funções que retornam informações de renda, outras funções que retornem informações sobre saúde etc.). Mas quem quiser trabalhar com um tema fique à vontade  \n",
        "- gráficos podem ser utilizados para ilustrar resultados (basta correr atrás da documentação de pacotes do *Python*, como *seaborn*, *matplotlib* etc. ou o site *stackoverflow*)  \n",
        "- o importante é utilizar o que vimos na disciplina, evitando usar funções prontas do *Python* e tentando criar seus próprios códigos"
      ]
    }
  ]
}