{
 "cells": [
  {
   "cell_type": "markdown",
   "metadata": {},
   "source": [
    "# Análise exploratória de dados espaciais (AEDE)"
   ]
  },
  {
   "cell_type": "code",
   "execution_count": null,
   "metadata": {
    "collapsed": true,
    "scrolled": true
   },
   "outputs": [],
   "source": [
    "%matplotlib inline \n",
    "                    # para os gráficos aparecerem\n",
    "import pandas as pd\n",
    "import matplotlib.pyplot as plt\n",
    "import geopandas as gp\n",
    "import pysal as ps\n",
    "import palettable\n",
    "import nupis\n",
    "import seaborn as sns\n",
    "sns.set(style='whitegrid', palette='pastel') "
   ]
  },
  {
   "cell_type": "markdown",
   "metadata": {},
   "source": [
    "## A mesorregião Sul/Sudoeste de MG"
   ]
  },
  {
   "cell_type": "code",
   "execution_count": null,
   "metadata": {
    "collapsed": true
   },
   "outputs": [],
   "source": [
    "# objeto ssm:  unir shapefile do Sul/Sudoeste de MG com dataframe atlas\n",
    "# resultado: apenas informações (geográficas e do atlas) do Sul/Sudoeste de MG\n",
    "ssm = nupis.mesclar_shp_df(shp='ssm.shp', df='atlas.csv') \n",
    "w_ssm = ps.queen_from_shapefile('ssm.shp')   # cria a matriz de vizinhaça no formato queen"
   ]
  },
  {
   "cell_type": "markdown",
   "metadata": {},
   "source": [
    "Na última aula prática vimos como comparar os resultados da mesorregião Sul/Sudoeste de MG com duas de suas microrregiões em relação a alguma variável:"
   ]
  },
  {
   "cell_type": "markdown",
   "metadata": {},
   "source": [
    "**Comparar o comportamento do Sul/Sudoeste de MG e 2 microrregiões quanto a alguma variável do atlas**"
   ]
  },
  {
   "cell_type": "markdown",
   "metadata": {},
   "source": [
    "Obtivemos (para a variável *rdpc*):\n",
    "\n",
    "- mapa temático  \n",
    "- valor de I global e significância  \n",
    "- diagrama de dispersão de Moran  \n",
    "- mapa LISA"
   ]
  },
  {
   "cell_type": "markdown",
   "metadata": {},
   "source": [
    "**Sul/Sudoeste de MG**"
   ]
  },
  {
   "cell_type": "code",
   "execution_count": null,
   "metadata": {},
   "outputs": [],
   "source": [
    "# mapa temático rdpc\n",
    "nupis.mapa(ssm, 'rdpc')"
   ]
  },
  {
   "cell_type": "code",
   "execution_count": null,
   "metadata": {},
   "outputs": [],
   "source": [
    "# I de Moran\n",
    "IM = ps.Moran(ssm.rdpc, w_ssm)\n",
    "nupis.moran_resumo(IM)"
   ]
  },
  {
   "cell_type": "code",
   "execution_count": null,
   "metadata": {},
   "outputs": [],
   "source": [
    "# diagrama de dispersão de Moran\n",
    "nupis.moran_dispersao(IM)"
   ]
  },
  {
   "cell_type": "code",
   "execution_count": null,
   "metadata": {},
   "outputs": [],
   "source": [
    "# mapa LISA - usando a função pronta do nupis\n",
    "nupis.lisa_mapa(ssm.rdpc, 'ssm.shp', p_thres=0.05)"
   ]
  },
  {
   "cell_type": "code",
   "execution_count": null,
   "metadata": {},
   "outputs": [],
   "source": [
    "# mapa LISA\n",
    "# usando código da função nupis.lisa_mapa diretamente\n",
    "# permitindo alterar opções\n",
    "w_ssm = ps.queen_from_shapefile('ssm.shp')\n",
    "lisa = ps.Moran_Local(ssm.rdpc, w_ssm)\n",
    "fig = plt.figure(figsize=(9, 7))\n",
    "shp = ps.open('ssm.shp')\n",
    "import pysal.contrib.viz.mapping as maps\n",
    "base = maps.map_poly_shp(shp)\n",
    "base = maps.base_lisa_cluster(base, lisa, p_thres=0.05)\n",
    "base.set_edgecolor('1')\n",
    "base.set_linewidth(0.1)\n",
    "ax = maps.setup_ax([base], [shp.bbox])\n",
    "\n",
    "boxes, labels = maps.lisa_legend_components(lisa, p_thres=0.05)\n",
    "plt.legend(boxes, labels, fancybox=True, bbox_to_anchor=(1, 1))\n",
    "\n",
    "plt.show();"
   ]
  },
  {
   "cell_type": "markdown",
   "metadata": {},
   "source": [
    "## Microrregiões do Sul/Sudoeste de MG"
   ]
  },
  {
   "cell_type": "code",
   "execution_count": null,
   "metadata": {},
   "outputs": [],
   "source": [
    "ssm.nome_micro.unique()"
   ]
  },
  {
   "cell_type": "markdown",
   "metadata": {},
   "source": [
    "Para escolher microrregiões (escolhidas: Poços de Caldas e Varginha):"
   ]
  },
  {
   "cell_type": "code",
   "execution_count": null,
   "metadata": {},
   "outputs": [],
   "source": [
    "pocos = ssm.query('nome_micro == \"Poços de Caldas\"')\n",
    "pocos.head()"
   ]
  },
  {
   "cell_type": "code",
   "execution_count": null,
   "metadata": {
    "collapsed": true
   },
   "outputs": [],
   "source": [
    "pocos.to_file('pocos.shp')    # salvar o shapefile da microrregião\n",
    "w_pcd = ps.queen_from_shapefile('pocos.shp') # calcular a matriz de vizinhança"
   ]
  },
  {
   "cell_type": "code",
   "execution_count": null,
   "metadata": {},
   "outputs": [],
   "source": [
    "# mapa temático rdpc\n",
    "x = palettable.cartocolors.diverging.Temps_7.mpl_colormap\n",
    "ax = pocos.plot(column='rdpc', scheme='quantiles', k=4,\n",
    "             linewidth=0, figsize=(7,7), legend=True, cmap=x)\n",
    "ax.set_axis_off()\n",
    "leg = ax.get_legend()\n",
    "leg.set_bbox_to_anchor((1.6, 0.7));"
   ]
  },
  {
   "cell_type": "code",
   "execution_count": null,
   "metadata": {},
   "outputs": [],
   "source": [
    "# I de Moran\n",
    "IM = ps.Moran(pocos.rdpc, w_pcd)\n",
    "nupis.moran_resumo(IM)"
   ]
  },
  {
   "cell_type": "code",
   "execution_count": null,
   "metadata": {},
   "outputs": [],
   "source": [
    "# diagrama de dispersão de Moran\n",
    "nupis.moran_dispersao(IM)"
   ]
  },
  {
   "cell_type": "code",
   "execution_count": null,
   "metadata": {},
   "outputs": [],
   "source": [
    "# mapa LISA com a função pronta do nupis\n",
    "nupis.lisa_mapa(pocos.rdpc, 'pocos.shp', p_thres=0.05)"
   ]
  },
  {
   "cell_type": "code",
   "execution_count": null,
   "metadata": {},
   "outputs": [],
   "source": [
    "# usando código da função nupis.lisa_mapa diretamente\n",
    "w_pcd = ps.queen_from_shapefile('pocos.shp')\n",
    "lisa = ps.Moran_Local(pocos.rdpc, w_pcd)\n",
    "fig = plt.figure(figsize=(5, 6))\n",
    "shp = ps.open('pocos.shp')\n",
    "import pysal.contrib.viz.mapping as maps\n",
    "base = maps.map_poly_shp(shp)\n",
    "base = maps.base_lisa_cluster(base, lisa, p_thres=0.05)\n",
    "base.set_edgecolor('1')\n",
    "base.set_linewidth(0.1)\n",
    "ax = maps.setup_ax([base], [shp.bbox])\n",
    "\n",
    "boxes, labels = maps.lisa_legend_components(lisa, p_thres=0.05)\n",
    "plt.legend(boxes, labels, fancybox=True, bbox_to_anchor=(1.5, 1))\n",
    "\n",
    "plt.show();"
   ]
  },
  {
   "cell_type": "markdown",
   "metadata": {},
   "source": [
    "Microrregião de Varginha:"
   ]
  },
  {
   "cell_type": "code",
   "execution_count": null,
   "metadata": {},
   "outputs": [],
   "source": [
    "vgn = ssm.query('nome_micro == \"Varginha\"')\n",
    "vgn.head()"
   ]
  },
  {
   "cell_type": "code",
   "execution_count": null,
   "metadata": {
    "collapsed": true
   },
   "outputs": [],
   "source": [
    "vgn.to_file('vgn.shp')    # salvar o shapefile da microrregião\n",
    "w_vgn = ps.queen_from_shapefile('vgn.shp') # calcular a matriz de vizinhança"
   ]
  },
  {
   "cell_type": "code",
   "execution_count": null,
   "metadata": {},
   "outputs": [],
   "source": [
    "# mapa temático rdpc\n",
    "ax = vgn.plot(column='rdpc', scheme='quantiles', k=4,\n",
    "             linewidth=0, figsize=(7,7), legend=True, cmap=x)\n",
    "ax.set_axis_off()\n",
    "leg = ax.get_legend()\n",
    "leg.set_bbox_to_anchor((1.6, 0.7));"
   ]
  },
  {
   "cell_type": "code",
   "execution_count": null,
   "metadata": {},
   "outputs": [],
   "source": [
    "# I de Moran\n",
    "IM = ps.Moran(vgn.rdpc, w_vgn)\n",
    "nupis.moran_resumo(IM)"
   ]
  },
  {
   "cell_type": "code",
   "execution_count": null,
   "metadata": {},
   "outputs": [],
   "source": [
    "# diagrama de dispersão de Moran\n",
    "nupis.moran_dispersao(IM)"
   ]
  },
  {
   "cell_type": "code",
   "execution_count": null,
   "metadata": {},
   "outputs": [],
   "source": [
    "# mapa LISA\n",
    "nupis.lisa_mapa(vgn.rdpc, 'vgn.shp', p_thres=0.05)"
   ]
  },
  {
   "cell_type": "code",
   "execution_count": null,
   "metadata": {},
   "outputs": [],
   "source": [
    "# usando código da função nupis.lisa_mapa diretamente\n",
    "w_vgn = ps.queen_from_shapefile('vgn.shp')\n",
    "lisa = ps.Moran_Local(vgn.rdpc, w_vgn)\n",
    "fig = plt.figure(figsize=(5, 6))\n",
    "shp = ps.open('vgn.shp')\n",
    "import pysal.contrib.viz.mapping as maps\n",
    "base = maps.map_poly_shp(shp)\n",
    "base = maps.base_lisa_cluster(base, lisa, p_thres=0.05)\n",
    "base.set_edgecolor('1')\n",
    "base.set_linewidth(0.1)\n",
    "ax = maps.setup_ax([base], [shp.bbox])\n",
    "\n",
    "boxes, labels = maps.lisa_legend_components(lisa, p_thres=0.05)\n",
    "plt.legend(boxes, labels, fancybox=True, bbox_to_anchor=(1.5, 1))\n",
    "\n",
    "plt.show();"
   ]
  },
  {
   "cell_type": "markdown",
   "metadata": {},
   "source": [
    "**Mas quais são esses municípios significativos no mapa LISA?**"
   ]
  },
  {
   "cell_type": "markdown",
   "metadata": {
    "collapsed": true
   },
   "source": [
    "Uma dúvida surge: quais foram os municípios identificados como *clusters* ou *outliers* pelos mapas LISA?\n",
    "\n",
    "Vamos considerar a mesorregião Sul/Sudoeste de MG."
   ]
  },
  {
   "cell_type": "code",
   "execution_count": null,
   "metadata": {},
   "outputs": [],
   "source": [
    "# mapa LISA do Sul/Sudoeste de MG\n",
    "# usando código da função nupis.lisa_mapa diretamente\n",
    "# permitindo alterar opções\n",
    "w_ssm = ps.queen_from_shapefile('ssm.shp')\n",
    "lisa = ps.Moran_Local(ssm.rdpc, w_ssm)\n",
    "fig = plt.figure(figsize=(9, 7))\n",
    "shp = ps.open('ssm.shp')\n",
    "import pysal.contrib.viz.mapping as maps\n",
    "base = maps.map_poly_shp(shp)\n",
    "base = maps.base_lisa_cluster(base, lisa, p_thres=0.05)\n",
    "base.set_edgecolor('1')\n",
    "base.set_linewidth(0.1)\n",
    "ax = maps.setup_ax([base], [shp.bbox])\n",
    "\n",
    "boxes, labels = maps.lisa_legend_components(lisa, p_thres=0.05)\n",
    "plt.legend(boxes, labels, fancybox=True, bbox_to_anchor=(1, 1))\n",
    "\n",
    "plt.show();"
   ]
  },
  {
   "cell_type": "code",
   "execution_count": null,
   "metadata": {
    "collapsed": true
   },
   "outputs": [],
   "source": [
    "# tentando identificar qual(is) município(s) foi(ram) HL, por exemplo:\n",
    "import numpy as np"
   ]
  },
  {
   "cell_type": "code",
   "execution_count": null,
   "metadata": {},
   "outputs": [],
   "source": [
    "lisa.p_sim  # pseudovalores do LISA"
   ]
  },
  {
   "cell_type": "code",
   "execution_count": null,
   "metadata": {},
   "outputs": [],
   "source": [
    "sig = lisa.p_sim < 0.05  # identificar significativos\n",
    "sig"
   ]
  },
  {
   "cell_type": "code",
   "execution_count": null,
   "metadata": {},
   "outputs": [],
   "source": [
    "lisa.p_sim[sig]   # identificar quais valores-p foram significativos"
   ]
  },
  {
   "cell_type": "code",
   "execution_count": null,
   "metadata": {},
   "outputs": [],
   "source": [
    "lisa.q      # a quais quadrantes eles pertencem"
   ]
  },
  {
   "cell_type": "code",
   "execution_count": null,
   "metadata": {},
   "outputs": [],
   "source": [
    "lisa.q[sig]  # identificar os quadrantes dos significativos"
   ]
  },
  {
   "cell_type": "code",
   "execution_count": null,
   "metadata": {
    "collapsed": true
   },
   "outputs": [],
   "source": [
    "posicoes = np.where(sig)    # municípios significativos"
   ]
  },
  {
   "cell_type": "code",
   "execution_count": null,
   "metadata": {},
   "outputs": [],
   "source": [
    "posicoes"
   ]
  },
  {
   "cell_type": "code",
   "execution_count": null,
   "metadata": {},
   "outputs": [],
   "source": [
    "ssm['quad'] = lisa.q\n",
    "ssm['quad']"
   ]
  },
  {
   "cell_type": "code",
   "execution_count": null,
   "metadata": {},
   "outputs": [],
   "source": [
    "# se queremos os municípios identificados como HL queremos o quadrante 4\n",
    "ssm.loc[posicoes[0], ['nome_mun', 'quad']].query('quad == 4')"
   ]
  },
  {
   "cell_type": "markdown",
   "metadata": {},
   "source": [
    "Identifique os municípios pertencentes a qualquer quadrante de sua preferência:\n",
    "\n",
    "1 - HH  \n",
    "2 - LH  \n",
    "3 - LL  \n",
    "4 - HL"
   ]
  },
  {
   "cell_type": "code",
   "execution_count": null,
   "metadata": {},
   "outputs": [],
   "source": [
    "# identificar os municípios HH\n"
   ]
  },
  {
   "cell_type": "code",
   "execution_count": null,
   "metadata": {},
   "outputs": [],
   "source": [
    "# identificar os municípios LH\n"
   ]
  },
  {
   "cell_type": "code",
   "execution_count": null,
   "metadata": {},
   "outputs": [],
   "source": [
    "# identificar os municípios LL\n"
   ]
  },
  {
   "cell_type": "markdown",
   "metadata": {},
   "source": [
    "### Identificar os municípios significativos para a microrregião de Varginha:"
   ]
  },
  {
   "cell_type": "code",
   "execution_count": null,
   "metadata": {},
   "outputs": [],
   "source": [
    "vgn = ssm.query('nome_micro == \"Varginha\"')\n",
    "vgn.head()"
   ]
  },
  {
   "cell_type": "code",
   "execution_count": null,
   "metadata": {},
   "outputs": [],
   "source": [
    "# problema: os índices dos municípios não começam em 0, isso pode trazer problemas\n",
    "# para fazer com que os índices comecem em 0:\n",
    "\n",
    "# vgn = ssm.query(\"nome_micro == 'Varginha'\").reset_index().drop('index', axis=1)\n",
    "# vgn.head()"
   ]
  },
  {
   "cell_type": "code",
   "execution_count": null,
   "metadata": {
    "collapsed": true
   },
   "outputs": [],
   "source": [
    "vgn.to_file('vgn.shp')    # salvar o shapefile da microrregião"
   ]
  },
  {
   "cell_type": "code",
   "execution_count": null,
   "metadata": {},
   "outputs": [],
   "source": [
    "# usando código da função nupis.lisa_mapa diretamente\n",
    "w_vgn = ps.queen_from_shapefile('vgn.shp')\n",
    "lisa = ps.Moran_Local(vgn.rdpc, w_vgn)\n",
    "fig = plt.figure(figsize=(5, 6))\n",
    "shp = ps.open('vgn.shp')\n",
    "import pysal.contrib.viz.mapping as maps\n",
    "base = maps.map_poly_shp(shp)\n",
    "base = maps.base_lisa_cluster(base, lisa, p_thres=0.05)\n",
    "base.set_edgecolor('1')\n",
    "base.set_linewidth(0.1)\n",
    "ax = maps.setup_ax([base], [shp.bbox])\n",
    "\n",
    "boxes, labels = maps.lisa_legend_components(lisa, p_thres=0.05)\n",
    "plt.legend(boxes, labels, fancybox=True, bbox_to_anchor=(1.5, 1))\n",
    "\n",
    "plt.show();"
   ]
  },
  {
   "cell_type": "code",
   "execution_count": null,
   "metadata": {},
   "outputs": [],
   "source": [
    "lisa.p_sim  # pseudovalores do LISA"
   ]
  },
  {
   "cell_type": "code",
   "execution_count": null,
   "metadata": {},
   "outputs": [],
   "source": [
    "sig = lisa.p_sim < 0.05  # identificar significativos\n",
    "sig"
   ]
  },
  {
   "cell_type": "code",
   "execution_count": null,
   "metadata": {},
   "outputs": [],
   "source": [
    "lisa.p_sim[sig]   # identificar quais valores-p foram significativos"
   ]
  },
  {
   "cell_type": "code",
   "execution_count": null,
   "metadata": {},
   "outputs": [],
   "source": [
    "lisa.q     # a quais quadrantes eles pertencem"
   ]
  },
  {
   "cell_type": "code",
   "execution_count": null,
   "metadata": {},
   "outputs": [],
   "source": [
    "lisa.q[sig]  # identificar os quadrantes dos significativos"
   ]
  },
  {
   "cell_type": "code",
   "execution_count": null,
   "metadata": {
    "collapsed": true
   },
   "outputs": [],
   "source": [
    "posicoes = np.where(sig)    # municípios significativos"
   ]
  },
  {
   "cell_type": "code",
   "execution_count": null,
   "metadata": {},
   "outputs": [],
   "source": [
    "posicoes"
   ]
  },
  {
   "cell_type": "code",
   "execution_count": null,
   "metadata": {},
   "outputs": [],
   "source": [
    "vgn['quad'] = lisa.q\n",
    "vgn['quad']   # problema com índice dos municípios de Varginha (não começam em 0)"
   ]
  },
  {
   "cell_type": "code",
   "execution_count": null,
   "metadata": {},
   "outputs": [],
   "source": [
    "# se queremos os municípios identificados como HH queremos o quadrante 1\n",
    "vgn.loc[posicoes[0], ['nome_mun', 'quad']].query('quad == 1')"
   ]
  },
  {
   "cell_type": "code",
   "execution_count": null,
   "metadata": {},
   "outputs": [],
   "source": [
    "# se queremos os municípios identificados como HL queremos o quadrante 4\n",
    "vgn.loc[posicoes[0], ['nome_mun', 'quad']].query('quad == 4')"
   ]
  },
  {
   "cell_type": "code",
   "execution_count": null,
   "metadata": {},
   "outputs": [],
   "source": [
    "# se queremos os municípios identificados como LH queremos o quadrante 2\n",
    "vgn.loc[posicoes[0], ['nome_mun', 'quad']].query('quad == 2')"
   ]
  },
  {
   "cell_type": "markdown",
   "metadata": {},
   "source": [
    "### Identificar os municípios significativos outra microrregião do Sul/Sudoeste de MG:"
   ]
  },
  {
   "cell_type": "code",
   "execution_count": null,
   "metadata": {},
   "outputs": [],
   "source": [
    "ssm.nome_micro.unique()"
   ]
  },
  {
   "cell_type": "code",
   "execution_count": null,
   "metadata": {
    "collapsed": true
   },
   "outputs": [],
   "source": []
  },
  {
   "cell_type": "code",
   "execution_count": null,
   "metadata": {
    "collapsed": true
   },
   "outputs": [],
   "source": []
  }
 ],
 "metadata": {
  "kernelspec": {
   "display_name": "Python 3",
   "language": "python",
   "name": "python3"
  },
  "language_info": {
   "codemirror_mode": {
    "name": "ipython",
    "version": 3
   },
   "file_extension": ".py",
   "mimetype": "text/x-python",
   "name": "python",
   "nbconvert_exporter": "python",
   "pygments_lexer": "ipython3",
   "version": "3.6.2"
  }
 },
 "nbformat": 4,
 "nbformat_minor": 2
}
