{
 "cells": [
  {
   "cell_type": "code",
   "execution_count": 1,
   "metadata": {
    "collapsed": true
   },
   "outputs": [],
   "source": [
    "%matplotlib inline\n",
    "import pandas as pd\n",
    "import numpy as np\n",
    "import scipy.stats as stats\n",
    "import matplotlib.pyplot as plt\n",
    "import seaborn as sns\n",
    "sns.set(style='whitegrid')\n",
    "pd.set_option('mode.chained_assignment', None)\n",
    "\n",
    "from sklearn.decomposition import PCA\n",
    "from sklearn.preprocessing import scale"
   ]
  },
  {
   "cell_type": "markdown",
   "metadata": {},
   "source": [
    "## Análise de Componentes Principais (ACP)"
   ]
  },
  {
   "cell_type": "markdown",
   "metadata": {},
   "source": [
    "#### Análise descritiva dos dados"
   ]
  },
  {
   "cell_type": "markdown",
   "metadata": {},
   "source": [
    "Dados de doze empresas e 3 variáveis - exemplo de MINGOTI (2005). Vamos criar o *dataframe* usando a função *DataFrame* do *pandas*. Poderíamos também ter os dados salvos em uma planilha e usar a função *read_csv* para lê-la."
   ]
  },
  {
   "cell_type": "code",
   "execution_count": 3,
   "metadata": {},
   "outputs": [
    {
     "data": {
      "text/html": [
       "<div>\n",
       "<style scoped>\n",
       "    .dataframe tbody tr th:only-of-type {\n",
       "        vertical-align: middle;\n",
       "    }\n",
       "\n",
       "    .dataframe tbody tr th {\n",
       "        vertical-align: top;\n",
       "    }\n",
       "\n",
       "    .dataframe thead th {\n",
       "        text-align: right;\n",
       "    }\n",
       "</style>\n",
       "<table border=\"1\" class=\"dataframe\">\n",
       "  <thead>\n",
       "    <tr style=\"text-align: right;\">\n",
       "      <th></th>\n",
       "      <th>B</th>\n",
       "      <th>L</th>\n",
       "      <th>P</th>\n",
       "    </tr>\n",
       "  </thead>\n",
       "  <tbody>\n",
       "    <tr>\n",
       "      <th>0</th>\n",
       "      <td>9893</td>\n",
       "      <td>564</td>\n",
       "      <td>17689</td>\n",
       "    </tr>\n",
       "    <tr>\n",
       "      <th>1</th>\n",
       "      <td>8776</td>\n",
       "      <td>389</td>\n",
       "      <td>17359</td>\n",
       "    </tr>\n",
       "    <tr>\n",
       "      <th>2</th>\n",
       "      <td>13572</td>\n",
       "      <td>1103</td>\n",
       "      <td>18597</td>\n",
       "    </tr>\n",
       "    <tr>\n",
       "      <th>3</th>\n",
       "      <td>6455</td>\n",
       "      <td>743</td>\n",
       "      <td>8745</td>\n",
       "    </tr>\n",
       "    <tr>\n",
       "      <th>4</th>\n",
       "      <td>5129</td>\n",
       "      <td>203</td>\n",
       "      <td>14397</td>\n",
       "    </tr>\n",
       "    <tr>\n",
       "      <th>5</th>\n",
       "      <td>5432</td>\n",
       "      <td>215</td>\n",
       "      <td>3467</td>\n",
       "    </tr>\n",
       "    <tr>\n",
       "      <th>6</th>\n",
       "      <td>3807</td>\n",
       "      <td>385</td>\n",
       "      <td>4679</td>\n",
       "    </tr>\n",
       "    <tr>\n",
       "      <th>7</th>\n",
       "      <td>3423</td>\n",
       "      <td>187</td>\n",
       "      <td>6754</td>\n",
       "    </tr>\n",
       "    <tr>\n",
       "      <th>8</th>\n",
       "      <td>3708</td>\n",
       "      <td>127</td>\n",
       "      <td>2275</td>\n",
       "    </tr>\n",
       "    <tr>\n",
       "      <th>9</th>\n",
       "      <td>3294</td>\n",
       "      <td>297</td>\n",
       "      <td>6754</td>\n",
       "    </tr>\n",
       "    <tr>\n",
       "      <th>10</th>\n",
       "      <td>5433</td>\n",
       "      <td>432</td>\n",
       "      <td>5589</td>\n",
       "    </tr>\n",
       "    <tr>\n",
       "      <th>11</th>\n",
       "      <td>6287</td>\n",
       "      <td>451</td>\n",
       "      <td>8972</td>\n",
       "    </tr>\n",
       "  </tbody>\n",
       "</table>\n",
       "</div>"
      ],
      "text/plain": [
       "        B     L      P\n",
       "0    9893   564  17689\n",
       "1    8776   389  17359\n",
       "2   13572  1103  18597\n",
       "3    6455   743   8745\n",
       "4    5129   203  14397\n",
       "5    5432   215   3467\n",
       "6    3807   385   4679\n",
       "7    3423   187   6754\n",
       "8    3708   127   2275\n",
       "9    3294   297   6754\n",
       "10   5433   432   5589\n",
       "11   6287   451   8972"
      ]
     },
     "execution_count": 3,
     "metadata": {},
     "output_type": "execute_result"
    }
   ],
   "source": [
    "# ganho bruto - B (X1)\n",
    "# ganho líquido - L (X2)\n",
    "# patrimônio acumulado - P (X3)\n",
    "emp = pd.DataFrame({'B': [9893,8776,13572,6455,5129,5432,3807,3423,3708,3294,5433,6287],\n",
    "                  'L': [564,389,1103,743,203,215,385,187,127,297,432,451],\n",
    "                  'P': [17689,17359,18597,8745,14397,3467,4679,6754,2275,6754,5589,8972]})\n",
    "emp"
   ]
  },
  {
   "cell_type": "code",
   "execution_count": 4,
   "metadata": {},
   "outputs": [
    {
     "data": {
      "text/html": [
       "<div>\n",
       "<style scoped>\n",
       "    .dataframe tbody tr th:only-of-type {\n",
       "        vertical-align: middle;\n",
       "    }\n",
       "\n",
       "    .dataframe tbody tr th {\n",
       "        vertical-align: top;\n",
       "    }\n",
       "\n",
       "    .dataframe thead th {\n",
       "        text-align: right;\n",
       "    }\n",
       "</style>\n",
       "<table border=\"1\" class=\"dataframe\">\n",
       "  <thead>\n",
       "    <tr style=\"text-align: right;\">\n",
       "      <th></th>\n",
       "      <th>B</th>\n",
       "      <th>L</th>\n",
       "      <th>P</th>\n",
       "    </tr>\n",
       "  </thead>\n",
       "  <tbody>\n",
       "    <tr>\n",
       "      <th>count</th>\n",
       "      <td>12.000000</td>\n",
       "      <td>12.000000</td>\n",
       "      <td>12.000000</td>\n",
       "    </tr>\n",
       "    <tr>\n",
       "      <th>mean</th>\n",
       "      <td>6267.416667</td>\n",
       "      <td>424.666667</td>\n",
       "      <td>9606.416667</td>\n",
       "    </tr>\n",
       "    <tr>\n",
       "      <th>std</th>\n",
       "      <td>3090.405900</td>\n",
       "      <td>276.169360</td>\n",
       "      <td>5865.842906</td>\n",
       "    </tr>\n",
       "    <tr>\n",
       "      <th>min</th>\n",
       "      <td>3294.000000</td>\n",
       "      <td>127.000000</td>\n",
       "      <td>2275.000000</td>\n",
       "    </tr>\n",
       "    <tr>\n",
       "      <th>25%</th>\n",
       "      <td>3782.250000</td>\n",
       "      <td>212.000000</td>\n",
       "      <td>5361.500000</td>\n",
       "    </tr>\n",
       "    <tr>\n",
       "      <th>50%</th>\n",
       "      <td>5432.500000</td>\n",
       "      <td>387.000000</td>\n",
       "      <td>7749.500000</td>\n",
       "    </tr>\n",
       "    <tr>\n",
       "      <th>75%</th>\n",
       "      <td>7035.250000</td>\n",
       "      <td>479.250000</td>\n",
       "      <td>15137.500000</td>\n",
       "    </tr>\n",
       "    <tr>\n",
       "      <th>max</th>\n",
       "      <td>13572.000000</td>\n",
       "      <td>1103.000000</td>\n",
       "      <td>18597.000000</td>\n",
       "    </tr>\n",
       "  </tbody>\n",
       "</table>\n",
       "</div>"
      ],
      "text/plain": [
       "                  B            L             P\n",
       "count     12.000000    12.000000     12.000000\n",
       "mean    6267.416667   424.666667   9606.416667\n",
       "std     3090.405900   276.169360   5865.842906\n",
       "min     3294.000000   127.000000   2275.000000\n",
       "25%     3782.250000   212.000000   5361.500000\n",
       "50%     5432.500000   387.000000   7749.500000\n",
       "75%     7035.250000   479.250000  15137.500000\n",
       "max    13572.000000  1103.000000  18597.000000"
      ]
     },
     "execution_count": 4,
     "metadata": {},
     "output_type": "execute_result"
    }
   ],
   "source": [
    "# resumo do conjunto de dados\n",
    "emp.describe()"
   ]
  },
  {
   "cell_type": "code",
   "execution_count": 5,
   "metadata": {},
   "outputs": [
    {
     "data": {
      "text/plain": [
       "12"
      ]
     },
     "execution_count": 5,
     "metadata": {},
     "output_type": "execute_result"
    }
   ],
   "source": [
    "# obter n\n",
    "n = emp.shape[0]\n",
    "n"
   ]
  },
  {
   "cell_type": "code",
   "execution_count": 6,
   "metadata": {},
   "outputs": [
    {
     "data": {
      "text/plain": [
       "3"
      ]
     },
     "execution_count": 6,
     "metadata": {},
     "output_type": "execute_result"
    }
   ],
   "source": [
    "# obter p\n",
    "p = emp.shape[1]\n",
    "p"
   ]
  },
  {
   "cell_type": "code",
   "execution_count": 7,
   "metadata": {},
   "outputs": [
    {
     "data": {
      "text/plain": [
       "B    6267.416667\n",
       "L     424.666667\n",
       "P    9606.416667\n",
       "dtype: float64"
      ]
     },
     "execution_count": 7,
     "metadata": {},
     "output_type": "execute_result"
    }
   ],
   "source": [
    "# vetor de médias\n",
    "emp.mean()"
   ]
  },
  {
   "cell_type": "code",
   "execution_count": 8,
   "metadata": {},
   "outputs": [
    {
     "data": {
      "text/html": [
       "<div>\n",
       "<style scoped>\n",
       "    .dataframe tbody tr th:only-of-type {\n",
       "        vertical-align: middle;\n",
       "    }\n",
       "\n",
       "    .dataframe tbody tr th {\n",
       "        vertical-align: top;\n",
       "    }\n",
       "\n",
       "    .dataframe thead th {\n",
       "        text-align: right;\n",
       "    }\n",
       "</style>\n",
       "<table border=\"1\" class=\"dataframe\">\n",
       "  <thead>\n",
       "    <tr style=\"text-align: right;\">\n",
       "      <th></th>\n",
       "      <th>B</th>\n",
       "      <th>L</th>\n",
       "      <th>P</th>\n",
       "    </tr>\n",
       "  </thead>\n",
       "  <tbody>\n",
       "    <tr>\n",
       "      <th>B</th>\n",
       "      <td>9.550609e+06</td>\n",
       "      <td>706121.060606</td>\n",
       "      <td>1.497823e+07</td>\n",
       "    </tr>\n",
       "    <tr>\n",
       "      <th>L</th>\n",
       "      <td>7.061211e+05</td>\n",
       "      <td>76269.515152</td>\n",
       "      <td>9.339151e+05</td>\n",
       "    </tr>\n",
       "    <tr>\n",
       "      <th>P</th>\n",
       "      <td>1.497823e+07</td>\n",
       "      <td>933915.060606</td>\n",
       "      <td>3.440811e+07</td>\n",
       "    </tr>\n",
       "  </tbody>\n",
       "</table>\n",
       "</div>"
      ],
      "text/plain": [
       "              B              L             P\n",
       "B  9.550609e+06  706121.060606  1.497823e+07\n",
       "L  7.061211e+05   76269.515152  9.339151e+05\n",
       "P  1.497823e+07  933915.060606  3.440811e+07"
      ]
     },
     "execution_count": 8,
     "metadata": {},
     "output_type": "execute_result"
    }
   ],
   "source": [
    "# matriz de covariâncias\n",
    "S = emp.cov()\n",
    "S"
   ]
  },
  {
   "cell_type": "code",
   "execution_count": 9,
   "metadata": {},
   "outputs": [
    {
     "data": {
      "text/html": [
       "<div>\n",
       "<style scoped>\n",
       "    .dataframe tbody tr th:only-of-type {\n",
       "        vertical-align: middle;\n",
       "    }\n",
       "\n",
       "    .dataframe tbody tr th {\n",
       "        vertical-align: top;\n",
       "    }\n",
       "\n",
       "    .dataframe thead th {\n",
       "        text-align: right;\n",
       "    }\n",
       "</style>\n",
       "<table border=\"1\" class=\"dataframe\">\n",
       "  <thead>\n",
       "    <tr style=\"text-align: right;\">\n",
       "      <th></th>\n",
       "      <th>B</th>\n",
       "      <th>L</th>\n",
       "      <th>P</th>\n",
       "    </tr>\n",
       "  </thead>\n",
       "  <tbody>\n",
       "    <tr>\n",
       "      <th>B</th>\n",
       "      <td>1.000000</td>\n",
       "      <td>0.827348</td>\n",
       "      <td>0.826256</td>\n",
       "    </tr>\n",
       "    <tr>\n",
       "      <th>L</th>\n",
       "      <td>0.827348</td>\n",
       "      <td>1.000000</td>\n",
       "      <td>0.576503</td>\n",
       "    </tr>\n",
       "    <tr>\n",
       "      <th>P</th>\n",
       "      <td>0.826256</td>\n",
       "      <td>0.576503</td>\n",
       "      <td>1.000000</td>\n",
       "    </tr>\n",
       "  </tbody>\n",
       "</table>\n",
       "</div>"
      ],
      "text/plain": [
       "          B         L         P\n",
       "B  1.000000  0.827348  0.826256\n",
       "L  0.827348  1.000000  0.576503\n",
       "P  0.826256  0.576503  1.000000"
      ]
     },
     "execution_count": 9,
     "metadata": {},
     "output_type": "execute_result"
    }
   ],
   "source": [
    "# matriz de correlações\n",
    "R = emp.corr()\n",
    "R"
   ]
  },
  {
   "cell_type": "code",
   "execution_count": 10,
   "metadata": {},
   "outputs": [
    {
     "data": {
      "image/png": "[encoded data removed]",
      "text/plain": [
       "<Figure size 540x540 with 12 Axes>"
      ]
     },
     "metadata": {},
     "output_type": "display_data"
    }
   ],
   "source": [
    "sns.set(style='ticks')\n",
    "sns.pairplot(emp);"
   ]
  },
  {
   "cell_type": "markdown",
   "metadata": {},
   "source": [
    "## Aula 1 - ACP usando $\\boldsymbol{S}$ e $\\boldsymbol{R}$\n"
   ]
  },
  {
   "cell_type": "markdown",
   "metadata": {},
   "source": [
    "#### 1 Usando a matriz de covariâncias $\\boldsymbol{S}$ (não é a melhor opção)"
   ]
  },
  {
   "cell_type": "markdown",
   "metadata": {},
   "source": [
    "### Decomposição espectral: autovalores e autovetores"
   ]
  },
  {
   "cell_type": "code",
   "execution_count": 11,
   "metadata": {},
   "outputs": [
    {
     "name": "stdout",
     "output_type": "stream",
     "text": [
      "[  4.14743915e+07   2.53950713e+06   2.10925256e+04]\n",
      "[[ 0.42509725  0.8997068   0.09909593]\n",
      " [ 0.02766083  0.09651661 -0.99494694]\n",
      " [ 0.90472493 -0.42569029 -0.01614231]]\n"
     ]
    }
   ],
   "source": [
    "# autovalores e autovetores de S\n",
    "l, e = np.linalg.eig(S)\n",
    "print(l)\n",
    "print(e)"
   ]
  },
  {
   "cell_type": "markdown",
   "metadata": {},
   "source": [
    "#### Garantir que autovalores ordenados em ordem descrescente"
   ]
  },
  {
   "cell_type": "code",
   "execution_count": 12,
   "metadata": {},
   "outputs": [
    {
     "name": "stdout",
     "output_type": "stream",
     "text": [
      "[  4.14743915e+07   2.53950713e+06   2.10925256e+04]\n",
      "[[ 0.42509725  0.8997068   0.09909593]\n",
      " [ 0.02766083  0.09651661 -0.99494694]\n",
      " [ 0.90472493 -0.42569029 -0.01614231]]\n"
     ]
    }
   ],
   "source": [
    "l, e = np.linalg.eig(S)\n",
    "idx = np.argsort(l)[::-1]\n",
    "l = l[idx]\n",
    "e = e[:,idx]\n",
    "print(l)\n",
    "print(e)"
   ]
  },
  {
   "cell_type": "markdown",
   "metadata": {},
   "source": [
    "Verificar que a soma das variâncias de $\\boldsymbol(Y)$ é igual à soma das variâncias de $\\boldsymbol(X)$, ou seja, $\\sum \\lambda_i$ = $\\sum \\sigma_{ii}$."
   ]
  },
  {
   "cell_type": "code",
   "execution_count": 13,
   "metadata": {},
   "outputs": [
    {
     "data": {
      "text/plain": [
       "44034991.13636364"
      ]
     },
     "execution_count": 13,
     "metadata": {},
     "output_type": "execute_result"
    }
   ],
   "source": [
    "# soma das variâncias de X é o traço da matriz S\n",
    "np.trace(S)"
   ]
  },
  {
   "cell_type": "code",
   "execution_count": 14,
   "metadata": {},
   "outputs": [
    {
     "data": {
      "text/plain": [
       "44034991.13636364"
      ]
     },
     "execution_count": 14,
     "metadata": {},
     "output_type": "execute_result"
    }
   ],
   "source": [
    "# soma das variâncias de Y é a soma dos autovalores\n",
    "np.sum(l)"
   ]
  },
  {
   "cell_type": "code",
   "execution_count": 15,
   "metadata": {},
   "outputs": [
    {
     "name": "stdout",
     "output_type": "stream",
     "text": [
      "[[  4.14743915e+07   0.00000000e+00   0.00000000e+00]\n",
      " [  0.00000000e+00   2.53950713e+06   0.00000000e+00]\n",
      " [  0.00000000e+00   0.00000000e+00   2.10925256e+04]]\n"
     ]
    },
    {
     "data": {
      "text/plain": [
       "44034991.13636364"
      ]
     },
     "execution_count": 15,
     "metadata": {},
     "output_type": "execute_result"
    }
   ],
   "source": [
    "# mas a soma das variâncias de Y também é o traço da matriz Lambda\n",
    "L = np.diag(l)\n",
    "print(L)\n",
    "np.trace(L)"
   ]
  },
  {
   "cell_type": "code",
   "execution_count": 16,
   "metadata": {},
   "outputs": [
    {
     "name": "stdout",
     "output_type": "stream",
     "text": [
      "[ 2.49253211  0.42349813  0.08396976]\n",
      "[[ 0.61670267 -0.00126721  0.78719515]\n",
      " [ 0.55679445 -0.70619694 -0.43733949]\n",
      " [ 0.556469    0.70801432 -0.43480796]]\n"
     ]
    }
   ],
   "source": [
    "# autovalores e autovetores de R\n",
    "l, e = np.linalg.eig(R)\n",
    "idx = np.argsort(l)[::-1]\n",
    "l = l[idx]\n",
    "e = e[:,idx]\n",
    "print(l)\n",
    "print(e)"
   ]
  },
  {
   "cell_type": "markdown",
   "metadata": {
    "collapsed": true
   },
   "source": [
    "### Análise de Componentes Principais"
   ]
  },
  {
   "cell_type": "markdown",
   "metadata": {},
   "source": [
    "Usando scikit-learn"
   ]
  },
  {
   "cell_type": "markdown",
   "metadata": {},
   "source": [
    "**Atenção:** primeiro faremos a análise de componentes principais usando a matriz de covariâncias, mas essa não é a melhor opção na maior parte das situações. Isso ocorre porque algumas variáveis tendem a ter variâncias muito maiores do que outras e acabam dominando a análise."
   ]
  },
  {
   "cell_type": "code",
   "execution_count": 17,
   "metadata": {
    "collapsed": true
   },
   "outputs": [],
   "source": [
    "X = emp"
   ]
  },
  {
   "cell_type": "code",
   "execution_count": 18,
   "metadata": {
    "collapsed": true
   },
   "outputs": [],
   "source": [
    "pca = PCA() \n",
    "resultado_pca = pca.fit_transform(X)  # se a matriz de correlações R for usada, colocar scale(X) em vez de X\n",
    "resultado = pd.DataFrame({'cp1': resultado_pca[:, 0], 'cp2': resultado_pca[:, 1]})"
   ]
  },
  {
   "cell_type": "code",
   "execution_count": 19,
   "metadata": {},
   "outputs": [
    {
     "data": {
      "text/plain": [
       "array([[ 0.42509725,  0.02766083,  0.90472493],\n",
       "       [-0.8997068 , -0.09651661,  0.42569029],\n",
       "       [-0.09909593,  0.99494694,  0.01614231]])"
      ]
     },
     "execution_count": 19,
     "metadata": {},
     "output_type": "execute_result"
    }
   ],
   "source": [
    "# coeficientes dos CPs (autovetores)\n",
    "# cada linha é um CP\n",
    "pca.components_"
   ]
  },
  {
   "cell_type": "code",
   "execution_count": 20,
   "metadata": {},
   "outputs": [
    {
     "data": {
      "text/plain": [
       "array([  4.14743915e+07,   2.53950713e+06,   2.10925256e+04])"
      ]
     },
     "execution_count": 20,
     "metadata": {},
     "output_type": "execute_result"
    }
   ],
   "source": [
    "# variâncias dos CPs (autovalores)\n",
    "pca.explained_variance_"
   ]
  },
  {
   "cell_type": "code",
   "execution_count": 21,
   "metadata": {},
   "outputs": [
    {
     "data": {
      "text/plain": [
       "array([  94.19,   99.96,  100.01])"
      ]
     },
     "execution_count": 21,
     "metadata": {},
     "output_type": "execute_result"
    }
   ],
   "source": [
    "# variância explicada acumulada\n",
    "np.cumsum(np.round(pca.explained_variance_ratio_, decimals=4)*100)"
   ]
  },
  {
   "cell_type": "code",
   "execution_count": 22,
   "metadata": {},
   "outputs": [
    {
     "data": {
      "text/html": [
       "<div>\n",
       "<style scoped>\n",
       "    .dataframe tbody tr th:only-of-type {\n",
       "        vertical-align: middle;\n",
       "    }\n",
       "\n",
       "    .dataframe tbody tr th {\n",
       "        vertical-align: top;\n",
       "    }\n",
       "\n",
       "    .dataframe thead th {\n",
       "        text-align: right;\n",
       "    }\n",
       "</style>\n",
       "<table border=\"1\" class=\"dataframe\">\n",
       "  <thead>\n",
       "    <tr style=\"text-align: right;\">\n",
       "      <th></th>\n",
       "      <th>cp1</th>\n",
       "      <th>cp2</th>\n",
       "    </tr>\n",
       "  </thead>\n",
       "  <tbody>\n",
       "    <tr>\n",
       "      <th>0</th>\n",
       "      <td>8857.594255</td>\n",
       "      <td>165.267260</td>\n",
       "    </tr>\n",
       "    <tr>\n",
       "      <th>1</th>\n",
       "      <td>8079.360752</td>\n",
       "      <td>1046.652367</td>\n",
       "    </tr>\n",
       "    <tr>\n",
       "      <th>2</th>\n",
       "      <td>11257.926468</td>\n",
       "      <td>-2810.249726</td>\n",
       "    </tr>\n",
       "    <tr>\n",
       "      <th>3</th>\n",
       "      <td>-690.798614</td>\n",
       "      <td>-566.191163</td>\n",
       "    </tr>\n",
       "    <tr>\n",
       "      <th>4</th>\n",
       "      <td>3844.090910</td>\n",
       "      <td>3084.940522</td>\n",
       "    </tr>\n",
       "    <tr>\n",
       "      <th>5</th>\n",
       "      <td>-5915.416219</td>\n",
       "      <td>-1841.623669</td>\n",
       "    </tr>\n",
       "    <tr>\n",
       "      <th>6</th>\n",
       "      <td>-5504.970291</td>\n",
       "      <td>119.928682</td>\n",
       "    </tr>\n",
       "    <tr>\n",
       "      <th>7</th>\n",
       "      <td>-3796.380242</td>\n",
       "      <td>1367.833726</td>\n",
       "    </tr>\n",
       "    <tr>\n",
       "      <th>8</th>\n",
       "      <td>-7729.150154</td>\n",
       "      <td>-789.458508</td>\n",
       "    </tr>\n",
       "    <tr>\n",
       "      <th>9</th>\n",
       "      <td>-3848.175097</td>\n",
       "      <td>1473.279076</td>\n",
       "    </tr>\n",
       "    <tr>\n",
       "      <th>10</th>\n",
       "      <td>-3989.162413</td>\n",
       "      <td>-960.152693</td>\n",
       "    </tr>\n",
       "    <tr>\n",
       "      <th>11</th>\n",
       "      <td>-564.919354</td>\n",
       "      <td>-290.225875</td>\n",
       "    </tr>\n",
       "  </tbody>\n",
       "</table>\n",
       "</div>"
      ],
      "text/plain": [
       "             cp1          cp2\n",
       "0    8857.594255   165.267260\n",
       "1    8079.360752  1046.652367\n",
       "2   11257.926468 -2810.249726\n",
       "3    -690.798614  -566.191163\n",
       "4    3844.090910  3084.940522\n",
       "5   -5915.416219 -1841.623669\n",
       "6   -5504.970291   119.928682\n",
       "7   -3796.380242  1367.833726\n",
       "8   -7729.150154  -789.458508\n",
       "9   -3848.175097  1473.279076\n",
       "10  -3989.162413  -960.152693\n",
       "11   -564.919354  -290.225875"
      ]
     },
     "execution_count": 22,
     "metadata": {},
     "output_type": "execute_result"
    }
   ],
   "source": [
    "# escores dos dois primeiros CPs\n",
    "resultado"
   ]
  },
  {
   "cell_type": "code",
   "execution_count": 29,
   "metadata": {
    "collapsed": true
   },
   "outputs": [],
   "source": [
    "# mostrar escores do primeiro CP \n",
    "escores_pc1 = pd.DataFrame(data=resultado_pca[:, 0], columns=['CP1'])"
   ]
  },
  {
   "cell_type": "code",
   "execution_count": 30,
   "metadata": {},
   "outputs": [
    {
     "data": {
      "text/html": [
       "<div>\n",
       "<style scoped>\n",
       "    .dataframe tbody tr th:only-of-type {\n",
       "        vertical-align: middle;\n",
       "    }\n",
       "\n",
       "    .dataframe tbody tr th {\n",
       "        vertical-align: top;\n",
       "    }\n",
       "\n",
       "    .dataframe thead th {\n",
       "        text-align: right;\n",
       "    }\n",
       "</style>\n",
       "<table border=\"1\" class=\"dataframe\">\n",
       "  <thead>\n",
       "    <tr style=\"text-align: right;\">\n",
       "      <th></th>\n",
       "      <th>CP1</th>\n",
       "    </tr>\n",
       "  </thead>\n",
       "  <tbody>\n",
       "    <tr>\n",
       "      <th>0</th>\n",
       "      <td>8857.594255</td>\n",
       "    </tr>\n",
       "    <tr>\n",
       "      <th>1</th>\n",
       "      <td>8079.360752</td>\n",
       "    </tr>\n",
       "    <tr>\n",
       "      <th>2</th>\n",
       "      <td>11257.926468</td>\n",
       "    </tr>\n",
       "    <tr>\n",
       "      <th>3</th>\n",
       "      <td>-690.798614</td>\n",
       "    </tr>\n",
       "    <tr>\n",
       "      <th>4</th>\n",
       "      <td>3844.090910</td>\n",
       "    </tr>\n",
       "    <tr>\n",
       "      <th>5</th>\n",
       "      <td>-5915.416219</td>\n",
       "    </tr>\n",
       "    <tr>\n",
       "      <th>6</th>\n",
       "      <td>-5504.970291</td>\n",
       "    </tr>\n",
       "    <tr>\n",
       "      <th>7</th>\n",
       "      <td>-3796.380242</td>\n",
       "    </tr>\n",
       "    <tr>\n",
       "      <th>8</th>\n",
       "      <td>-7729.150154</td>\n",
       "    </tr>\n",
       "    <tr>\n",
       "      <th>9</th>\n",
       "      <td>-3848.175097</td>\n",
       "    </tr>\n",
       "    <tr>\n",
       "      <th>10</th>\n",
       "      <td>-3989.162413</td>\n",
       "    </tr>\n",
       "    <tr>\n",
       "      <th>11</th>\n",
       "      <td>-564.919354</td>\n",
       "    </tr>\n",
       "  </tbody>\n",
       "</table>\n",
       "</div>"
      ],
      "text/plain": [
       "             CP1\n",
       "0    8857.594255\n",
       "1    8079.360752\n",
       "2   11257.926468\n",
       "3    -690.798614\n",
       "4    3844.090910\n",
       "5   -5915.416219\n",
       "6   -5504.970291\n",
       "7   -3796.380242\n",
       "8   -7729.150154\n",
       "9   -3848.175097\n",
       "10  -3989.162413\n",
       "11   -564.919354"
      ]
     },
     "execution_count": 30,
     "metadata": {},
     "output_type": "execute_result"
    }
   ],
   "source": [
    "escores_pc1"
   ]
  },
  {
   "cell_type": "code",
   "execution_count": 31,
   "metadata": {},
   "outputs": [
    {
     "data": {
      "text/html": [
       "<div>\n",
       "<style scoped>\n",
       "    .dataframe tbody tr th:only-of-type {\n",
       "        vertical-align: middle;\n",
       "    }\n",
       "\n",
       "    .dataframe tbody tr th {\n",
       "        vertical-align: top;\n",
       "    }\n",
       "\n",
       "    .dataframe thead th {\n",
       "        text-align: right;\n",
       "    }\n",
       "</style>\n",
       "<table border=\"1\" class=\"dataframe\">\n",
       "  <thead>\n",
       "    <tr style=\"text-align: right;\">\n",
       "      <th></th>\n",
       "      <th>CP1</th>\n",
       "    </tr>\n",
       "  </thead>\n",
       "  <tbody>\n",
       "    <tr>\n",
       "      <th>8</th>\n",
       "      <td>-7729.150154</td>\n",
       "    </tr>\n",
       "    <tr>\n",
       "      <th>5</th>\n",
       "      <td>-5915.416219</td>\n",
       "    </tr>\n",
       "    <tr>\n",
       "      <th>6</th>\n",
       "      <td>-5504.970291</td>\n",
       "    </tr>\n",
       "    <tr>\n",
       "      <th>10</th>\n",
       "      <td>-3989.162413</td>\n",
       "    </tr>\n",
       "    <tr>\n",
       "      <th>9</th>\n",
       "      <td>-3848.175097</td>\n",
       "    </tr>\n",
       "    <tr>\n",
       "      <th>7</th>\n",
       "      <td>-3796.380242</td>\n",
       "    </tr>\n",
       "    <tr>\n",
       "      <th>3</th>\n",
       "      <td>-690.798614</td>\n",
       "    </tr>\n",
       "    <tr>\n",
       "      <th>11</th>\n",
       "      <td>-564.919354</td>\n",
       "    </tr>\n",
       "    <tr>\n",
       "      <th>4</th>\n",
       "      <td>3844.090910</td>\n",
       "    </tr>\n",
       "    <tr>\n",
       "      <th>1</th>\n",
       "      <td>8079.360752</td>\n",
       "    </tr>\n",
       "    <tr>\n",
       "      <th>0</th>\n",
       "      <td>8857.594255</td>\n",
       "    </tr>\n",
       "    <tr>\n",
       "      <th>2</th>\n",
       "      <td>11257.926468</td>\n",
       "    </tr>\n",
       "  </tbody>\n",
       "</table>\n",
       "</div>"
      ],
      "text/plain": [
       "             CP1\n",
       "8   -7729.150154\n",
       "5   -5915.416219\n",
       "6   -5504.970291\n",
       "10  -3989.162413\n",
       "9   -3848.175097\n",
       "7   -3796.380242\n",
       "3    -690.798614\n",
       "11   -564.919354\n",
       "4    3844.090910\n",
       "1    8079.360752\n",
       "0    8857.594255\n",
       "2   11257.926468"
      ]
     },
     "execution_count": 31,
     "metadata": {},
     "output_type": "execute_result"
    }
   ],
   "source": [
    "# só mostrando os menores ou maiores escores do CP1 (ascending=True é para ordem crescente)\n",
    "(escores_pc1\n",
    " .sort_values(by='CP1', ascending=True)\n",
    " .loc[:,['CP1']]\n",
    " .iloc[:20,:])"
   ]
  },
  {
   "cell_type": "code",
   "execution_count": 33,
   "metadata": {},
   "outputs": [
    {
     "data": {
      "image/png": "[encoded data removed]",
      "text/plain": [
       "<Figure size 432x288 with 1 Axes>"
      ]
     },
     "metadata": {},
     "output_type": "display_data"
    }
   ],
   "source": [
    "# diagrama de dispersão dos 2 primeiros CPs usando matplotlib\n",
    "plt.scatter(resultado_pca[:, 0], resultado_pca[:, 1]);"
   ]
  },
  {
   "cell_type": "code",
   "execution_count": 34,
   "metadata": {},
   "outputs": [
    {
     "data": {
      "image/png": "[encoded data removed]",
      "text/plain": [
       "<Figure size 720x360 with 1 Axes>"
      ]
     },
     "metadata": {},
     "output_type": "display_data"
    }
   ],
   "source": [
    "# diagrama de dispersão dos 2 primeiros CPs usando seaborn\n",
    "sns.lmplot('cp1', 'cp2', fit_reg=False, data=resultado, aspect=2)\n",
    "plt.hlines(0, -4, 4, color='gray')\n",
    "plt.vlines(0, -4, 4, color='gray');"
   ]
  },
  {
   "cell_type": "code",
   "execution_count": 35,
   "metadata": {
    "collapsed": true
   },
   "outputs": [],
   "source": [
    "# para tirar as linhas em volta do gráfico\n",
    "plt.rc('axes.spines', top=False, right=False, left=False, bottom=False)\n",
    "# para que as linhas em volta do gráfico voltem a aparecer\n",
    "# plt.rc('axes.spines', top=True, right=True, left=True, bottom=True)"
   ]
  },
  {
   "cell_type": "code",
   "execution_count": 36,
   "metadata": {},
   "outputs": [
    {
     "data": {
      "image/png": "[encoded data removed]",
      "text/plain": [
       "<Figure size 1080x720 with 1 Axes>"
      ]
     },
     "metadata": {},
     "output_type": "display_data"
    }
   ],
   "source": [
    "# diagrama de dispersão identificando os índices\n",
    "fig, ax = plt.subplots()\n",
    "fig.set_size_inches(15, 10)\n",
    "ax.scatter(resultado.cp1, resultado.cp2, s=0)\n",
    "for i, txt in enumerate(resultado.index):\n",
    "    ax.annotate(txt, (resultado.cp1[i], resultado.cp2[i]))\n",
    "plt.hlines(0, -7500, 12000, color='gray')\n",
    "plt.vlines(0, -3000, 3500, color='gray');"
   ]
  },
  {
   "cell_type": "markdown",
   "metadata": {},
   "source": [
    "## Aula 2 - ACP usando $\\boldsymbol{S}$ e $\\boldsymbol{R}$, *scree plot*, gráfico de correlações, número de CPs"
   ]
  },
  {
   "cell_type": "markdown",
   "metadata": {
    "collapsed": true
   },
   "source": [
    "#### 2 ACP usando a matriz de correlações (melhor opção)"
   ]
  },
  {
   "cell_type": "code",
   "execution_count": 87,
   "metadata": {
    "collapsed": true
   },
   "outputs": [],
   "source": [
    "X = emp"
   ]
  },
  {
   "cell_type": "code",
   "execution_count": 88,
   "metadata": {
    "collapsed": true
   },
   "outputs": [],
   "source": [
    "pca = PCA() \n",
    "resultado_pca = pca.fit_transform(scale(X))   # scale(X) padroniza os dados, como se usássemos a matriz R"
   ]
  },
  {
   "cell_type": "code",
   "execution_count": 89,
   "metadata": {
    "collapsed": true
   },
   "outputs": [],
   "source": [
    "resultado = pd.DataFrame({'cp1': resultado_pca[:, 0], 'cp2': resultado_pca[:, 1]})"
   ]
  },
  {
   "cell_type": "code",
   "execution_count": 90,
   "metadata": {},
   "outputs": [
    {
     "data": {
      "text/plain": [
       "array([[ 0.61670267,  0.55679445,  0.556469  ],\n",
       "       [-0.00126721, -0.70619694,  0.70801432],\n",
       "       [ 0.78719515, -0.43733949, -0.43480796]])"
      ]
     },
     "execution_count": 90,
     "metadata": {},
     "output_type": "execute_result"
    }
   ],
   "source": [
    "# coeficientes dos CPs (autovetores)\n",
    "# cada linha é um CP\n",
    "pca.components_"
   ]
  },
  {
   "cell_type": "markdown",
   "metadata": {},
   "source": [
    "Interpretação:\n",
    "\n",
    "- Y1: índice de desempenho global da empresa (valores altos positivos indicam empresas que tiveram ganhos B, L e P maiores do que a média)\n",
    "- Y2: comparação entre L e P (valores ~ 0 indicam empresas em que L está em equilíbrio com P)\n",
    "- Y3: comparação de B com o índice composto por por L e P (representa pouco da variação total, mas pode ser de interesse para o pesquisador)"
   ]
  },
  {
   "cell_type": "code",
   "execution_count": 91,
   "metadata": {},
   "outputs": [
    {
     "data": {
      "text/plain": [
       "array([ 2.71912594,  0.46199796,  0.09160337])"
      ]
     },
     "execution_count": 91,
     "metadata": {},
     "output_type": "execute_result"
    }
   ],
   "source": [
    "# variâncias dos CPs (autovalores)\n",
    "pca.explained_variance_"
   ]
  },
  {
   "cell_type": "code",
   "execution_count": 92,
   "metadata": {},
   "outputs": [
    {
     "data": {
      "text/plain": [
       "array([  83.08,   97.2 ,  100.  ])"
      ]
     },
     "execution_count": 92,
     "metadata": {},
     "output_type": "execute_result"
    }
   ],
   "source": [
    "# variância explicada acumulada\n",
    "np.cumsum(np.round(pca.explained_variance_ratio_, decimals=4)*100)"
   ]
  },
  {
   "cell_type": "code",
   "execution_count": 93,
   "metadata": {},
   "outputs": [
    {
     "data": {
      "text/html": [
       "<div>\n",
       "<style scoped>\n",
       "    .dataframe tbody tr th:only-of-type {\n",
       "        vertical-align: middle;\n",
       "    }\n",
       "\n",
       "    .dataframe tbody tr th {\n",
       "        vertical-align: top;\n",
       "    }\n",
       "\n",
       "    .dataframe thead th {\n",
       "        text-align: right;\n",
       "    }\n",
       "</style>\n",
       "<table border=\"1\" class=\"dataframe\">\n",
       "  <thead>\n",
       "    <tr style=\"text-align: right;\">\n",
       "      <th></th>\n",
       "      <th>cp1</th>\n",
       "      <th>cp2</th>\n",
       "    </tr>\n",
       "  </thead>\n",
       "  <tbody>\n",
       "    <tr>\n",
       "      <th>0</th>\n",
       "      <td>1.849933</td>\n",
       "      <td>0.645271</td>\n",
       "    </tr>\n",
       "    <tr>\n",
       "      <th>1</th>\n",
       "      <td>1.215910</td>\n",
       "      <td>1.071540</td>\n",
       "    </tr>\n",
       "    <tr>\n",
       "      <th>2</th>\n",
       "      <td>3.841723</td>\n",
       "      <td>-0.681407</td>\n",
       "    </tr>\n",
       "    <tr>\n",
       "      <th>3</th>\n",
       "      <td>0.624086</td>\n",
       "      <td>-0.958889</td>\n",
       "    </tr>\n",
       "    <tr>\n",
       "      <th>4</th>\n",
       "      <td>-0.229387</td>\n",
       "      <td>1.196460</td>\n",
       "    </tr>\n",
       "    <tr>\n",
       "      <th>5</th>\n",
       "      <td>-1.223956</td>\n",
       "      <td>-0.213646</td>\n",
       "    </tr>\n",
       "    <tr>\n",
       "      <th>6</th>\n",
       "      <td>-1.084577</td>\n",
       "      <td>-0.514195</td>\n",
       "    </tr>\n",
       "    <tr>\n",
       "      <th>7</th>\n",
       "      <td>-1.375958</td>\n",
       "      <td>0.276384</td>\n",
       "    </tr>\n",
       "    <tr>\n",
       "      <th>8</th>\n",
       "      <td>-1.886702</td>\n",
       "      <td>-0.128149</td>\n",
       "    </tr>\n",
       "    <tr>\n",
       "      <th>9</th>\n",
       "      <td>-1.171209</td>\n",
       "      <td>-0.017351</td>\n",
       "    </tr>\n",
       "    <tr>\n",
       "      <th>10</th>\n",
       "      <td>-0.556536</td>\n",
       "      <td>-0.525698</td>\n",
       "    </tr>\n",
       "    <tr>\n",
       "      <th>11</th>\n",
       "      <td>-0.003327</td>\n",
       "      <td>-0.150320</td>\n",
       "    </tr>\n",
       "  </tbody>\n",
       "</table>\n",
       "</div>"
      ],
      "text/plain": [
       "         cp1       cp2\n",
       "0   1.849933  0.645271\n",
       "1   1.215910  1.071540\n",
       "2   3.841723 -0.681407\n",
       "3   0.624086 -0.958889\n",
       "4  -0.229387  1.196460\n",
       "5  -1.223956 -0.213646\n",
       "6  -1.084577 -0.514195\n",
       "7  -1.375958  0.276384\n",
       "8  -1.886702 -0.128149\n",
       "9  -1.171209 -0.017351\n",
       "10 -0.556536 -0.525698\n",
       "11 -0.003327 -0.150320"
      ]
     },
     "execution_count": 93,
     "metadata": {},
     "output_type": "execute_result"
    }
   ],
   "source": [
    "# escores dos dois primeiros CPs\n",
    "resultado"
   ]
  },
  {
   "cell_type": "code",
   "execution_count": 94,
   "metadata": {},
   "outputs": [
    {
     "data": {
      "text/plain": [
       "array([  83.08,   97.2 ,  100.  ])"
      ]
     },
     "execution_count": 94,
     "metadata": {},
     "output_type": "execute_result"
    }
   ],
   "source": [
    "# variância explicada acumulada\n",
    "np.cumsum(np.round(pca.explained_variance_ratio_, decimals=4)*100)"
   ]
  },
  {
   "cell_type": "code",
   "execution_count": 95,
   "metadata": {},
   "outputs": [
    {
     "data": {
      "image/png": "[encoded data removed]",
      "text/plain": [
       "<Figure size 720x432 with 1 Axes>"
      ]
     },
     "metadata": {},
     "output_type": "display_data"
    }
   ],
   "source": [
    "# diagrama de dispersão dos escores dos dois primeiros CPs\n",
    "fig, ax = plt.subplots()\n",
    "fig.set_size_inches(10, 6)\n",
    "ax.scatter(resultado.cp1, resultado.cp2, s=0)\n",
    "for i, txt in enumerate(resultado.index):\n",
    "    ax.annotate(txt, (resultado.cp1[i], resultado.cp2[i]))\n",
    "plt.hlines(0, -2, 4, color='gray')\n",
    "plt.vlines(0, -1, 2, color='gray');"
   ]
  },
  {
   "cell_type": "markdown",
   "metadata": {},
   "source": [
    "Gráficos: tipo de *scree plot* e diagrama de dispersão com vetores indicando correlações entre variáveis e CPs."
   ]
  },
  {
   "cell_type": "markdown",
   "metadata": {},
   "source": [
    "https://www.kaggle.com/nanomathias/predicting-r-vs-python"
   ]
  },
  {
   "cell_type": "code",
   "execution_count": 98,
   "metadata": {},
   "outputs": [
    {
     "data": {
      "image/png": "[encoded data removed]",
      "text/plain": [
       "<Figure size 1440x288 with 2 Axes>"
      ]
     },
     "metadata": {},
     "output_type": "display_data"
    }
   ],
   "source": [
    "def get_angle(v1, v2):\n",
    "    # calcula ângulo entre dois vetores\n",
    "    cosang = np.dot(v1, v2)\n",
    "    sinang = np.linalg.norm(np.cross(v1, v2))\n",
    "    return np.degrees(np.arctan2(sinang, cosang))\n",
    "\n",
    "def annotate_embedding(loadings, pc_x, pc_y, ax, scaling=10, n_features=10, angle_thr=20):\n",
    "    # função para adicionar loadings no gráfico\n",
    "    loadings['VectorLength'] = np.sqrt(loadings[pc_x]**2 + loadings[pc_y]**2)\n",
    "    loadings = loadings.sort_values(by='VectorLength', ascending=False)\n",
    "    \n",
    "    # plota cada um dos maiores vetores \n",
    "    for feature, row in loadings.iloc[0:n_features].iterrows():\n",
    "        vector = np.array([row[pc_x]*scaling, row[pc_y]*scaling])\n",
    "        ax.arrow(0, 0, vector[0], vector[1], head_width=0.2, head_length=0.3)\n",
    "        ax.annotate(feature, xy=(0, 0), xytext=(vector[0], vector[1]), fontsize=8)\n",
    "    \n",
    "    # retorna lista ordenada\n",
    "    top_features = loadings.index.tolist()\n",
    "    return top_features\n",
    "\n",
    "# cria um dataframe com os resultados da ACP\n",
    "pca_df = pd.DataFrame(\n",
    "    resultado_pca,\n",
    "    index=X.index,\n",
    "    columns=['CP' + str(i + 1) for i in range(resultado_pca.shape[1])]\n",
    ")\n",
    "\n",
    "import itertools\n",
    "# cria dois gráficos\n",
    "_, axes = plt.subplots(ncols=2, figsize=(20, 4))  # número de colunas e tamanho\n",
    "\n",
    "# plota a variância explicada\n",
    "axes[0].plot(\n",
    "    pca.explained_variance_ratio_*100, \"--o\", linewidth=2,\n",
    "    label='Porcentagem da variância explicada'\n",
    ")\n",
    "\n",
    "# plota a variância explicada acumulada\n",
    "axes[0].plot(\n",
    "    (pca.explained_variance_ratio_ * 100).cumsum(), \"--o\", linewidth=2,\n",
    "    label='Porcentagem acumulada da variância explicada'\n",
    ")\n",
    "\n",
    "# mostra legenda\n",
    "axes[0].legend(loc='best', frameon=True)\n",
    "    \n",
    "# loadings de cada componente\n",
    "loadings = pd.DataFrame(\n",
    "    pca.components_,\n",
    "    index=['CP'+str(i+1) for i in range(len(pca.components_))],\n",
    "    columns=X.columns\n",
    ").T\n",
    "\n",
    "# plota os componentes\n",
    "i = 1\n",
    "x, y = 'CP'+str(i), 'CP'+str(i+1)\n",
    "# plotar\n",
    "settings = {'kind': 'scatter', 'ax': axes[i], 'alpha': 0.2, 'x': x, 'y': y}\n",
    "pca_df.plot(label=None, **settings)\n",
    "# mostrar os loadings\n",
    "annotate_embedding(loadings, x, y, axes[i], scaling=1, n_features=20, angle_thr=20)\n",
    "    \n",
    "# faz aparecer o gráfico\n",
    "plt.show();"
   ]
  },
  {
   "cell_type": "markdown",
   "metadata": {},
   "source": [
    "## Selecionar componentes principais"
   ]
  },
  {
   "cell_type": "markdown",
   "metadata": {},
   "source": [
    "O objetivo principal da ACP é reduzir a dimensionalidade dos dados, fazendo uma projeção em um subespaço menor, onde os autovetores formarão os eixos. No entanto, os autovetores definem apenas as direções do novo eixo, uma vez que possuem o mesmo comprimento de unidade 1, o que pode ser confirmado pelas duas linhas de código a seguir:"
   ]
  },
  {
   "cell_type": "code",
   "execution_count": 48,
   "metadata": {},
   "outputs": [
    {
     "name": "stdout",
     "output_type": "stream",
     "text": [
      "ok!\n"
     ]
    }
   ],
   "source": [
    "for ei in pca.components_:\n",
    "    np.testing.assert_array_almost_equal(1.0, np.linalg.norm(ei))\n",
    "print('ok!')"
   ]
  },
  {
   "cell_type": "markdown",
   "metadata": {},
   "source": [
    "Para decidir quantos CPs podem ser descartados sem perder muita informação para a construção do subespaço, precisamos inspecionar os autovalores correspondentes: os menores autovalores possuem a menor informação sobre a distribuição dos dados e são os que podem ser descartados. Para fazer isso, a abordagem comum é classificar os autovalores de maior para menor, a fim de escolher os $k$ CPs."
   ]
  },
  {
   "cell_type": "code",
   "execution_count": 49,
   "metadata": {},
   "outputs": [
    {
     "name": "stdout",
     "output_type": "stream",
     "text": [
      "Autovalores em ordem decrescente:\n",
      "2.71912594333\n",
      "0.46199795857\n",
      "0.0916033708312\n"
     ]
    }
   ],
   "source": [
    "# lista com autovalores e autovetores\n",
    "eig_pairs = [(np.abs(pca.explained_variance_[i]), pca.components_[:,i]) for i in range(len(pca.explained_variance_))]\n",
    "\n",
    "# ordenar em ordem decrescente\n",
    "eig_pairs.sort()\n",
    "eig_pairs.reverse()\n",
    "\n",
    "# visualizar autovalores\n",
    "print('Autovalores em ordem decrescente:')\n",
    "for i in eig_pairs:\n",
    "    print(i[0])"
   ]
  },
  {
   "cell_type": "markdown",
   "metadata": {},
   "source": [
    "Depois de classificar os pares, a próxima pergunta é 'quantos CPs vamos escolher?'. Uma medida útil é a 'variância explicada', calculada a partir dos autovalores. A variância explicada nos diz quanta informação (variância) pode ser atribuída a cada um dos componentes principais."
   ]
  },
  {
   "cell_type": "code",
   "execution_count": 50,
   "metadata": {},
   "outputs": [
    {
     "data": {
      "text/plain": [
       "array([  83.08440382,   97.20100811,  100.        ])"
      ]
     },
     "execution_count": 50,
     "metadata": {},
     "output_type": "execute_result"
    }
   ],
   "source": [
    "tot = sum(pca.explained_variance_)\n",
    "var_exp = [(i / tot)*100 for i in sorted(pca.explained_variance_, reverse=True)]\n",
    "cum_var_exp = np.cumsum(var_exp)\n",
    "cum_var_exp"
   ]
  },
  {
   "cell_type": "code",
   "execution_count": 51,
   "metadata": {},
   "outputs": [
    {
     "data": {
      "text/plain": [
       "['CP1', 'CP2', 'CP3']"
      ]
     },
     "execution_count": 51,
     "metadata": {},
     "output_type": "execute_result"
    }
   ],
   "source": [
    "# número de CPs gerados (k = p)\n",
    "cp =['CP'+str(i+1) for i in range(len(pca.components_))]\n",
    "cp"
   ]
  },
  {
   "cell_type": "code",
   "execution_count": 52,
   "metadata": {},
   "outputs": [
    {
     "data": {
      "text/html": [
       "<div>\n",
       "<style scoped>\n",
       "    .dataframe tbody tr th:only-of-type {\n",
       "        vertical-align: middle;\n",
       "    }\n",
       "\n",
       "    .dataframe tbody tr th {\n",
       "        vertical-align: top;\n",
       "    }\n",
       "\n",
       "    .dataframe thead th {\n",
       "        text-align: right;\n",
       "    }\n",
       "</style>\n",
       "<table border=\"1\" class=\"dataframe\">\n",
       "  <thead>\n",
       "    <tr style=\"text-align: right;\">\n",
       "      <th></th>\n",
       "      <th>cp</th>\n",
       "      <th>var_exp</th>\n",
       "      <th>cum_var_exp</th>\n",
       "    </tr>\n",
       "  </thead>\n",
       "  <tbody>\n",
       "    <tr>\n",
       "      <th>0</th>\n",
       "      <td>CP1</td>\n",
       "      <td>83.084404</td>\n",
       "      <td>83.084404</td>\n",
       "    </tr>\n",
       "    <tr>\n",
       "      <th>1</th>\n",
       "      <td>CP2</td>\n",
       "      <td>14.116604</td>\n",
       "      <td>97.201008</td>\n",
       "    </tr>\n",
       "    <tr>\n",
       "      <th>2</th>\n",
       "      <td>CP3</td>\n",
       "      <td>2.798992</td>\n",
       "      <td>100.000000</td>\n",
       "    </tr>\n",
       "  </tbody>\n",
       "</table>\n",
       "</div>"
      ],
      "text/plain": [
       "    cp    var_exp  cum_var_exp\n",
       "0  CP1  83.084404    83.084404\n",
       "1  CP2  14.116604    97.201008\n",
       "2  CP3   2.798992   100.000000"
      ]
     },
     "execution_count": 52,
     "metadata": {},
     "output_type": "execute_result"
    }
   ],
   "source": [
    "df = pd.DataFrame({'cp': cp, 'var_exp': var_exp, 'cum_var_exp': cum_var_exp})\n",
    "df"
   ]
  },
  {
   "cell_type": "code",
   "execution_count": 54,
   "metadata": {},
   "outputs": [
    {
     "data": {
      "image/png": "[encoded data removed]",
      "text/plain": [
       "<Figure size 432x288 with 1 Axes>"
      ]
     },
     "metadata": {},
     "output_type": "display_data"
    }
   ],
   "source": [
    "# scree plot\n",
    "fig, ax = plt.subplots()\n",
    "df.plot.bar('cp', 'var_exp', color='gray', ax=ax, legend=False)\n",
    "df.plot.line('cp', 'cum_var_exp', color='black', ax=ax)\n",
    "plt.legend(labels=['variância explicada acumulada'],\n",
    "           loc='upper right', \n",
    "           bbox_to_anchor=(1.7, 1))\n",
    "plt.ylabel('% variância explicada')\n",
    "plt.xlabel('');"
   ]
  },
  {
   "cell_type": "markdown",
   "metadata": {},
   "source": [
    "Os dois primeiros CPs explicam 97% da variação total. Ficaremos com os dois então. Mas poderíamos ficar apenas com o primeiro."
   ]
  },
  {
   "cell_type": "markdown",
   "metadata": {},
   "source": [
    "### Dados de poluição do ar"
   ]
  },
  {
   "cell_type": "markdown",
   "metadata": {},
   "source": [
    "- $SO2$: SO2 content of air in micrograms per cubic metre;\n",
    "- $temp$: average annual temperature in degrees Fahrenheit;\n",
    "- $manu$: number of manufacturing enterprises employing 20 or more workers;\n",
    "- $popul$: population size (1970 census) in thousands;\n",
    "- $wind$: average annual wind speed in miles per hour;\n",
    "- $precip$: average annual precipitation in inches;\n",
    "- $predays$: average number of days with precipitation per year."
   ]
  },
  {
   "cell_type": "code",
   "execution_count": 99,
   "metadata": {
    "collapsed": true
   },
   "outputs": [],
   "source": [
    "air = pd.read_csv('air.csv', index_col='city')"
   ]
  },
  {
   "cell_type": "code",
   "execution_count": 100,
   "metadata": {},
   "outputs": [
    {
     "data": {
      "text/html": [
       "<div>\n",
       "<style scoped>\n",
       "    .dataframe tbody tr th:only-of-type {\n",
       "        vertical-align: middle;\n",
       "    }\n",
       "\n",
       "    .dataframe tbody tr th {\n",
       "        vertical-align: top;\n",
       "    }\n",
       "\n",
       "    .dataframe thead th {\n",
       "        text-align: right;\n",
       "    }\n",
       "</style>\n",
       "<table border=\"1\" class=\"dataframe\">\n",
       "  <thead>\n",
       "    <tr style=\"text-align: right;\">\n",
       "      <th></th>\n",
       "      <th>SO2</th>\n",
       "      <th>temp</th>\n",
       "      <th>manu</th>\n",
       "      <th>popul</th>\n",
       "      <th>wind</th>\n",
       "      <th>precip</th>\n",
       "      <th>predays</th>\n",
       "    </tr>\n",
       "    <tr>\n",
       "      <th>city</th>\n",
       "      <th></th>\n",
       "      <th></th>\n",
       "      <th></th>\n",
       "      <th></th>\n",
       "      <th></th>\n",
       "      <th></th>\n",
       "      <th></th>\n",
       "    </tr>\n",
       "  </thead>\n",
       "  <tbody>\n",
       "    <tr>\n",
       "      <th>Albany</th>\n",
       "      <td>46</td>\n",
       "      <td>47.6</td>\n",
       "      <td>44</td>\n",
       "      <td>116</td>\n",
       "      <td>8.8</td>\n",
       "      <td>33.36</td>\n",
       "      <td>135</td>\n",
       "    </tr>\n",
       "    <tr>\n",
       "      <th>Albuquerque</th>\n",
       "      <td>11</td>\n",
       "      <td>56.8</td>\n",
       "      <td>46</td>\n",
       "      <td>244</td>\n",
       "      <td>8.9</td>\n",
       "      <td>7.77</td>\n",
       "      <td>58</td>\n",
       "    </tr>\n",
       "    <tr>\n",
       "      <th>Atlanta</th>\n",
       "      <td>24</td>\n",
       "      <td>61.5</td>\n",
       "      <td>368</td>\n",
       "      <td>497</td>\n",
       "      <td>9.1</td>\n",
       "      <td>48.34</td>\n",
       "      <td>115</td>\n",
       "    </tr>\n",
       "    <tr>\n",
       "      <th>Baltimore</th>\n",
       "      <td>47</td>\n",
       "      <td>55.0</td>\n",
       "      <td>625</td>\n",
       "      <td>905</td>\n",
       "      <td>9.6</td>\n",
       "      <td>41.31</td>\n",
       "      <td>111</td>\n",
       "    </tr>\n",
       "    <tr>\n",
       "      <th>Buffalo</th>\n",
       "      <td>11</td>\n",
       "      <td>47.1</td>\n",
       "      <td>391</td>\n",
       "      <td>463</td>\n",
       "      <td>12.4</td>\n",
       "      <td>36.11</td>\n",
       "      <td>166</td>\n",
       "    </tr>\n",
       "    <tr>\n",
       "      <th>Charleston</th>\n",
       "      <td>31</td>\n",
       "      <td>55.2</td>\n",
       "      <td>35</td>\n",
       "      <td>71</td>\n",
       "      <td>6.5</td>\n",
       "      <td>40.75</td>\n",
       "      <td>148</td>\n",
       "    </tr>\n",
       "    <tr>\n",
       "      <th>Chicago</th>\n",
       "      <td>110</td>\n",
       "      <td>50.6</td>\n",
       "      <td>3344</td>\n",
       "      <td>3369</td>\n",
       "      <td>10.4</td>\n",
       "      <td>34.44</td>\n",
       "      <td>122</td>\n",
       "    </tr>\n",
       "    <tr>\n",
       "      <th>Cincinnati</th>\n",
       "      <td>23</td>\n",
       "      <td>54.0</td>\n",
       "      <td>462</td>\n",
       "      <td>453</td>\n",
       "      <td>7.1</td>\n",
       "      <td>39.04</td>\n",
       "      <td>132</td>\n",
       "    </tr>\n",
       "    <tr>\n",
       "      <th>Cleveland</th>\n",
       "      <td>65</td>\n",
       "      <td>49.7</td>\n",
       "      <td>1007</td>\n",
       "      <td>751</td>\n",
       "      <td>10.9</td>\n",
       "      <td>34.99</td>\n",
       "      <td>155</td>\n",
       "    </tr>\n",
       "    <tr>\n",
       "      <th>Columbus</th>\n",
       "      <td>26</td>\n",
       "      <td>51.5</td>\n",
       "      <td>266</td>\n",
       "      <td>540</td>\n",
       "      <td>8.6</td>\n",
       "      <td>37.01</td>\n",
       "      <td>134</td>\n",
       "    </tr>\n",
       "  </tbody>\n",
       "</table>\n",
       "</div>"
      ],
      "text/plain": [
       "             SO2  temp  manu  popul  wind  precip  predays\n",
       "city                                                      \n",
       "Albany        46  47.6    44    116   8.8   33.36      135\n",
       "Albuquerque   11  56.8    46    244   8.9    7.77       58\n",
       "Atlanta       24  61.5   368    497   9.1   48.34      115\n",
       "Baltimore     47  55.0   625    905   9.6   41.31      111\n",
       "Buffalo       11  47.1   391    463  12.4   36.11      166\n",
       "Charleston    31  55.2    35     71   6.5   40.75      148\n",
       "Chicago      110  50.6  3344   3369  10.4   34.44      122\n",
       "Cincinnati    23  54.0   462    453   7.1   39.04      132\n",
       "Cleveland     65  49.7  1007    751  10.9   34.99      155\n",
       "Columbus      26  51.5   266    540   8.6   37.01      134"
      ]
     },
     "execution_count": 100,
     "metadata": {},
     "output_type": "execute_result"
    }
   ],
   "source": [
    "air.head(10)"
   ]
  },
  {
   "cell_type": "code",
   "execution_count": 101,
   "metadata": {},
   "outputs": [
    {
     "data": {
      "text/plain": [
       "(41, 7)"
      ]
     },
     "execution_count": 101,
     "metadata": {},
     "output_type": "execute_result"
    }
   ],
   "source": [
    "# n e p\n",
    "air.shape"
   ]
  },
  {
   "cell_type": "code",
   "execution_count": 102,
   "metadata": {
    "collapsed": true
   },
   "outputs": [],
   "source": [
    "# selecionando as 6 últimas variáveis\n",
    "X = air.iloc[:,1:7]"
   ]
  },
  {
   "cell_type": "code",
   "execution_count": 103,
   "metadata": {},
   "outputs": [
    {
     "data": {
      "text/html": [
       "<div>\n",
       "<style scoped>\n",
       "    .dataframe tbody tr th:only-of-type {\n",
       "        vertical-align: middle;\n",
       "    }\n",
       "\n",
       "    .dataframe tbody tr th {\n",
       "        vertical-align: top;\n",
       "    }\n",
       "\n",
       "    .dataframe thead th {\n",
       "        text-align: right;\n",
       "    }\n",
       "</style>\n",
       "<table border=\"1\" class=\"dataframe\">\n",
       "  <thead>\n",
       "    <tr style=\"text-align: right;\">\n",
       "      <th></th>\n",
       "      <th>temp</th>\n",
       "      <th>manu</th>\n",
       "      <th>popul</th>\n",
       "      <th>wind</th>\n",
       "      <th>precip</th>\n",
       "      <th>predays</th>\n",
       "    </tr>\n",
       "    <tr>\n",
       "      <th>city</th>\n",
       "      <th></th>\n",
       "      <th></th>\n",
       "      <th></th>\n",
       "      <th></th>\n",
       "      <th></th>\n",
       "      <th></th>\n",
       "    </tr>\n",
       "  </thead>\n",
       "  <tbody>\n",
       "    <tr>\n",
       "      <th>Albany</th>\n",
       "      <td>47.6</td>\n",
       "      <td>44</td>\n",
       "      <td>116</td>\n",
       "      <td>8.8</td>\n",
       "      <td>33.36</td>\n",
       "      <td>135</td>\n",
       "    </tr>\n",
       "    <tr>\n",
       "      <th>Albuquerque</th>\n",
       "      <td>56.8</td>\n",
       "      <td>46</td>\n",
       "      <td>244</td>\n",
       "      <td>8.9</td>\n",
       "      <td>7.77</td>\n",
       "      <td>58</td>\n",
       "    </tr>\n",
       "    <tr>\n",
       "      <th>Atlanta</th>\n",
       "      <td>61.5</td>\n",
       "      <td>368</td>\n",
       "      <td>497</td>\n",
       "      <td>9.1</td>\n",
       "      <td>48.34</td>\n",
       "      <td>115</td>\n",
       "    </tr>\n",
       "    <tr>\n",
       "      <th>Baltimore</th>\n",
       "      <td>55.0</td>\n",
       "      <td>625</td>\n",
       "      <td>905</td>\n",
       "      <td>9.6</td>\n",
       "      <td>41.31</td>\n",
       "      <td>111</td>\n",
       "    </tr>\n",
       "    <tr>\n",
       "      <th>Buffalo</th>\n",
       "      <td>47.1</td>\n",
       "      <td>391</td>\n",
       "      <td>463</td>\n",
       "      <td>12.4</td>\n",
       "      <td>36.11</td>\n",
       "      <td>166</td>\n",
       "    </tr>\n",
       "  </tbody>\n",
       "</table>\n",
       "</div>"
      ],
      "text/plain": [
       "             temp  manu  popul  wind  precip  predays\n",
       "city                                                 \n",
       "Albany       47.6    44    116   8.8   33.36      135\n",
       "Albuquerque  56.8    46    244   8.9    7.77       58\n",
       "Atlanta      61.5   368    497   9.1   48.34      115\n",
       "Baltimore    55.0   625    905   9.6   41.31      111\n",
       "Buffalo      47.1   391    463  12.4   36.11      166"
      ]
     },
     "execution_count": 103,
     "metadata": {},
     "output_type": "execute_result"
    }
   ],
   "source": [
    "X.head()"
   ]
  },
  {
   "cell_type": "code",
   "execution_count": 104,
   "metadata": {
    "collapsed": true
   },
   "outputs": [],
   "source": [
    "# ACP\n",
    "pca = PCA() \n",
    "resultado_pca = pca.fit_transform(scale(X))   # scale(X) padroniza os dados, como se usássemos a matriz R"
   ]
  },
  {
   "cell_type": "code",
   "execution_count": 105,
   "metadata": {
    "collapsed": true
   },
   "outputs": [],
   "source": [
    "resultado = pd.DataFrame({'cp1':resultado_pca[:, 0], 'cp2':resultado_pca[:, 1]}, index=X.index)"
   ]
  },
  {
   "cell_type": "code",
   "execution_count": 106,
   "metadata": {},
   "outputs": [
    {
     "name": "stdout",
     "output_type": "stream",
     "text": [
      "[[-0.32964613  0.61154243  0.57782195  0.35383877 -0.04080701  0.23791593]\n",
      " [ 0.1275974   0.16805772  0.22245325 -0.13079154 -0.62285781 -0.70776534]\n",
      " [ 0.67168611  0.27288633  0.35037413 -0.29725334  0.50456294 -0.09308852]\n",
      " [ 0.30645728 -0.13684076 -0.07248126  0.86942583  0.17114826 -0.31130693]\n",
      " [ 0.55805638 -0.10204211  0.07806551  0.11326688 -0.56818342  0.58000387]\n",
      " [ 0.1361878   0.70297051 -0.69464131  0.02452501 -0.06062222  0.02196062]]\n"
     ]
    }
   ],
   "source": [
    "# coeficientes dos CPs (autovetores)\n",
    "# cada linha é um CP\n",
    "print(pca.components_)"
   ]
  },
  {
   "cell_type": "code",
   "execution_count": 107,
   "metadata": {},
   "outputs": [
    {
     "data": {
      "text/plain": [
       "array([ 2.25106671,  1.53744202,  1.42951535,  0.77923256,  0.11743492,\n",
       "        0.03530845])"
      ]
     },
     "execution_count": 107,
     "metadata": {},
     "output_type": "execute_result"
    }
   ],
   "source": [
    "# variâncias dos CPs (autovalores)\n",
    "pca.explained_variance_"
   ]
  },
  {
   "cell_type": "code",
   "execution_count": 108,
   "metadata": {},
   "outputs": [
    {
     "data": {
      "text/plain": [
       "array([ 36.6 ,  61.6 ,  84.84,  97.51,  99.42,  99.99])"
      ]
     },
     "execution_count": 108,
     "metadata": {},
     "output_type": "execute_result"
    }
   ],
   "source": [
    "# variância explicada acumulada\n",
    "np.cumsum(np.round(pca.explained_variance_ratio_, decimals=4)*100)"
   ]
  },
  {
   "cell_type": "code",
   "execution_count": 109,
   "metadata": {},
   "outputs": [
    {
     "name": "stdout",
     "output_type": "stream",
     "text": [
      "[[-0.32964613  0.61154243  0.57782195  0.35383877 -0.04080701  0.23791593]\n",
      " [ 0.1275974   0.16805772  0.22245325 -0.13079154 -0.62285781 -0.70776534]\n",
      " [ 0.67168611  0.27288633  0.35037413 -0.29725334  0.50456294 -0.09308852]]\n"
     ]
    }
   ],
   "source": [
    "# os três primeiros CPs\n",
    "print(pca.components_[0:3, :])"
   ]
  },
  {
   "cell_type": "code",
   "execution_count": 110,
   "metadata": {},
   "outputs": [
    {
     "data": {
      "text/plain": [
       "Index(['temp', 'manu', 'popul', 'wind', 'precip', 'predays'], dtype='object')"
      ]
     },
     "execution_count": 110,
     "metadata": {},
     "output_type": "execute_result"
    }
   ],
   "source": [
    "X.columns"
   ]
  },
  {
   "cell_type": "markdown",
   "metadata": {},
   "source": [
    "Interpretação:\n",
    "\n",
    "- Y1: índice global de qualidade de vida - escores altos indicam cidades maiores, com mais fábricas, mais gente, mais vento, mais dias chuvosos, temp. baixas\n",
    "- Y2: índice de chuvas - escores altos negativos indicam cidades chuvosas\n",
    "- Y3: leva em conta chuvas e temperatura - altos valores para cidades quentes e úmidas e baixos para frias e secas"
   ]
  },
  {
   "cell_type": "code",
   "execution_count": 111,
   "metadata": {},
   "outputs": [
    {
     "data": {
      "text/html": [
       "<div>\n",
       "<style scoped>\n",
       "    .dataframe tbody tr th:only-of-type {\n",
       "        vertical-align: middle;\n",
       "    }\n",
       "\n",
       "    .dataframe tbody tr th {\n",
       "        vertical-align: top;\n",
       "    }\n",
       "\n",
       "    .dataframe thead th {\n",
       "        text-align: right;\n",
       "    }\n",
       "</style>\n",
       "<table border=\"1\" class=\"dataframe\">\n",
       "  <thead>\n",
       "    <tr style=\"text-align: right;\">\n",
       "      <th></th>\n",
       "      <th>cp1</th>\n",
       "      <th>cp2</th>\n",
       "    </tr>\n",
       "    <tr>\n",
       "      <th>city</th>\n",
       "      <th></th>\n",
       "      <th></th>\n",
       "    </tr>\n",
       "  </thead>\n",
       "  <tbody>\n",
       "    <tr>\n",
       "      <th>Albany</th>\n",
       "      <td>-0.538946</td>\n",
       "      <td>-0.792069</td>\n",
       "    </tr>\n",
       "    <tr>\n",
       "      <th>Albuquerque</th>\n",
       "      <td>-1.417093</td>\n",
       "      <td>2.865890</td>\n",
       "    </tr>\n",
       "    <tr>\n",
       "      <th>Atlanta</th>\n",
       "      <td>-0.598995</td>\n",
       "      <td>-0.587236</td>\n",
       "    </tr>\n",
       "    <tr>\n",
       "      <th>Baltimore</th>\n",
       "      <td>0.509380</td>\n",
       "      <td>-0.028754</td>\n",
       "    </tr>\n",
       "    <tr>\n",
       "      <th>Buffalo</th>\n",
       "      <td>1.390709</td>\n",
       "      <td>-1.880301</td>\n",
       "    </tr>\n",
       "    <tr>\n",
       "      <th>Charleston</th>\n",
       "      <td>-1.429753</td>\n",
       "      <td>-1.210584</td>\n",
       "    </tr>\n",
       "    <tr>\n",
       "      <th>Chicago</th>\n",
       "      <td>6.513882</td>\n",
       "      <td>1.668382</td>\n",
       "    </tr>\n",
       "    <tr>\n",
       "      <th>Cincinnati</th>\n",
       "      <td>-0.508221</td>\n",
       "      <td>-0.486010</td>\n",
       "    </tr>\n",
       "    <tr>\n",
       "      <th>Cleveland</th>\n",
       "      <td>1.766279</td>\n",
       "      <td>-1.039427</td>\n",
       "    </tr>\n",
       "    <tr>\n",
       "      <th>Columbus</th>\n",
       "      <td>-0.118835</td>\n",
       "      <td>-0.640394</td>\n",
       "    </tr>\n",
       "    <tr>\n",
       "      <th>Dallas</th>\n",
       "      <td>-0.006879</td>\n",
       "      <td>1.211811</td>\n",
       "    </tr>\n",
       "    <tr>\n",
       "      <th>Denver</th>\n",
       "      <td>-0.207434</td>\n",
       "      <td>1.963209</td>\n",
       "    </tr>\n",
       "    <tr>\n",
       "      <th>Des Moines</th>\n",
       "      <td>-0.131980</td>\n",
       "      <td>0.061206</td>\n",
       "    </tr>\n",
       "    <tr>\n",
       "      <th>Detroit</th>\n",
       "      <td>2.166695</td>\n",
       "      <td>0.270603</td>\n",
       "    </tr>\n",
       "    <tr>\n",
       "      <th>Hartford</th>\n",
       "      <td>-0.219106</td>\n",
       "      <td>-0.976306</td>\n",
       "    </tr>\n",
       "    <tr>\n",
       "      <th>Houston</th>\n",
       "      <td>0.508420</td>\n",
       "      <td>0.112716</td>\n",
       "    </tr>\n",
       "    <tr>\n",
       "      <th>Indianapolis</th>\n",
       "      <td>0.308324</td>\n",
       "      <td>-0.360492</td>\n",
       "    </tr>\n",
       "    <tr>\n",
       "      <th>Jacksonville</th>\n",
       "      <td>-1.227850</td>\n",
       "      <td>-0.849128</td>\n",
       "    </tr>\n",
       "    <tr>\n",
       "      <th>Kansas City</th>\n",
       "      <td>-0.131303</td>\n",
       "      <td>0.252060</td>\n",
       "    </tr>\n",
       "    <tr>\n",
       "      <th>Little Rock</th>\n",
       "      <td>-1.611600</td>\n",
       "      <td>-0.342487</td>\n",
       "    </tr>\n",
       "    <tr>\n",
       "      <th>Louisville</th>\n",
       "      <td>-0.423739</td>\n",
       "      <td>-0.540553</td>\n",
       "    </tr>\n",
       "    <tr>\n",
       "      <th>Memphis</th>\n",
       "      <td>-0.577849</td>\n",
       "      <td>-0.325067</td>\n",
       "    </tr>\n",
       "    <tr>\n",
       "      <th>Miami</th>\n",
       "      <td>-1.533161</td>\n",
       "      <td>-1.404699</td>\n",
       "    </tr>\n",
       "    <tr>\n",
       "      <th>Milwaukee</th>\n",
       "      <td>1.391025</td>\n",
       "      <td>-0.157619</td>\n",
       "    </tr>\n",
       "    <tr>\n",
       "      <th>Minneapolis</th>\n",
       "      <td>1.500033</td>\n",
       "      <td>-0.246756</td>\n",
       "    </tr>\n",
       "    <tr>\n",
       "      <th>Nashville</th>\n",
       "      <td>-0.910052</td>\n",
       "      <td>-0.543464</td>\n",
       "    </tr>\n",
       "    <tr>\n",
       "      <th>New Orleans</th>\n",
       "      <td>-1.453857</td>\n",
       "      <td>-0.900752</td>\n",
       "    </tr>\n",
       "    <tr>\n",
       "      <th>Norfolk</th>\n",
       "      <td>-0.589142</td>\n",
       "      <td>-0.752191</td>\n",
       "    </tr>\n",
       "    <tr>\n",
       "      <th>Omaha</th>\n",
       "      <td>-0.133638</td>\n",
       "      <td>0.384784</td>\n",
       "    </tr>\n",
       "    <tr>\n",
       "      <th>Philadelphia</th>\n",
       "      <td>2.797075</td>\n",
       "      <td>0.658478</td>\n",
       "    </tr>\n",
       "    <tr>\n",
       "      <th>Phoenix</th>\n",
       "      <td>-2.440097</td>\n",
       "      <td>4.191149</td>\n",
       "    </tr>\n",
       "    <tr>\n",
       "      <th>Pittsburgh</th>\n",
       "      <td>0.322265</td>\n",
       "      <td>-1.026637</td>\n",
       "    </tr>\n",
       "    <tr>\n",
       "      <th>Providence</th>\n",
       "      <td>0.069936</td>\n",
       "      <td>-1.033907</td>\n",
       "    </tr>\n",
       "    <tr>\n",
       "      <th>Richmond</th>\n",
       "      <td>-1.171999</td>\n",
       "      <td>-0.334949</td>\n",
       "    </tr>\n",
       "    <tr>\n",
       "      <th>Salt Lake City</th>\n",
       "      <td>-0.912394</td>\n",
       "      <td>1.547348</td>\n",
       "    </tr>\n",
       "    <tr>\n",
       "      <th>San Francisco</th>\n",
       "      <td>-0.502074</td>\n",
       "      <td>2.255287</td>\n",
       "    </tr>\n",
       "    <tr>\n",
       "      <th>Seattle</th>\n",
       "      <td>0.481679</td>\n",
       "      <td>-1.597426</td>\n",
       "    </tr>\n",
       "    <tr>\n",
       "      <th>St. Louis</th>\n",
       "      <td>0.286187</td>\n",
       "      <td>0.384382</td>\n",
       "    </tr>\n",
       "    <tr>\n",
       "      <th>Washington</th>\n",
       "      <td>-0.022928</td>\n",
       "      <td>0.054567</td>\n",
       "    </tr>\n",
       "    <tr>\n",
       "      <th>Wichita</th>\n",
       "      <td>-0.196823</td>\n",
       "      <td>0.676074</td>\n",
       "    </tr>\n",
       "    <tr>\n",
       "      <th>Wilmington</th>\n",
       "      <td>-0.996141</td>\n",
       "      <td>-0.500741</td>\n",
       "    </tr>\n",
       "  </tbody>\n",
       "</table>\n",
       "</div>"
      ],
      "text/plain": [
       "                     cp1       cp2\n",
       "city                              \n",
       "Albany         -0.538946 -0.792069\n",
       "Albuquerque    -1.417093  2.865890\n",
       "Atlanta        -0.598995 -0.587236\n",
       "Baltimore       0.509380 -0.028754\n",
       "Buffalo         1.390709 -1.880301\n",
       "Charleston     -1.429753 -1.210584\n",
       "Chicago         6.513882  1.668382\n",
       "Cincinnati     -0.508221 -0.486010\n",
       "Cleveland       1.766279 -1.039427\n",
       "Columbus       -0.118835 -0.640394\n",
       "Dallas         -0.006879  1.211811\n",
       "Denver         -0.207434  1.963209\n",
       "Des Moines     -0.131980  0.061206\n",
       "Detroit         2.166695  0.270603\n",
       "Hartford       -0.219106 -0.976306\n",
       "Houston         0.508420  0.112716\n",
       "Indianapolis    0.308324 -0.360492\n",
       "Jacksonville   -1.227850 -0.849128\n",
       "Kansas City    -0.131303  0.252060\n",
       "Little Rock    -1.611600 -0.342487\n",
       "Louisville     -0.423739 -0.540553\n",
       "Memphis        -0.577849 -0.325067\n",
       "Miami          -1.533161 -1.404699\n",
       "Milwaukee       1.391025 -0.157619\n",
       "Minneapolis     1.500033 -0.246756\n",
       "Nashville      -0.910052 -0.543464\n",
       "New Orleans    -1.453857 -0.900752\n",
       "Norfolk        -0.589142 -0.752191\n",
       "Omaha          -0.133638  0.384784\n",
       "Philadelphia    2.797075  0.658478\n",
       "Phoenix        -2.440097  4.191149\n",
       "Pittsburgh      0.322265 -1.026637\n",
       "Providence      0.069936 -1.033907\n",
       "Richmond       -1.171999 -0.334949\n",
       "Salt Lake City -0.912394  1.547348\n",
       "San Francisco  -0.502074  2.255287\n",
       "Seattle         0.481679 -1.597426\n",
       "St. Louis       0.286187  0.384382\n",
       "Washington     -0.022928  0.054567\n",
       "Wichita        -0.196823  0.676074\n",
       "Wilmington     -0.996141 -0.500741"
      ]
     },
     "execution_count": 111,
     "metadata": {},
     "output_type": "execute_result"
    }
   ],
   "source": [
    "# escores dos dois primeiros CPs\n",
    "resultado"
   ]
  },
  {
   "cell_type": "code",
   "execution_count": 112,
   "metadata": {},
   "outputs": [
    {
     "data": {
      "image/png": "[encoded data removed]",
      "text/plain": [
       "<Figure size 1080x720 with 1 Axes>"
      ]
     },
     "metadata": {},
     "output_type": "display_data"
    }
   ],
   "source": [
    "# diagrama de dispersão com os nomes das cidades\n",
    "fig, ax = plt.subplots()\n",
    "fig.set_size_inches(15, 10)\n",
    "ax.scatter(resultado.cp1, resultado.cp2, s=0)\n",
    "for i, txt in enumerate(resultado.index):\n",
    "    ax.annotate(txt, (resultado.cp1[i], resultado.cp2[i]))\n",
    "plt.hlines(0, -3, 6, color='gray')\n",
    "plt.vlines(0, -2, 4, color='gray');"
   ]
  },
  {
   "cell_type": "markdown",
   "metadata": {},
   "source": [
    "Interpretação:\n",
    "\n",
    "- Y1: índice global de qualidade de vida - escores altos indicam cidades maiores, com mais fábricas, mais gente, mais vento, mais dias chuvosos, temp. baixas\n",
    "- Y2: índice de chuvas - escores altos negativos indicam cidades chuvosas\n",
    "- Y3: leva em conta chuvas e temperatura - altos valores para cidades quentes e úmidas e baixos para frias e secas"
   ]
  },
  {
   "cell_type": "code",
   "execution_count": 113,
   "metadata": {},
   "outputs": [
    {
     "data": {
      "image/png": "[encoded data removed]",
      "text/plain": [
       "<Figure size 720x720 with 2 Axes>"
      ]
     },
     "metadata": {},
     "output_type": "display_data"
    }
   ],
   "source": [
    "# scree plot e correlações CPs x variáveis\n",
    "def get_angle(v1, v2):\n",
    "    # calcula ângulo entre dois vetores\n",
    "    cosang = np.dot(v1, v2)\n",
    "    sinang = np.linalg.norm(np.cross(v1, v2))\n",
    "    return np.degrees(np.arctan2(sinang, cosang))\n",
    "\n",
    "def annotate_embedding(loadings, pc_x, pc_y, ax, scaling=10, n_features=10, angle_thr=20):\n",
    "    # função para adicionar loadings no gráfico\n",
    "    loadings['VectorLength'] = np.sqrt(loadings[pc_x]**2 + loadings[pc_y]**2)\n",
    "    loadings = loadings.sort_values(by='VectorLength', ascending=False)\n",
    "    \n",
    "    # plota cada um dos maiores vetores \n",
    "    for feature, row in loadings.iloc[0:n_features].iterrows():\n",
    "        vector = np.array([row[pc_x]*scaling, row[pc_y]*scaling])\n",
    "        ax.arrow(0, 0, vector[0], vector[1], head_width=0.2, head_length=0.3)\n",
    "        ax.annotate(feature, xy=(0, 0), xytext=(vector[0], vector[1]), fontsize=8)\n",
    "    \n",
    "    # retorna lista ordenada\n",
    "    top_features = loadings.index.tolist()\n",
    "    return top_features\n",
    "\n",
    "# cria um dataframe com os resultados da ACP\n",
    "pca_df = pd.DataFrame(\n",
    "    resultado_pca,\n",
    "    index=X.index,\n",
    "    columns=['CP' + str(i + 1) for i in range(resultado_pca.shape[1])]\n",
    ")\n",
    "\n",
    "import itertools\n",
    "# cria dois gráficos\n",
    "_, axes = plt.subplots(nrows=2, figsize=(10,10))  # número de colunas e tamanho\n",
    "\n",
    "# plota a variância explicada\n",
    "axes[0].plot(\n",
    "    pca.explained_variance_ratio_*100, \"--o\", linewidth=2,\n",
    "    label='Porcentagem da variância explicada'\n",
    ")\n",
    "\n",
    "# plota a variância explicada acumulada\n",
    "axes[0].plot(\n",
    "    (pca.explained_variance_ratio_ * 100).cumsum(), \"--o\", linewidth=2,\n",
    "    label='Porcentagem acumulada da variância explicada'\n",
    ")\n",
    "\n",
    "# mostra legenda\n",
    "axes[0].legend(loc='best', frameon=True)\n",
    "    \n",
    "# loadings de cada componente\n",
    "loadings = pd.DataFrame(\n",
    "    pca.components_,\n",
    "    index=['CP'+str(i+1) for i in range(len(pca.components_))],\n",
    "    columns=X.columns\n",
    ").T\n",
    "\n",
    "# plota os componentes\n",
    "i = 1\n",
    "x, y = 'CP'+str(i), 'CP'+str(i+1)\n",
    "# plotar\n",
    "settings = {'kind': 'scatter', 'ax': axes[i], 'alpha': 0.2, 'x': x, 'y': y}\n",
    "pca_df.plot(label=None, **settings)\n",
    "# mostrar os loadings (correlações)\n",
    "annotate_embedding(loadings, x, y, axes[i], scaling=1, n_features=20, angle_thr=20)\n",
    "    \n",
    "# faz aparecer o gráfico\n",
    "plt.show();"
   ]
  },
  {
   "cell_type": "markdown",
   "metadata": {},
   "source": [
    "## Selecionar componentes principais"
   ]
  },
  {
   "cell_type": "code",
   "execution_count": 120,
   "metadata": {},
   "outputs": [
    {
     "name": "stdout",
     "output_type": "stream",
     "text": [
      "ok!\n"
     ]
    }
   ],
   "source": [
    "# teste dos coeficientes dos autovetores\n",
    "for ei in pca.components_:\n",
    "    np.testing.assert_array_almost_equal(1.0, np.linalg.norm(ei))\n",
    "print('ok!')"
   ]
  },
  {
   "cell_type": "code",
   "execution_count": 121,
   "metadata": {},
   "outputs": [
    {
     "name": "stdout",
     "output_type": "stream",
     "text": [
      "Autovalores em ordem decrescente:\n",
      "2.2510667086\n",
      "1.53744201544\n",
      "1.42951534611\n",
      "0.779232560881\n",
      "0.117434919198\n",
      "0.0353084497742\n"
     ]
    }
   ],
   "source": [
    "# lista com autovalores e autovetores\n",
    "eig_pairs = [(np.abs(pca.explained_variance_[i]), pca.components_[:,i]) for i in range(len(pca.components_))]\n",
    "\n",
    "# ordenar em ordem decrescente\n",
    "eig_pairs.sort()\n",
    "eig_pairs.reverse()\n",
    "\n",
    "# visualizar autovalores\n",
    "print('Autovalores em ordem decrescente:')\n",
    "for i in eig_pairs:\n",
    "    print(i[0])"
   ]
  },
  {
   "cell_type": "code",
   "execution_count": 122,
   "metadata": {},
   "outputs": [
    {
     "data": {
      "text/plain": [
       "array([  36.60271071,   61.60176787,   84.84591984,   97.51636798,\n",
       "         99.42587887,  100.        ])"
      ]
     },
     "execution_count": 122,
     "metadata": {},
     "output_type": "execute_result"
    }
   ],
   "source": [
    "# variãncia explicada acumulada\n",
    "tot = sum(pca.explained_variance_)\n",
    "var_exp = [(i / tot)*100 for i in sorted(pca.explained_variance_, reverse=True)]\n",
    "cum_var_exp = np.cumsum(var_exp)\n",
    "cum_var_exp"
   ]
  },
  {
   "cell_type": "code",
   "execution_count": 123,
   "metadata": {},
   "outputs": [
    {
     "data": {
      "text/plain": [
       "['CP1', 'CP2', 'CP3', 'CP4', 'CP5', 'CP6']"
      ]
     },
     "execution_count": 123,
     "metadata": {},
     "output_type": "execute_result"
    }
   ],
   "source": [
    "# número de CPs gerados (k = p)\n",
    "cp =['CP'+str(i+1) for i in range(len(pca.components_))]\n",
    "cp"
   ]
  },
  {
   "cell_type": "code",
   "execution_count": 124,
   "metadata": {},
   "outputs": [
    {
     "data": {
      "text/html": [
       "<div>\n",
       "<style scoped>\n",
       "    .dataframe tbody tr th:only-of-type {\n",
       "        vertical-align: middle;\n",
       "    }\n",
       "\n",
       "    .dataframe tbody tr th {\n",
       "        vertical-align: top;\n",
       "    }\n",
       "\n",
       "    .dataframe thead th {\n",
       "        text-align: right;\n",
       "    }\n",
       "</style>\n",
       "<table border=\"1\" class=\"dataframe\">\n",
       "  <thead>\n",
       "    <tr style=\"text-align: right;\">\n",
       "      <th></th>\n",
       "      <th>cp</th>\n",
       "      <th>var_exp</th>\n",
       "      <th>cum_var_exp</th>\n",
       "    </tr>\n",
       "  </thead>\n",
       "  <tbody>\n",
       "    <tr>\n",
       "      <th>0</th>\n",
       "      <td>CP1</td>\n",
       "      <td>36.602711</td>\n",
       "      <td>36.602711</td>\n",
       "    </tr>\n",
       "    <tr>\n",
       "      <th>1</th>\n",
       "      <td>CP2</td>\n",
       "      <td>24.999057</td>\n",
       "      <td>61.601768</td>\n",
       "    </tr>\n",
       "    <tr>\n",
       "      <th>2</th>\n",
       "      <td>CP3</td>\n",
       "      <td>23.244152</td>\n",
       "      <td>84.845920</td>\n",
       "    </tr>\n",
       "    <tr>\n",
       "      <th>3</th>\n",
       "      <td>CP4</td>\n",
       "      <td>12.670448</td>\n",
       "      <td>97.516368</td>\n",
       "    </tr>\n",
       "    <tr>\n",
       "      <th>4</th>\n",
       "      <td>CP5</td>\n",
       "      <td>1.909511</td>\n",
       "      <td>99.425879</td>\n",
       "    </tr>\n",
       "    <tr>\n",
       "      <th>5</th>\n",
       "      <td>CP6</td>\n",
       "      <td>0.574121</td>\n",
       "      <td>100.000000</td>\n",
       "    </tr>\n",
       "  </tbody>\n",
       "</table>\n",
       "</div>"
      ],
      "text/plain": [
       "    cp    var_exp  cum_var_exp\n",
       "0  CP1  36.602711    36.602711\n",
       "1  CP2  24.999057    61.601768\n",
       "2  CP3  23.244152    84.845920\n",
       "3  CP4  12.670448    97.516368\n",
       "4  CP5   1.909511    99.425879\n",
       "5  CP6   0.574121   100.000000"
      ]
     },
     "execution_count": 124,
     "metadata": {},
     "output_type": "execute_result"
    }
   ],
   "source": [
    "df = pd.DataFrame({'cp': cp, 'var_exp': var_exp, 'cum_var_exp': cum_var_exp})\n",
    "df"
   ]
  },
  {
   "cell_type": "code",
   "execution_count": 126,
   "metadata": {},
   "outputs": [
    {
     "data": {
      "image/png": "[encoded data removed]",
      "text/plain": [
       "<Figure size 432x288 with 1 Axes>"
      ]
     },
     "metadata": {},
     "output_type": "display_data"
    }
   ],
   "source": [
    "# scree plot\n",
    "fig, ax = plt.subplots()\n",
    "df.plot.bar('cp', 'var_exp', color='gray', ax=ax, legend=False)\n",
    "df.plot.line('cp', 'cum_var_exp', color='black', ax=ax)\n",
    "plt.legend(labels=['variância explicada acumulada'],\n",
    "           loc='upper right', \n",
    "           bbox_to_anchor=(1.7, 1))\n",
    "plt.ylabel('% variância explicada')\n",
    "plt.xlabel('');"
   ]
  },
  {
   "cell_type": "markdown",
   "metadata": {},
   "source": [
    "Os dois primeiros CPs explicam 61% da variação total. Ficaremos com os dois então."
   ]
  },
  {
   "cell_type": "markdown",
   "metadata": {},
   "source": [
    "### US Arrests"
   ]
  },
  {
   "cell_type": "markdown",
   "metadata": {},
   "source": [
    "This data set contains statistics, in arrests per 100,000 residents for assault, murder, and rape in each of the 50 US states in 1973. Also given is the percent of the population living in urban areas.\n",
    "\n",
    "Dataframe with 50 observations on 4 variables.\n",
    "\n",
    "- Murder (numeric)\t Murder arrests (per 100,000) homicídio\n",
    "- Assault (numeric)\t Assault arrests (per 100,000) assalto\n",
    "- UrbanPop (numeric)\t Percent urban population   \n",
    "- Rape (numeric)\t Rape arrests (per 100,000)   estupro"
   ]
  },
  {
   "cell_type": "code",
   "execution_count": 145,
   "metadata": {},
   "outputs": [
    {
     "data": {
      "text/html": [
       "<div>\n",
       "<style scoped>\n",
       "    .dataframe tbody tr th:only-of-type {\n",
       "        vertical-align: middle;\n",
       "    }\n",
       "\n",
       "    .dataframe tbody tr th {\n",
       "        vertical-align: top;\n",
       "    }\n",
       "\n",
       "    .dataframe thead th {\n",
       "        text-align: right;\n",
       "    }\n",
       "</style>\n",
       "<table border=\"1\" class=\"dataframe\">\n",
       "  <thead>\n",
       "    <tr style=\"text-align: right;\">\n",
       "      <th></th>\n",
       "      <th>Murder</th>\n",
       "      <th>Assault</th>\n",
       "      <th>UrbanPop</th>\n",
       "      <th>Rape</th>\n",
       "    </tr>\n",
       "  </thead>\n",
       "  <tbody>\n",
       "    <tr>\n",
       "      <th>Alabama</th>\n",
       "      <td>13.2</td>\n",
       "      <td>236</td>\n",
       "      <td>58</td>\n",
       "      <td>21.2</td>\n",
       "    </tr>\n",
       "    <tr>\n",
       "      <th>Alaska</th>\n",
       "      <td>10.0</td>\n",
       "      <td>263</td>\n",
       "      <td>48</td>\n",
       "      <td>44.5</td>\n",
       "    </tr>\n",
       "    <tr>\n",
       "      <th>Arizona</th>\n",
       "      <td>8.1</td>\n",
       "      <td>294</td>\n",
       "      <td>80</td>\n",
       "      <td>31.0</td>\n",
       "    </tr>\n",
       "    <tr>\n",
       "      <th>Arkansas</th>\n",
       "      <td>8.8</td>\n",
       "      <td>190</td>\n",
       "      <td>50</td>\n",
       "      <td>19.5</td>\n",
       "    </tr>\n",
       "    <tr>\n",
       "      <th>California</th>\n",
       "      <td>9.0</td>\n",
       "      <td>276</td>\n",
       "      <td>91</td>\n",
       "      <td>40.6</td>\n",
       "    </tr>\n",
       "  </tbody>\n",
       "</table>\n",
       "</div>"
      ],
      "text/plain": [
       "            Murder  Assault  UrbanPop  Rape\n",
       "Alabama       13.2      236        58  21.2\n",
       "Alaska        10.0      263        48  44.5\n",
       "Arizona        8.1      294        80  31.0\n",
       "Arkansas       8.8      190        50  19.5\n",
       "California     9.0      276        91  40.6"
      ]
     },
     "execution_count": 145,
     "metadata": {},
     "output_type": "execute_result"
    }
   ],
   "source": [
    "df = pd.read_csv('usarrests.csv', index_col=0)\n",
    "df.head()"
   ]
  },
  {
   "cell_type": "code",
   "execution_count": 146,
   "metadata": {
    "collapsed": true
   },
   "outputs": [],
   "source": [
    "# salvar em y os nomes dos índices\n",
    "X = df\n",
    "y = df.index"
   ]
  },
  {
   "cell_type": "markdown",
   "metadata": {
    "collapsed": true
   },
   "source": [
    "## ACP usando a matriz de correlações"
   ]
  },
  {
   "cell_type": "code",
   "execution_count": 147,
   "metadata": {
    "collapsed": true
   },
   "outputs": [],
   "source": [
    "pca = PCA() \n",
    "resultado_pca = pca.fit_transform(scale(X))   # scale(X) padroniza os dados, como se usássemos a matriz R"
   ]
  },
  {
   "cell_type": "code",
   "execution_count": 148,
   "metadata": {
    "collapsed": true
   },
   "outputs": [],
   "source": [
    "resultado = pd.DataFrame({'cp1':resultado_pca[:, 0], 'cp2':resultado_pca[:, 1]}, index=X.index)"
   ]
  },
  {
   "cell_type": "code",
   "execution_count": 149,
   "metadata": {},
   "outputs": [
    {
     "data": {
      "text/plain": [
       "array([[ 0.53589947,  0.58318363,  0.27819087,  0.54343209],\n",
       "       [ 0.41818087,  0.1879856 , -0.87280619, -0.16731864],\n",
       "       [-0.34123273, -0.26814843, -0.37801579,  0.81777791],\n",
       "       [ 0.6492278 , -0.74340748,  0.13387773,  0.08902432]])"
      ]
     },
     "execution_count": 149,
     "metadata": {},
     "output_type": "execute_result"
    }
   ],
   "source": [
    "# coeficientes dos CPs (autovetores)\n",
    "# cada linha é um CP\n",
    "pca.components_"
   ]
  },
  {
   "cell_type": "markdown",
   "metadata": {},
   "source": [
    "Interpretação:\n",
    "\n",
    "\n"
   ]
  },
  {
   "cell_type": "markdown",
   "metadata": {},
   "source": [
    "$Y_1$: \n",
    "\n",
    "$Y_2$:"
   ]
  },
  {
   "cell_type": "code",
   "execution_count": 132,
   "metadata": {},
   "outputs": [
    {
     "data": {
      "text/plain": [
       "array([ 2.53085875,  1.00996444,  0.36383998,  0.17696948])"
      ]
     },
     "execution_count": 132,
     "metadata": {},
     "output_type": "execute_result"
    }
   ],
   "source": [
    "# variâncias dos CPs (autovalores)\n",
    "pca.explained_variance_"
   ]
  },
  {
   "cell_type": "code",
   "execution_count": 133,
   "metadata": {},
   "outputs": [
    {
     "data": {
      "text/plain": [
       "array([  62.01,   86.75,   95.66,  100.  ])"
      ]
     },
     "execution_count": 133,
     "metadata": {},
     "output_type": "execute_result"
    }
   ],
   "source": [
    "# variância explicada acumulada\n",
    "np.cumsum(np.round(pca.explained_variance_ratio_, decimals=4)*100)"
   ]
  },
  {
   "cell_type": "code",
   "execution_count": 134,
   "metadata": {},
   "outputs": [
    {
     "data": {
      "text/html": [
       "<div>\n",
       "<style scoped>\n",
       "    .dataframe tbody tr th:only-of-type {\n",
       "        vertical-align: middle;\n",
       "    }\n",
       "\n",
       "    .dataframe tbody tr th {\n",
       "        vertical-align: top;\n",
       "    }\n",
       "\n",
       "    .dataframe thead th {\n",
       "        text-align: right;\n",
       "    }\n",
       "</style>\n",
       "<table border=\"1\" class=\"dataframe\">\n",
       "  <thead>\n",
       "    <tr style=\"text-align: right;\">\n",
       "      <th></th>\n",
       "      <th>cp1</th>\n",
       "      <th>cp2</th>\n",
       "    </tr>\n",
       "  </thead>\n",
       "  <tbody>\n",
       "    <tr>\n",
       "      <th>Alabama</th>\n",
       "      <td>0.985566</td>\n",
       "      <td>1.133392</td>\n",
       "    </tr>\n",
       "    <tr>\n",
       "      <th>Alaska</th>\n",
       "      <td>1.950138</td>\n",
       "      <td>1.073213</td>\n",
       "    </tr>\n",
       "    <tr>\n",
       "      <th>Arizona</th>\n",
       "      <td>1.763164</td>\n",
       "      <td>-0.745957</td>\n",
       "    </tr>\n",
       "    <tr>\n",
       "      <th>Arkansas</th>\n",
       "      <td>-0.141420</td>\n",
       "      <td>1.119797</td>\n",
       "    </tr>\n",
       "    <tr>\n",
       "      <th>California</th>\n",
       "      <td>2.523980</td>\n",
       "      <td>-1.542934</td>\n",
       "    </tr>\n",
       "    <tr>\n",
       "      <th>Colorado</th>\n",
       "      <td>1.514563</td>\n",
       "      <td>-0.987555</td>\n",
       "    </tr>\n",
       "    <tr>\n",
       "      <th>Connecticut</th>\n",
       "      <td>-1.358647</td>\n",
       "      <td>-1.088928</td>\n",
       "    </tr>\n",
       "    <tr>\n",
       "      <th>Delaware</th>\n",
       "      <td>0.047709</td>\n",
       "      <td>-0.325359</td>\n",
       "    </tr>\n",
       "    <tr>\n",
       "      <th>Florida</th>\n",
       "      <td>3.013042</td>\n",
       "      <td>0.039229</td>\n",
       "    </tr>\n",
       "    <tr>\n",
       "      <th>Georgia</th>\n",
       "      <td>1.639283</td>\n",
       "      <td>1.278942</td>\n",
       "    </tr>\n",
       "    <tr>\n",
       "      <th>Hawaii</th>\n",
       "      <td>-0.912657</td>\n",
       "      <td>-1.570460</td>\n",
       "    </tr>\n",
       "    <tr>\n",
       "      <th>Idaho</th>\n",
       "      <td>-1.639800</td>\n",
       "      <td>0.210973</td>\n",
       "    </tr>\n",
       "    <tr>\n",
       "      <th>Illinois</th>\n",
       "      <td>1.378911</td>\n",
       "      <td>-0.681841</td>\n",
       "    </tr>\n",
       "    <tr>\n",
       "      <th>Indiana</th>\n",
       "      <td>-0.505461</td>\n",
       "      <td>-0.151563</td>\n",
       "    </tr>\n",
       "    <tr>\n",
       "      <th>Iowa</th>\n",
       "      <td>-2.253646</td>\n",
       "      <td>-0.104054</td>\n",
       "    </tr>\n",
       "    <tr>\n",
       "      <th>Kansas</th>\n",
       "      <td>-0.796881</td>\n",
       "      <td>-0.270165</td>\n",
       "    </tr>\n",
       "    <tr>\n",
       "      <th>Kentucky</th>\n",
       "      <td>-0.750859</td>\n",
       "      <td>0.958440</td>\n",
       "    </tr>\n",
       "    <tr>\n",
       "      <th>Louisiana</th>\n",
       "      <td>1.564818</td>\n",
       "      <td>0.871055</td>\n",
       "    </tr>\n",
       "    <tr>\n",
       "      <th>Maine</th>\n",
       "      <td>-2.396829</td>\n",
       "      <td>0.376392</td>\n",
       "    </tr>\n",
       "    <tr>\n",
       "      <th>Maryland</th>\n",
       "      <td>1.763369</td>\n",
       "      <td>0.427655</td>\n",
       "    </tr>\n",
       "    <tr>\n",
       "      <th>Massachusetts</th>\n",
       "      <td>-0.486166</td>\n",
       "      <td>-1.474496</td>\n",
       "    </tr>\n",
       "    <tr>\n",
       "      <th>Michigan</th>\n",
       "      <td>2.108441</td>\n",
       "      <td>-0.155397</td>\n",
       "    </tr>\n",
       "    <tr>\n",
       "      <th>Minnesota</th>\n",
       "      <td>-1.692682</td>\n",
       "      <td>-0.632261</td>\n",
       "    </tr>\n",
       "    <tr>\n",
       "      <th>Mississippi</th>\n",
       "      <td>0.996494</td>\n",
       "      <td>2.393796</td>\n",
       "    </tr>\n",
       "    <tr>\n",
       "      <th>Missouri</th>\n",
       "      <td>0.696787</td>\n",
       "      <td>-0.263355</td>\n",
       "    </tr>\n",
       "    <tr>\n",
       "      <th>Montana</th>\n",
       "      <td>-1.185452</td>\n",
       "      <td>0.536874</td>\n",
       "    </tr>\n",
       "    <tr>\n",
       "      <th>Nebraska</th>\n",
       "      <td>-1.265637</td>\n",
       "      <td>-0.193954</td>\n",
       "    </tr>\n",
       "    <tr>\n",
       "      <th>Nevada</th>\n",
       "      <td>2.874395</td>\n",
       "      <td>-0.775600</td>\n",
       "    </tr>\n",
       "    <tr>\n",
       "      <th>New Hampshire</th>\n",
       "      <td>-2.383915</td>\n",
       "      <td>-0.018082</td>\n",
       "    </tr>\n",
       "    <tr>\n",
       "      <th>New Jersey</th>\n",
       "      <td>0.181566</td>\n",
       "      <td>-1.449506</td>\n",
       "    </tr>\n",
       "    <tr>\n",
       "      <th>New Mexico</th>\n",
       "      <td>1.980024</td>\n",
       "      <td>0.142849</td>\n",
       "    </tr>\n",
       "    <tr>\n",
       "      <th>New York</th>\n",
       "      <td>1.682577</td>\n",
       "      <td>-0.823184</td>\n",
       "    </tr>\n",
       "    <tr>\n",
       "      <th>North Carolina</th>\n",
       "      <td>1.123379</td>\n",
       "      <td>2.228003</td>\n",
       "    </tr>\n",
       "    <tr>\n",
       "      <th>North Dakota</th>\n",
       "      <td>-2.992226</td>\n",
       "      <td>0.599119</td>\n",
       "    </tr>\n",
       "    <tr>\n",
       "      <th>Ohio</th>\n",
       "      <td>-0.225965</td>\n",
       "      <td>-0.742238</td>\n",
       "    </tr>\n",
       "    <tr>\n",
       "      <th>Oklahoma</th>\n",
       "      <td>-0.311783</td>\n",
       "      <td>-0.287854</td>\n",
       "    </tr>\n",
       "    <tr>\n",
       "      <th>Oregon</th>\n",
       "      <td>0.059122</td>\n",
       "      <td>-0.541411</td>\n",
       "    </tr>\n",
       "    <tr>\n",
       "      <th>Pennsylvania</th>\n",
       "      <td>-0.888416</td>\n",
       "      <td>-0.571100</td>\n",
       "    </tr>\n",
       "    <tr>\n",
       "      <th>Rhode Island</th>\n",
       "      <td>-0.863772</td>\n",
       "      <td>-1.491978</td>\n",
       "    </tr>\n",
       "    <tr>\n",
       "      <th>South Carolina</th>\n",
       "      <td>1.320724</td>\n",
       "      <td>1.933405</td>\n",
       "    </tr>\n",
       "    <tr>\n",
       "      <th>South Dakota</th>\n",
       "      <td>-1.987775</td>\n",
       "      <td>0.823343</td>\n",
       "    </tr>\n",
       "    <tr>\n",
       "      <th>Tennessee</th>\n",
       "      <td>0.999742</td>\n",
       "      <td>0.860251</td>\n",
       "    </tr>\n",
       "    <tr>\n",
       "      <th>Texas</th>\n",
       "      <td>1.355138</td>\n",
       "      <td>-0.412481</td>\n",
       "    </tr>\n",
       "    <tr>\n",
       "      <th>Utah</th>\n",
       "      <td>-0.550565</td>\n",
       "      <td>-1.471505</td>\n",
       "    </tr>\n",
       "    <tr>\n",
       "      <th>Vermont</th>\n",
       "      <td>-2.801412</td>\n",
       "      <td>1.402288</td>\n",
       "    </tr>\n",
       "    <tr>\n",
       "      <th>Virginia</th>\n",
       "      <td>-0.096335</td>\n",
       "      <td>0.199735</td>\n",
       "    </tr>\n",
       "    <tr>\n",
       "      <th>Washington</th>\n",
       "      <td>-0.216903</td>\n",
       "      <td>-0.970124</td>\n",
       "    </tr>\n",
       "    <tr>\n",
       "      <th>West Virginia</th>\n",
       "      <td>-2.108585</td>\n",
       "      <td>1.424847</td>\n",
       "    </tr>\n",
       "    <tr>\n",
       "      <th>Wisconsin</th>\n",
       "      <td>-2.079714</td>\n",
       "      <td>-0.611269</td>\n",
       "    </tr>\n",
       "    <tr>\n",
       "      <th>Wyoming</th>\n",
       "      <td>-0.629427</td>\n",
       "      <td>0.321013</td>\n",
       "    </tr>\n",
       "  </tbody>\n",
       "</table>\n",
       "</div>"
      ],
      "text/plain": [
       "                     cp1       cp2\n",
       "Alabama         0.985566  1.133392\n",
       "Alaska          1.950138  1.073213\n",
       "Arizona         1.763164 -0.745957\n",
       "Arkansas       -0.141420  1.119797\n",
       "California      2.523980 -1.542934\n",
       "Colorado        1.514563 -0.987555\n",
       "Connecticut    -1.358647 -1.088928\n",
       "Delaware        0.047709 -0.325359\n",
       "Florida         3.013042  0.039229\n",
       "Georgia         1.639283  1.278942\n",
       "Hawaii         -0.912657 -1.570460\n",
       "Idaho          -1.639800  0.210973\n",
       "Illinois        1.378911 -0.681841\n",
       "Indiana        -0.505461 -0.151563\n",
       "Iowa           -2.253646 -0.104054\n",
       "Kansas         -0.796881 -0.270165\n",
       "Kentucky       -0.750859  0.958440\n",
       "Louisiana       1.564818  0.871055\n",
       "Maine          -2.396829  0.376392\n",
       "Maryland        1.763369  0.427655\n",
       "Massachusetts  -0.486166 -1.474496\n",
       "Michigan        2.108441 -0.155397\n",
       "Minnesota      -1.692682 -0.632261\n",
       "Mississippi     0.996494  2.393796\n",
       "Missouri        0.696787 -0.263355\n",
       "Montana        -1.185452  0.536874\n",
       "Nebraska       -1.265637 -0.193954\n",
       "Nevada          2.874395 -0.775600\n",
       "New Hampshire  -2.383915 -0.018082\n",
       "New Jersey      0.181566 -1.449506\n",
       "New Mexico      1.980024  0.142849\n",
       "New York        1.682577 -0.823184\n",
       "North Carolina  1.123379  2.228003\n",
       "North Dakota   -2.992226  0.599119\n",
       "Ohio           -0.225965 -0.742238\n",
       "Oklahoma       -0.311783 -0.287854\n",
       "Oregon          0.059122 -0.541411\n",
       "Pennsylvania   -0.888416 -0.571100\n",
       "Rhode Island   -0.863772 -1.491978\n",
       "South Carolina  1.320724  1.933405\n",
       "South Dakota   -1.987775  0.823343\n",
       "Tennessee       0.999742  0.860251\n",
       "Texas           1.355138 -0.412481\n",
       "Utah           -0.550565 -1.471505\n",
       "Vermont        -2.801412  1.402288\n",
       "Virginia       -0.096335  0.199735\n",
       "Washington     -0.216903 -0.970124\n",
       "West Virginia  -2.108585  1.424847\n",
       "Wisconsin      -2.079714 -0.611269\n",
       "Wyoming        -0.629427  0.321013"
      ]
     },
     "execution_count": 134,
     "metadata": {},
     "output_type": "execute_result"
    }
   ],
   "source": [
    "# escores dos dois primeiros CPs\n",
    "resultado"
   ]
  },
  {
   "cell_type": "code",
   "execution_count": 135,
   "metadata": {},
   "outputs": [
    {
     "data": {
      "text/plain": [
       "array([  62.01,   86.75,   95.66,  100.  ])"
      ]
     },
     "execution_count": 135,
     "metadata": {},
     "output_type": "execute_result"
    }
   ],
   "source": [
    "# variância explicada acumulada\n",
    "np.cumsum(np.round(pca.explained_variance_ratio_, decimals=4)*100)"
   ]
  },
  {
   "cell_type": "code",
   "execution_count": 136,
   "metadata": {},
   "outputs": [
    {
     "data": {
      "image/png": "[encoded data removed]",
      "text/plain": [
       "<Figure size 720x432 with 1 Axes>"
      ]
     },
     "metadata": {},
     "output_type": "display_data"
    }
   ],
   "source": [
    "fig, ax = plt.subplots()\n",
    "fig.set_size_inches(10, 6)\n",
    "ax.scatter(resultado.cp1, resultado.cp2, s=0)\n",
    "for i, txt in enumerate(resultado.index):\n",
    "    ax.annotate(txt, (resultado.cp1[i], resultado.cp2[i]))\n",
    "plt.hlines(0, -2, 4, color='gray')\n",
    "plt.vlines(0, -1, 2, color='gray');"
   ]
  },
  {
   "cell_type": "code",
   "execution_count": 137,
   "metadata": {},
   "outputs": [
    {
     "data": {
      "image/png": "[encoded data removed]",
      "text/plain": [
       "<Figure size 1440x288 with 2 Axes>"
      ]
     },
     "metadata": {},
     "output_type": "display_data"
    }
   ],
   "source": [
    "def get_angle(v1, v2):\n",
    "    # calcula ângulo entre dois vetores\n",
    "    cosang = np.dot(v1, v2)\n",
    "    sinang = np.linalg.norm(np.cross(v1, v2))\n",
    "    return np.degrees(np.arctan2(sinang, cosang))\n",
    "\n",
    "def annotate_embedding(loadings, pc_x, pc_y, ax, scaling=10, n_features=10, angle_thr=20):\n",
    "    # função para adicionar loadings no gráfico\n",
    "    loadings['VectorLength'] = np.sqrt(loadings[pc_x]**2 + loadings[pc_y]**2)\n",
    "    loadings = loadings.sort_values(by='VectorLength', ascending=False)\n",
    "    \n",
    "    # plota cada um dos maiores vetores \n",
    "    for feature, row in loadings.iloc[0:n_features].iterrows():\n",
    "        vector = np.array([row[pc_x]*scaling, row[pc_y]*scaling])\n",
    "        ax.arrow(0, 0, vector[0], vector[1], head_width=0.2, head_length=0.3)\n",
    "        ax.annotate(feature, xy=(0, 0), xytext=(vector[0], vector[1]), fontsize=8)\n",
    "    \n",
    "    # retorna lista ordenada\n",
    "    top_features = loadings.index.tolist()\n",
    "    return top_features\n",
    "\n",
    "# cria um dataframe com os resultados da ACP\n",
    "pca_df = pd.DataFrame(\n",
    "    resultado_pca,\n",
    "    index=X.index,\n",
    "    columns=['CP' + str(i + 1) for i in range(resultado_pca.shape[1])]\n",
    ")\n",
    "\n",
    "import itertools\n",
    "# cria dois gráficos\n",
    "_, axes = plt.subplots(ncols=2, figsize=(20, 4))  # número de colunas e tamanho\n",
    "\n",
    "# plota a variância explicada\n",
    "axes[0].plot(\n",
    "    pca.explained_variance_ratio_*100, \"--o\", linewidth=2,\n",
    "    label='Porcentagem da variância explicada'\n",
    ")\n",
    "\n",
    "# plota a variância explicada acumulada\n",
    "axes[0].plot(\n",
    "    (pca.explained_variance_ratio_ * 100).cumsum(), \"--o\", linewidth=2,\n",
    "    label='Porcentagem acumulada da variância explicada'\n",
    ")\n",
    "\n",
    "# mostra legenda\n",
    "axes[0].legend(loc='best', frameon=True)\n",
    "    \n",
    "# loadings de cada componente (loadings representam as correlações entre as variáveis e os componentes)\n",
    "loadings = pd.DataFrame(\n",
    "    pca.components_,\n",
    "    index=['CP'+str(i+1) for i in range(len(pca.components_))],\n",
    "    columns=X.columns\n",
    ").T\n",
    "\n",
    "# plota os componentes\n",
    "i = 1\n",
    "x, y = 'CP'+str(i), 'CP'+str(i+1)\n",
    "# plotar\n",
    "settings = {'kind': 'scatter', 'ax': axes[i], 'alpha': 0.2, 'x': x, 'y': y}\n",
    "pca_df.plot(label=None, **settings)\n",
    "# mostrar os loadings\n",
    "annotate_embedding(loadings, x, y, axes[i], scaling=1, n_features=20, angle_thr=20)\n",
    "    \n",
    "# faz aparecer o gráfico\n",
    "plt.show();"
   ]
  },
  {
   "cell_type": "markdown",
   "metadata": {},
   "source": [
    "## Selecionar componentes principais"
   ]
  },
  {
   "cell_type": "code",
   "execution_count": 138,
   "metadata": {},
   "outputs": [
    {
     "name": "stdout",
     "output_type": "stream",
     "text": [
      "ok!\n"
     ]
    }
   ],
   "source": [
    "for ei in pca.components_:\n",
    "    np.testing.assert_array_almost_equal(1.0, np.linalg.norm(ei))\n",
    "print('ok!')"
   ]
  },
  {
   "cell_type": "code",
   "execution_count": 139,
   "metadata": {},
   "outputs": [
    {
     "name": "stdout",
     "output_type": "stream",
     "text": [
      "Autovalores em ordem decrescente:\n",
      "2.53085875423\n",
      "1.00996444137\n",
      "0.363839980185\n",
      "0.176969477275\n"
     ]
    }
   ],
   "source": [
    "# lista com autovalores e autovetores\n",
    "eig_pairs = [(np.abs(pca.explained_variance_[i]), pca.components_[:,i]) for i in range(len(pca.explained_variance_))]\n",
    "\n",
    "# ordenar em ordem decrescente\n",
    "eig_pairs.sort()\n",
    "eig_pairs.reverse()\n",
    "\n",
    "# visualizar autovalores\n",
    "print('Autovalores em ordem decrescente:')\n",
    "for i in eig_pairs:\n",
    "    print(i[0])"
   ]
  },
  {
   "cell_type": "code",
   "execution_count": 140,
   "metadata": {},
   "outputs": [
    {
     "data": {
      "text/plain": [
       "array([  62.00603948,   86.75016829,   95.66424781,  100.        ])"
      ]
     },
     "execution_count": 140,
     "metadata": {},
     "output_type": "execute_result"
    }
   ],
   "source": [
    "tot = sum(pca.explained_variance_)\n",
    "var_exp = [(i / tot)*100 for i in sorted(pca.explained_variance_, reverse=True)]\n",
    "cum_var_exp = np.cumsum(var_exp)\n",
    "cum_var_exp"
   ]
  },
  {
   "cell_type": "code",
   "execution_count": 141,
   "metadata": {},
   "outputs": [
    {
     "data": {
      "text/plain": [
       "['CP1', 'CP2', 'CP3', 'CP4']"
      ]
     },
     "execution_count": 141,
     "metadata": {},
     "output_type": "execute_result"
    }
   ],
   "source": [
    "# número de CPs gerados (k = p)\n",
    "cp =['CP'+str(i+1) for i in range(len(pca.components_))]\n",
    "cp"
   ]
  },
  {
   "cell_type": "code",
   "execution_count": 142,
   "metadata": {},
   "outputs": [
    {
     "data": {
      "text/html": [
       "<div>\n",
       "<style scoped>\n",
       "    .dataframe tbody tr th:only-of-type {\n",
       "        vertical-align: middle;\n",
       "    }\n",
       "\n",
       "    .dataframe tbody tr th {\n",
       "        vertical-align: top;\n",
       "    }\n",
       "\n",
       "    .dataframe thead th {\n",
       "        text-align: right;\n",
       "    }\n",
       "</style>\n",
       "<table border=\"1\" class=\"dataframe\">\n",
       "  <thead>\n",
       "    <tr style=\"text-align: right;\">\n",
       "      <th></th>\n",
       "      <th>cp</th>\n",
       "      <th>var_exp</th>\n",
       "      <th>cum_var_exp</th>\n",
       "    </tr>\n",
       "  </thead>\n",
       "  <tbody>\n",
       "    <tr>\n",
       "      <th>0</th>\n",
       "      <td>CP1</td>\n",
       "      <td>62.006039</td>\n",
       "      <td>62.006039</td>\n",
       "    </tr>\n",
       "    <tr>\n",
       "      <th>1</th>\n",
       "      <td>CP2</td>\n",
       "      <td>24.744129</td>\n",
       "      <td>86.750168</td>\n",
       "    </tr>\n",
       "    <tr>\n",
       "      <th>2</th>\n",
       "      <td>CP3</td>\n",
       "      <td>8.914080</td>\n",
       "      <td>95.664248</td>\n",
       "    </tr>\n",
       "    <tr>\n",
       "      <th>3</th>\n",
       "      <td>CP4</td>\n",
       "      <td>4.335752</td>\n",
       "      <td>100.000000</td>\n",
       "    </tr>\n",
       "  </tbody>\n",
       "</table>\n",
       "</div>"
      ],
      "text/plain": [
       "    cp    var_exp  cum_var_exp\n",
       "0  CP1  62.006039    62.006039\n",
       "1  CP2  24.744129    86.750168\n",
       "2  CP3   8.914080    95.664248\n",
       "3  CP4   4.335752   100.000000"
      ]
     },
     "execution_count": 142,
     "metadata": {},
     "output_type": "execute_result"
    }
   ],
   "source": [
    "df = pd.DataFrame({'cp': cp, 'var_exp': var_exp, 'cum_var_exp': cum_var_exp})\n",
    "df"
   ]
  },
  {
   "cell_type": "code",
   "execution_count": 143,
   "metadata": {},
   "outputs": [
    {
     "data": {
      "image/png": "[encoded data removed]",
      "text/plain": [
       "<Figure size 432x288 with 1 Axes>"
      ]
     },
     "metadata": {},
     "output_type": "display_data"
    }
   ],
   "source": [
    "fig, ax = plt.subplots()\n",
    "df.plot.bar('cp', 'var_exp', color='gray', ax=ax, legend=False)\n",
    "df.plot.line('cp', 'cum_var_exp', color='black', ax=ax)\n",
    "plt.legend(labels=['variância explicada acumulada'],\n",
    "           loc='upper right', \n",
    "           bbox_to_anchor=(1.7, 1))\n",
    "plt.ylabel('% variância explicada')\n",
    "plt.xlabel('');"
   ]
  },
  {
   "cell_type": "markdown",
   "metadata": {},
   "source": [
    "Os dois primeiros CPs explicam 87% da variação total. Ficaremos com os dois então."
   ]
  }
 ],
 "metadata": {
  "kernelspec": {
   "display_name": "Python 3",
   "language": "python",
   "name": "python3"
  },
  "language_info": {
   "codemirror_mode": {
    "name": "ipython",
    "version": 3
   },
   "file_extension": ".py",
   "mimetype": "text/x-python",
   "name": "python",
   "nbconvert_exporter": "python",
   "pygments_lexer": "ipython3",
   "version": "3.6.5"
  }
 },
 "nbformat": 4,
 "nbformat_minor": 2
}
