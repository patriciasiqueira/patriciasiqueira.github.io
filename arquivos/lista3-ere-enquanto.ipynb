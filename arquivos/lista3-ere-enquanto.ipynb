{
  "nbformat": 4,
  "nbformat_minor": 0,
  "metadata": {
    "colab": {
      "name": "lista3-ere-enquanto.ipynb",
      "provenance": []
    },
    "kernelspec": {
      "name": "python3",
      "display_name": "Python 3"
    }
  },
  "cells": [
    {
      "cell_type": "markdown",
      "metadata": {
        "id": "KAp3VTeFqXd2",
        "colab_type": "text"
      },
      "source": [
        "## Lista 3 - ERE (só prática)"
      ]
    },
    {
      "cell_type": "markdown",
      "metadata": {
        "id": "OO7UtniQGgt3",
        "colab_type": "text"
      },
      "source": [
        "1. O algoritmo inicia perguntando ao usuário: 'Deseja começar?'. Se o usuário responder S, prossegue, senão, finaliza o algoritmo. Se o usuário desejou prosseguir, o algoritmo requisita um número e o usuário insere. O algoritmo deve apresentar o número inserido ao quadrado. A cada passo, o algoritmo deve apresentar a pergunta 'Deseja continuar?'. Se a pessoa inserir S, o usuário deve inserir outro número e o algoritmo apresenta seu quadrado. Assim que o usuário inserir qualquer outra resposta, o algoritmo deve finalizar."
      ]
    },
    {
      "cell_type": "code",
      "metadata": {
        "id": "ir8dyWEfGfxY",
        "colab_type": "code",
        "colab": {}
      },
      "source": [
        "resp = input('Deseja começar? ')\n",
        "if resp == 'S':\n",
        "  while resp == 'S':\n",
        "    num = float(input('Insira um número: '))\n",
        "    quad = num ** 2\n",
        "    print('Quadrado:', quad)\n",
        "    resp = input('Deseja continuar? ')\n",
        "print('Fim')"
      ],
      "execution_count": null,
      "outputs": []
    },
    {
      "cell_type": "markdown",
      "metadata": {
        "id": "-PrAfUVoSAPI",
        "colab_type": "text"
      },
      "source": [
        "2. Recebe o número de pessoas presentes numa sala ($n$). Sabendo que uma pessoa sai a cada 10 minutos, o algoritmo deve retornar a cada 10 minutos quantas pessoas restam na sala e deve parar quando não restar ninguém. Lembre-se: o usuário definirá o valor de $n$. "
      ]
    },
    {
      "cell_type": "code",
      "metadata": {
        "id": "k2Du-Lo5S4kW",
        "colab_type": "code",
        "colab": {
          "base_uri": "https://localhost:8080/",
          "height": 136
        },
        "outputId": "87d6f837-4eef-4e40-df64-67a1deb2cf4a"
      },
      "source": [
        "n = int(input('número de pessoas na sala: '))\n",
        "t = 0\n",
        "while n > 0:\n",
        "  t = t + 10\n",
        "  n = n - 1\n",
        "  print('em ', t, 'min há', n, 'pessoa(s) na sala.')"
      ],
      "execution_count": 1,
      "outputs": [
        {
          "output_type": "stream",
          "text": [
            "número de pessoas na sala: 6\n",
            "em  10 min há 5 pessoa(s) na sala.\n",
            "em  20 min há 4 pessoa(s) na sala.\n",
            "em  30 min há 3 pessoa(s) na sala.\n",
            "em  40 min há 2 pessoa(s) na sala.\n",
            "em  50 min há 1 pessoa(s) na sala.\n",
            "em  60 min há 0 pessoa(s) na sala.\n"
          ],
          "name": "stdout"
        }
      ]
    },
    {
      "cell_type": "markdown",
      "metadata": {
        "id": "Uho9T0IDwPyi",
        "colab_type": "text"
      },
      "source": [
        "3. O algoritmo vai recebendo dois números do usuário (quaisquer números) e deve retornar a subtração do primeiro pelo segundo. Porém, ele deve retornar o módulo da subtração (então sempre o resultado será positivo). O algoritmo deve ir pedindo dois novos números para o usuário e só deve parar quando o usuário inserir 0 para qualquer um dos números ou para os dois."
      ]
    },
    {
      "cell_type": "code",
      "metadata": {
        "id": "nZMSi_5QwQND",
        "colab_type": "code",
        "colab": {
          "base_uri": "https://localhost:8080/",
          "height": 170
        },
        "outputId": "d318ec88-0891-467e-89ef-f11d25f15368"
      },
      "source": [
        "n = int(input('Insira um número:\\n '))\n",
        "m = int(input('Insira outro número:\\n '))\n",
        "while n != 0 and m != 0:\n",
        "  l = n - m\n",
        "  if l < 0:\n",
        "    l = - l\n",
        "  print('módulo da subtração:', l)\n",
        "  n = int(input('Insira um número:\\n '))\n",
        "  m = int(input('Insira outro número:\\n '))"
      ],
      "execution_count": 2,
      "outputs": [
        {
          "output_type": "stream",
          "text": [
            "Insira um número:\n",
            " 5\n",
            "Insira outro número:\n",
            " 8\n",
            "módulo da subtração: 3\n",
            "Insira um número:\n",
            " 9\n",
            "Insira outro número:\n",
            " 0\n"
          ],
          "name": "stdout"
        }
      ]
    },
    {
      "cell_type": "markdown",
      "metadata": {
        "id": "uKgcvdOqK6JD",
        "colab_type": "text"
      },
      "source": [
        "4 (exercício extra - desafio). O usuário insere um número inteiro a partir do 2 e o programa retorna o primeiro primo subsequente a ele. Exemplos:\n",
        "\n",
        "- se o usuário inserir 3, o programa deve retornar 5\n",
        "\n",
        "- se o usuário inserir 8, o programa deve retornar 11\n",
        "\n",
        "- se o usuário inserir 20, o programa deve retornar 23\n",
        "\n",
        "- se o usuário inserir 115, o programa deve retornar 127\n",
        "\n",
        "- se o usuário inserir 200, o programa deve retornar 211\n",
        "\n",
        "Para auxiliar nos testes veja os números primos (até 1000): 2 3 5 7 11 13 17 19 23 29 31 37 41 43 47 53 59 61 67 71 73 79 83 89 97 101 103 107 109 113 127 131 137 139 149 151 157 163 167 173 179 181 191 193 197 199 211 223 227 229 233 239 241 251 257 263 269 271 277 281 283 293 307 311 313 317 331 337 347 349 353 359 367 373 379 383 389 397 401 409 419 421 431 433 439 443 449 457 461 463 467 479 487 491 499 503 509 521 523 541 547 557 563 569 571 577 587 593 599 601 607 613 617 619 631 641 643 647 653 659 661 673 677 683 691 701 709 719 727 733 739 743 751 757 761 769 773 787 797 809 811 821 823 827 829 839 853 857 859 863 877 881 883 887 907 911 919 929 937 941 947 953 967 971 977 983 991 997 "
      ]
    },
    {
      "cell_type": "code",
      "metadata": {
        "id": "H3qEgZPcMDCk",
        "colab_type": "code",
        "colab": {
          "base_uri": "https://localhost:8080/",
          "height": 51
        },
        "outputId": "64f148fe-0f2b-48cd-bd14-a6a196de42c7"
      },
      "source": [
        "n = int(input('Insira um número inteiro a partir do 2: '))\n",
        "while n < 2:\n",
        "  n = int(input('Insira um número inteiro a partir do 2: '))  \n",
        "div = 3\n",
        "while div > 2:\n",
        "  n = n + 1\n",
        "  div = 0\n",
        "  i = 1\n",
        "  while i <= n:\n",
        "    if n % i == 0:\n",
        "       div = div + 1\n",
        "    i = i + 1\n",
        "print(n)"
      ],
      "execution_count": null,
      "outputs": [
        {
          "output_type": "stream",
          "text": [
            "Insira um número inteiro a partir do 2: 550\n",
            "557\n"
          ],
          "name": "stdout"
        }
      ]
    },
    {
      "cell_type": "code",
      "metadata": {
        "id": "kB-fbNQp8-87",
        "colab_type": "code",
        "colab": {}
      },
      "source": [
        ""
      ],
      "execution_count": 3,
      "outputs": []
    }
  ]
}