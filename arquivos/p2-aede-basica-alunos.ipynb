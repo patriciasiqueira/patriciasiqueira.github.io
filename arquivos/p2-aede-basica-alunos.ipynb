{
  "nbformat": 4,
  "nbformat_minor": 0,
  "metadata": {
    "colab": {
      "name": "p2-aede-basica-alunos.ipynb",
      "version": "0.3.2",
      "provenance": [],
      "collapsed_sections": []
    },
    "kernelspec": {
      "display_name": "Python 3",
      "language": "python",
      "name": "python3"
    }
  },
  "cells": [
    {
      "cell_type": "markdown",
      "metadata": {
        "id": "wud8Jwda1m5z",
        "colab_type": "text"
      },
      "source": [
        "# Análise exploratória de dados espaciais"
      ]
    },
    {
      "cell_type": "markdown",
      "metadata": {
        "id": "3R5EjNpK1m56",
        "colab_type": "text"
      },
      "source": [
        "<br>\n",
        "Municípios grandes produtores de alguma cultura tendem a estar próximos de municípios também produtores dessa cultura ou de municípios que não o produzem? O objetivo da análise exploratória de dados espaciais (AEDE) é responder a esse tipo de questão. De forma mais geral, a questão é qual a a associação entre o valor de certa variável em um lugar e os valores dessa mesma variável nos lugares vizinhos. Localidades com valores semelhantes de determinada variável tendem a estar próximas? Para isso, ela mede a autocorrelação espacial, por meio do $I$ de Moran."
      ]
    },
    {
      "cell_type": "code",
      "metadata": {
        "id": "ub1LAdZM13tQ",
        "colab_type": "code",
        "colab": {}
      },
      "source": [
        "# instalação dos pacotes necessários\n",
        "!sudo apt install python3-rtree   # solução para o problema\n",
        "!pip install geopandas pysal mapclassify"
      ],
      "execution_count": 0,
      "outputs": []
    },
    {
      "cell_type": "code",
      "metadata": {
        "id": "Xze0XLiQDFyd",
        "colab_type": "code",
        "colab": {}
      },
      "source": [
        "import matplotlib.pyplot as plt\n",
        "import pandas as pd\n",
        "import geopandas as gp\n",
        "import pysal as ps\n",
        "import seaborn as sns\n",
        "from pysal.lib.weights.contiguity import Queen\n",
        "from pysal.explore.esda import Moran, Moran_Local\n",
        "from pysal.viz.splot.esda import plot_moran, moran_scatterplot, lisa_cluster, plot_local_autocorrelation\n",
        "from pysal.viz import mapclassify\n",
        "link = 'https://raw.githubusercontent.com/lincolnfrias/dados/master/'\n",
        "link_p = 'https://raw.githubusercontent.com/patriciasiqueira/patriciasiqueira.github.io/master/arquivos/'"
      ],
      "execution_count": 0,
      "outputs": []
    },
    {
      "cell_type": "code",
      "metadata": {
        "id": "yunJ6n6GXAPA",
        "colab_type": "code",
        "colab": {}
      },
      "source": [
        "# ler dados de interesse\n",
        "dados = pd.read_csv(link_p+'qtde-22.csv', encoding='latin1')\n",
        "# quantidade produzida em toneladas em 2017"
      ],
      "execution_count": 0,
      "outputs": []
    },
    {
      "cell_type": "code",
      "metadata": {
        "id": "7090faYLfS20",
        "colab_type": "code",
        "colab": {}
      },
      "source": [
        "# para ler um arquivo salvo no computador\n",
        "# ir primeiro em > e Files\n",
        "# dados = pd.read_csv('qtde_22.csv', encoding='latin1')"
      ],
      "execution_count": 0,
      "outputs": []
    },
    {
      "cell_type": "code",
      "metadata": {
        "id": "O-tTFD_JlcKF",
        "colab_type": "code",
        "colab": {}
      },
      "source": [
        "# nomes das variáveis\n"
      ],
      "execution_count": 0,
      "outputs": []
    },
    {
      "cell_type": "code",
      "metadata": {
        "id": "BBj2V5FVCtwD",
        "colab_type": "code",
        "colab": {}
      },
      "source": [
        "# número de linhas e colunas do dataframe\n"
      ],
      "execution_count": 0,
      "outputs": []
    },
    {
      "cell_type": "code",
      "metadata": {
        "id": "St_FcBN_Cwwm",
        "colab_type": "code",
        "colab": {}
      },
      "source": [
        "# mostrar algumas linhas do dataframe\n"
      ],
      "execution_count": 0,
      "outputs": []
    },
    {
      "cell_type": "code",
      "metadata": {
        "id": "-mLjsLVDlitR",
        "colab_type": "code",
        "colab": {}
      },
      "source": [
        "# renomear colunas\n",
        "# 'ibge7' será 'mun' (código do município)\n",
        "# 'mun' será 'município' (nome do município)\n",
        "\n",
        "dados.rename(columns={'mun': 'municipio'}, inplace=True)  # inplace = True modifica o dataframe\n",
        "dados.rename(columns={'ibge7': 'mun'}, inplace=True)"
      ],
      "execution_count": 0,
      "outputs": []
    },
    {
      "cell_type": "code",
      "metadata": {
        "id": "GqK5XJVCGF1z",
        "colab_type": "code",
        "colab": {}
      },
      "source": [
        "# ler shapefile\n",
        "link = 'https://raw.githubusercontent.com/lincolnfrias/dados/master/mg.json'\n",
        "geodf = gp.read_file(link)"
      ],
      "execution_count": 0,
      "outputs": []
    },
    {
      "cell_type": "code",
      "metadata": {
        "id": "psBC0YnLEwY7",
        "colab_type": "code",
        "colab": {}
      },
      "source": [
        "# visualizar as primeiras linhas do shapefile\n"
      ],
      "execution_count": 0,
      "outputs": []
    },
    {
      "cell_type": "code",
      "metadata": {
        "id": "3n3RWfeyUlI5",
        "colab_type": "code",
        "colab": {}
      },
      "source": [
        "# mesclar shapefile com dataframe\n",
        "# usando a coluna mun\n",
        "geodf.rename(columns={'CD_GEOCMU': 'mun'}, inplace=True)  # mudar nome da coluna com cód. para 'mun'\n",
        "geodf['mun'] = geodf.mun.astype(int)  # transformar códigos em inteiros\n",
        "mg = pd.merge(geodf, dados, on='mun', suffixes=('', '_y'))  # mesclar o dataframe e o shapefile\n",
        "mg.shape"
      ],
      "execution_count": 0,
      "outputs": []
    },
    {
      "cell_type": "code",
      "metadata": {
        "id": "ASNqxKvOHBUR",
        "colab_type": "code",
        "colab": {}
      },
      "source": [
        "# visualizar primeiras linhas objeto resultante (dataframe + shapefile)\n"
      ],
      "execution_count": 0,
      "outputs": []
    },
    {
      "cell_type": "code",
      "metadata": {
        "id": "eFA1k-PhN62P",
        "colab_type": "code",
        "colab": {}
      },
      "source": [
        "# colunas (variáveis) do objeto resultante\n"
      ],
      "execution_count": 0,
      "outputs": []
    },
    {
      "cell_type": "code",
      "metadata": {
        "id": "0HcEYRyZN3oU",
        "colab_type": "code",
        "colab": {}
      },
      "source": [
        "# escolher uma variável dos dados\n",
        "variavel = 'batata-inglesa'"
      ],
      "execution_count": 0,
      "outputs": []
    },
    {
      "cell_type": "code",
      "metadata": {
        "id": "AqdnmO6EMIz8",
        "colab_type": "code",
        "colab": {}
      },
      "source": [
        "# mapa temático - simples\n",
        "mg.plot(variavel);"
      ],
      "execution_count": 0,
      "outputs": []
    },
    {
      "cell_type": "markdown",
      "metadata": {
        "id": "0q1QIs61UnQ7",
        "colab_type": "text"
      },
      "source": [
        "Esquemas de cores: cmap (https://matplotlib.org/tutorials/colors/colormaps.html)\n",
        "\n",
        "- PuBu\n",
        "\n",
        "- GnBu\n",
        "\n",
        "- Oranges\n",
        "\n",
        "- BuGn\n",
        "\n",
        "- Purples\n",
        "\n",
        "- YlOrBr\n"
      ]
    },
    {
      "cell_type": "code",
      "metadata": {
        "id": "7rG0LV1jESUF",
        "colab_type": "code",
        "colab": {}
      },
      "source": [
        "# mapa temático - com opções\n",
        "# scheme='Quantiles' ou 'Equal_Interval'\n",
        "# quantiles: atribui mesma quantidade de valores para cada categoria. Apesar de esconder valores extremos,\n",
        "# pode se tornar mais informativa se a distribuição for assimétrica\n",
        "# perceber as diferenças entre os esquemas: cmap='PuBu', por exemplo\n",
        "\n",
        "\n",
        "mg.plot(column=variavel, figsize=(13, 13), scheme='quantiles', legend=True, k=4);"
      ],
      "execution_count": 0,
      "outputs": []
    },
    {
      "cell_type": "code",
      "metadata": {
        "id": "slmdjkyXsgMu",
        "colab_type": "code",
        "colab": {}
      },
      "source": [
        "# visualizar número de observações em cada faixa de valores\n",
        "classi = ps.viz.mapclassify.Equal_Interval(mg[variavel], k=6)\n",
        "classi"
      ],
      "execution_count": 0,
      "outputs": []
    },
    {
      "cell_type": "code",
      "metadata": {
        "id": "cUnRmBhxskZh",
        "colab_type": "code",
        "colab": {}
      },
      "source": [
        "# histograma suavizado\n",
        "f, ax = plt.subplots(1) # define a figura\n",
        "sns.kdeplot(mg[variavel], shade=True) # plota estimação de densidade Kernel (KDE)\n",
        "sns.rugplot(mg[variavel], alpha=0.5) # adiciona um risco azul para cada valor na base do gráfico\n",
        "for cut in classi.bins:\n",
        "  plt.axvline(cut, color='red', linewidth=0.75);  # plota uma linha vermelha nas quebras dos intervalos definidos"
      ],
      "execution_count": 0,
      "outputs": []
    },
    {
      "cell_type": "code",
      "metadata": {
        "id": "8jxrX6UXge6-",
        "colab_type": "code",
        "colab": {}
      },
      "source": [
        "# mapa temático - com opções\n",
        "# escolher diferentes esquemas de cores\n",
        "mg.plot(column=variavel, figsize=(13, 13), scheme='equal_interval', legend=True, k=4);"
      ],
      "execution_count": 0,
      "outputs": []
    },
    {
      "cell_type": "code",
      "metadata": {
        "id": "DE479H60gjKy",
        "colab_type": "code",
        "colab": {}
      },
      "source": [
        "# mapa temático - com opções\n",
        "# scheme='equal_interval', 'fisher_jenks'\n",
        "mg.plot(column=variavel, figsize=(13, 13), scheme='fisher_jenks', legend=True, k=4);"
      ],
      "execution_count": 0,
      "outputs": []
    },
    {
      "cell_type": "code",
      "metadata": {
        "id": "jKz4l1HU1m6J",
        "colab_type": "code",
        "colab": {}
      },
      "source": [
        "# obter matriz de vizinhança no formato queen\n",
        "w = Queen.from_dataframe(mg)\n",
        "w.transform = 'r'"
      ],
      "execution_count": 0,
      "outputs": []
    },
    {
      "cell_type": "markdown",
      "metadata": {
        "colab_type": "text",
        "id": "BdICCK0Ef2J3"
      },
      "source": [
        "### I de Moran\n",
        "\n",
        "Estatística mais utilizada para medir a autocorrelação espacial. Ela mede a relação do desvio padronizado de uma variável numa área com o desvio padronizado das áreas vizinhas para a mesma variável:\n",
        "\n",
        "$$I=\\frac{N}{S_{0}}\\frac{\\displaystyle\\sum_{i=1}^{n}\\sum_{j=1}^{n}w_{ij}z_{i}z_{j}}{\\displaystyle\\sum_{i=1}^{n}z^{2}_{i}},$$\n",
        "em que:\n",
        "\n",
        "- $z_i = y_i - \\bar{y}$ representa o desvio em relação à média da variável.\n",
        "- $y_i$: valor da variável em um determinado local $i$\n",
        "- $N$: número de observações\n",
        "- $S_0 = \\sum\\sum w_{ij}$\n",
        "- $E[I] = -1/(N - 1) \\approx 0$\n",
        "            \n",
        "Se o valor-$p$ referente ao teste do $I$ de Moran for significativo, podemos olhar para o valor da estatística $I$ e concluir:\n",
        "\n",
        "- $I > 0$: autocorrelação espacial positiva (*clusters* espaciais - HH, LL)\n",
        "- $I < 0$: autocorrelação espacial negativa (*outliers* espaciais - HL, LH)"
      ]
    },
    {
      "cell_type": "code",
      "metadata": {
        "id": "7FLAkkZOJxrR",
        "colab_type": "code",
        "colab": {}
      },
      "source": [
        "# calcular I de Moran global para a variável escolhida\n",
        "y = mg[variavel].values\n",
        "moran = Moran(y, w)\n",
        "moran.I"
      ],
      "execution_count": 0,
      "outputs": []
    },
    {
      "cell_type": "code",
      "metadata": {
        "id": "7wUBxfA_MdcU",
        "colab_type": "code",
        "colab": {}
      },
      "source": [
        "# valor-p\n",
        "moran.p_sim"
      ],
      "execution_count": 0,
      "outputs": []
    },
    {
      "cell_type": "code",
      "metadata": {
        "id": "aW06lcGxKBCJ",
        "colab_type": "code",
        "colab": {}
      },
      "source": [
        "# diagrama de dispersão de Moran\n",
        "plot_moran(moran, zstandard=False, figsize=(10,4));"
      ],
      "execution_count": 0,
      "outputs": []
    },
    {
      "cell_type": "code",
      "metadata": {
        "id": "NyK4B3GJKHqX",
        "colab_type": "code",
        "colab": {}
      },
      "source": [
        "moran_loc = Moran_Local(y, w)\n",
        "moran_scatterplot(moran_loc, p=0.05);"
      ],
      "execution_count": 0,
      "outputs": []
    },
    {
      "cell_type": "markdown",
      "metadata": {
        "colab_type": "text",
        "id": "b3AjZ1B3gHjA"
      },
      "source": [
        "### LISA\n",
        "\n",
        "- Estatística para detectar padrões locais de autocorrelação espacial: *Local Indicator of Spatial Association* (LISA), ou $I$ de Moran local  \n",
        "- Permite verificar se há agrupamentos espaciais estatisticamente significativos\n",
        "- Útil quando a estatística $I$ de Moran global for significativa\n",
        "\n",
        "$$I_{i}=z_{i}\\sum_{j=1}^{j}w_{ij}y_{j}$$  "
      ]
    },
    {
      "cell_type": "code",
      "metadata": {
        "id": "4wm22w1UKQYK",
        "colab_type": "code",
        "colab": {}
      },
      "source": [
        "lisa_cluster(moran_loc, mg, p=0.05, figsize = (9,9));"
      ],
      "execution_count": 0,
      "outputs": []
    },
    {
      "cell_type": "code",
      "metadata": {
        "id": "SiRxyL3OKaAV",
        "colab_type": "code",
        "colab": {}
      },
      "source": [
        "plot_local_autocorrelation(moran_loc, mg, variavel);"
      ],
      "execution_count": 0,
      "outputs": []
    }
  ]
}