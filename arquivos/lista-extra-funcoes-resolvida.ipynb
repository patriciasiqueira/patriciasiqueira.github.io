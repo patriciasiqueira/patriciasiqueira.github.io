{
 "cells": [
  {
   "cell_type": "markdown",
   "metadata": {},
   "source": [
    "### Mais funções"
   ]
  },
  {
   "cell_type": "markdown",
   "metadata": {},
   "source": [
    "a) Escreva a função *modulo* que recebe um número e retorna seu módulo. Use a função *sinal* (questão 1, lista 6)."
   ]
  },
  {
   "cell_type": "code",
   "execution_count": null,
   "metadata": {
    "collapsed": true
   },
   "outputs": [],
   "source": [
    "def sinal(n):\n",
    "    if n < 0:\n",
    "        return(-1)\n",
    "    elif n == 0:\n",
    "        return(0)\n",
    "    else:\n",
    "        return(1)"
   ]
  },
  {
   "cell_type": "code",
   "execution_count": null,
   "metadata": {
    "collapsed": true
   },
   "outputs": [],
   "source": [
    "def modulo(y):\n",
    "    if sinal(y) == -1:\n",
    "        return(-y)\n",
    "    else:\n",
    "        return(y)\n",
    "    \n",
    "print(modulo(-9), modulo(0), modulo(100))"
   ]
  },
  {
   "cell_type": "code",
   "execution_count": null,
   "metadata": {
    "collapsed": true
   },
   "outputs": [],
   "source": [
    "# outra forma\n",
    "def modulo(y):\n",
    "    s = sinal(y)\n",
    "    m = s * y\n",
    "    return m\n",
    "    \n",
    "print(modulo(-9), modulo(0), modulo(100))"
   ]
  },
  {
   "cell_type": "markdown",
   "metadata": {},
   "source": [
    "b) Escreva a função *pares()* que peça números ao usuário e vai retornando a sequência de n pares. Se o usuário digitar 0, deve parar. Usar a função *pares_i(i)* (questão 3, lista 6)."
   ]
  },
  {
   "cell_type": "code",
   "execution_count": null,
   "metadata": {
    "collapsed": true
   },
   "outputs": [],
   "source": [
    "def pares_i(i):\n",
    "    k = 0\n",
    "    for j in range(i):\n",
    "        print(k, end = ' ')\n",
    "        k = k + 2\n",
    "# uso\n",
    "pares_i(10)"
   ]
  },
  {
   "cell_type": "code",
   "execution_count": null,
   "metadata": {
    "collapsed": true
   },
   "outputs": [],
   "source": [
    "def pares():\n",
    "    n = int(input('Insira um número inteiro ou 0 para parar:'))\n",
    "    while n != 0:\n",
    "        pares_i(n)\n",
    "        n = int(input('\\nInsira um número inteiro ou 0 para parar:'))\n",
    "\n",
    "pares()"
   ]
  },
  {
   "cell_type": "code",
   "execution_count": null,
   "metadata": {
    "collapsed": true
   },
   "outputs": [],
   "source": [
    "# função fatorial\n",
    "def fatorial(n):\n",
    "    fatorial = 1\n",
    "    while n > 1:\n",
    "        fatorial = fatorial * n\n",
    "        n = n - 1\n",
    "    return fatorial"
   ]
  },
  {
   "cell_type": "markdown",
   "metadata": {},
   "source": [
    "c) Faça a função *fatoriais()* que vá pedindo números para o usuário e mostra o fatorial de cada número. Se o usuário inserir um número negativo, parar."
   ]
  },
  {
   "cell_type": "code",
   "execution_count": null,
   "metadata": {
    "collapsed": true
   },
   "outputs": [],
   "source": [
    "def fatoriais():\n",
    "    n = int(input('Insira um número positivo (ou um negativo para parar): '))\n",
    "    while n >= 0:\n",
    "        print(fatorial(n))\n",
    "        n = int(input('Insira um número positivo (ou um negativo para parar): '))\n",
    "        \n",
    "fatoriais()"
   ]
  },
  {
   "cell_type": "markdown",
   "metadata": {},
   "source": [
    "d) Faça a função *desenha(n)* que retorne n asteriscos, depois n - 1, depois n - 2 etc."
   ]
  },
  {
   "cell_type": "code",
   "execution_count": 5,
   "metadata": {},
   "outputs": [
    {
     "name": "stdout",
     "output_type": "stream",
     "text": [
      "*****\n",
      "****\n",
      "***\n",
      "**\n",
      "*\n"
     ]
    }
   ],
   "source": [
    "def desenha(n):\n",
    "    while n > 0:\n",
    "        coluna = 1\n",
    "        while coluna <= n:\n",
    "            print('*', end = '')\n",
    "            coluna = coluna + 1\n",
    "        print()\n",
    "        n = n - 1\n",
    "\n",
    "# uso        \n",
    "desenha(5)"
   ]
  },
  {
   "cell_type": "markdown",
   "metadata": {},
   "source": [
    "e) Faça a função *diagonal(n)* que mostra n asteriscos em uma diagonal."
   ]
  },
  {
   "cell_type": "code",
   "execution_count": 6,
   "metadata": {},
   "outputs": [
    {
     "name": "stdout",
     "output_type": "stream",
     "text": [
      "*         \n",
      "  *       \n",
      "    *     \n",
      "      *   \n",
      "        * \n"
     ]
    }
   ],
   "source": [
    "def diagonal(n):\n",
    "    for i in range(n):\n",
    "        for j in range(n):\n",
    "            if i == j:\n",
    "                print('*', end=' ')\n",
    "            else:\n",
    "                print(' ', end=' ')\n",
    "        print()\n",
    "\n",
    "diagonal(5)"
   ]
  },
  {
   "cell_type": "code",
   "execution_count": null,
   "metadata": {
    "collapsed": true
   },
   "outputs": [],
   "source": []
  }
 ],
 "metadata": {
  "kernelspec": {
   "display_name": "Python 3",
   "language": "python",
   "name": "python3"
  },
  "language_info": {
   "codemirror_mode": {
    "name": "ipython",
    "version": 3
   },
   "file_extension": ".py",
   "mimetype": "text/x-python",
   "name": "python",
   "nbconvert_exporter": "python",
   "pygments_lexer": "ipython3",
   "version": "3.6.5"
  }
 },
 "nbformat": 4,
 "nbformat_minor": 2
}
